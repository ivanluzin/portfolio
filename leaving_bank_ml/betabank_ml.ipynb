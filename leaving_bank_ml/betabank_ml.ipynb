{
 "cells": [
  {
   "cell_type": "markdown",
   "metadata": {},
   "source": [
    "# Отток клиентов"
   ]
  },
  {
   "cell_type": "markdown",
   "metadata": {},
   "source": [
    "Прогнозирование ухода клиентов из банка на очнове исторических данных об их поведении.\n",
    "\n",
    "Цель проекта- построить модель с предельно большим значением *F1*-меры. \n",
    "\n",
    "Источник данных: [https://www.kaggle.com/barelydedicated/bank-customer-churn-modeling](https://www.kaggle.com/barelydedicated/bank-customer-churn-modeling)"
   ]
  },
  {
   "cell_type": "markdown",
   "metadata": {},
   "source": [
    "## Подготовка данных"
   ]
  },
  {
   "cell_type": "code",
   "execution_count": 1,
   "metadata": {
    "scrolled": true
   },
   "outputs": [],
   "source": [
    "# импортируем необходимые библиотеки Python для работы с данными и модели машинного обучения.\n",
    "import pandas as pd\n",
    "import numpy as np\n",
    "import matplotlib.pyplot as plt\n",
    "import seaborn as sns\n",
    "from sklearn.tree import DecisionTreeClassifier\n",
    "from sklearn.ensemble import RandomForestClassifier\n",
    "from sklearn.linear_model import LogisticRegression\n",
    "from sklearn.model_selection import train_test_split\n",
    "from sklearn.metrics import f1_score\n",
    "from sklearn.metrics import roc_curve\n",
    "from sklearn.metrics import roc_auc_score\n",
    "from sklearn.preprocessing import StandardScaler\n",
    "from sklearn.utils import shuffle\n",
    "pd.options.display.float_format = '{:,.1f}'.format"
   ]
  },
  {
   "cell_type": "code",
   "execution_count": 2,
   "metadata": {},
   "outputs": [
    {
     "data": {
      "text/html": [
       "<div>\n",
       "<style scoped>\n",
       "    .dataframe tbody tr th:only-of-type {\n",
       "        vertical-align: middle;\n",
       "    }\n",
       "\n",
       "    .dataframe tbody tr th {\n",
       "        vertical-align: top;\n",
       "    }\n",
       "\n",
       "    .dataframe thead th {\n",
       "        text-align: right;\n",
       "    }\n",
       "</style>\n",
       "<table border=\"1\" class=\"dataframe\">\n",
       "  <thead>\n",
       "    <tr style=\"text-align: right;\">\n",
       "      <th></th>\n",
       "      <th>RowNumber</th>\n",
       "      <th>CustomerId</th>\n",
       "      <th>Surname</th>\n",
       "      <th>CreditScore</th>\n",
       "      <th>Geography</th>\n",
       "      <th>Gender</th>\n",
       "      <th>Age</th>\n",
       "      <th>Tenure</th>\n",
       "      <th>Balance</th>\n",
       "      <th>NumOfProducts</th>\n",
       "      <th>HasCrCard</th>\n",
       "      <th>IsActiveMember</th>\n",
       "      <th>EstimatedSalary</th>\n",
       "      <th>Exited</th>\n",
       "    </tr>\n",
       "  </thead>\n",
       "  <tbody>\n",
       "    <tr>\n",
       "      <th>0</th>\n",
       "      <td>1</td>\n",
       "      <td>15634602</td>\n",
       "      <td>Hargrave</td>\n",
       "      <td>619</td>\n",
       "      <td>France</td>\n",
       "      <td>Female</td>\n",
       "      <td>42</td>\n",
       "      <td>2.0</td>\n",
       "      <td>0.0</td>\n",
       "      <td>1</td>\n",
       "      <td>1</td>\n",
       "      <td>1</td>\n",
       "      <td>101,348.9</td>\n",
       "      <td>1</td>\n",
       "    </tr>\n",
       "    <tr>\n",
       "      <th>1</th>\n",
       "      <td>2</td>\n",
       "      <td>15647311</td>\n",
       "      <td>Hill</td>\n",
       "      <td>608</td>\n",
       "      <td>Spain</td>\n",
       "      <td>Female</td>\n",
       "      <td>41</td>\n",
       "      <td>1.0</td>\n",
       "      <td>83,807.9</td>\n",
       "      <td>1</td>\n",
       "      <td>0</td>\n",
       "      <td>1</td>\n",
       "      <td>112,542.6</td>\n",
       "      <td>0</td>\n",
       "    </tr>\n",
       "    <tr>\n",
       "      <th>2</th>\n",
       "      <td>3</td>\n",
       "      <td>15619304</td>\n",
       "      <td>Onio</td>\n",
       "      <td>502</td>\n",
       "      <td>France</td>\n",
       "      <td>Female</td>\n",
       "      <td>42</td>\n",
       "      <td>8.0</td>\n",
       "      <td>159,660.8</td>\n",
       "      <td>3</td>\n",
       "      <td>1</td>\n",
       "      <td>0</td>\n",
       "      <td>113,931.6</td>\n",
       "      <td>1</td>\n",
       "    </tr>\n",
       "    <tr>\n",
       "      <th>3</th>\n",
       "      <td>4</td>\n",
       "      <td>15701354</td>\n",
       "      <td>Boni</td>\n",
       "      <td>699</td>\n",
       "      <td>France</td>\n",
       "      <td>Female</td>\n",
       "      <td>39</td>\n",
       "      <td>1.0</td>\n",
       "      <td>0.0</td>\n",
       "      <td>2</td>\n",
       "      <td>0</td>\n",
       "      <td>0</td>\n",
       "      <td>93,826.6</td>\n",
       "      <td>0</td>\n",
       "    </tr>\n",
       "    <tr>\n",
       "      <th>4</th>\n",
       "      <td>5</td>\n",
       "      <td>15737888</td>\n",
       "      <td>Mitchell</td>\n",
       "      <td>850</td>\n",
       "      <td>Spain</td>\n",
       "      <td>Female</td>\n",
       "      <td>43</td>\n",
       "      <td>2.0</td>\n",
       "      <td>125,510.8</td>\n",
       "      <td>1</td>\n",
       "      <td>1</td>\n",
       "      <td>1</td>\n",
       "      <td>79,084.1</td>\n",
       "      <td>0</td>\n",
       "    </tr>\n",
       "  </tbody>\n",
       "</table>\n",
       "</div>"
      ],
      "text/plain": [
       "   RowNumber  CustomerId   Surname  CreditScore Geography  Gender  Age  \\\n",
       "0          1    15634602  Hargrave          619    France  Female   42   \n",
       "1          2    15647311      Hill          608     Spain  Female   41   \n",
       "2          3    15619304      Onio          502    France  Female   42   \n",
       "3          4    15701354      Boni          699    France  Female   39   \n",
       "4          5    15737888  Mitchell          850     Spain  Female   43   \n",
       "\n",
       "   Tenure   Balance  NumOfProducts  HasCrCard  IsActiveMember  \\\n",
       "0     2.0       0.0              1          1               1   \n",
       "1     1.0  83,807.9              1          0               1   \n",
       "2     8.0 159,660.8              3          1               0   \n",
       "3     1.0       0.0              2          0               0   \n",
       "4     2.0 125,510.8              1          1               1   \n",
       "\n",
       "   EstimatedSalary  Exited  \n",
       "0        101,348.9       1  \n",
       "1        112,542.6       0  \n",
       "2        113,931.6       1  \n",
       "3         93,826.6       0  \n",
       "4         79,084.1       0  "
      ]
     },
     "metadata": {},
     "output_type": "display_data"
    },
    {
     "data": {
      "text/html": [
       "<div>\n",
       "<style scoped>\n",
       "    .dataframe tbody tr th:only-of-type {\n",
       "        vertical-align: middle;\n",
       "    }\n",
       "\n",
       "    .dataframe tbody tr th {\n",
       "        vertical-align: top;\n",
       "    }\n",
       "\n",
       "    .dataframe thead th {\n",
       "        text-align: right;\n",
       "    }\n",
       "</style>\n",
       "<table border=\"1\" class=\"dataframe\">\n",
       "  <thead>\n",
       "    <tr style=\"text-align: right;\">\n",
       "      <th></th>\n",
       "      <th>count</th>\n",
       "      <th>unique</th>\n",
       "      <th>top</th>\n",
       "      <th>freq</th>\n",
       "      <th>mean</th>\n",
       "      <th>std</th>\n",
       "      <th>min</th>\n",
       "      <th>25%</th>\n",
       "      <th>50%</th>\n",
       "      <th>75%</th>\n",
       "      <th>max</th>\n",
       "    </tr>\n",
       "  </thead>\n",
       "  <tbody>\n",
       "    <tr>\n",
       "      <th>RowNumber</th>\n",
       "      <td>10,000.0</td>\n",
       "      <td>NaN</td>\n",
       "      <td>NaN</td>\n",
       "      <td>NaN</td>\n",
       "      <td>5,000.5</td>\n",
       "      <td>2,886.9</td>\n",
       "      <td>1.0</td>\n",
       "      <td>2,500.8</td>\n",
       "      <td>5,000.5</td>\n",
       "      <td>7,500.2</td>\n",
       "      <td>10,000.0</td>\n",
       "    </tr>\n",
       "    <tr>\n",
       "      <th>CustomerId</th>\n",
       "      <td>10,000.0</td>\n",
       "      <td>NaN</td>\n",
       "      <td>NaN</td>\n",
       "      <td>NaN</td>\n",
       "      <td>15,690,940.6</td>\n",
       "      <td>71,936.2</td>\n",
       "      <td>15,565,701.0</td>\n",
       "      <td>15,628,528.2</td>\n",
       "      <td>15,690,738.0</td>\n",
       "      <td>15,753,233.8</td>\n",
       "      <td>15,815,690.0</td>\n",
       "    </tr>\n",
       "    <tr>\n",
       "      <th>Surname</th>\n",
       "      <td>10000</td>\n",
       "      <td>2932</td>\n",
       "      <td>Smith</td>\n",
       "      <td>32</td>\n",
       "      <td>NaN</td>\n",
       "      <td>NaN</td>\n",
       "      <td>NaN</td>\n",
       "      <td>NaN</td>\n",
       "      <td>NaN</td>\n",
       "      <td>NaN</td>\n",
       "      <td>NaN</td>\n",
       "    </tr>\n",
       "    <tr>\n",
       "      <th>CreditScore</th>\n",
       "      <td>10,000.0</td>\n",
       "      <td>NaN</td>\n",
       "      <td>NaN</td>\n",
       "      <td>NaN</td>\n",
       "      <td>650.5</td>\n",
       "      <td>96.7</td>\n",
       "      <td>350.0</td>\n",
       "      <td>584.0</td>\n",
       "      <td>652.0</td>\n",
       "      <td>718.0</td>\n",
       "      <td>850.0</td>\n",
       "    </tr>\n",
       "    <tr>\n",
       "      <th>Geography</th>\n",
       "      <td>10000</td>\n",
       "      <td>3</td>\n",
       "      <td>France</td>\n",
       "      <td>5014</td>\n",
       "      <td>NaN</td>\n",
       "      <td>NaN</td>\n",
       "      <td>NaN</td>\n",
       "      <td>NaN</td>\n",
       "      <td>NaN</td>\n",
       "      <td>NaN</td>\n",
       "      <td>NaN</td>\n",
       "    </tr>\n",
       "    <tr>\n",
       "      <th>Gender</th>\n",
       "      <td>10000</td>\n",
       "      <td>2</td>\n",
       "      <td>Male</td>\n",
       "      <td>5457</td>\n",
       "      <td>NaN</td>\n",
       "      <td>NaN</td>\n",
       "      <td>NaN</td>\n",
       "      <td>NaN</td>\n",
       "      <td>NaN</td>\n",
       "      <td>NaN</td>\n",
       "      <td>NaN</td>\n",
       "    </tr>\n",
       "    <tr>\n",
       "      <th>Age</th>\n",
       "      <td>10,000.0</td>\n",
       "      <td>NaN</td>\n",
       "      <td>NaN</td>\n",
       "      <td>NaN</td>\n",
       "      <td>38.9</td>\n",
       "      <td>10.5</td>\n",
       "      <td>18.0</td>\n",
       "      <td>32.0</td>\n",
       "      <td>37.0</td>\n",
       "      <td>44.0</td>\n",
       "      <td>92.0</td>\n",
       "    </tr>\n",
       "    <tr>\n",
       "      <th>Tenure</th>\n",
       "      <td>9,091.0</td>\n",
       "      <td>NaN</td>\n",
       "      <td>NaN</td>\n",
       "      <td>NaN</td>\n",
       "      <td>5.0</td>\n",
       "      <td>2.9</td>\n",
       "      <td>0.0</td>\n",
       "      <td>2.0</td>\n",
       "      <td>5.0</td>\n",
       "      <td>7.0</td>\n",
       "      <td>10.0</td>\n",
       "    </tr>\n",
       "    <tr>\n",
       "      <th>Balance</th>\n",
       "      <td>10,000.0</td>\n",
       "      <td>NaN</td>\n",
       "      <td>NaN</td>\n",
       "      <td>NaN</td>\n",
       "      <td>76,485.9</td>\n",
       "      <td>62,397.4</td>\n",
       "      <td>0.0</td>\n",
       "      <td>0.0</td>\n",
       "      <td>97,198.5</td>\n",
       "      <td>127,644.2</td>\n",
       "      <td>250,898.1</td>\n",
       "    </tr>\n",
       "    <tr>\n",
       "      <th>NumOfProducts</th>\n",
       "      <td>10,000.0</td>\n",
       "      <td>NaN</td>\n",
       "      <td>NaN</td>\n",
       "      <td>NaN</td>\n",
       "      <td>1.5</td>\n",
       "      <td>0.6</td>\n",
       "      <td>1.0</td>\n",
       "      <td>1.0</td>\n",
       "      <td>1.0</td>\n",
       "      <td>2.0</td>\n",
       "      <td>4.0</td>\n",
       "    </tr>\n",
       "    <tr>\n",
       "      <th>HasCrCard</th>\n",
       "      <td>10,000.0</td>\n",
       "      <td>NaN</td>\n",
       "      <td>NaN</td>\n",
       "      <td>NaN</td>\n",
       "      <td>0.7</td>\n",
       "      <td>0.5</td>\n",
       "      <td>0.0</td>\n",
       "      <td>0.0</td>\n",
       "      <td>1.0</td>\n",
       "      <td>1.0</td>\n",
       "      <td>1.0</td>\n",
       "    </tr>\n",
       "    <tr>\n",
       "      <th>IsActiveMember</th>\n",
       "      <td>10,000.0</td>\n",
       "      <td>NaN</td>\n",
       "      <td>NaN</td>\n",
       "      <td>NaN</td>\n",
       "      <td>0.5</td>\n",
       "      <td>0.5</td>\n",
       "      <td>0.0</td>\n",
       "      <td>0.0</td>\n",
       "      <td>1.0</td>\n",
       "      <td>1.0</td>\n",
       "      <td>1.0</td>\n",
       "    </tr>\n",
       "    <tr>\n",
       "      <th>EstimatedSalary</th>\n",
       "      <td>10,000.0</td>\n",
       "      <td>NaN</td>\n",
       "      <td>NaN</td>\n",
       "      <td>NaN</td>\n",
       "      <td>100,090.2</td>\n",
       "      <td>57,510.5</td>\n",
       "      <td>11.6</td>\n",
       "      <td>51,002.1</td>\n",
       "      <td>100,193.9</td>\n",
       "      <td>149,388.2</td>\n",
       "      <td>199,992.5</td>\n",
       "    </tr>\n",
       "    <tr>\n",
       "      <th>Exited</th>\n",
       "      <td>10,000.0</td>\n",
       "      <td>NaN</td>\n",
       "      <td>NaN</td>\n",
       "      <td>NaN</td>\n",
       "      <td>0.2</td>\n",
       "      <td>0.4</td>\n",
       "      <td>0.0</td>\n",
       "      <td>0.0</td>\n",
       "      <td>0.0</td>\n",
       "      <td>0.0</td>\n",
       "      <td>1.0</td>\n",
       "    </tr>\n",
       "  </tbody>\n",
       "</table>\n",
       "</div>"
      ],
      "text/plain": [
       "                   count unique     top  freq         mean      std  \\\n",
       "RowNumber       10,000.0    NaN     NaN   NaN      5,000.5  2,886.9   \n",
       "CustomerId      10,000.0    NaN     NaN   NaN 15,690,940.6 71,936.2   \n",
       "Surname            10000   2932   Smith    32          NaN      NaN   \n",
       "CreditScore     10,000.0    NaN     NaN   NaN        650.5     96.7   \n",
       "Geography          10000      3  France  5014          NaN      NaN   \n",
       "Gender             10000      2    Male  5457          NaN      NaN   \n",
       "Age             10,000.0    NaN     NaN   NaN         38.9     10.5   \n",
       "Tenure           9,091.0    NaN     NaN   NaN          5.0      2.9   \n",
       "Balance         10,000.0    NaN     NaN   NaN     76,485.9 62,397.4   \n",
       "NumOfProducts   10,000.0    NaN     NaN   NaN          1.5      0.6   \n",
       "HasCrCard       10,000.0    NaN     NaN   NaN          0.7      0.5   \n",
       "IsActiveMember  10,000.0    NaN     NaN   NaN          0.5      0.5   \n",
       "EstimatedSalary 10,000.0    NaN     NaN   NaN    100,090.2 57,510.5   \n",
       "Exited          10,000.0    NaN     NaN   NaN          0.2      0.4   \n",
       "\n",
       "                         min          25%          50%          75%  \\\n",
       "RowNumber                1.0      2,500.8      5,000.5      7,500.2   \n",
       "CustomerId      15,565,701.0 15,628,528.2 15,690,738.0 15,753,233.8   \n",
       "Surname                  NaN          NaN          NaN          NaN   \n",
       "CreditScore            350.0        584.0        652.0        718.0   \n",
       "Geography                NaN          NaN          NaN          NaN   \n",
       "Gender                   NaN          NaN          NaN          NaN   \n",
       "Age                     18.0         32.0         37.0         44.0   \n",
       "Tenure                   0.0          2.0          5.0          7.0   \n",
       "Balance                  0.0          0.0     97,198.5    127,644.2   \n",
       "NumOfProducts            1.0          1.0          1.0          2.0   \n",
       "HasCrCard                0.0          0.0          1.0          1.0   \n",
       "IsActiveMember           0.0          0.0          1.0          1.0   \n",
       "EstimatedSalary         11.6     51,002.1    100,193.9    149,388.2   \n",
       "Exited                   0.0          0.0          0.0          0.0   \n",
       "\n",
       "                         max  \n",
       "RowNumber           10,000.0  \n",
       "CustomerId      15,815,690.0  \n",
       "Surname                  NaN  \n",
       "CreditScore            850.0  \n",
       "Geography                NaN  \n",
       "Gender                   NaN  \n",
       "Age                     92.0  \n",
       "Tenure                  10.0  \n",
       "Balance            250,898.1  \n",
       "NumOfProducts            4.0  \n",
       "HasCrCard                1.0  \n",
       "IsActiveMember           1.0  \n",
       "EstimatedSalary    199,992.5  \n",
       "Exited                   1.0  "
      ]
     },
     "metadata": {},
     "output_type": "display_data"
    },
    {
     "name": "stdout",
     "output_type": "stream",
     "text": [
      "<class 'pandas.core.frame.DataFrame'>\n",
      "RangeIndex: 10000 entries, 0 to 9999\n",
      "Data columns (total 14 columns):\n",
      " #   Column           Non-Null Count  Dtype  \n",
      "---  ------           --------------  -----  \n",
      " 0   RowNumber        10000 non-null  int64  \n",
      " 1   CustomerId       10000 non-null  int64  \n",
      " 2   Surname          10000 non-null  object \n",
      " 3   CreditScore      10000 non-null  int64  \n",
      " 4   Geography        10000 non-null  object \n",
      " 5   Gender           10000 non-null  object \n",
      " 6   Age              10000 non-null  int64  \n",
      " 7   Tenure           9091 non-null   float64\n",
      " 8   Balance          10000 non-null  float64\n",
      " 9   NumOfProducts    10000 non-null  int64  \n",
      " 10  HasCrCard        10000 non-null  int64  \n",
      " 11  IsActiveMember   10000 non-null  int64  \n",
      " 12  EstimatedSalary  10000 non-null  float64\n",
      " 13  Exited           10000 non-null  int64  \n",
      "dtypes: float64(3), int64(8), object(3)\n",
      "memory usage: 1.1+ MB\n"
     ]
    },
    {
     "data": {
      "text/plain": [
       "None"
      ]
     },
     "metadata": {},
     "output_type": "display_data"
    }
   ],
   "source": [
    "# откроем файл и выведем на экран основную информацию\n",
    "try:\n",
    "    data = pd.read_csv('Churn.csv')\n",
    "except:\n",
    "    data = pd.read_csv('/Churn.csv')\n",
    "display(data.head())\n",
    "display(data.describe(include='all').transpose())\n",
    "display(data.info())"
   ]
  },
  {
   "cell_type": "markdown",
   "metadata": {},
   "source": [
    "На данном этапе видим, что всего в датасете 10000 записей. В столбце с информацией о времени, в течение которого человек является клиентом банка пропущено 909 записей. Далее данные строки будут изучены, будет выбран алгоритм заполнения пропусков и отсутствующие значения будут заполнены в соответствии с выбранным адгоритмом.\n",
    "\n",
    "Также видим, что в датасете есть признаки, которые необходимо исключить из обучающего набора данных, так как они не отражают поведение клиента: RowNumber - с номером строки; CustomerId - с уникальным номером клиента;  Surname - с фамилией клиента. Данные столбцы будут удалены при подготовке данных для обучения моделей.\n",
    "\n",
    "Далее разберем признаки:\n",
    "\n",
    "<b>CreditScore</b>- кредитный рейтинг клиента. Формат данных целочисленный. Потребуется масштабирование признака.\n",
    "\n",
    "<b>Geography</b>- здесь указана страна проживания клиента. Всего в данном признаке три уникальных значения, половину из которых составляет Франция. Данный признак необходимо преобразовать техникой прямого кодирования, избегая дамми-ловушку.\n",
    "\n",
    "<b>Gender</b>- пол клиента. Здесь два уникальных значения. Также преобразуем его техникой прямого кодирования.\n",
    "\n",
    "<b>Age</b>- возраст клиента. Формат целочисленный. Также потребуется масштабирование.\n",
    "\n",
    "<b>Tenure</b>- сколько лет человек является клиентом банка. Требуется заполнить пропуски и масштабировать признак.\n",
    "\n",
    "<b>Balance</b>- баланс на счете клиента. Формат данных вещественный. Потребуется масштабирование признака.\n",
    "\n",
    "<b>NumOfProducts</b>- количество продуктов банка, используемых клиентом. Значение признака изменяется в интервале от 1 до 4. Требуется масштабирование признака.\n",
    "\n",
    "<b>HasCrCard</b> и <b>IsActiveMember</b>- признаки с информацией о том, есть ли у клиента кредитная карта и проявляет ли он активность. В обоих признаках логический тип данных, поэтому необходимо преобразовать их техникой прямого кодирования.\n",
    "\n",
    "<b>EstimatedSalary</b>- предполагаемая заработная плата клиента. Среднее и медиана очень близки, однако минимальное значение составляет всего 11,6. Необходимо проверить данный признак на наличие выбросов. В описании проекта не сказано, как определяется предполагаемая заработная плата. Если это какой-то алгоритм, то он не всегда может работать правильно, что может негативно сказаться на качестве предсказания моделей. В дальнейшем создадим два обучающих набора данных- с учетом данного признака и без его учета.\n",
    "\n",
    "<b>Exited</b>- целевой признак, имеющий логический тип данных. Судя по среднему значению 0,2 в данном столбце, ушедших клиентов около 20%, поэтому потребуется борьба с дисбалансом целевого признака.\n",
    "\n",
    "Приведем названия признаков к змеиному регистру."
   ]
  },
  {
   "cell_type": "code",
   "execution_count": 3,
   "metadata": {},
   "outputs": [],
   "source": [
    "data.columns = data.columns.str.lower()\n",
    "data = data.rename(columns={'creditscore': 'credit_score', 'numofproducts': 'num_of_products', 'hascrcard': 'has_cr_card', 'isactivemember': 'is_active_member', 'estimatedsalary': 'estimated_salary'})"
   ]
  },
  {
   "cell_type": "code",
   "execution_count": 4,
   "metadata": {
    "scrolled": false
   },
   "outputs": [
    {
     "data": {
      "image/png": "[encoded data removed]",
      "text/plain": [
       "<Figure size 1440x1080 with 12 Axes>"
      ]
     },
     "metadata": {
      "needs_background": "light"
     },
     "output_type": "display_data"
    }
   ],
   "source": [
    "data.hist(bins=50, figsize=(20,15), color='r', edgecolor='black')\n",
    "plt.show()"
   ]
  },
  {
   "cell_type": "markdown",
   "metadata": {},
   "source": [
    "По распределениям признаков можно сделать следующие выводы: \n",
    "\n",
    "* распределение кредитного рейтинга имеет вид, близкий к нормальному, однако наблюдается некторое количество выбросов с максимальным значением рейтинга 850;\n",
    "* возраст клиентов распределен нормально;\n",
    "* срок пользования клиентами банковских продуктов распределен равномерно и снижен только для значений 0 и 10;\n",
    "* больше трети клиентов не имеют средст на счете. Учитывая данный факт, далее проверим точность моделей на дополнительном обучающем наборе данных, преобразовав данный столбец в логический тип, отображающий, имеет ли клиент средства на счетах банка. Возможно, таким образом получится повысить точность предсказания моделей;\n",
    "* почти все клиенты используют не более 2 банковских продуктов;\n",
    "* 70% клиентов имеют кредитную карту;\n",
    "* активность проявляют немногим больше половины клиентов;\n",
    "* ожидаемая заработная плата распределена равномерно. Скорее всего, наличие данного признака в обучающем наборе будет лишь ухудшать точность модели. В дальнейшем необходимо проверить данную гипотезу;\n",
    "* около 20% клиентов прекратили пользоваться банком. Так как действующих клиентов в 4 раза больше, потребуется, как было сказано выше, бороться с дисбалансом целевого признака.\n",
    "\n",
    "Перед подготовкой признаков к обучению моделей заполним отсутствующие значения в столбце с информацией о сроке использования клиентом банковских продуктов. Для начала посмотрим общую информацию по ним и сравним с распределением значений по всему датасету."
   ]
  },
  {
   "cell_type": "code",
   "execution_count": 5,
   "metadata": {
    "scrolled": false
   },
   "outputs": [
    {
     "data": {
      "text/html": [
       "<div>\n",
       "<style scoped>\n",
       "    .dataframe tbody tr th:only-of-type {\n",
       "        vertical-align: middle;\n",
       "    }\n",
       "\n",
       "    .dataframe tbody tr th {\n",
       "        vertical-align: top;\n",
       "    }\n",
       "\n",
       "    .dataframe thead th {\n",
       "        text-align: right;\n",
       "    }\n",
       "</style>\n",
       "<table border=\"1\" class=\"dataframe\">\n",
       "  <thead>\n",
       "    <tr style=\"text-align: right;\">\n",
       "      <th></th>\n",
       "      <th>count</th>\n",
       "      <th>unique</th>\n",
       "      <th>top</th>\n",
       "      <th>freq</th>\n",
       "      <th>mean</th>\n",
       "      <th>std</th>\n",
       "      <th>min</th>\n",
       "      <th>25%</th>\n",
       "      <th>50%</th>\n",
       "      <th>75%</th>\n",
       "      <th>max</th>\n",
       "    </tr>\n",
       "  </thead>\n",
       "  <tbody>\n",
       "    <tr>\n",
       "      <th>rownumber</th>\n",
       "      <td>10,000.0</td>\n",
       "      <td>NaN</td>\n",
       "      <td>NaN</td>\n",
       "      <td>NaN</td>\n",
       "      <td>5,000.5</td>\n",
       "      <td>2,886.9</td>\n",
       "      <td>1.0</td>\n",
       "      <td>2,500.8</td>\n",
       "      <td>5,000.5</td>\n",
       "      <td>7,500.2</td>\n",
       "      <td>10,000.0</td>\n",
       "    </tr>\n",
       "    <tr>\n",
       "      <th>customerid</th>\n",
       "      <td>10,000.0</td>\n",
       "      <td>NaN</td>\n",
       "      <td>NaN</td>\n",
       "      <td>NaN</td>\n",
       "      <td>15,690,940.6</td>\n",
       "      <td>71,936.2</td>\n",
       "      <td>15,565,701.0</td>\n",
       "      <td>15,628,528.2</td>\n",
       "      <td>15,690,738.0</td>\n",
       "      <td>15,753,233.8</td>\n",
       "      <td>15,815,690.0</td>\n",
       "    </tr>\n",
       "    <tr>\n",
       "      <th>surname</th>\n",
       "      <td>10000</td>\n",
       "      <td>2932</td>\n",
       "      <td>Smith</td>\n",
       "      <td>32</td>\n",
       "      <td>NaN</td>\n",
       "      <td>NaN</td>\n",
       "      <td>NaN</td>\n",
       "      <td>NaN</td>\n",
       "      <td>NaN</td>\n",
       "      <td>NaN</td>\n",
       "      <td>NaN</td>\n",
       "    </tr>\n",
       "    <tr>\n",
       "      <th>credit_score</th>\n",
       "      <td>10,000.0</td>\n",
       "      <td>NaN</td>\n",
       "      <td>NaN</td>\n",
       "      <td>NaN</td>\n",
       "      <td>650.5</td>\n",
       "      <td>96.7</td>\n",
       "      <td>350.0</td>\n",
       "      <td>584.0</td>\n",
       "      <td>652.0</td>\n",
       "      <td>718.0</td>\n",
       "      <td>850.0</td>\n",
       "    </tr>\n",
       "    <tr>\n",
       "      <th>geography</th>\n",
       "      <td>10000</td>\n",
       "      <td>3</td>\n",
       "      <td>France</td>\n",
       "      <td>5014</td>\n",
       "      <td>NaN</td>\n",
       "      <td>NaN</td>\n",
       "      <td>NaN</td>\n",
       "      <td>NaN</td>\n",
       "      <td>NaN</td>\n",
       "      <td>NaN</td>\n",
       "      <td>NaN</td>\n",
       "    </tr>\n",
       "    <tr>\n",
       "      <th>gender</th>\n",
       "      <td>10000</td>\n",
       "      <td>2</td>\n",
       "      <td>Male</td>\n",
       "      <td>5457</td>\n",
       "      <td>NaN</td>\n",
       "      <td>NaN</td>\n",
       "      <td>NaN</td>\n",
       "      <td>NaN</td>\n",
       "      <td>NaN</td>\n",
       "      <td>NaN</td>\n",
       "      <td>NaN</td>\n",
       "    </tr>\n",
       "    <tr>\n",
       "      <th>age</th>\n",
       "      <td>10,000.0</td>\n",
       "      <td>NaN</td>\n",
       "      <td>NaN</td>\n",
       "      <td>NaN</td>\n",
       "      <td>38.9</td>\n",
       "      <td>10.5</td>\n",
       "      <td>18.0</td>\n",
       "      <td>32.0</td>\n",
       "      <td>37.0</td>\n",
       "      <td>44.0</td>\n",
       "      <td>92.0</td>\n",
       "    </tr>\n",
       "    <tr>\n",
       "      <th>tenure</th>\n",
       "      <td>9,091.0</td>\n",
       "      <td>NaN</td>\n",
       "      <td>NaN</td>\n",
       "      <td>NaN</td>\n",
       "      <td>5.0</td>\n",
       "      <td>2.9</td>\n",
       "      <td>0.0</td>\n",
       "      <td>2.0</td>\n",
       "      <td>5.0</td>\n",
       "      <td>7.0</td>\n",
       "      <td>10.0</td>\n",
       "    </tr>\n",
       "    <tr>\n",
       "      <th>balance</th>\n",
       "      <td>10,000.0</td>\n",
       "      <td>NaN</td>\n",
       "      <td>NaN</td>\n",
       "      <td>NaN</td>\n",
       "      <td>76,485.9</td>\n",
       "      <td>62,397.4</td>\n",
       "      <td>0.0</td>\n",
       "      <td>0.0</td>\n",
       "      <td>97,198.5</td>\n",
       "      <td>127,644.2</td>\n",
       "      <td>250,898.1</td>\n",
       "    </tr>\n",
       "    <tr>\n",
       "      <th>num_of_products</th>\n",
       "      <td>10,000.0</td>\n",
       "      <td>NaN</td>\n",
       "      <td>NaN</td>\n",
       "      <td>NaN</td>\n",
       "      <td>1.5</td>\n",
       "      <td>0.6</td>\n",
       "      <td>1.0</td>\n",
       "      <td>1.0</td>\n",
       "      <td>1.0</td>\n",
       "      <td>2.0</td>\n",
       "      <td>4.0</td>\n",
       "    </tr>\n",
       "    <tr>\n",
       "      <th>has_cr_card</th>\n",
       "      <td>10,000.0</td>\n",
       "      <td>NaN</td>\n",
       "      <td>NaN</td>\n",
       "      <td>NaN</td>\n",
       "      <td>0.7</td>\n",
       "      <td>0.5</td>\n",
       "      <td>0.0</td>\n",
       "      <td>0.0</td>\n",
       "      <td>1.0</td>\n",
       "      <td>1.0</td>\n",
       "      <td>1.0</td>\n",
       "    </tr>\n",
       "    <tr>\n",
       "      <th>is_active_member</th>\n",
       "      <td>10,000.0</td>\n",
       "      <td>NaN</td>\n",
       "      <td>NaN</td>\n",
       "      <td>NaN</td>\n",
       "      <td>0.5</td>\n",
       "      <td>0.5</td>\n",
       "      <td>0.0</td>\n",
       "      <td>0.0</td>\n",
       "      <td>1.0</td>\n",
       "      <td>1.0</td>\n",
       "      <td>1.0</td>\n",
       "    </tr>\n",
       "    <tr>\n",
       "      <th>estimated_salary</th>\n",
       "      <td>10,000.0</td>\n",
       "      <td>NaN</td>\n",
       "      <td>NaN</td>\n",
       "      <td>NaN</td>\n",
       "      <td>100,090.2</td>\n",
       "      <td>57,510.5</td>\n",
       "      <td>11.6</td>\n",
       "      <td>51,002.1</td>\n",
       "      <td>100,193.9</td>\n",
       "      <td>149,388.2</td>\n",
       "      <td>199,992.5</td>\n",
       "    </tr>\n",
       "    <tr>\n",
       "      <th>exited</th>\n",
       "      <td>10,000.0</td>\n",
       "      <td>NaN</td>\n",
       "      <td>NaN</td>\n",
       "      <td>NaN</td>\n",
       "      <td>0.2</td>\n",
       "      <td>0.4</td>\n",
       "      <td>0.0</td>\n",
       "      <td>0.0</td>\n",
       "      <td>0.0</td>\n",
       "      <td>0.0</td>\n",
       "      <td>1.0</td>\n",
       "    </tr>\n",
       "  </tbody>\n",
       "</table>\n",
       "</div>"
      ],
      "text/plain": [
       "                    count unique     top  freq         mean      std  \\\n",
       "rownumber        10,000.0    NaN     NaN   NaN      5,000.5  2,886.9   \n",
       "customerid       10,000.0    NaN     NaN   NaN 15,690,940.6 71,936.2   \n",
       "surname             10000   2932   Smith    32          NaN      NaN   \n",
       "credit_score     10,000.0    NaN     NaN   NaN        650.5     96.7   \n",
       "geography           10000      3  France  5014          NaN      NaN   \n",
       "gender              10000      2    Male  5457          NaN      NaN   \n",
       "age              10,000.0    NaN     NaN   NaN         38.9     10.5   \n",
       "tenure            9,091.0    NaN     NaN   NaN          5.0      2.9   \n",
       "balance          10,000.0    NaN     NaN   NaN     76,485.9 62,397.4   \n",
       "num_of_products  10,000.0    NaN     NaN   NaN          1.5      0.6   \n",
       "has_cr_card      10,000.0    NaN     NaN   NaN          0.7      0.5   \n",
       "is_active_member 10,000.0    NaN     NaN   NaN          0.5      0.5   \n",
       "estimated_salary 10,000.0    NaN     NaN   NaN    100,090.2 57,510.5   \n",
       "exited           10,000.0    NaN     NaN   NaN          0.2      0.4   \n",
       "\n",
       "                          min          25%          50%          75%  \\\n",
       "rownumber                 1.0      2,500.8      5,000.5      7,500.2   \n",
       "customerid       15,565,701.0 15,628,528.2 15,690,738.0 15,753,233.8   \n",
       "surname                   NaN          NaN          NaN          NaN   \n",
       "credit_score            350.0        584.0        652.0        718.0   \n",
       "geography                 NaN          NaN          NaN          NaN   \n",
       "gender                    NaN          NaN          NaN          NaN   \n",
       "age                      18.0         32.0         37.0         44.0   \n",
       "tenure                    0.0          2.0          5.0          7.0   \n",
       "balance                   0.0          0.0     97,198.5    127,644.2   \n",
       "num_of_products           1.0          1.0          1.0          2.0   \n",
       "has_cr_card               0.0          0.0          1.0          1.0   \n",
       "is_active_member          0.0          0.0          1.0          1.0   \n",
       "estimated_salary         11.6     51,002.1    100,193.9    149,388.2   \n",
       "exited                    0.0          0.0          0.0          0.0   \n",
       "\n",
       "                          max  \n",
       "rownumber            10,000.0  \n",
       "customerid       15,815,690.0  \n",
       "surname                   NaN  \n",
       "credit_score            850.0  \n",
       "geography                 NaN  \n",
       "gender                    NaN  \n",
       "age                      92.0  \n",
       "tenure                   10.0  \n",
       "balance             250,898.1  \n",
       "num_of_products           4.0  \n",
       "has_cr_card               1.0  \n",
       "is_active_member          1.0  \n",
       "estimated_salary    199,992.5  \n",
       "exited                    1.0  "
      ]
     },
     "metadata": {},
     "output_type": "display_data"
    },
    {
     "data": {
      "text/html": [
       "<div>\n",
       "<style scoped>\n",
       "    .dataframe tbody tr th:only-of-type {\n",
       "        vertical-align: middle;\n",
       "    }\n",
       "\n",
       "    .dataframe tbody tr th {\n",
       "        vertical-align: top;\n",
       "    }\n",
       "\n",
       "    .dataframe thead th {\n",
       "        text-align: right;\n",
       "    }\n",
       "</style>\n",
       "<table border=\"1\" class=\"dataframe\">\n",
       "  <thead>\n",
       "    <tr style=\"text-align: right;\">\n",
       "      <th></th>\n",
       "      <th>count</th>\n",
       "      <th>unique</th>\n",
       "      <th>top</th>\n",
       "      <th>freq</th>\n",
       "      <th>mean</th>\n",
       "      <th>std</th>\n",
       "      <th>min</th>\n",
       "      <th>25%</th>\n",
       "      <th>50%</th>\n",
       "      <th>75%</th>\n",
       "      <th>max</th>\n",
       "    </tr>\n",
       "  </thead>\n",
       "  <tbody>\n",
       "    <tr>\n",
       "      <th>rownumber</th>\n",
       "      <td>909.0</td>\n",
       "      <td>NaN</td>\n",
       "      <td>NaN</td>\n",
       "      <td>NaN</td>\n",
       "      <td>4,866.4</td>\n",
       "      <td>2,909.6</td>\n",
       "      <td>31.0</td>\n",
       "      <td>2,311.0</td>\n",
       "      <td>4,887.0</td>\n",
       "      <td>7,306.0</td>\n",
       "      <td>10,000.0</td>\n",
       "    </tr>\n",
       "    <tr>\n",
       "      <th>customerid</th>\n",
       "      <td>909.0</td>\n",
       "      <td>NaN</td>\n",
       "      <td>NaN</td>\n",
       "      <td>NaN</td>\n",
       "      <td>15,689,814.6</td>\n",
       "      <td>75,112.3</td>\n",
       "      <td>15,565,806.0</td>\n",
       "      <td>15,626,578.0</td>\n",
       "      <td>15,686,870.0</td>\n",
       "      <td>15,756,804.0</td>\n",
       "      <td>15,815,690.0</td>\n",
       "    </tr>\n",
       "    <tr>\n",
       "      <th>surname</th>\n",
       "      <td>909</td>\n",
       "      <td>665</td>\n",
       "      <td>Hughes</td>\n",
       "      <td>7</td>\n",
       "      <td>NaN</td>\n",
       "      <td>NaN</td>\n",
       "      <td>NaN</td>\n",
       "      <td>NaN</td>\n",
       "      <td>NaN</td>\n",
       "      <td>NaN</td>\n",
       "      <td>NaN</td>\n",
       "    </tr>\n",
       "    <tr>\n",
       "      <th>credit_score</th>\n",
       "      <td>909.0</td>\n",
       "      <td>NaN</td>\n",
       "      <td>NaN</td>\n",
       "      <td>NaN</td>\n",
       "      <td>648.5</td>\n",
       "      <td>99.1</td>\n",
       "      <td>359.0</td>\n",
       "      <td>580.0</td>\n",
       "      <td>647.0</td>\n",
       "      <td>718.0</td>\n",
       "      <td>850.0</td>\n",
       "    </tr>\n",
       "    <tr>\n",
       "      <th>geography</th>\n",
       "      <td>909</td>\n",
       "      <td>3</td>\n",
       "      <td>France</td>\n",
       "      <td>464</td>\n",
       "      <td>NaN</td>\n",
       "      <td>NaN</td>\n",
       "      <td>NaN</td>\n",
       "      <td>NaN</td>\n",
       "      <td>NaN</td>\n",
       "      <td>NaN</td>\n",
       "      <td>NaN</td>\n",
       "    </tr>\n",
       "    <tr>\n",
       "      <th>gender</th>\n",
       "      <td>909</td>\n",
       "      <td>2</td>\n",
       "      <td>Male</td>\n",
       "      <td>483</td>\n",
       "      <td>NaN</td>\n",
       "      <td>NaN</td>\n",
       "      <td>NaN</td>\n",
       "      <td>NaN</td>\n",
       "      <td>NaN</td>\n",
       "      <td>NaN</td>\n",
       "      <td>NaN</td>\n",
       "    </tr>\n",
       "    <tr>\n",
       "      <th>age</th>\n",
       "      <td>909.0</td>\n",
       "      <td>NaN</td>\n",
       "      <td>NaN</td>\n",
       "      <td>NaN</td>\n",
       "      <td>38.6</td>\n",
       "      <td>9.8</td>\n",
       "      <td>18.0</td>\n",
       "      <td>32.0</td>\n",
       "      <td>37.0</td>\n",
       "      <td>43.0</td>\n",
       "      <td>92.0</td>\n",
       "    </tr>\n",
       "    <tr>\n",
       "      <th>tenure</th>\n",
       "      <td>0.0</td>\n",
       "      <td>NaN</td>\n",
       "      <td>NaN</td>\n",
       "      <td>NaN</td>\n",
       "      <td>NaN</td>\n",
       "      <td>NaN</td>\n",
       "      <td>NaN</td>\n",
       "      <td>NaN</td>\n",
       "      <td>NaN</td>\n",
       "      <td>NaN</td>\n",
       "      <td>NaN</td>\n",
       "    </tr>\n",
       "    <tr>\n",
       "      <th>balance</th>\n",
       "      <td>909.0</td>\n",
       "      <td>NaN</td>\n",
       "      <td>NaN</td>\n",
       "      <td>NaN</td>\n",
       "      <td>76,117.3</td>\n",
       "      <td>63,105.7</td>\n",
       "      <td>0.0</td>\n",
       "      <td>0.0</td>\n",
       "      <td>96,674.6</td>\n",
       "      <td>128,555.0</td>\n",
       "      <td>206,663.8</td>\n",
       "    </tr>\n",
       "    <tr>\n",
       "      <th>num_of_products</th>\n",
       "      <td>909.0</td>\n",
       "      <td>NaN</td>\n",
       "      <td>NaN</td>\n",
       "      <td>NaN</td>\n",
       "      <td>1.5</td>\n",
       "      <td>0.6</td>\n",
       "      <td>1.0</td>\n",
       "      <td>1.0</td>\n",
       "      <td>1.0</td>\n",
       "      <td>2.0</td>\n",
       "      <td>4.0</td>\n",
       "    </tr>\n",
       "    <tr>\n",
       "      <th>has_cr_card</th>\n",
       "      <td>909.0</td>\n",
       "      <td>NaN</td>\n",
       "      <td>NaN</td>\n",
       "      <td>NaN</td>\n",
       "      <td>0.7</td>\n",
       "      <td>0.5</td>\n",
       "      <td>0.0</td>\n",
       "      <td>0.0</td>\n",
       "      <td>1.0</td>\n",
       "      <td>1.0</td>\n",
       "      <td>1.0</td>\n",
       "    </tr>\n",
       "    <tr>\n",
       "      <th>is_active_member</th>\n",
       "      <td>909.0</td>\n",
       "      <td>NaN</td>\n",
       "      <td>NaN</td>\n",
       "      <td>NaN</td>\n",
       "      <td>0.5</td>\n",
       "      <td>0.5</td>\n",
       "      <td>0.0</td>\n",
       "      <td>0.0</td>\n",
       "      <td>1.0</td>\n",
       "      <td>1.0</td>\n",
       "      <td>1.0</td>\n",
       "    </tr>\n",
       "    <tr>\n",
       "      <th>estimated_salary</th>\n",
       "      <td>909.0</td>\n",
       "      <td>NaN</td>\n",
       "      <td>NaN</td>\n",
       "      <td>NaN</td>\n",
       "      <td>99,180.4</td>\n",
       "      <td>56,378.1</td>\n",
       "      <td>106.7</td>\n",
       "      <td>49,872.3</td>\n",
       "      <td>99,444.0</td>\n",
       "      <td>145,759.7</td>\n",
       "      <td>199,390.5</td>\n",
       "    </tr>\n",
       "    <tr>\n",
       "      <th>exited</th>\n",
       "      <td>909.0</td>\n",
       "      <td>NaN</td>\n",
       "      <td>NaN</td>\n",
       "      <td>NaN</td>\n",
       "      <td>0.2</td>\n",
       "      <td>0.4</td>\n",
       "      <td>0.0</td>\n",
       "      <td>0.0</td>\n",
       "      <td>0.0</td>\n",
       "      <td>0.0</td>\n",
       "      <td>1.0</td>\n",
       "    </tr>\n",
       "  </tbody>\n",
       "</table>\n",
       "</div>"
      ],
      "text/plain": [
       "                 count unique     top freq         mean      std          min  \\\n",
       "rownumber        909.0    NaN     NaN  NaN      4,866.4  2,909.6         31.0   \n",
       "customerid       909.0    NaN     NaN  NaN 15,689,814.6 75,112.3 15,565,806.0   \n",
       "surname            909    665  Hughes    7          NaN      NaN          NaN   \n",
       "credit_score     909.0    NaN     NaN  NaN        648.5     99.1        359.0   \n",
       "geography          909      3  France  464          NaN      NaN          NaN   \n",
       "gender             909      2    Male  483          NaN      NaN          NaN   \n",
       "age              909.0    NaN     NaN  NaN         38.6      9.8         18.0   \n",
       "tenure             0.0    NaN     NaN  NaN          NaN      NaN          NaN   \n",
       "balance          909.0    NaN     NaN  NaN     76,117.3 63,105.7          0.0   \n",
       "num_of_products  909.0    NaN     NaN  NaN          1.5      0.6          1.0   \n",
       "has_cr_card      909.0    NaN     NaN  NaN          0.7      0.5          0.0   \n",
       "is_active_member 909.0    NaN     NaN  NaN          0.5      0.5          0.0   \n",
       "estimated_salary 909.0    NaN     NaN  NaN     99,180.4 56,378.1        106.7   \n",
       "exited           909.0    NaN     NaN  NaN          0.2      0.4          0.0   \n",
       "\n",
       "                          25%          50%          75%          max  \n",
       "rownumber             2,311.0      4,887.0      7,306.0     10,000.0  \n",
       "customerid       15,626,578.0 15,686,870.0 15,756,804.0 15,815,690.0  \n",
       "surname                   NaN          NaN          NaN          NaN  \n",
       "credit_score            580.0        647.0        718.0        850.0  \n",
       "geography                 NaN          NaN          NaN          NaN  \n",
       "gender                    NaN          NaN          NaN          NaN  \n",
       "age                      32.0         37.0         43.0         92.0  \n",
       "tenure                    NaN          NaN          NaN          NaN  \n",
       "balance                   0.0     96,674.6    128,555.0    206,663.8  \n",
       "num_of_products           1.0          1.0          2.0          4.0  \n",
       "has_cr_card               0.0          1.0          1.0          1.0  \n",
       "is_active_member          0.0          1.0          1.0          1.0  \n",
       "estimated_salary     49,872.3     99,444.0    145,759.7    199,390.5  \n",
       "exited                    0.0          0.0          0.0          1.0  "
      ]
     },
     "metadata": {},
     "output_type": "display_data"
    }
   ],
   "source": [
    "display(data.describe(include='all').transpose())\n",
    "display(data[data['tenure'].isna() == True].describe(include='all').transpose())"
   ]
  },
  {
   "cell_type": "markdown",
   "metadata": {},
   "source": [
    "Никаких отклонений по сравнению с остальным датасетом не наблюдается- количественные признаки в обоих случаях распределены одинаково. Следовательно, ошибка сохранения данных в данном столбце не зависит от каких-то параметров и распределяется случайно. Теперь рассмотрим, как распределяются значения целевого признака в зависимости от срока использования клиентом банковских продуктов."
   ]
  },
  {
   "cell_type": "code",
   "execution_count": 6,
   "metadata": {},
   "outputs": [
    {
     "data": {
      "text/plain": [
       "tenure\n",
       "0.0    0.2\n",
       "1.0    0.2\n",
       "2.0    0.2\n",
       "3.0    0.2\n",
       "4.0    0.2\n",
       "5.0    0.2\n",
       "6.0    0.2\n",
       "7.0    0.2\n",
       "8.0    0.2\n",
       "9.0    0.2\n",
       "10.0   0.2\n",
       "Name: exited, dtype: float64"
      ]
     },
     "execution_count": 6,
     "metadata": {},
     "output_type": "execute_result"
    }
   ],
   "source": [
    "data.groupby(by='tenure')['exited'].mean()"
   ]
  },
  {
   "cell_type": "markdown",
   "metadata": {},
   "source": [
    "Можем сделать вывод, что срок использования банковских продуктов не оказывает влияния на решение клиента об уходе- для всех значений от 0 до 10 лет количество ушедших клиентов одинаковое и составляет 20%. Таким образом, можем исключить данный признак из обучающего набора данных, не заполняя пропуски в нем.\n",
    "\n",
    "Далее подготовим данные для обучения моделей- преобразуем категориальные признаки техникой OHE, после чего масштабируем все признаки. Для проверки точности обучаемых моделей сформируем три разных обучающих набора данных- с учетом всех признаков, без учета предполагаемой заработной платы и без учета предполагаемой заработной платы с преобразованием данных о средствах на счете клиента в логический тип- есть ли средства на счете клиента. \n",
    "\n",
    "Сформируем обучающую, валидационную и тестовую выборки в соотношении 3:1:1."
   ]
  },
  {
   "cell_type": "code",
   "execution_count": 7,
   "metadata": {},
   "outputs": [],
   "source": [
    "# введем дополнительный признак, содержащий информацию о наличии у киента средств на счете\n",
    "data['funds_on_balance'] = data['balance'] > 0\n",
    "data['funds_on_balance'] = data['funds_on_balance'].astype('int')"
   ]
  },
  {
   "cell_type": "code",
   "execution_count": 8,
   "metadata": {},
   "outputs": [
    {
     "name": "stderr",
     "output_type": "stream",
     "text": [
      "C:\\Users\\79267\\AppData\\Local\\Temp\\ipykernel_8904\\2134093823.py:19: SettingWithCopyWarning: \n",
      "A value is trying to be set on a copy of a slice from a DataFrame.\n",
      "Try using .loc[row_indexer,col_indexer] = value instead\n",
      "\n",
      "See the caveats in the documentation: https://pandas.pydata.org/pandas-docs/stable/user_guide/indexing.html#returning-a-view-versus-a-copy\n",
      "  features_test[numeric] = scaler.transform(features_test[numeric])\n",
      "C:\\Users\\79267\\anaconda3\\envs\\ds_practicum_env\\lib\\site-packages\\pandas\\core\\indexing.py:1738: SettingWithCopyWarning: \n",
      "A value is trying to be set on a copy of a slice from a DataFrame.\n",
      "Try using .loc[row_indexer,col_indexer] = value instead\n",
      "\n",
      "See the caveats in the documentation: https://pandas.pydata.org/pandas-docs/stable/user_guide/indexing.html#returning-a-view-versus-a-copy\n",
      "  self._setitem_single_column(loc, value[:, i].tolist(), pi)\n"
     ]
    }
   ],
   "source": [
    "# преобразуем категориальные признаки техникой OHE, избегая дамми-ловушки\n",
    "data_ohe = data.drop(['rownumber', 'customerid', 'surname', 'tenure', 'exited'], axis=1)\n",
    "data_ohe = pd.get_dummies(data_ohe, drop_first=True)\n",
    "\n",
    "# сформируем обучающий набор данных, содержащий все признаки кроме номера строки, идентификатора клиента и его фамилии\n",
    "features = data_ohe\n",
    "target = data['exited']\n",
    "\n",
    "# сформируем обучающую, валидационную и тестовую выборки, содержащие все признаки обучающего набора данных\n",
    "features_train, features_test, target_train, target_test = train_test_split(features, target, test_size=0.2, random_state=12345)\n",
    "features_train, features_valid, target_train, target_valid = train_test_split(features_train, target_train, test_size=0.25, random_state=12345)\n",
    "\n",
    "# масштабируем признаки в выборках\n",
    "numeric = ['credit_score', 'age', 'balance', 'num_of_products', 'estimated_salary']\n",
    "scaler = StandardScaler()\n",
    "scaler.fit(features_train[numeric])\n",
    "features_train[numeric] = scaler.transform(features_train[numeric])\n",
    "features_valid[numeric] = scaler.transform(features_valid[numeric])\n",
    "features_test[numeric] = scaler.transform(features_test[numeric])\n",
    "\n",
    "# сформируем обучающий набор данных с оригинальными признаками датасета (без признака 'funds_on_balance')\n",
    "original_train = features_train.drop(['funds_on_balance'], axis=1)\n",
    "original_valid = features_valid.drop(['funds_on_balance'], axis=1)\n",
    "original_test = features_test.drop(['funds_on_balance'], axis=1)\n",
    "\n",
    "# сформируем обучающий набор данных без учета предполагаемой заработной платы\n",
    "features_wos_train = original_train.drop(['estimated_salary'], axis=1)\n",
    "features_wos_valid = original_valid.drop(['estimated_salary'], axis=1)\n",
    "features_wos_test = original_test.drop(['estimated_salary'], axis=1)\n",
    "\n",
    "# сформируем обучающий набор данных без учета предполагаемой заработной платы и с преобразованным признаком наличия средств на счете\n",
    "features_wob_train = features_train.drop(['balance', 'estimated_salary'], axis=1)\n",
    "features_wob_valid = features_valid.drop(['balance', 'estimated_salary'], axis=1)\n",
    "features_wob_test = features_test.drop(['balance', 'estimated_salary'], axis=1)"
   ]
  },
  {
   "cell_type": "markdown",
   "metadata": {},
   "source": [
    "Рассмотрим результат разбиения на выборки. Для этого выведем на экран графики распределения количественных значений в выборках."
   ]
  },
  {
   "cell_type": "code",
   "execution_count": 9,
   "metadata": {},
   "outputs": [
    {
     "data": {
      "image/png": "[encoded data removed]",
      "text/plain": [
       "<Figure size 648x288 with 1 Axes>"
      ]
     },
     "metadata": {
      "needs_background": "light"
     },
     "output_type": "display_data"
    },
    {
     "data": {
      "image/png": "[encoded data removed]",
      "text/plain": [
       "<Figure size 648x288 with 1 Axes>"
      ]
     },
     "metadata": {
      "needs_background": "light"
     },
     "output_type": "display_data"
    },
    {
     "data": {
      "image/png": "[encoded data removed]",
      "text/plain": [
       "<Figure size 648x288 with 1 Axes>"
      ]
     },
     "metadata": {
      "needs_background": "light"
     },
     "output_type": "display_data"
    },
    {
     "data": {
      "image/png": "[encoded data removed]",
      "text/plain": [
       "<Figure size 648x288 with 1 Axes>"
      ]
     },
     "metadata": {
      "needs_background": "light"
     },
     "output_type": "display_data"
    },
    {
     "data": {
      "image/png": "[encoded data removed]",
      "text/plain": [
       "<Figure size 648x288 with 1 Axes>"
      ]
     },
     "metadata": {
      "needs_background": "light"
     },
     "output_type": "display_data"
    }
   ],
   "source": [
    "kwargs = {'kind':'kde', 'grid':True, 'figsize':(9,4), 'legend':'True'}\n",
    "for names in numeric:\n",
    "    ax = features_train[names].plot( **kwargs)\n",
    "    features_valid[names].plot(**kwargs, ax=ax)\n",
    "    features_test[names].plot(**kwargs, ax=ax)\n",
    "    ax.legend(['train', 'valid', 'test'])\n",
    "    plt.xlabel(names)\n",
    "    plt.ylabel('Доля клиентов')\n",
    "    plt.show()"
   ]
  },
  {
   "cell_type": "markdown",
   "metadata": {},
   "source": [
    "Распределения значений в признаках схожи, из чего можем сделать вывод, что разбиение на выборки произвели корректно."
   ]
  },
  {
   "cell_type": "markdown",
   "metadata": {},
   "source": [
    "### Вывод\n",
    "\n",
    "В данном разделе открыли и изучили данные об активности клиентов банка. Обнаружили проблему сохранения данных- у 9% клиентов отсутствует информация о времени использования банковских продуктов. Данная проблема не привязана к какому-то признаку и носит случайный характер.\n",
    "\n",
    "При изучении распределения признаков выяснилось, что возраст, количество средств на счете и кредитный рейтинг имеют вид распределения, близкий к нормальному, однако также имеют то или иное количество выбросов. Наибольшее количество выбросов в столбце с балансом клиента. По этой причине ввели дополнительный признак- буллево значение, отображающее, есть ли средства на счете клиента. Отметили, что в столбце с информацией о предполагаемой заработной плате клиента распределение равномерное, что может негативно повлиять на точность предсказания модели.\n",
    "\n",
    "Все категориальные признаки привели к количественным, используя технику OHE и избегая дамми-ловушки, после чего масштабировали признаки в обучающем наборе данных.\n",
    "\n",
    "Разделили данные на обучающую, валидационную и тестовую выборки в соотношении 3:1:1 и создали три разных обучающих набора данных- со всеми признаками оригинального датасета, без учета предполагаемой заработной платы, без учета предполагаемой заработной платы и количества средств на счете клиента, но с учетом признака факта наличия средств."
   ]
  },
  {
   "cell_type": "markdown",
   "metadata": {},
   "source": [
    "<div class=\"alert alert-block alert-success\">\n",
    "<b>Успех:</b> Этот шаг был сделан хорошо.\n",
    "</div>"
   ]
  },
  {
   "cell_type": "markdown",
   "metadata": {},
   "source": [
    "## Исследование задачи"
   ]
  },
  {
   "cell_type": "markdown",
   "metadata": {},
   "source": [
    "Первой протестируем модель логистической регрессии."
   ]
  },
  {
   "cell_type": "code",
   "execution_count": 10,
   "metadata": {},
   "outputs": [
    {
     "name": "stdout",
     "output_type": "stream",
     "text": [
      "F1-мера на оригинальном наборе данных на обучающей выборке:  0.324, на валидационной выборке:  0.305\n",
      "Без учета предполагаемой заработной платы на обучающей выборке:  0.33, на валидационной выборке:  0.305\n",
      "С преобразованным признаком средств на счете на обучающей выборке:  0.318, на валидационной выборке:  0.313\n"
     ]
    }
   ],
   "source": [
    "# создадим функцию, принимающую на вход признаки и целевые признаки обучающей и валидационной выборок\n",
    "# и возвращающую F1-меру на обеих выборках\n",
    "def log_reg_accuracy(features_train, features_valid, target_train, target_valid):\n",
    "    model = LogisticRegression(random_state=12345, solver='liblinear', max_iter=10000)\n",
    "    model.fit(features_train, target_train)\n",
    "    train_predictions = model.predict(features_train)\n",
    "    valid_predictions = model.predict(features_valid)\n",
    "    return (f'на обучающей выборке: {f1_score(target_train, train_predictions): .3}, на валидационной выборке: {f1_score(target_valid, valid_predictions): .3}')\n",
    "\n",
    "# выведем на экран значение F1-меры на разных наборах данных\n",
    "print('F1-мера на оригинальном наборе данных', log_reg_accuracy(original_train, original_valid, target_train, target_valid))\n",
    "print('Без учета предполагаемой заработной платы', log_reg_accuracy(features_wos_train, features_wos_valid, target_train, target_valid))\n",
    "print('С преобразованным признаком средств на счете', log_reg_accuracy(features_wob_train, features_wob_valid, target_train, target_valid))"
   ]
  },
  {
   "cell_type": "markdown",
   "metadata": {},
   "source": [
    "Для всех обучающих наборов данных F1-мера имеет невысокое значение, едва превышая 0,3. Наибольшее значение на валидационной выборке показывает обучающий набор данных без учета предполагаемой заработной платы и с бинарным признаком наличия средств на счете клиента.\n",
    "\n",
    "Далее протестируем модель ешающего дерева. В цикле подберем гиперпараметры, дающие наилучший результат."
   ]
  },
  {
   "cell_type": "code",
   "execution_count": 11,
   "metadata": {},
   "outputs": [
    {
     "name": "stdout",
     "output_type": "stream",
     "text": [
      "F1-мера на оригинальном наборе данных на обучающей выборке:  0.743, на валидационной выборке:  0.539, глубина дерева: 10\n",
      "Без учета предполагаемой заработной платы на обучающей выборке:  0.694, на валидационной выборке:  0.541, глубина дерева: 9\n",
      "С преобразованным признаком средств на счете на обучающей выборке:  0.668, на валидационной выборке:  0.552, глубина дерева: 9\n"
     ]
    }
   ],
   "source": [
    "# создадим функцию, принимающую на вход признаки и целевые признаки обучающей и валидационной выборок\n",
    "# и возвращающую F1-меру на обеих выборках и глубину дерева\n",
    "def des_tree_accuracy(features_train, features_valid, target_train, target_valid):\n",
    "    for depth in (1, len(features_train.columns)):\n",
    "        best_result = 0\n",
    "        model = DecisionTreeClassifier(max_depth = depth, random_state=12345)\n",
    "        model.fit(features_train, target_train)\n",
    "        predictions_valid = model.predict(features_valid)\n",
    "        score = f1_score(predictions_valid, target_valid)\n",
    "        if score > best_result:\n",
    "            best_result = score\n",
    "            best_model = model\n",
    "            best_depth = depth\n",
    "    train_predictions = best_model.predict(features_train)\n",
    "    valid_predictions = best_model.predict(features_valid)\n",
    "    return (f'на обучающей выборке: {f1_score(target_train, train_predictions): .3}, на валидационной выборке: {f1_score(target_valid, valid_predictions): .3}, глубина дерева: {best_depth}')\n",
    "\n",
    "# выведем на экран значение F1-меры на разных наборах данных\n",
    "print('F1-мера на оригинальном наборе данных', des_tree_accuracy(original_train, original_valid, target_train, target_valid))\n",
    "print('Без учета предполагаемой заработной платы', des_tree_accuracy(features_wos_train, features_wos_valid, target_train, target_valid))\n",
    "print('С преобразованным признаком средств на счете', des_tree_accuracy(features_wob_train, features_wob_valid, target_train, target_valid))"
   ]
  },
  {
   "cell_type": "markdown",
   "metadata": {},
   "source": [
    "Модель решающего дерева показывает лучший результат по сравнению с моделью логистической регрессии. F1-мера снова выше на обучающем наборе с бинарным признаком наличия средств на счете клиента и составляет 0,552.\n",
    "\n",
    "Далее протестируем модель случайного леса, в которой в цикле определим наилучшее количество деревьев и максимальную глубину."
   ]
  },
  {
   "cell_type": "code",
   "execution_count": 12,
   "metadata": {},
   "outputs": [
    {
     "name": "stdout",
     "output_type": "stream",
     "text": [
      "F1-мера на оригинальном наборе данных на обучающей выборке:  0.708, на валидационной выборке:  0.555, количество деревьев: 100, глубина: 10\n",
      "Без учета предполагаемой заработной платы на обучающей выборке:  0.673, на валидационной выборке:  0.545, количество деревьев: 100, глубина: 9\n",
      "С преобразованным признаком средств на счете на обучающей выборке:  0.647, на валидационной выборке:  0.548, количество деревьев: 100, глубина: 9\n"
     ]
    }
   ],
   "source": [
    "# создадим функцию, принимающую на вход признаки и целевые признаки обучающей и валидационной выборок\n",
    "# и возвращающую F1-меру на обеих выборках, глубину дерева и количество деревьев\n",
    "def rand_forest_accuracy(features_train, features_valid, target_train, target_valid):\n",
    "    for est in range(20, 101, 20):\n",
    "        for depth in (1, len(features_train.columns)):\n",
    "            best_result = 0\n",
    "            model = RandomForestClassifier(max_depth = depth, n_estimators = est, random_state=12345)\n",
    "            model.fit(features_train, target_train)\n",
    "            predictions_valid = model.predict(features_valid)\n",
    "            score = f1_score(predictions_valid, target_valid)\n",
    "            if score > best_result:\n",
    "                best_model = model\n",
    "                best_depth = depth\n",
    "                best_est = est\n",
    "    train_predictions = model.predict(features_train)\n",
    "    valid_predictions = model.predict(features_valid)\n",
    "    return (f'на обучающей выборке: {f1_score(target_train, train_predictions): .3}, на валидационной выборке: {f1_score(target_valid, valid_predictions): .3}, количество деревьев: {best_est}, глубина: {best_depth}')\n",
    "# выведем на экран значение F1-меры на разных наборах данных\n",
    "print('F1-мера на оригинальном наборе данных', rand_forest_accuracy(original_train, original_valid, target_train, target_valid))\n",
    "print('Без учета предполагаемой заработной платы', rand_forest_accuracy(features_wos_train, features_wos_valid, target_train, target_valid))\n",
    "print('С преобразованным признаком средств на счете', rand_forest_accuracy(features_wob_train, features_wob_valid, target_train, target_valid))"
   ]
  },
  {
   "cell_type": "markdown",
   "metadata": {},
   "source": [
    "Модель случайного леса показывает результат, аналогичный модели решающего дерева. Здесь наибольшее значение F1 составляет 0,555 на оригинальном наборе данных."
   ]
  },
  {
   "cell_type": "markdown",
   "metadata": {},
   "source": [
    "### Вывод\n",
    "\n",
    "В данном разделе произвели обучение моделей логистической регрессии, дерева решений и случайного леса с определением оптимальных гиперпараметров на созданных ранее обучающих наборах данных, включающих в себя разхличные наборы признаков. Наилучший результат на валидационной выборке показала модель случайного леса на оригинальном наборе данных. F1-мера в данном случае составила 0,555. Следует отметить, что все три модели показали невысокие результаты, вызванные, скорее всего, дисбалансом целевого признака- ушедших из банка клиентов в 4 раза меньше, чем остальных. В следующих разделах избавимся от дисбаланса и протестируем модели снова."
   ]
  },
  {
   "cell_type": "markdown",
   "metadata": {},
   "source": [
    "## Борьба с дисбалансом"
   ]
  },
  {
   "cell_type": "markdown",
   "metadata": {},
   "source": [
    "С целью улучшения предсказаний моделей увеличим выборку, убрав таким образом дисбаланс целевого признака. Отделим положительные значения целевого признака от отрицательных, увеличим выборку в 4 раза, объединим обратно и перемешаем объекты."
   ]
  },
  {
   "cell_type": "code",
   "execution_count": 13,
   "metadata": {},
   "outputs": [],
   "source": [
    "# создадим функцию увеличения выборки по положительному целевому признаку\n",
    "def upsample(features, target, repeat):\n",
    "    features_zeros = features[target == 0]\n",
    "    features_ones = features[target == 1]\n",
    "    target_zeros = target[target == 0]\n",
    "    target_ones = target[target == 1]\n",
    "    \n",
    "    features_upsampled = pd.concat([features_zeros] + [features_ones] * repeat)\n",
    "    target_upsampled = pd.concat([target_zeros] + [target_ones] * repeat)\n",
    "    \n",
    "    features_upsampled, target_upsampled = shuffle(\n",
    "        features_upsampled, target_upsampled, random_state=12345)\n",
    "    \n",
    "    return features_upsampled, target_upsampled\n",
    "\n",
    "features_upsampled, target_upsampled = upsample(features_train, target_train, 4)\n",
    "\n",
    "# сформируем обучающий набор данных с оригинальными признаками датасета (без признака 'funds_on_balance')\n",
    "original_upsampled = features_upsampled.drop(['funds_on_balance'], axis=1)\n",
    "\n",
    "# сформируем обучающий набор данных без учета предполагаемой заработной платы\n",
    "features_wos_upsampled = original_upsampled.drop(['estimated_salary'], axis=1)\n",
    "\n",
    "# сформируем обучающий набор данных без учета предполагаемой заработной платы и с преобразованным признаком наличия средств на счете\n",
    "features_wob_upsampled = features_upsampled.drop(['balance', 'estimated_salary'], axis=1)"
   ]
  },
  {
   "cell_type": "markdown",
   "metadata": {},
   "source": [
    "Аналогично разделу 2 протестируем модели логистической регрессии, решающего дерева и случайного леса с перебором гиперпараметров и выделением лучшего результата по F1-мере на валидационной выборке."
   ]
  },
  {
   "cell_type": "code",
   "execution_count": 14,
   "metadata": {},
   "outputs": [
    {
     "name": "stdout",
     "output_type": "stream",
     "text": [
      "Модель логистической регрессии\n",
      "F1-мера на оригинальном наборе данных на обучающей выборке:  0.707, на валидационной выборке:  0.48\n",
      "Без учета предполагаемой заработной платы на обучающей выборке:  0.709, на валидационной выборке:  0.482\n",
      "С преобразованным признаком средств на счете на обучающей выборке:  0.709, на валидационной выборке:  0.482\n",
      "----------------------------------------------------------------------------------------------------\n",
      "Модель решающего дерева\n",
      "F1-мера на оригинальном наборе данных на обучающей выборке:  0.87, на валидационной выборке:  0.493, глубина дерева: 10\n",
      "Без учета предполагаемой заработной платы на обучающей выборке:  0.843, на валидационной выборке:  0.538, глубина дерева: 9\n",
      "С преобразованным признаком средств на счете на обучающей выборке:  0.831, на валидационной выборке:  0.537, глубина дерева: 9\n",
      "----------------------------------------------------------------------------------------------------\n",
      "Модель случайного леса\n",
      "F1-мера на оригинальном наборе данных на обучающей выборке:  0.9, на валидационной выборке:  0.589, количество деревьев: 100, глубина: 10\n",
      "Без учета предполагаемой заработной платы на обучающей выборке:  0.86, на валидационной выборке:  0.594, количество деревьев: 100, глубина: 9\n",
      "С преобразованным признаком средств на счете на обучающей выборке:  0.848, на валидационной выборке:  0.591, количество деревьев: 100, глубина: 9\n",
      "----------------------------------------------------------------------------------------------------\n"
     ]
    }
   ],
   "source": [
    "# выведем на экран значение F1-меры на модели логистической регрессии\n",
    "print('Модель логистической регрессии')\n",
    "print('F1-мера на оригинальном наборе данных', log_reg_accuracy(original_upsampled, original_valid, target_upsampled, target_valid))\n",
    "print('Без учета предполагаемой заработной платы', log_reg_accuracy(features_wos_upsampled, features_wos_valid, target_upsampled, target_valid))\n",
    "print('С преобразованным признаком средств на счете', log_reg_accuracy(features_wob_upsampled, features_wob_valid, target_upsampled, target_valid))\n",
    "print('-' * 100)\n",
    "\n",
    "# выведем на экран значение F1-меры на модели решающего дерева\n",
    "print('Модель решающего дерева')\n",
    "print('F1-мера на оригинальном наборе данных', des_tree_accuracy(original_upsampled, original_valid, target_upsampled, target_valid))\n",
    "print('Без учета предполагаемой заработной платы', des_tree_accuracy(features_wos_upsampled, features_wos_valid, target_upsampled, target_valid))\n",
    "print('С преобразованным признаком средств на счете', des_tree_accuracy(features_wob_upsampled, features_wob_valid, target_upsampled, target_valid))\n",
    "print('-' * 100)\n",
    "\n",
    "# выведем на экран значение F1-меры на модели случайного леса\n",
    "print('Модель случайного леса')\n",
    "print('F1-мера на оригинальном наборе данных', rand_forest_accuracy(original_upsampled, original_valid, target_upsampled, target_valid))\n",
    "print('Без учета предполагаемой заработной платы', rand_forest_accuracy(features_wos_upsampled, features_wos_valid, target_upsampled, target_valid))\n",
    "print('С преобразованным признаком средств на счете', rand_forest_accuracy(features_wob_upsampled, features_wob_valid, target_upsampled, target_valid))\n",
    "print('-' * 100)"
   ]
  },
  {
   "cell_type": "markdown",
   "metadata": {},
   "source": [
    "Лучший результат- у модели случайного леса без учета предполагаемой заработной платы клиента. Примем окончательно модель случайного леса с глубиной дерева 9 и количеством деревьев 100. \n",
    "\n",
    "Уменьшим выборку по отрицательному классу в 4 раза и аналогично рассчитаем F1-меру."
   ]
  },
  {
   "cell_type": "code",
   "execution_count": 15,
   "metadata": {},
   "outputs": [],
   "source": [
    "def downsample(features, target, fraction):\n",
    "    features_zeros = features[target == 0]\n",
    "    features_ones = features[target == 1]\n",
    "    target_zeros = target[target == 0]\n",
    "    target_ones = target[target == 1]\n",
    "\n",
    "    features_downsampled = pd.concat(\n",
    "        [features_zeros.sample(frac=fraction, random_state=12345)] + [features_ones])\n",
    "    target_downsampled = pd.concat(\n",
    "        [target_zeros.sample(frac=fraction, random_state=12345)] + [target_ones])\n",
    "    \n",
    "    features_downsampled, target_downsampled = shuffle(\n",
    "        features_downsampled, target_downsampled, random_state=12345)\n",
    "    \n",
    "    return features_downsampled, target_downsampled\n",
    "\n",
    "features_downsampled, target_downsampled = downsample(features_train, target_train, 0.25)\n",
    "\n",
    "# сформируем обучающий набор данных с оригинальными признаками датасета (без признака 'funds_on_balance')\n",
    "original_downsampled = features_downsampled.drop(['funds_on_balance'], axis=1)\n",
    "\n",
    "# сформируем обучающий набор данных без учета предполагаемой заработной платы\n",
    "features_wos_downsampled = original_downsampled.drop(['estimated_salary'], axis=1)\n",
    "\n",
    "# сформируем обучающий набор данных без учета предполагаемой заработной платы и с преобразованным признаком наличия средств на счете\n",
    "features_wob_downsampled = features_downsampled.drop(['balance', 'estimated_salary'], axis=1)"
   ]
  },
  {
   "cell_type": "code",
   "execution_count": 16,
   "metadata": {},
   "outputs": [
    {
     "name": "stdout",
     "output_type": "stream",
     "text": [
      "Модель логистической регрессии\n",
      "F1-мера на оригинальном наборе данных на обучающей выборке:  0.713, на валидационной выборке:  0.482\n",
      "Без учета предполагаемой заработной платы на обучающей выборке:  0.713, на валидационной выборке:  0.48\n",
      "С преобразованным признаком средств на счете на обучающей выборке:  0.71, на валидационной выборке:  0.482\n",
      "----------------------------------------------------------------------------------------------------\n",
      "Модель решающего дерева\n",
      "F1-мера на оригинальном наборе данных на обучающей выборке:  0.898, на валидационной выборке:  0.504, глубина дерева: 10\n",
      "Без учета предполагаемой заработной платы на обучающей выборке:  0.865, на валидационной выборке:  0.521, глубина дерева: 9\n",
      "С преобразованным признаком средств на счете на обучающей выборке:  0.851, на валидационной выборке:  0.511, глубина дерева: 9\n",
      "----------------------------------------------------------------------------------------------------\n",
      "Модель случайного леса\n",
      "F1-мера на оригинальном наборе данных на обучающей выборке:  0.924, на валидационной выборке:  0.566, количество деревьев: 100, глубина: 10\n",
      "Без учета предполагаемой заработной платы на обучающей выборке:  0.884, на валидационной выборке:  0.566, количество деревьев: 100, глубина: 9\n",
      "С преобразованным признаком средств на счете на обучающей выборке:  0.87, на валидационной выборке:  0.567, количество деревьев: 100, глубина: 9\n",
      "----------------------------------------------------------------------------------------------------\n"
     ]
    }
   ],
   "source": [
    "# выведем на экран значение F1-меры на модели логистической регрессии\n",
    "print('Модель логистической регрессии')\n",
    "print('F1-мера на оригинальном наборе данных', log_reg_accuracy(original_downsampled, original_valid, target_downsampled, target_valid))\n",
    "print('Без учета предполагаемой заработной платы', log_reg_accuracy(features_wos_downsampled, features_wos_valid, target_downsampled, target_valid))\n",
    "print('С преобразованным признаком средств на счете', log_reg_accuracy(features_wob_downsampled, features_wob_valid, target_downsampled, target_valid))\n",
    "print('-' * 100)\n",
    "\n",
    "# выведем на экран значение F1-меры на модели решающего дерева\n",
    "print('Модель решающего дерева')\n",
    "print('F1-мера на оригинальном наборе данных', des_tree_accuracy(original_downsampled, original_valid, target_downsampled, target_valid))\n",
    "print('Без учета предполагаемой заработной платы', des_tree_accuracy(features_wos_downsampled, features_wos_valid, target_downsampled, target_valid))\n",
    "print('С преобразованным признаком средств на счете', des_tree_accuracy(features_wob_downsampled, features_wob_valid, target_downsampled, target_valid))\n",
    "print('-' * 100)\n",
    "\n",
    "# выведем на экран значение F1-меры на модели случайного леса\n",
    "print('Модель случайного леса')\n",
    "print('F1-мера на оригинальном наборе данных', rand_forest_accuracy(original_downsampled, original_valid, target_downsampled, target_valid))\n",
    "print('Без учета предполагаемой заработной платы', rand_forest_accuracy(features_wos_downsampled, features_wos_valid, target_downsampled, target_valid))\n",
    "print('С преобразованным признаком средств на счете', rand_forest_accuracy(features_wob_downsampled, features_wob_valid, target_downsampled, target_valid))\n",
    "print('-' * 100)"
   ]
  },
  {
   "cell_type": "markdown",
   "metadata": {},
   "source": [
    "При уменьшении выборки по отрицательному целевому признаку существенно сокращается количество данных для обучения модели, в связи с чем она хуже обучается и показывает меньшее значение F1, поэтому выбранную модель оставим прежней- с увеличением выборки по целевому признаку и исключая предполагаемый доход клиента.\n",
    "\n",
    "Перед тестированием выбранной модели проверим ее адекватность на константной модели и на модели, возввращающей случайное значение целевого признака."
   ]
  },
  {
   "cell_type": "code",
   "execution_count": 17,
   "metadata": {},
   "outputs": [
    {
     "name": "stdout",
     "output_type": "stream",
     "text": [
      "F1-мера со случайными значениями признака составляет  0.29\n",
      "F1-мера на константной модели составляет  0.327\n"
     ]
    }
   ],
   "source": [
    "check_columns = pd.DataFrame(np.random.randint(0, 2, size=(len(target_valid), 1)), columns=['random'])\n",
    "check_columns['only_true'] = 1\n",
    "print(f'F1-мера со случайными значениями признака составляет {f1_score(target_valid, check_columns[\"random\"]): .3}')\n",
    "print(f'F1-мера на константной модели составляет {f1_score(target_valid, check_columns[\"only_true\"]): .3}')"
   ]
  },
  {
   "cell_type": "markdown",
   "metadata": {},
   "source": [
    "### Вывод\n",
    "\n",
    "В данном разделе увеличили выборку по положительным значениям целевого признака в 4 раза с целью борьбы с дисбалансом. Аналогично предыдущим разделам создали три набора обучающих данных и обучили на них модели- с признаками оригинального датасета, без учета предполагаемой заработной платы и то же самое, но с представлением признака, содержащего информацию о количестве средств на счете клиента, в бинарном виде. Наилучший результат показала модель случайного леса на обучающем наборе данных без учета предполагаемого дохода клиента со 100 деревьями максимальной глубиной 9. F1-мера выбранной модели на валидационной выборке составила 0,594. Для проверки адекватности выбранной модели F1-мера была определена для константной модели и для модели, возвращающей случайное значение целевого признака. Обе модели показали существенно меньшее значение F1-меры, поэтому можем сделать вывод, что модель адекватна. Далее проверим модель на тестовой выборке."
   ]
  },
  {
   "cell_type": "markdown",
   "metadata": {},
   "source": [
    "## Тестирование модели"
   ]
  },
  {
   "cell_type": "markdown",
   "metadata": {},
   "source": [
    "Обучим модель случайного леса со 100 деревьями максимальной глубиной 9 на обучающей выборке без учета предполагаемой заработной платы клиента и выведем на экран значение F1-меры, а также построим AUC-ROC кривую, вычислив площадь под ней."
   ]
  },
  {
   "cell_type": "code",
   "execution_count": 18,
   "metadata": {},
   "outputs": [
    {
     "name": "stdout",
     "output_type": "stream",
     "text": [
      "F1-мера выбранной модели на тестовой выборке составляет  0.631\n",
      "AUC-ROC =  0.869\n"
     ]
    },
    {
     "data": {
      "image/png": "[encoded data removed]",
      "text/plain": [
       "<Figure size 432x288 with 1 Axes>"
      ]
     },
     "metadata": {
      "needs_background": "light"
     },
     "output_type": "display_data"
    }
   ],
   "source": [
    "model = RandomForestClassifier(max_depth = 9, n_estimators = 100, random_state = 12345)\n",
    "model.fit(features_wos_upsampled, target_upsampled)\n",
    "predictions = model.predict(features_wos_test)\n",
    "print(f'F1-мера выбранной модели на тестовой выборке составляет {f1_score(target_test, predictions): .3}')\n",
    "\n",
    "\n",
    "probabilities_test = model.predict_proba(features_wos_test)\n",
    "probabilities_one_test = probabilities_test[:, 1]\n",
    "\n",
    "print(f'AUC-ROC = {roc_auc_score(target_test, probabilities_one_test): .3}')\n",
    "\n",
    "fpr, tpr, thresholds = roc_curve(target_test, probabilities_one_test)\n",
    "\n",
    "plt.figure()\n",
    "plt.plot(fpr, tpr)\n",
    "plt.plot([0, 1], [0, 1], linestyle='--')\n",
    "plt.xlim([0.0, 1.0])\n",
    "plt.ylim([0.0, 1.0])\n",
    "plt.xlabel('False Positive Rate')\n",
    "plt.ylabel('True Positive Rate')\n",
    "plt.title('ROC-кривая')\n",
    "plt.show()"
   ]
  },
  {
   "cell_type": "markdown",
   "metadata": {},
   "source": [
    "### Вывод\n",
    "\n",
    "В данном разделе рассчитали F1-меру и площадь под ROC для выбранной модели на тестовой выборке. F1-мера на тестовой выборке превосходит значение на валидационной выборке и составляет 0,631. Условием проекта было достижение значения F1-меры 0,59. Таким образом, можем считать, что цель проекта достигнута. Площадь под ROC составляет 0,869, что говорит о хорошей предсказательной способности модели."
   ]
  },
  {
   "cell_type": "markdown",
   "metadata": {},
   "source": [
    "## Общие выводы\n",
    "\n",
    "Целью проекта было обучение модели для определения вероятности ухода клиентов банка на основе их поведения. При открытии данных были обнаружены некоторые проблемы: для 9% пользователей нет информации об их времени пользования банком, предполагаемый доход клиентов распределяется равномерно и в описании проекта не сказано, по какому алгоритму он определяется. В связи с тем, что процент ушедших клиентов не меняется в зависимости от срока их пользования банком, было решено исключить этот признак из оцениваемых параметров.\n",
    "\n",
    "При обучении моделей обучающий набор данных был разделен на обучающую, валидационную и тестовую выборки в соотношении 3:1:1. Далее были обучены модели логистической регрессии, дерева решений и случайного леса с перебором гиперпараметров для двух последних. Во всех случаях была получена F1-мера на обучающей и валидационной выборках, значение которой не удовлетворяло условиям выполнения проекта. В связи с этим было решено увеличить выборку по положительным значениям целевого признака и заново обучить те же модели. Окончательно выбранной моделью стала модель случайного леса со 100 деревьями максимальной глубиной 9 на выборке без учета предполагаемого дохода клиента. F1-мера для обучающей выборки на данной модели составила 0,86, на валидационной- 0,594, на тестовой- 0,631. Данное значение удовлетворяет условиям выполнения проекта. Также была построена ROC и определена площадь под ней. Площадь составила 0,869, что говорит о хорошей предсказательной способности модели.\n",
    "\n",
    "Таким образом, проект можно считать выполненным."
   ]
  }
 ],
 "metadata": {
  "ExecuteTimeLog": [
   {
    "duration": 416,
    "start_time": "2022-04-05T10:10:35.354Z"
   },
   {
    "duration": 37,
    "start_time": "2022-04-05T10:11:01.149Z"
   },
   {
    "duration": 62,
    "start_time": "2022-04-05T10:12:37.642Z"
   },
   {
    "duration": 1356,
    "start_time": "2022-04-05T10:13:38.491Z"
   },
   {
    "duration": 831,
    "start_time": "2022-04-05T10:13:54.092Z"
   },
   {
    "duration": 754,
    "start_time": "2022-04-05T10:13:59.157Z"
   },
   {
    "duration": 476,
    "start_time": "2022-04-06T08:52:56.353Z"
   },
   {
    "duration": 1319,
    "start_time": "2022-04-06T08:52:56.831Z"
   },
   {
    "duration": 2460,
    "start_time": "2022-04-13T10:21:00.898Z"
   },
   {
    "duration": 7,
    "start_time": "2022-04-13T10:21:11.280Z"
   },
   {
    "duration": 5,
    "start_time": "2022-04-13T10:21:17.054Z"
   },
   {
    "duration": 77,
    "start_time": "2022-04-13T10:21:43.249Z"
   },
   {
    "duration": 91,
    "start_time": "2022-04-13T10:22:05.881Z"
   },
   {
    "duration": 122,
    "start_time": "2022-04-13T10:22:33.210Z"
   },
   {
    "duration": 122,
    "start_time": "2022-04-13T10:23:25.803Z"
   },
   {
    "duration": 3204,
    "start_time": "2022-04-13T11:21:15.762Z"
   },
   {
    "duration": 3271,
    "start_time": "2022-04-13T11:36:55.727Z"
   },
   {
    "duration": 3289,
    "start_time": "2022-04-13T11:37:30.026Z"
   },
   {
    "duration": 32,
    "start_time": "2022-04-13T11:37:41.458Z"
   },
   {
    "duration": 71,
    "start_time": "2022-04-13T11:37:45.066Z"
   },
   {
    "duration": 9,
    "start_time": "2022-04-13T11:38:30.643Z"
   },
   {
    "duration": 11,
    "start_time": "2022-04-13T11:38:44.011Z"
   },
   {
    "duration": 128,
    "start_time": "2022-04-13T11:39:59.223Z"
   },
   {
    "duration": 6,
    "start_time": "2022-04-13T11:45:36.070Z"
   },
   {
    "duration": 10,
    "start_time": "2022-04-13T11:45:51.038Z"
   },
   {
    "duration": 9,
    "start_time": "2022-04-13T11:49:30.919Z"
   },
   {
    "duration": 9,
    "start_time": "2022-04-13T11:49:37.663Z"
   },
   {
    "duration": 9,
    "start_time": "2022-04-13T11:49:41.711Z"
   },
   {
    "duration": 13,
    "start_time": "2022-04-13T11:51:11.522Z"
   },
   {
    "duration": 8,
    "start_time": "2022-04-13T11:51:15.650Z"
   },
   {
    "duration": 9,
    "start_time": "2022-04-13T11:51:19.226Z"
   },
   {
    "duration": 5,
    "start_time": "2022-04-13T12:04:19.674Z"
   },
   {
    "duration": 3223,
    "start_time": "2022-04-13T12:04:22.602Z"
   },
   {
    "duration": 7,
    "start_time": "2022-04-13T12:13:15.560Z"
   },
   {
    "duration": 3094,
    "start_time": "2022-04-13T12:13:17.882Z"
   },
   {
    "duration": 126,
    "start_time": "2022-04-13T12:13:44.665Z"
   },
   {
    "duration": 8,
    "start_time": "2022-04-13T12:13:51.116Z"
   },
   {
    "duration": 6,
    "start_time": "2022-04-13T12:14:34.087Z"
   },
   {
    "duration": 10,
    "start_time": "2022-04-13T12:14:49.316Z"
   },
   {
    "duration": 19,
    "start_time": "2022-04-13T12:15:23.734Z"
   },
   {
    "duration": 7,
    "start_time": "2022-04-13T12:19:26.250Z"
   },
   {
    "duration": 13,
    "start_time": "2022-04-13T12:24:16.518Z"
   },
   {
    "duration": 17,
    "start_time": "2022-04-13T12:25:04.767Z"
   },
   {
    "duration": 294,
    "start_time": "2022-04-13T12:30:53.041Z"
   },
   {
    "duration": 296,
    "start_time": "2022-04-13T12:31:34.835Z"
   },
   {
    "duration": 287,
    "start_time": "2022-04-13T12:31:49.539Z"
   },
   {
    "duration": 2004,
    "start_time": "2022-04-13T12:32:11.276Z"
   },
   {
    "duration": 130,
    "start_time": "2022-04-13T12:32:13.282Z"
   },
   {
    "duration": 6,
    "start_time": "2022-04-13T12:32:13.414Z"
   },
   {
    "duration": 2989,
    "start_time": "2022-04-13T12:32:13.422Z"
   },
   {
    "duration": 133,
    "start_time": "2022-04-13T12:32:16.415Z"
   },
   {
    "duration": 9,
    "start_time": "2022-04-13T12:32:16.550Z"
   },
   {
    "duration": 324,
    "start_time": "2022-04-13T12:32:16.561Z"
   },
   {
    "duration": 31,
    "start_time": "2022-04-13T12:32:53.096Z"
   },
   {
    "duration": 28,
    "start_time": "2022-04-13T12:34:46.115Z"
   },
   {
    "duration": 28,
    "start_time": "2022-04-13T12:34:55.290Z"
   },
   {
    "duration": 33,
    "start_time": "2022-04-13T12:36:05.532Z"
   },
   {
    "duration": 29,
    "start_time": "2022-04-13T12:42:39.424Z"
   },
   {
    "duration": 40,
    "start_time": "2022-04-13T12:42:49.736Z"
   },
   {
    "duration": 39,
    "start_time": "2022-04-13T12:43:53.839Z"
   },
   {
    "duration": 37,
    "start_time": "2022-04-13T12:50:44.133Z"
   },
   {
    "duration": 5,
    "start_time": "2022-04-13T13:04:55.727Z"
   },
   {
    "duration": 7,
    "start_time": "2022-04-13T13:05:05.479Z"
   },
   {
    "duration": 130,
    "start_time": "2022-04-13T13:05:05.489Z"
   },
   {
    "duration": 7,
    "start_time": "2022-04-13T13:05:05.623Z"
   },
   {
    "duration": 3194,
    "start_time": "2022-04-13T13:05:05.634Z"
   },
   {
    "duration": 136,
    "start_time": "2022-04-13T13:05:08.831Z"
   },
   {
    "duration": 9,
    "start_time": "2022-04-13T13:05:08.969Z"
   },
   {
    "duration": 211,
    "start_time": "2022-04-13T13:09:24.406Z"
   },
   {
    "duration": 2047,
    "start_time": "2022-04-13T13:09:54.052Z"
   },
   {
    "duration": 130,
    "start_time": "2022-04-13T13:09:56.101Z"
   },
   {
    "duration": 7,
    "start_time": "2022-04-13T13:09:56.233Z"
   },
   {
    "duration": 3006,
    "start_time": "2022-04-13T13:09:56.243Z"
   },
   {
    "duration": 145,
    "start_time": "2022-04-13T13:09:59.251Z"
   },
   {
    "duration": 9,
    "start_time": "2022-04-13T13:09:59.398Z"
   },
   {
    "duration": 225,
    "start_time": "2022-04-13T13:09:59.409Z"
   },
   {
    "duration": 72,
    "start_time": "2022-04-13T13:10:35.328Z"
   },
   {
    "duration": 6,
    "start_time": "2022-04-13T13:10:54.253Z"
   },
   {
    "duration": 66,
    "start_time": "2022-04-13T13:10:57.541Z"
   },
   {
    "duration": 58,
    "start_time": "2022-04-13T13:12:16.400Z"
   },
   {
    "duration": 65,
    "start_time": "2022-04-13T13:12:23.039Z"
   },
   {
    "duration": 69,
    "start_time": "2022-04-13T13:14:22.331Z"
   },
   {
    "duration": 67,
    "start_time": "2022-04-13T13:14:37.620Z"
   },
   {
    "duration": 65,
    "start_time": "2022-04-13T13:14:51.429Z"
   },
   {
    "duration": 67,
    "start_time": "2022-04-13T13:20:38.179Z"
   },
   {
    "duration": 2954,
    "start_time": "2022-04-13T13:21:57.408Z"
   },
   {
    "duration": 1331,
    "start_time": "2022-04-13T13:22:37.666Z"
   },
   {
    "duration": 2460,
    "start_time": "2022-04-13T13:22:51.354Z"
   },
   {
    "duration": 2336,
    "start_time": "2022-04-13T13:23:38.107Z"
   },
   {
    "duration": 2303,
    "start_time": "2022-04-13T13:24:25.916Z"
   },
   {
    "duration": 1498,
    "start_time": "2022-04-14T10:44:03.878Z"
   },
   {
    "duration": 79,
    "start_time": "2022-04-14T10:44:05.377Z"
   },
   {
    "duration": 5,
    "start_time": "2022-04-14T10:44:05.457Z"
   },
   {
    "duration": 1675,
    "start_time": "2022-04-14T10:44:05.463Z"
   },
   {
    "duration": 73,
    "start_time": "2022-04-14T10:44:07.148Z"
   },
   {
    "duration": 6,
    "start_time": "2022-04-14T10:44:07.223Z"
   },
   {
    "duration": 20,
    "start_time": "2022-04-14T10:44:07.231Z"
   },
   {
    "duration": 44,
    "start_time": "2022-04-14T10:44:07.253Z"
   },
   {
    "duration": 1451,
    "start_time": "2022-04-14T10:44:07.299Z"
   },
   {
    "duration": 106,
    "start_time": "2022-04-14T10:52:34.757Z"
   },
   {
    "duration": 4,
    "start_time": "2022-04-14T10:55:26.957Z"
   },
   {
    "duration": 551,
    "start_time": "2022-04-14T10:58:10.698Z"
   },
   {
    "duration": 317,
    "start_time": "2022-04-14T10:58:21.536Z"
   },
   {
    "duration": 733,
    "start_time": "2022-04-14T11:00:38.423Z"
   },
   {
    "duration": 451,
    "start_time": "2022-04-14T11:01:38.297Z"
   },
   {
    "duration": 503,
    "start_time": "2022-04-14T11:02:15.145Z"
   },
   {
    "duration": 530,
    "start_time": "2022-04-14T11:02:18.921Z"
   },
   {
    "duration": 2089,
    "start_time": "2022-04-14T11:02:26.762Z"
   },
   {
    "duration": 362,
    "start_time": "2022-04-14T11:02:35.195Z"
   },
   {
    "duration": 484,
    "start_time": "2022-04-14T11:06:09.977Z"
   },
   {
    "duration": 115,
    "start_time": "2022-04-14T11:12:49.182Z"
   },
   {
    "duration": 23,
    "start_time": "2022-04-14T11:13:33.287Z"
   },
   {
    "duration": 91,
    "start_time": "2022-04-14T11:15:44.811Z"
   },
   {
    "duration": 94,
    "start_time": "2022-04-14T11:16:04.195Z"
   },
   {
    "duration": 94,
    "start_time": "2022-04-14T11:16:13.644Z"
   },
   {
    "duration": 62,
    "start_time": "2022-04-14T11:23:13.470Z"
   },
   {
    "duration": 8663,
    "start_time": "2022-04-14T11:23:22.039Z"
   },
   {
    "duration": 7058,
    "start_time": "2022-04-14T11:23:45.026Z"
   },
   {
    "duration": 5010,
    "start_time": "2022-04-14T11:27:58.087Z"
   },
   {
    "duration": 6064,
    "start_time": "2022-04-14T11:28:19.415Z"
   },
   {
    "duration": 347,
    "start_time": "2022-04-14T11:35:22.311Z"
   },
   {
    "duration": 301,
    "start_time": "2022-04-14T11:35:47.559Z"
   },
   {
    "duration": 22,
    "start_time": "2022-04-14T11:43:26.667Z"
   },
   {
    "duration": 4,
    "start_time": "2022-04-14T11:43:45.159Z"
   },
   {
    "duration": 18,
    "start_time": "2022-04-14T11:43:50.166Z"
   },
   {
    "duration": 15,
    "start_time": "2022-04-14T11:45:27.810Z"
   },
   {
    "duration": 286,
    "start_time": "2022-04-14T11:53:15.175Z"
   },
   {
    "duration": 15,
    "start_time": "2022-04-14T11:53:49.753Z"
   },
   {
    "duration": 8572,
    "start_time": "2022-04-14T11:53:52.129Z"
   },
   {
    "duration": 8744,
    "start_time": "2022-04-14T11:55:10.334Z"
   },
   {
    "duration": 8461,
    "start_time": "2022-04-14T11:55:22.020Z"
   },
   {
    "duration": 7,
    "start_time": "2022-04-14T12:22:28.545Z"
   },
   {
    "duration": 6,
    "start_time": "2022-04-14T12:22:33.491Z"
   },
   {
    "duration": 6,
    "start_time": "2022-04-14T12:22:38.012Z"
   },
   {
    "duration": 6,
    "start_time": "2022-04-14T12:22:43.037Z"
   },
   {
    "duration": 6,
    "start_time": "2022-04-14T12:22:46.615Z"
   },
   {
    "duration": 9,
    "start_time": "2022-04-14T12:24:57.625Z"
   },
   {
    "duration": 9,
    "start_time": "2022-04-14T12:25:05.138Z"
   },
   {
    "duration": 8,
    "start_time": "2022-04-14T12:26:12.139Z"
   },
   {
    "duration": 9,
    "start_time": "2022-04-14T12:26:16.795Z"
   },
   {
    "duration": 566,
    "start_time": "2022-04-14T12:37:22.965Z"
   },
   {
    "duration": 667,
    "start_time": "2022-04-14T12:38:30.038Z"
   },
   {
    "duration": 6,
    "start_time": "2022-04-14T12:40:00.298Z"
   },
   {
    "duration": 597,
    "start_time": "2022-04-14T12:42:32.134Z"
   },
   {
    "duration": 589,
    "start_time": "2022-04-14T12:43:12.367Z"
   },
   {
    "duration": 553,
    "start_time": "2022-04-14T12:43:19.766Z"
   },
   {
    "duration": 642,
    "start_time": "2022-04-14T12:44:53.691Z"
   },
   {
    "duration": 651,
    "start_time": "2022-04-14T12:45:23.098Z"
   },
   {
    "duration": 9,
    "start_time": "2022-04-14T12:45:39.203Z"
   },
   {
    "duration": 4,
    "start_time": "2022-04-14T12:45:43.995Z"
   },
   {
    "duration": 3,
    "start_time": "2022-04-14T12:46:00.116Z"
   },
   {
    "duration": 4,
    "start_time": "2022-04-14T12:46:17.492Z"
   },
   {
    "duration": 3,
    "start_time": "2022-04-14T12:46:28.093Z"
   },
   {
    "duration": 3,
    "start_time": "2022-04-14T12:47:11.629Z"
   },
   {
    "duration": 3,
    "start_time": "2022-04-14T12:47:25.398Z"
   },
   {
    "duration": 4,
    "start_time": "2022-04-14T12:47:32.167Z"
   },
   {
    "duration": 4,
    "start_time": "2022-04-14T12:47:40.638Z"
   },
   {
    "duration": 646,
    "start_time": "2022-04-14T12:47:54.567Z"
   },
   {
    "duration": 663,
    "start_time": "2022-04-14T12:48:04.787Z"
   },
   {
    "duration": 598,
    "start_time": "2022-04-14T12:50:14.653Z"
   },
   {
    "duration": 592,
    "start_time": "2022-04-14T12:50:26.644Z"
   },
   {
    "duration": 663,
    "start_time": "2022-04-14T12:50:32.204Z"
   },
   {
    "duration": 669,
    "start_time": "2022-04-14T13:08:59.454Z"
   },
   {
    "duration": 656,
    "start_time": "2022-04-14T13:09:05.246Z"
   },
   {
    "duration": 713,
    "start_time": "2022-04-14T13:09:11.486Z"
   },
   {
    "duration": 4,
    "start_time": "2022-04-14T13:10:02.080Z"
   },
   {
    "duration": 69,
    "start_time": "2022-04-18T06:23:00.048Z"
   },
   {
    "duration": 4,
    "start_time": "2022-04-18T06:28:43.046Z"
   },
   {
    "duration": 47,
    "start_time": "2022-04-18T06:29:15.897Z"
   },
   {
    "duration": 11,
    "start_time": "2022-04-18T06:29:36.779Z"
   },
   {
    "duration": 10,
    "start_time": "2022-04-18T06:30:43.220Z"
   },
   {
    "duration": 5,
    "start_time": "2022-04-18T06:32:02.975Z"
   },
   {
    "duration": 5,
    "start_time": "2022-04-18T06:32:06.711Z"
   },
   {
    "duration": 5,
    "start_time": "2022-04-18T06:32:52.576Z"
   },
   {
    "duration": 6,
    "start_time": "2022-04-18T06:32:55.975Z"
   },
   {
    "duration": 7,
    "start_time": "2022-04-18T06:35:52.205Z"
   },
   {
    "duration": 5,
    "start_time": "2022-04-18T06:36:00.902Z"
   },
   {
    "duration": 5,
    "start_time": "2022-04-18T06:59:41.534Z"
   },
   {
    "duration": 5,
    "start_time": "2022-04-18T07:03:25.751Z"
   },
   {
    "duration": 69,
    "start_time": "2022-04-18T07:06:27.373Z"
   },
   {
    "duration": 4,
    "start_time": "2022-04-18T07:06:47.357Z"
   },
   {
    "duration": 4,
    "start_time": "2022-04-18T07:06:58.494Z"
   },
   {
    "duration": 4,
    "start_time": "2022-04-18T07:07:08.838Z"
   },
   {
    "duration": 6,
    "start_time": "2022-04-18T07:07:13.542Z"
   },
   {
    "duration": 3,
    "start_time": "2022-04-18T07:49:56.433Z"
   },
   {
    "duration": 4,
    "start_time": "2022-04-18T07:50:03.163Z"
   },
   {
    "duration": 3,
    "start_time": "2022-04-18T07:55:06.059Z"
   }
  ],
  "kernelspec": {
   "display_name": "Python 3 (ipykernel)",
   "language": "python",
   "name": "python3"
  },
  "language_info": {
   "codemirror_mode": {
    "name": "ipython",
    "version": 3
   },
   "file_extension": ".py",
   "mimetype": "text/x-python",
   "name": "python",
   "nbconvert_exporter": "python",
   "pygments_lexer": "ipython3",
   "version": "3.9.7"
  },
  "toc": {
   "base_numbering": 1,
   "nav_menu": {},
   "number_sections": true,
   "sideBar": true,
   "skip_h1_title": true,
   "title_cell": "Содержание",
   "title_sidebar": "Contents",
   "toc_cell": true,
   "toc_position": {
    "height": "calc(100% - 180px)",
    "left": "10px",
    "top": "150px",
    "width": "366.391px"
   },
   "toc_section_display": true,
   "toc_window_display": false
  }
 },
 "nbformat": 4,
 "nbformat_minor": 2
}
