{
 "cells": [
  {
   "cell_type": "markdown",
   "id": "2afc94cb",
   "metadata": {},
   "source": [
    "# Определение перспективного тарифа для телеком-компании\n",
    "\n",
    "В данном проекте будет изучен срез из 500 пользователей федерального оператора сотовой связи \"Мегалайн\" для определения наиболее перспективного тарифа из двух предложенных- \"Смарт\" и \"Ультра\". В нашем распоряжении данные 500 пользователей «Мегалайна»: кто они, откуда, каким тарифом пользуются, сколько звонков и сообщений каждый отправил за 2018 год. Нужно проанализировать поведение клиентов и сделать вывод — какой тариф лучше.\n",
    "\n",
    "План выполнения проекта представлен ниже.\n",
    "\n",
    "Открытие файлов, просмотр и предварительная подготовка данных:\n",
    "\n",
    "1. Открыть файлы и проанализировать данные, содержащиеся в них.\n",
    "2. Найти ошибки в данных и исправить их.\n",
    "3. Объединить датасеты в один файл. \n",
    "4. Проверить корректность объединения.\n",
    "5. Посмотреть инфо по столбцам.\n",
    "6. Проверить значения в столбцах.\n",
    "7. Посмотреть пропущенные значения.\n",
    "8. Привести данные к нужным типам.\n",
    "9. Исправление ошибок в столбцах.\n",
    "10. Заполнить отсутствующие значения.\n",
    "\n",
    "Категоризация данных:\n",
    "1. Выделение возрастных категорий.\n",
    "2. В сводной таблице для каждого пользователя посчитать по месяцам количество потраченных минут, отправленных СМС и израсходованного интернет-трафика.\n",
    "3. В сводной таблице определить помесячную выручку с каждого пользователя.\n",
    "\n",
    "Анализ данных:\n",
    "1. Построить гистограммы и диаграммы размаха выручки по пользователям разных тарифов, определить среднее, дисперсию и стандартное отклонение.\n",
    "2. Изучить, сколько минут, сообщений и интернет-трафика требуется пользователям каждого тарифа в месяц.\n",
    "3. Проверить, различается ли выручка с пользователей разных тарифов. Нулевая гипотеза- выручки пользователей тарифов равны. Альтернативная гипотеза- выручки не равны. Здесь ожидается, что выручка пользователей тарифа \"Ультра\" выше,чем тарифа \"Смарт\".\n",
    "4. Проверить, различается ли выручка пользователей из Москвы и из других регионов. Нулевая гипотеза- выручки равны. Альтернативная- выручки не равны. Здесь ожидается, что выручка пользователей из Москвы выше.\n",
    "5. Проверить распределение возрастных категорий среди пользователей каждого тарифа.\n",
    "6. Проверить, как меняются израсходованные пакеты минут, сообщений и интернет-трафика в зависимости от возраста пользователя.\n",
    "\n",
    "Ниже импортируем библиотеки, которые будут использованы в проекте."
   ]
  },
  {
   "cell_type": "code",
   "execution_count": 1,
   "id": "4c99242c",
   "metadata": {},
   "outputs": [],
   "source": [
    "import pandas as pd\n",
    "import matplotlib.pyplot as plt\n",
    "import numpy as np\n",
    "from scipy import stats as st \n",
    "import seaborn as sns\n",
    "pd.options.display.float_format = '{:,.1f}'.format"
   ]
  },
  {
   "cell_type": "markdown",
   "id": "14cea7dc",
   "metadata": {},
   "source": [
    "## Открытие файла и объединение данных\n",
    "\n",
    "В нашем распоряжении следующие файлы: \n",
    "* calls.csv - файл с информацией о длительности звонков пользователей;\n",
    "* internet.csv - файл с информацией об интернет-сессиях пользователей;\n",
    "* messages.csv - файл с информацией об отправленных пользователем сообщениях;\n",
    "* tariffs.csv - файл с информацией о тарифах;\n",
    "* users.csv - файл с информацией о пользователях.\n",
    "\n",
    "Откроем их по отдельности и изучим данные, содержащиеся в них, после чего объединим по общему столбцу."
   ]
  },
  {
   "cell_type": "code",
   "execution_count": 2,
   "id": "092a2cdf",
   "metadata": {
    "scrolled": false
   },
   "outputs": [
    {
     "data": {
      "text/html": [
       "<div>\n",
       "<style scoped>\n",
       "    .dataframe tbody tr th:only-of-type {\n",
       "        vertical-align: middle;\n",
       "    }\n",
       "\n",
       "    .dataframe tbody tr th {\n",
       "        vertical-align: top;\n",
       "    }\n",
       "\n",
       "    .dataframe thead th {\n",
       "        text-align: right;\n",
       "    }\n",
       "</style>\n",
       "<table border=\"1\" class=\"dataframe\">\n",
       "  <thead>\n",
       "    <tr style=\"text-align: right;\">\n",
       "      <th></th>\n",
       "      <th>user_id</th>\n",
       "      <th>age</th>\n",
       "      <th>churn_date</th>\n",
       "      <th>city</th>\n",
       "      <th>first_name</th>\n",
       "      <th>last_name</th>\n",
       "      <th>reg_date</th>\n",
       "      <th>tariff</th>\n",
       "    </tr>\n",
       "  </thead>\n",
       "  <tbody>\n",
       "    <tr>\n",
       "      <td>0</td>\n",
       "      <td>1000</td>\n",
       "      <td>52</td>\n",
       "      <td>NaT</td>\n",
       "      <td>Краснодар</td>\n",
       "      <td>Рафаил</td>\n",
       "      <td>Верещагин</td>\n",
       "      <td>2018-05-25</td>\n",
       "      <td>ultra</td>\n",
       "    </tr>\n",
       "    <tr>\n",
       "      <td>1</td>\n",
       "      <td>1001</td>\n",
       "      <td>41</td>\n",
       "      <td>NaT</td>\n",
       "      <td>Москва</td>\n",
       "      <td>Иван</td>\n",
       "      <td>Ежов</td>\n",
       "      <td>2018-11-01</td>\n",
       "      <td>smart</td>\n",
       "    </tr>\n",
       "    <tr>\n",
       "      <td>2</td>\n",
       "      <td>1002</td>\n",
       "      <td>59</td>\n",
       "      <td>NaT</td>\n",
       "      <td>Стерлитамак</td>\n",
       "      <td>Евгений</td>\n",
       "      <td>Абрамович</td>\n",
       "      <td>2018-06-17</td>\n",
       "      <td>smart</td>\n",
       "    </tr>\n",
       "    <tr>\n",
       "      <td>3</td>\n",
       "      <td>1003</td>\n",
       "      <td>23</td>\n",
       "      <td>NaT</td>\n",
       "      <td>Москва</td>\n",
       "      <td>Белла</td>\n",
       "      <td>Белякова</td>\n",
       "      <td>2018-08-17</td>\n",
       "      <td>ultra</td>\n",
       "    </tr>\n",
       "    <tr>\n",
       "      <td>4</td>\n",
       "      <td>1004</td>\n",
       "      <td>68</td>\n",
       "      <td>NaT</td>\n",
       "      <td>Новокузнецк</td>\n",
       "      <td>Татьяна</td>\n",
       "      <td>Авдеенко</td>\n",
       "      <td>2018-05-14</td>\n",
       "      <td>ultra</td>\n",
       "    </tr>\n",
       "    <tr>\n",
       "      <td>5</td>\n",
       "      <td>1005</td>\n",
       "      <td>67</td>\n",
       "      <td>NaT</td>\n",
       "      <td>Набережные Челны</td>\n",
       "      <td>Афанасий</td>\n",
       "      <td>Горлов</td>\n",
       "      <td>2018-01-25</td>\n",
       "      <td>smart</td>\n",
       "    </tr>\n",
       "    <tr>\n",
       "      <td>6</td>\n",
       "      <td>1006</td>\n",
       "      <td>21</td>\n",
       "      <td>NaT</td>\n",
       "      <td>Ульяновск</td>\n",
       "      <td>Леонид</td>\n",
       "      <td>Ермолаев</td>\n",
       "      <td>2018-02-26</td>\n",
       "      <td>smart</td>\n",
       "    </tr>\n",
       "    <tr>\n",
       "      <td>7</td>\n",
       "      <td>1007</td>\n",
       "      <td>65</td>\n",
       "      <td>NaT</td>\n",
       "      <td>Москва</td>\n",
       "      <td>Юна</td>\n",
       "      <td>Березина</td>\n",
       "      <td>2018-04-19</td>\n",
       "      <td>smart</td>\n",
       "    </tr>\n",
       "    <tr>\n",
       "      <td>8</td>\n",
       "      <td>1008</td>\n",
       "      <td>63</td>\n",
       "      <td>NaT</td>\n",
       "      <td>Челябинск</td>\n",
       "      <td>Рустэм</td>\n",
       "      <td>Пономарёв</td>\n",
       "      <td>2018-12-19</td>\n",
       "      <td>smart</td>\n",
       "    </tr>\n",
       "    <tr>\n",
       "      <td>9</td>\n",
       "      <td>1009</td>\n",
       "      <td>24</td>\n",
       "      <td>NaT</td>\n",
       "      <td>Пермь</td>\n",
       "      <td>Василиса</td>\n",
       "      <td>Блинова</td>\n",
       "      <td>2018-03-22</td>\n",
       "      <td>smart</td>\n",
       "    </tr>\n",
       "  </tbody>\n",
       "</table>\n",
       "</div>"
      ],
      "text/plain": [
       "   user_id  age churn_date              city first_name  last_name   reg_date  \\\n",
       "0     1000   52        NaT         Краснодар     Рафаил  Верещагин 2018-05-25   \n",
       "1     1001   41        NaT            Москва       Иван       Ежов 2018-11-01   \n",
       "2     1002   59        NaT       Стерлитамак    Евгений  Абрамович 2018-06-17   \n",
       "3     1003   23        NaT            Москва      Белла   Белякова 2018-08-17   \n",
       "4     1004   68        NaT       Новокузнецк    Татьяна   Авдеенко 2018-05-14   \n",
       "5     1005   67        NaT  Набережные Челны   Афанасий     Горлов 2018-01-25   \n",
       "6     1006   21        NaT         Ульяновск     Леонид   Ермолаев 2018-02-26   \n",
       "7     1007   65        NaT            Москва        Юна   Березина 2018-04-19   \n",
       "8     1008   63        NaT         Челябинск     Рустэм  Пономарёв 2018-12-19   \n",
       "9     1009   24        NaT             Пермь   Василиса    Блинова 2018-03-22   \n",
       "\n",
       "  tariff  \n",
       "0  ultra  \n",
       "1  smart  \n",
       "2  smart  \n",
       "3  ultra  \n",
       "4  ultra  \n",
       "5  smart  \n",
       "6  smart  \n",
       "7  smart  \n",
       "8  smart  \n",
       "9  smart  "
      ]
     },
     "metadata": {},
     "output_type": "display_data"
    },
    {
     "name": "stdout",
     "output_type": "stream",
     "text": [
      "<class 'pandas.core.frame.DataFrame'>\n",
      "RangeIndex: 500 entries, 0 to 499\n",
      "Data columns (total 8 columns):\n",
      "user_id       500 non-null int32\n",
      "age           500 non-null int64\n",
      "churn_date    38 non-null datetime64[ns]\n",
      "city          500 non-null object\n",
      "first_name    500 non-null object\n",
      "last_name     500 non-null object\n",
      "reg_date      500 non-null datetime64[ns]\n",
      "tariff        500 non-null object\n",
      "dtypes: datetime64[ns](2), int32(1), int64(1), object(4)\n",
      "memory usage: 29.4+ KB\n"
     ]
    },
    {
     "data": {
      "text/plain": [
       "None"
      ]
     },
     "metadata": {},
     "output_type": "display_data"
    }
   ],
   "source": [
    "try:\n",
    "    df_users = pd.read_csv('/datasets/users.csv')\n",
    "except:\n",
    "    df_users = pd.read_csv('datasets/users.csv')\n",
    "#изменим тип данных в столбце с идентификатором пользователя на целочисленный\n",
    "df_users['user_id'] = df_users['user_id'].astype('int')\n",
    "#приведем столбцы с датой к формату datetime\n",
    "df_users['churn_date'] = pd.to_datetime(df_users['churn_date'], format='%Y-%m-%d')\n",
    "df_users['reg_date'] = pd.to_datetime(df_users['reg_date'], format='%Y-%m-%d')\n",
    "display(df_users.head(10))\n",
    "display(df_users.info())"
   ]
  },
  {
   "cell_type": "markdown",
   "id": "b0f8d574",
   "metadata": {},
   "source": [
    "Здесь видим 500 строк, в каждой из которых- пользователь с уникальным user_id. У пользователей указан возраст в столбце age, дата отключения от тарифа в столбце churn_date, город проживания в столбце city, имя, фамилия, дата регистрации и название используемого тарифа. Рассмотрим, какие данные содержаться в столбце с названиями городов, чтобы избежать неявных дубликатов."
   ]
  },
  {
   "cell_type": "code",
   "execution_count": 3,
   "id": "1c7ec5c3",
   "metadata": {},
   "outputs": [
    {
     "data": {
      "text/plain": [
       "array(['Архангельск', 'Астрахань', 'Балашиха', 'Барнаул', 'Белгород',\n",
       "       'Брянск', 'Владивосток', 'Владикавказ', 'Владимир', 'Волгоград',\n",
       "       'Волжский', 'Вологда', 'Воронеж', 'Грозный', 'Екатеринбург',\n",
       "       'Иваново', 'Ижевск', 'Иркутск', 'Казань', 'Калининград', 'Калуга',\n",
       "       'Кемерово', 'Киров', 'Кострома', 'Краснодар', 'Красноярск',\n",
       "       'Курган', 'Курск', 'Липецк', 'Магнитогорск', 'Махачкала', 'Москва',\n",
       "       'Мурманск', 'Набережные Челны', 'Нижневартовск', 'Нижний Новгород',\n",
       "       'Нижний Тагил', 'Новокузнецк', 'Новороссийск', 'Новосибирск',\n",
       "       'Омск', 'Оренбург', 'Орёл', 'Пенза', 'Пермь', 'Петрозаводск',\n",
       "       'Подольск', 'Ростов-на-Дону', 'Рязань', 'Самара',\n",
       "       'Санкт-Петербург', 'Саранск', 'Саратов', 'Севастополь', 'Смоленск',\n",
       "       'Сочи', 'Ставрополь', 'Стерлитамак', 'Сургут', 'Тамбов', 'Тверь',\n",
       "       'Тольятти', 'Томск', 'Тула', 'Тюмень', 'Улан-Удэ', 'Ульяновск',\n",
       "       'Уфа', 'Хабаровск', 'Химки', 'Чебоксары', 'Челябинск', 'Череповец',\n",
       "       'Чита', 'Якутск', 'Ярославль'], dtype=object)"
      ]
     },
     "execution_count": 3,
     "metadata": {},
     "output_type": "execute_result"
    }
   ],
   "source": [
    "df_users['city'].sort_values().unique()"
   ]
  },
  {
   "cell_type": "markdown",
   "id": "0c228cd9",
   "metadata": {},
   "source": [
    "Неявных дубликатов в названиях городов нет. Рассмотрим столбец с возрастом пользователей, чтобы избежать ошибок в значениях."
   ]
  },
  {
   "cell_type": "code",
   "execution_count": 4,
   "id": "19d01714",
   "metadata": {},
   "outputs": [
    {
     "data": {
      "text/plain": [
       "count   500.0\n",
       "mean     46.6\n",
       "std      16.7\n",
       "min      18.0\n",
       "25%      32.0\n",
       "50%      46.0\n",
       "75%      62.0\n",
       "max      75.0\n",
       "Name: age, dtype: float64"
      ]
     },
     "execution_count": 4,
     "metadata": {},
     "output_type": "execute_result"
    }
   ],
   "source": [
    "df_users['age'].describe()"
   ]
  },
  {
   "cell_type": "markdown",
   "id": "424b55b5",
   "metadata": {},
   "source": [
    "Возраст пользователей распределен от 18 до 75 лет, средний возраст- 47 лет. Данные выглядят нормально, ошибок нет.\n",
    "\n",
    "Выведем на экран значения в столбце 'tariff', чтобы убедиться, что для всех пользователей указан тариф."
   ]
  },
  {
   "cell_type": "code",
   "execution_count": 5,
   "id": "a59eb948",
   "metadata": {},
   "outputs": [
    {
     "data": {
      "text/plain": [
       "smart    351\n",
       "ultra    149\n",
       "Name: tariff, dtype: int64"
      ]
     },
     "execution_count": 5,
     "metadata": {},
     "output_type": "execute_result"
    }
   ],
   "source": [
    "df_users['tariff'].value_counts()"
   ]
  },
  {
   "cell_type": "markdown",
   "id": "a549a03a",
   "metadata": {},
   "source": [
    "Пропусков нет, для всех пользователей указан тариф.\n",
    "\n",
    "Далее откроем файл с информацией по звонкам и просмотрим данные в нем."
   ]
  },
  {
   "cell_type": "code",
   "execution_count": 6,
   "id": "fba3511b",
   "metadata": {},
   "outputs": [
    {
     "data": {
      "text/html": [
       "<div>\n",
       "<style scoped>\n",
       "    .dataframe tbody tr th:only-of-type {\n",
       "        vertical-align: middle;\n",
       "    }\n",
       "\n",
       "    .dataframe tbody tr th {\n",
       "        vertical-align: top;\n",
       "    }\n",
       "\n",
       "    .dataframe thead th {\n",
       "        text-align: right;\n",
       "    }\n",
       "</style>\n",
       "<table border=\"1\" class=\"dataframe\">\n",
       "  <thead>\n",
       "    <tr style=\"text-align: right;\">\n",
       "      <th></th>\n",
       "      <th>id</th>\n",
       "      <th>call_date</th>\n",
       "      <th>duration</th>\n",
       "      <th>user_id</th>\n",
       "      <th>billing_month</th>\n",
       "    </tr>\n",
       "  </thead>\n",
       "  <tbody>\n",
       "    <tr>\n",
       "      <td>0</td>\n",
       "      <td>1000_0</td>\n",
       "      <td>2018-07-25</td>\n",
       "      <td>0.0</td>\n",
       "      <td>1000</td>\n",
       "      <td>7</td>\n",
       "    </tr>\n",
       "    <tr>\n",
       "      <td>1</td>\n",
       "      <td>1000_1</td>\n",
       "      <td>2018-08-17</td>\n",
       "      <td>0.0</td>\n",
       "      <td>1000</td>\n",
       "      <td>8</td>\n",
       "    </tr>\n",
       "    <tr>\n",
       "      <td>2</td>\n",
       "      <td>1000_2</td>\n",
       "      <td>2018-06-11</td>\n",
       "      <td>2.9</td>\n",
       "      <td>1000</td>\n",
       "      <td>6</td>\n",
       "    </tr>\n",
       "    <tr>\n",
       "      <td>3</td>\n",
       "      <td>1000_3</td>\n",
       "      <td>2018-09-21</td>\n",
       "      <td>13.8</td>\n",
       "      <td>1000</td>\n",
       "      <td>9</td>\n",
       "    </tr>\n",
       "    <tr>\n",
       "      <td>4</td>\n",
       "      <td>1000_4</td>\n",
       "      <td>2018-12-15</td>\n",
       "      <td>5.2</td>\n",
       "      <td>1000</td>\n",
       "      <td>12</td>\n",
       "    </tr>\n",
       "    <tr>\n",
       "      <td>5</td>\n",
       "      <td>1000_5</td>\n",
       "      <td>2018-11-02</td>\n",
       "      <td>0.0</td>\n",
       "      <td>1000</td>\n",
       "      <td>11</td>\n",
       "    </tr>\n",
       "    <tr>\n",
       "      <td>6</td>\n",
       "      <td>1000_6</td>\n",
       "      <td>2018-10-18</td>\n",
       "      <td>0.0</td>\n",
       "      <td>1000</td>\n",
       "      <td>10</td>\n",
       "    </tr>\n",
       "    <tr>\n",
       "      <td>7</td>\n",
       "      <td>1000_7</td>\n",
       "      <td>2018-08-22</td>\n",
       "      <td>18.3</td>\n",
       "      <td>1000</td>\n",
       "      <td>8</td>\n",
       "    </tr>\n",
       "    <tr>\n",
       "      <td>8</td>\n",
       "      <td>1000_8</td>\n",
       "      <td>2018-09-15</td>\n",
       "      <td>18.4</td>\n",
       "      <td>1000</td>\n",
       "      <td>9</td>\n",
       "    </tr>\n",
       "    <tr>\n",
       "      <td>9</td>\n",
       "      <td>1000_9</td>\n",
       "      <td>2018-08-15</td>\n",
       "      <td>0.0</td>\n",
       "      <td>1000</td>\n",
       "      <td>8</td>\n",
       "    </tr>\n",
       "  </tbody>\n",
       "</table>\n",
       "</div>"
      ],
      "text/plain": [
       "       id  call_date  duration  user_id  billing_month\n",
       "0  1000_0 2018-07-25       0.0     1000              7\n",
       "1  1000_1 2018-08-17       0.0     1000              8\n",
       "2  1000_2 2018-06-11       2.9     1000              6\n",
       "3  1000_3 2018-09-21      13.8     1000              9\n",
       "4  1000_4 2018-12-15       5.2     1000             12\n",
       "5  1000_5 2018-11-02       0.0     1000             11\n",
       "6  1000_6 2018-10-18       0.0     1000             10\n",
       "7  1000_7 2018-08-22      18.3     1000              8\n",
       "8  1000_8 2018-09-15      18.4     1000              9\n",
       "9  1000_9 2018-08-15       0.0     1000              8"
      ]
     },
     "metadata": {},
     "output_type": "display_data"
    },
    {
     "name": "stdout",
     "output_type": "stream",
     "text": [
      "<class 'pandas.core.frame.DataFrame'>\n",
      "RangeIndex: 202607 entries, 0 to 202606\n",
      "Data columns (total 5 columns):\n",
      "id               202607 non-null object\n",
      "call_date        202607 non-null datetime64[ns]\n",
      "duration         202607 non-null float64\n",
      "user_id          202607 non-null int64\n",
      "billing_month    202607 non-null int64\n",
      "dtypes: datetime64[ns](1), float64(1), int64(2), object(1)\n",
      "memory usage: 7.7+ MB\n"
     ]
    },
    {
     "data": {
      "text/plain": [
       "None"
      ]
     },
     "metadata": {},
     "output_type": "display_data"
    },
    {
     "data": {
      "text/html": [
       "<div>\n",
       "<style scoped>\n",
       "    .dataframe tbody tr th:only-of-type {\n",
       "        vertical-align: middle;\n",
       "    }\n",
       "\n",
       "    .dataframe tbody tr th {\n",
       "        vertical-align: top;\n",
       "    }\n",
       "\n",
       "    .dataframe thead th {\n",
       "        text-align: right;\n",
       "    }\n",
       "</style>\n",
       "<table border=\"1\" class=\"dataframe\">\n",
       "  <thead>\n",
       "    <tr style=\"text-align: right;\">\n",
       "      <th></th>\n",
       "      <th>count</th>\n",
       "      <th>mean</th>\n",
       "      <th>std</th>\n",
       "      <th>min</th>\n",
       "      <th>25%</th>\n",
       "      <th>50%</th>\n",
       "      <th>75%</th>\n",
       "      <th>max</th>\n",
       "    </tr>\n",
       "  </thead>\n",
       "  <tbody>\n",
       "    <tr>\n",
       "      <td>duration</td>\n",
       "      <td>202,607.0</td>\n",
       "      <td>6.8</td>\n",
       "      <td>5.8</td>\n",
       "      <td>0.0</td>\n",
       "      <td>1.3</td>\n",
       "      <td>6.0</td>\n",
       "      <td>10.7</td>\n",
       "      <td>38.0</td>\n",
       "    </tr>\n",
       "    <tr>\n",
       "      <td>user_id</td>\n",
       "      <td>202,607.0</td>\n",
       "      <td>1,253.9</td>\n",
       "      <td>144.7</td>\n",
       "      <td>1,000.0</td>\n",
       "      <td>1,126.0</td>\n",
       "      <td>1,260.0</td>\n",
       "      <td>1,379.0</td>\n",
       "      <td>1,499.0</td>\n",
       "    </tr>\n",
       "    <tr>\n",
       "      <td>billing_month</td>\n",
       "      <td>202,607.0</td>\n",
       "      <td>8.6</td>\n",
       "      <td>2.8</td>\n",
       "      <td>1.0</td>\n",
       "      <td>7.0</td>\n",
       "      <td>9.0</td>\n",
       "      <td>11.0</td>\n",
       "      <td>12.0</td>\n",
       "    </tr>\n",
       "  </tbody>\n",
       "</table>\n",
       "</div>"
      ],
      "text/plain": [
       "                  count    mean   std     min     25%     50%     75%     max\n",
       "duration      202,607.0     6.8   5.8     0.0     1.3     6.0    10.7    38.0\n",
       "user_id       202,607.0 1,253.9 144.7 1,000.0 1,126.0 1,260.0 1,379.0 1,499.0\n",
       "billing_month 202,607.0     8.6   2.8     1.0     7.0     9.0    11.0    12.0"
      ]
     },
     "metadata": {},
     "output_type": "display_data"
    }
   ],
   "source": [
    "try:\n",
    "    df_calls = pd.read_csv('/datasets/calls.csv')\n",
    "except:\n",
    "    df_calls = pd.read_csv('datasets/calls.csv')\n",
    "#приведем столбец с датой к формату datetime\n",
    "df_calls['call_date'] = pd.to_datetime(df_calls['call_date'], format='%Y-%m-%d')\n",
    "#добавим столбец с информацией о месяце, в котором был совершен звонок\n",
    "df_calls['billing_month'] = df_calls['call_date'].dt.month\n",
    "display(df_calls.head(10))\n",
    "display(df_calls.info())\n",
    "display(df_calls.describe().transpose())"
   ]
  },
  {
   "cell_type": "markdown",
   "id": "253dfbd3",
   "metadata": {},
   "source": [
    "В данном датасете 202607 строк, в каждой из которой- информация об отдельном звонке абонента с указанием даты звонка, уникальным номером пользователя и длительностью звонка в минутах. В столбце с длительностью звонка минимальное значение 0- так обозначаются звонки без ответа. Максимальное значение- 38 минут. Выглядит логично, ошибок в столбце нет.\n",
    "\n",
    "Из \"сырой\" таблицы со звонками создадим структурированную таблицу с информацией об общем количестве потраченных минут по месяцам для каждого пользователя, сгруппировав данные и округлив их до целого в большую сторону, так как при расчетах \"Мегалайн\" делает именно так."
   ]
  },
  {
   "cell_type": "code",
   "execution_count": 7,
   "id": "db3455ee",
   "metadata": {},
   "outputs": [
    {
     "data": {
      "text/html": [
       "<div>\n",
       "<style scoped>\n",
       "    .dataframe tbody tr th:only-of-type {\n",
       "        vertical-align: middle;\n",
       "    }\n",
       "\n",
       "    .dataframe tbody tr th {\n",
       "        vertical-align: top;\n",
       "    }\n",
       "\n",
       "    .dataframe thead th {\n",
       "        text-align: right;\n",
       "    }\n",
       "</style>\n",
       "<table border=\"1\" class=\"dataframe\">\n",
       "  <thead>\n",
       "    <tr style=\"text-align: right;\">\n",
       "      <th></th>\n",
       "      <th></th>\n",
       "      <th>duration</th>\n",
       "    </tr>\n",
       "    <tr>\n",
       "      <th>user_id</th>\n",
       "      <th>billing_month</th>\n",
       "      <th></th>\n",
       "    </tr>\n",
       "  </thead>\n",
       "  <tbody>\n",
       "    <tr>\n",
       "      <td rowspan=\"5\" valign=\"top\">1000</td>\n",
       "      <td>5</td>\n",
       "      <td>151</td>\n",
       "    </tr>\n",
       "    <tr>\n",
       "      <td>6</td>\n",
       "      <td>159</td>\n",
       "    </tr>\n",
       "    <tr>\n",
       "      <td>7</td>\n",
       "      <td>319</td>\n",
       "    </tr>\n",
       "    <tr>\n",
       "      <td>8</td>\n",
       "      <td>390</td>\n",
       "    </tr>\n",
       "    <tr>\n",
       "      <td>9</td>\n",
       "      <td>441</td>\n",
       "    </tr>\n",
       "    <tr>\n",
       "      <td>...</td>\n",
       "      <td>...</td>\n",
       "      <td>...</td>\n",
       "    </tr>\n",
       "    <tr>\n",
       "      <td>1498</td>\n",
       "      <td>10</td>\n",
       "      <td>233</td>\n",
       "    </tr>\n",
       "    <tr>\n",
       "      <td rowspan=\"4\" valign=\"top\">1499</td>\n",
       "      <td>9</td>\n",
       "      <td>65</td>\n",
       "    </tr>\n",
       "    <tr>\n",
       "      <td>10</td>\n",
       "      <td>430</td>\n",
       "    </tr>\n",
       "    <tr>\n",
       "      <td>11</td>\n",
       "      <td>577</td>\n",
       "    </tr>\n",
       "    <tr>\n",
       "      <td>12</td>\n",
       "      <td>466</td>\n",
       "    </tr>\n",
       "  </tbody>\n",
       "</table>\n",
       "<p>3168 rows × 1 columns</p>\n",
       "</div>"
      ],
      "text/plain": [
       "                       duration\n",
       "user_id billing_month          \n",
       "1000    5                   151\n",
       "        6                   159\n",
       "        7                   319\n",
       "        8                   390\n",
       "        9                   441\n",
       "...                         ...\n",
       "1498    10                  233\n",
       "1499    9                    65\n",
       "        10                  430\n",
       "        11                  577\n",
       "        12                  466\n",
       "\n",
       "[3168 rows x 1 columns]"
      ]
     },
     "metadata": {},
     "output_type": "display_data"
    },
    {
     "name": "stdout",
     "output_type": "stream",
     "text": [
      "<class 'pandas.core.frame.DataFrame'>\n",
      "MultiIndex: 3168 entries, (1000, 5) to (1499, 12)\n",
      "Data columns (total 1 columns):\n",
      "duration    3168 non-null int32\n",
      "dtypes: int32(1)\n",
      "memory usage: 25.7 KB\n"
     ]
    },
    {
     "data": {
      "text/plain": [
       "None"
      ]
     },
     "metadata": {},
     "output_type": "display_data"
    }
   ],
   "source": [
    "#сгруппируем данные и просуммируем длительность звонков по пользователям за каждый месяц, исключая звонки без ответа\n",
    "df_calls_grouped = df_calls[df_calls['duration'] > 0].groupby(by=['user_id', 'billing_month']).sum()\n",
    "#округлим длительность звонков до целого в большую сторону и изменим тип данных на целочисленный\n",
    "df_calls_grouped['duration'] = np.ceil(df_calls_grouped['duration']).astype('int')\n",
    "display(df_calls_grouped)\n",
    "display(df_calls_grouped.info())"
   ]
  },
  {
   "cell_type": "markdown",
   "id": "b7b216bd",
   "metadata": {},
   "source": [
    "Далее просмотрим файл с информацией о сообщениях пользователя."
   ]
  },
  {
   "cell_type": "code",
   "execution_count": 8,
   "id": "96732248",
   "metadata": {},
   "outputs": [
    {
     "data": {
      "text/html": [
       "<div>\n",
       "<style scoped>\n",
       "    .dataframe tbody tr th:only-of-type {\n",
       "        vertical-align: middle;\n",
       "    }\n",
       "\n",
       "    .dataframe tbody tr th {\n",
       "        vertical-align: top;\n",
       "    }\n",
       "\n",
       "    .dataframe thead th {\n",
       "        text-align: right;\n",
       "    }\n",
       "</style>\n",
       "<table border=\"1\" class=\"dataframe\">\n",
       "  <thead>\n",
       "    <tr style=\"text-align: right;\">\n",
       "      <th></th>\n",
       "      <th>id</th>\n",
       "      <th>message_date</th>\n",
       "      <th>user_id</th>\n",
       "      <th>billing_month</th>\n",
       "    </tr>\n",
       "  </thead>\n",
       "  <tbody>\n",
       "    <tr>\n",
       "      <td>0</td>\n",
       "      <td>1000_0</td>\n",
       "      <td>2018-06-27</td>\n",
       "      <td>1000</td>\n",
       "      <td>6</td>\n",
       "    </tr>\n",
       "    <tr>\n",
       "      <td>1</td>\n",
       "      <td>1000_1</td>\n",
       "      <td>2018-10-08</td>\n",
       "      <td>1000</td>\n",
       "      <td>10</td>\n",
       "    </tr>\n",
       "    <tr>\n",
       "      <td>2</td>\n",
       "      <td>1000_2</td>\n",
       "      <td>2018-08-04</td>\n",
       "      <td>1000</td>\n",
       "      <td>8</td>\n",
       "    </tr>\n",
       "    <tr>\n",
       "      <td>3</td>\n",
       "      <td>1000_3</td>\n",
       "      <td>2018-06-16</td>\n",
       "      <td>1000</td>\n",
       "      <td>6</td>\n",
       "    </tr>\n",
       "    <tr>\n",
       "      <td>4</td>\n",
       "      <td>1000_4</td>\n",
       "      <td>2018-12-05</td>\n",
       "      <td>1000</td>\n",
       "      <td>12</td>\n",
       "    </tr>\n",
       "    <tr>\n",
       "      <td>5</td>\n",
       "      <td>1000_5</td>\n",
       "      <td>2018-06-20</td>\n",
       "      <td>1000</td>\n",
       "      <td>6</td>\n",
       "    </tr>\n",
       "    <tr>\n",
       "      <td>6</td>\n",
       "      <td>1000_6</td>\n",
       "      <td>2018-11-19</td>\n",
       "      <td>1000</td>\n",
       "      <td>11</td>\n",
       "    </tr>\n",
       "    <tr>\n",
       "      <td>7</td>\n",
       "      <td>1000_7</td>\n",
       "      <td>2018-10-29</td>\n",
       "      <td>1000</td>\n",
       "      <td>10</td>\n",
       "    </tr>\n",
       "    <tr>\n",
       "      <td>8</td>\n",
       "      <td>1000_8</td>\n",
       "      <td>2018-06-25</td>\n",
       "      <td>1000</td>\n",
       "      <td>6</td>\n",
       "    </tr>\n",
       "    <tr>\n",
       "      <td>9</td>\n",
       "      <td>1000_9</td>\n",
       "      <td>2018-12-18</td>\n",
       "      <td>1000</td>\n",
       "      <td>12</td>\n",
       "    </tr>\n",
       "  </tbody>\n",
       "</table>\n",
       "</div>"
      ],
      "text/plain": [
       "       id message_date  user_id  billing_month\n",
       "0  1000_0   2018-06-27     1000              6\n",
       "1  1000_1   2018-10-08     1000             10\n",
       "2  1000_2   2018-08-04     1000              8\n",
       "3  1000_3   2018-06-16     1000              6\n",
       "4  1000_4   2018-12-05     1000             12\n",
       "5  1000_5   2018-06-20     1000              6\n",
       "6  1000_6   2018-11-19     1000             11\n",
       "7  1000_7   2018-10-29     1000             10\n",
       "8  1000_8   2018-06-25     1000              6\n",
       "9  1000_9   2018-12-18     1000             12"
      ]
     },
     "metadata": {},
     "output_type": "display_data"
    },
    {
     "name": "stdout",
     "output_type": "stream",
     "text": [
      "<class 'pandas.core.frame.DataFrame'>\n",
      "RangeIndex: 123036 entries, 0 to 123035\n",
      "Data columns (total 4 columns):\n",
      "id               123036 non-null object\n",
      "message_date     123036 non-null datetime64[ns]\n",
      "user_id          123036 non-null int64\n",
      "billing_month    123036 non-null int64\n",
      "dtypes: datetime64[ns](1), int64(2), object(1)\n",
      "memory usage: 3.8+ MB\n"
     ]
    },
    {
     "data": {
      "text/plain": [
       "None"
      ]
     },
     "metadata": {},
     "output_type": "display_data"
    }
   ],
   "source": [
    "try:\n",
    "    df_messages = pd.read_csv('/datasets/messages.csv')\n",
    "except:\n",
    "    df_messages = pd.read_csv('datasets/messages.csv')\n",
    "#приведем столбец с датой к формату datetime\n",
    "df_messages['message_date'] = pd.to_datetime(df_messages['message_date'], format='%Y-%m-%d')\n",
    "#добавим столбец с информацией о месяце, когда было отправлено сообщение\n",
    "df_messages['billing_month'] = df_messages['message_date'].dt.month\n",
    "display(df_messages.head(10))\n",
    "display(df_messages.info())"
   ]
  },
  {
   "cell_type": "markdown",
   "id": "0f224499",
   "metadata": {},
   "source": [
    "В датасете 'messages.csv' содержится информация об отправленных сообщениях. В каждой строке- одно сообщение, отправленное пользователем с уникальным номером и информацией о дате отправки. Также создадим структурированную таблицу с информацией об общем количестве сообщений в месяц для каждого пользователя."
   ]
  },
  {
   "cell_type": "code",
   "execution_count": 9,
   "id": "69ac8f32",
   "metadata": {},
   "outputs": [
    {
     "data": {
      "text/html": [
       "<div>\n",
       "<style scoped>\n",
       "    .dataframe tbody tr th:only-of-type {\n",
       "        vertical-align: middle;\n",
       "    }\n",
       "\n",
       "    .dataframe tbody tr th {\n",
       "        vertical-align: top;\n",
       "    }\n",
       "\n",
       "    .dataframe thead th {\n",
       "        text-align: right;\n",
       "    }\n",
       "</style>\n",
       "<table border=\"1\" class=\"dataframe\">\n",
       "  <thead>\n",
       "    <tr style=\"text-align: right;\">\n",
       "      <th></th>\n",
       "      <th></th>\n",
       "      <th>message_count</th>\n",
       "    </tr>\n",
       "    <tr>\n",
       "      <th>user_id</th>\n",
       "      <th>billing_month</th>\n",
       "      <th></th>\n",
       "    </tr>\n",
       "  </thead>\n",
       "  <tbody>\n",
       "    <tr>\n",
       "      <td rowspan=\"5\" valign=\"top\">1000</td>\n",
       "      <td>5</td>\n",
       "      <td>22</td>\n",
       "    </tr>\n",
       "    <tr>\n",
       "      <td>6</td>\n",
       "      <td>60</td>\n",
       "    </tr>\n",
       "    <tr>\n",
       "      <td>7</td>\n",
       "      <td>75</td>\n",
       "    </tr>\n",
       "    <tr>\n",
       "      <td>8</td>\n",
       "      <td>81</td>\n",
       "    </tr>\n",
       "    <tr>\n",
       "      <td>9</td>\n",
       "      <td>57</td>\n",
       "    </tr>\n",
       "    <tr>\n",
       "      <td>...</td>\n",
       "      <td>...</td>\n",
       "      <td>...</td>\n",
       "    </tr>\n",
       "    <tr>\n",
       "      <td>1498</td>\n",
       "      <td>10</td>\n",
       "      <td>42</td>\n",
       "    </tr>\n",
       "    <tr>\n",
       "      <td rowspan=\"4\" valign=\"top\">1499</td>\n",
       "      <td>9</td>\n",
       "      <td>11</td>\n",
       "    </tr>\n",
       "    <tr>\n",
       "      <td>10</td>\n",
       "      <td>48</td>\n",
       "    </tr>\n",
       "    <tr>\n",
       "      <td>11</td>\n",
       "      <td>59</td>\n",
       "    </tr>\n",
       "    <tr>\n",
       "      <td>12</td>\n",
       "      <td>66</td>\n",
       "    </tr>\n",
       "  </tbody>\n",
       "</table>\n",
       "<p>2717 rows × 1 columns</p>\n",
       "</div>"
      ],
      "text/plain": [
       "                       message_count\n",
       "user_id billing_month               \n",
       "1000    5                         22\n",
       "        6                         60\n",
       "        7                         75\n",
       "        8                         81\n",
       "        9                         57\n",
       "...                              ...\n",
       "1498    10                        42\n",
       "1499    9                         11\n",
       "        10                        48\n",
       "        11                        59\n",
       "        12                        66\n",
       "\n",
       "[2717 rows x 1 columns]"
      ]
     },
     "metadata": {},
     "output_type": "display_data"
    },
    {
     "name": "stdout",
     "output_type": "stream",
     "text": [
      "<class 'pandas.core.frame.DataFrame'>\n",
      "MultiIndex: 2717 entries, (1000, 5) to (1499, 12)\n",
      "Data columns (total 1 columns):\n",
      "message_count    2717 non-null int32\n",
      "dtypes: int32(1)\n",
      "memory usage: 22.1 KB\n"
     ]
    },
    {
     "data": {
      "text/plain": [
       "None"
      ]
     },
     "metadata": {},
     "output_type": "display_data"
    }
   ],
   "source": [
    "#сгруппируем данные и посчитаем сообщения для каждого пользователя за месяц\n",
    "df_messages_grouped = df_messages.groupby(by=['user_id', 'billing_month']).count()\n",
    "#удалим лишний столбец\n",
    "df_messages_grouped.drop('id', inplace=True, axis=1)\n",
    "#изменим имя столбца и тип данных на целочисленный\n",
    "df_messages_grouped.columns = ['message_count']\n",
    "df_messages_grouped['message_count'] = df_messages_grouped['message_count'].astype('int')\n",
    "display(df_messages_grouped)\n",
    "display(df_messages_grouped.info())"
   ]
  },
  {
   "cell_type": "markdown",
   "id": "36941c9e",
   "metadata": {},
   "source": [
    "Далее просмотрим файл с информацией с сессиями интернет-трафика пользователем."
   ]
  },
  {
   "cell_type": "code",
   "execution_count": 10,
   "id": "f2be34ee",
   "metadata": {},
   "outputs": [
    {
     "data": {
      "text/html": [
       "<div>\n",
       "<style scoped>\n",
       "    .dataframe tbody tr th:only-of-type {\n",
       "        vertical-align: middle;\n",
       "    }\n",
       "\n",
       "    .dataframe tbody tr th {\n",
       "        vertical-align: top;\n",
       "    }\n",
       "\n",
       "    .dataframe thead th {\n",
       "        text-align: right;\n",
       "    }\n",
       "</style>\n",
       "<table border=\"1\" class=\"dataframe\">\n",
       "  <thead>\n",
       "    <tr style=\"text-align: right;\">\n",
       "      <th></th>\n",
       "      <th>Unnamed: 0</th>\n",
       "      <th>id</th>\n",
       "      <th>mb_used</th>\n",
       "      <th>session_date</th>\n",
       "      <th>user_id</th>\n",
       "      <th>billing_month</th>\n",
       "    </tr>\n",
       "  </thead>\n",
       "  <tbody>\n",
       "    <tr>\n",
       "      <td>0</td>\n",
       "      <td>0</td>\n",
       "      <td>1000_0</td>\n",
       "      <td>113.0</td>\n",
       "      <td>2018-11-25</td>\n",
       "      <td>1000</td>\n",
       "      <td>11</td>\n",
       "    </tr>\n",
       "    <tr>\n",
       "      <td>1</td>\n",
       "      <td>1</td>\n",
       "      <td>1000_1</td>\n",
       "      <td>1,052.8</td>\n",
       "      <td>2018-09-07</td>\n",
       "      <td>1000</td>\n",
       "      <td>9</td>\n",
       "    </tr>\n",
       "    <tr>\n",
       "      <td>2</td>\n",
       "      <td>2</td>\n",
       "      <td>1000_2</td>\n",
       "      <td>1,197.3</td>\n",
       "      <td>2018-06-25</td>\n",
       "      <td>1000</td>\n",
       "      <td>6</td>\n",
       "    </tr>\n",
       "    <tr>\n",
       "      <td>3</td>\n",
       "      <td>3</td>\n",
       "      <td>1000_3</td>\n",
       "      <td>550.3</td>\n",
       "      <td>2018-08-22</td>\n",
       "      <td>1000</td>\n",
       "      <td>8</td>\n",
       "    </tr>\n",
       "    <tr>\n",
       "      <td>4</td>\n",
       "      <td>4</td>\n",
       "      <td>1000_4</td>\n",
       "      <td>302.6</td>\n",
       "      <td>2018-09-24</td>\n",
       "      <td>1000</td>\n",
       "      <td>9</td>\n",
       "    </tr>\n",
       "  </tbody>\n",
       "</table>\n",
       "</div>"
      ],
      "text/plain": [
       "   Unnamed: 0      id  mb_used session_date  user_id  billing_month\n",
       "0           0  1000_0    113.0   2018-11-25     1000             11\n",
       "1           1  1000_1  1,052.8   2018-09-07     1000              9\n",
       "2           2  1000_2  1,197.3   2018-06-25     1000              6\n",
       "3           3  1000_3    550.3   2018-08-22     1000              8\n",
       "4           4  1000_4    302.6   2018-09-24     1000              9"
      ]
     },
     "metadata": {},
     "output_type": "display_data"
    },
    {
     "name": "stdout",
     "output_type": "stream",
     "text": [
      "<class 'pandas.core.frame.DataFrame'>\n",
      "RangeIndex: 149396 entries, 0 to 149395\n",
      "Data columns (total 6 columns):\n",
      "Unnamed: 0       149396 non-null int64\n",
      "id               149396 non-null object\n",
      "mb_used          149396 non-null float64\n",
      "session_date     149396 non-null datetime64[ns]\n",
      "user_id          149396 non-null int64\n",
      "billing_month    149396 non-null int64\n",
      "dtypes: datetime64[ns](1), float64(1), int64(3), object(1)\n",
      "memory usage: 6.8+ MB\n"
     ]
    },
    {
     "data": {
      "text/plain": [
       "None"
      ]
     },
     "metadata": {},
     "output_type": "display_data"
    }
   ],
   "source": [
    "try:\n",
    "    df_internet = pd.read_csv('/datasets/internet.csv')\n",
    "except:\n",
    "    df_internet = pd.read_csv('datasets/internet.csv')\n",
    "#приведем столбец с датой к формату datetime\n",
    "df_internet['session_date'] = pd.to_datetime(df_internet['session_date'], format='%Y-%m-%d')\n",
    "# добавим столбец с информацией о месяце использования интернета\n",
    "df_internet['billing_month'] = df_internet['session_date'].dt.month\n",
    "display(df_internet.head())\n",
    "display(df_internet.info())"
   ]
  },
  {
   "cell_type": "markdown",
   "id": "59741a08",
   "metadata": {},
   "source": [
    "В файле 'internet.csv' содержится информация об отдельных интернет сессиях каждого пользователя в 149396 строках. В \"Мегалайне\" округляют использованный трафик в конце месяца до целых гигабайт, поэтому для каждого пользователя в данном файле необходимо сложить мегабайты по месяцам, разделить на 1024 и округлить значение до целого в большую сторону. Создадим таблицу, сгруппированную по месяцам для каждого пользователя. Использованный трафик сложим, разделим на 1024 и округлим до целого в большую сторону."
   ]
  },
  {
   "cell_type": "code",
   "execution_count": 11,
   "id": "e1991081",
   "metadata": {},
   "outputs": [
    {
     "data": {
      "text/html": [
       "<div>\n",
       "<style scoped>\n",
       "    .dataframe tbody tr th:only-of-type {\n",
       "        vertical-align: middle;\n",
       "    }\n",
       "\n",
       "    .dataframe tbody tr th {\n",
       "        vertical-align: top;\n",
       "    }\n",
       "\n",
       "    .dataframe thead th {\n",
       "        text-align: right;\n",
       "    }\n",
       "</style>\n",
       "<table border=\"1\" class=\"dataframe\">\n",
       "  <thead>\n",
       "    <tr style=\"text-align: right;\">\n",
       "      <th></th>\n",
       "      <th></th>\n",
       "      <th>gb_used</th>\n",
       "    </tr>\n",
       "    <tr>\n",
       "      <th>user_id</th>\n",
       "      <th>billing_month</th>\n",
       "      <th></th>\n",
       "    </tr>\n",
       "  </thead>\n",
       "  <tbody>\n",
       "    <tr>\n",
       "      <td rowspan=\"5\" valign=\"top\">1000</td>\n",
       "      <td>5</td>\n",
       "      <td>3</td>\n",
       "    </tr>\n",
       "    <tr>\n",
       "      <td>6</td>\n",
       "      <td>23</td>\n",
       "    </tr>\n",
       "    <tr>\n",
       "      <td>7</td>\n",
       "      <td>14</td>\n",
       "    </tr>\n",
       "    <tr>\n",
       "      <td>8</td>\n",
       "      <td>14</td>\n",
       "    </tr>\n",
       "    <tr>\n",
       "      <td>9</td>\n",
       "      <td>15</td>\n",
       "    </tr>\n",
       "    <tr>\n",
       "      <td>...</td>\n",
       "      <td>...</td>\n",
       "      <td>...</td>\n",
       "    </tr>\n",
       "    <tr>\n",
       "      <td>1498</td>\n",
       "      <td>10</td>\n",
       "      <td>21</td>\n",
       "    </tr>\n",
       "    <tr>\n",
       "      <td rowspan=\"4\" valign=\"top\">1499</td>\n",
       "      <td>9</td>\n",
       "      <td>2</td>\n",
       "    </tr>\n",
       "    <tr>\n",
       "      <td>10</td>\n",
       "      <td>18</td>\n",
       "    </tr>\n",
       "    <tr>\n",
       "      <td>11</td>\n",
       "      <td>18</td>\n",
       "    </tr>\n",
       "    <tr>\n",
       "      <td>12</td>\n",
       "      <td>13</td>\n",
       "    </tr>\n",
       "  </tbody>\n",
       "</table>\n",
       "<p>3203 rows × 1 columns</p>\n",
       "</div>"
      ],
      "text/plain": [
       "                       gb_used\n",
       "user_id billing_month         \n",
       "1000    5                    3\n",
       "        6                   23\n",
       "        7                   14\n",
       "        8                   14\n",
       "        9                   15\n",
       "...                        ...\n",
       "1498    10                  21\n",
       "1499    9                    2\n",
       "        10                  18\n",
       "        11                  18\n",
       "        12                  13\n",
       "\n",
       "[3203 rows x 1 columns]"
      ]
     },
     "metadata": {},
     "output_type": "display_data"
    },
    {
     "name": "stdout",
     "output_type": "stream",
     "text": [
      "<class 'pandas.core.frame.DataFrame'>\n",
      "MultiIndex: 3203 entries, (1000, 5) to (1499, 12)\n",
      "Data columns (total 1 columns):\n",
      "gb_used    3203 non-null int32\n",
      "dtypes: int32(1)\n",
      "memory usage: 26.0 KB\n"
     ]
    },
    {
     "data": {
      "text/plain": [
       "None"
      ]
     },
     "metadata": {},
     "output_type": "display_data"
    }
   ],
   "source": [
    "# сгруппируем данные и посчитаем для пользователя за каждый месяц суммарный трафик в гигабайтах\n",
    "df_internet_grouped = df_internet.groupby(by=['user_id', 'billing_month']).sum() / 1024\n",
    "# округлим трафик в большуб сторону до целого\n",
    "df_internet_grouped['mb_used'] = np.ceil(df_internet_grouped['mb_used']).astype('int')\n",
    "# удалим лишний столбец\n",
    "df_internet_grouped.drop('Unnamed: 0', inplace=True, axis=1)\n",
    "# переименуем столбец\n",
    "df_internet_grouped.columns = ['gb_used']\n",
    "display(df_internet_grouped)\n",
    "display(df_internet_grouped.info())"
   ]
  },
  {
   "cell_type": "code",
   "execution_count": 12,
   "id": "15336065",
   "metadata": {
    "scrolled": false
   },
   "outputs": [
    {
     "data": {
      "text/html": [
       "<div>\n",
       "<style scoped>\n",
       "    .dataframe tbody tr th:only-of-type {\n",
       "        vertical-align: middle;\n",
       "    }\n",
       "\n",
       "    .dataframe tbody tr th {\n",
       "        vertical-align: top;\n",
       "    }\n",
       "\n",
       "    .dataframe thead th {\n",
       "        text-align: right;\n",
       "    }\n",
       "</style>\n",
       "<table border=\"1\" class=\"dataframe\">\n",
       "  <thead>\n",
       "    <tr style=\"text-align: right;\">\n",
       "      <th></th>\n",
       "      <th>messages_included</th>\n",
       "      <th>mb_per_month_included</th>\n",
       "      <th>minutes_included</th>\n",
       "      <th>rub_monthly_fee</th>\n",
       "      <th>rub_per_gb</th>\n",
       "      <th>rub_per_message</th>\n",
       "      <th>rub_per_minute</th>\n",
       "      <th>tariff</th>\n",
       "    </tr>\n",
       "  </thead>\n",
       "  <tbody>\n",
       "    <tr>\n",
       "      <td>0</td>\n",
       "      <td>50</td>\n",
       "      <td>15360</td>\n",
       "      <td>500</td>\n",
       "      <td>550</td>\n",
       "      <td>200</td>\n",
       "      <td>3</td>\n",
       "      <td>3</td>\n",
       "      <td>smart</td>\n",
       "    </tr>\n",
       "    <tr>\n",
       "      <td>1</td>\n",
       "      <td>1000</td>\n",
       "      <td>30720</td>\n",
       "      <td>3000</td>\n",
       "      <td>1950</td>\n",
       "      <td>150</td>\n",
       "      <td>1</td>\n",
       "      <td>1</td>\n",
       "      <td>ultra</td>\n",
       "    </tr>\n",
       "  </tbody>\n",
       "</table>\n",
       "</div>"
      ],
      "text/plain": [
       "   messages_included  mb_per_month_included  minutes_included  \\\n",
       "0                 50                  15360               500   \n",
       "1               1000                  30720              3000   \n",
       "\n",
       "   rub_monthly_fee  rub_per_gb  rub_per_message  rub_per_minute tariff  \n",
       "0              550         200                3               3  smart  \n",
       "1             1950         150                1               1  ultra  "
      ]
     },
     "execution_count": 12,
     "metadata": {},
     "output_type": "execute_result"
    }
   ],
   "source": [
    "try:\n",
    "    df_tariffs = pd.read_csv('/datasets/tariffs.csv')\n",
    "except:\n",
    "    df_tariffs = pd.read_csv('datasets/tariffs.csv')\n",
    "# изменим название столбца по аналогии с файлом users.csv, чтобы объединить данные по нему\n",
    "df_tariffs = df_tariffs.rename(columns={'tariff_name':'tariff'})\n",
    "df_tariffs"
   ]
  },
  {
   "cell_type": "markdown",
   "id": "de14a7bf",
   "metadata": {},
   "source": [
    "В данном файле содержится общая информация о тарифах: количество включенных в тариф сообщений, мегабайт интернета, минут разговора, стоимости тарифа в месяц, стоимости дополнительных пакетов интернета, сообщений, минут разговора и название тарифа. Создадим объединенную таблицу, содержащую в себе информацию о потраченных минутах, сообщениях и гигабайтах интернет-трафика каждым пользователем по месяцам."
   ]
  },
  {
   "cell_type": "code",
   "execution_count": 13,
   "id": "1b167698",
   "metadata": {
    "scrolled": false
   },
   "outputs": [
    {
     "data": {
      "text/html": [
       "<div>\n",
       "<style scoped>\n",
       "    .dataframe tbody tr th:only-of-type {\n",
       "        vertical-align: middle;\n",
       "    }\n",
       "\n",
       "    .dataframe tbody tr th {\n",
       "        vertical-align: top;\n",
       "    }\n",
       "\n",
       "    .dataframe thead th {\n",
       "        text-align: right;\n",
       "    }\n",
       "</style>\n",
       "<table border=\"1\" class=\"dataframe\">\n",
       "  <thead>\n",
       "    <tr style=\"text-align: right;\">\n",
       "      <th></th>\n",
       "      <th>user_id</th>\n",
       "      <th>billing_month</th>\n",
       "      <th>duration</th>\n",
       "      <th>message_count</th>\n",
       "      <th>gb_used</th>\n",
       "    </tr>\n",
       "  </thead>\n",
       "  <tbody>\n",
       "    <tr>\n",
       "      <td>0</td>\n",
       "      <td>1000</td>\n",
       "      <td>5</td>\n",
       "      <td>151.0</td>\n",
       "      <td>22.0</td>\n",
       "      <td>3.0</td>\n",
       "    </tr>\n",
       "    <tr>\n",
       "      <td>1</td>\n",
       "      <td>1000</td>\n",
       "      <td>6</td>\n",
       "      <td>159.0</td>\n",
       "      <td>60.0</td>\n",
       "      <td>23.0</td>\n",
       "    </tr>\n",
       "    <tr>\n",
       "      <td>2</td>\n",
       "      <td>1000</td>\n",
       "      <td>7</td>\n",
       "      <td>319.0</td>\n",
       "      <td>75.0</td>\n",
       "      <td>14.0</td>\n",
       "    </tr>\n",
       "    <tr>\n",
       "      <td>3</td>\n",
       "      <td>1000</td>\n",
       "      <td>8</td>\n",
       "      <td>390.0</td>\n",
       "      <td>81.0</td>\n",
       "      <td>14.0</td>\n",
       "    </tr>\n",
       "    <tr>\n",
       "      <td>4</td>\n",
       "      <td>1000</td>\n",
       "      <td>9</td>\n",
       "      <td>441.0</td>\n",
       "      <td>57.0</td>\n",
       "      <td>15.0</td>\n",
       "    </tr>\n",
       "    <tr>\n",
       "      <td>...</td>\n",
       "      <td>...</td>\n",
       "      <td>...</td>\n",
       "      <td>...</td>\n",
       "      <td>...</td>\n",
       "      <td>...</td>\n",
       "    </tr>\n",
       "    <tr>\n",
       "      <td>3209</td>\n",
       "      <td>1489</td>\n",
       "      <td>10</td>\n",
       "      <td>nan</td>\n",
       "      <td>21.0</td>\n",
       "      <td>20.0</td>\n",
       "    </tr>\n",
       "    <tr>\n",
       "      <td>3210</td>\n",
       "      <td>1489</td>\n",
       "      <td>11</td>\n",
       "      <td>nan</td>\n",
       "      <td>20.0</td>\n",
       "      <td>18.0</td>\n",
       "    </tr>\n",
       "    <tr>\n",
       "      <td>3211</td>\n",
       "      <td>1489</td>\n",
       "      <td>12</td>\n",
       "      <td>nan</td>\n",
       "      <td>35.0</td>\n",
       "      <td>17.0</td>\n",
       "    </tr>\n",
       "    <tr>\n",
       "      <td>3212</td>\n",
       "      <td>1240</td>\n",
       "      <td>2</td>\n",
       "      <td>nan</td>\n",
       "      <td>nan</td>\n",
       "      <td>1.0</td>\n",
       "    </tr>\n",
       "    <tr>\n",
       "      <td>3213</td>\n",
       "      <td>1476</td>\n",
       "      <td>4</td>\n",
       "      <td>nan</td>\n",
       "      <td>nan</td>\n",
       "      <td>1.0</td>\n",
       "    </tr>\n",
       "  </tbody>\n",
       "</table>\n",
       "<p>3214 rows × 5 columns</p>\n",
       "</div>"
      ],
      "text/plain": [
       "      user_id  billing_month  duration  message_count  gb_used\n",
       "0        1000              5     151.0           22.0      3.0\n",
       "1        1000              6     159.0           60.0     23.0\n",
       "2        1000              7     319.0           75.0     14.0\n",
       "3        1000              8     390.0           81.0     14.0\n",
       "4        1000              9     441.0           57.0     15.0\n",
       "...       ...            ...       ...            ...      ...\n",
       "3209     1489             10       nan           21.0     20.0\n",
       "3210     1489             11       nan           20.0     18.0\n",
       "3211     1489             12       nan           35.0     17.0\n",
       "3212     1240              2       nan            nan      1.0\n",
       "3213     1476              4       nan            nan      1.0\n",
       "\n",
       "[3214 rows x 5 columns]"
      ]
     },
     "metadata": {},
     "output_type": "display_data"
    },
    {
     "name": "stdout",
     "output_type": "stream",
     "text": [
      "<class 'pandas.core.frame.DataFrame'>\n",
      "RangeIndex: 3214 entries, 0 to 3213\n",
      "Data columns (total 5 columns):\n",
      "user_id          3214 non-null int64\n",
      "billing_month    3214 non-null int64\n",
      "duration         3168 non-null float64\n",
      "message_count    2717 non-null float64\n",
      "gb_used          3203 non-null float64\n",
      "dtypes: float64(3), int64(2)\n",
      "memory usage: 125.7 KB\n"
     ]
    },
    {
     "data": {
      "text/plain": [
       "None"
      ]
     },
     "metadata": {},
     "output_type": "display_data"
    }
   ],
   "source": [
    "# объединим данные в одну таблицу\n",
    "df_used = pd.merge(df_calls_grouped, df_messages_grouped, how='outer', on=['user_id', 'billing_month'])\n",
    "df_used = pd.merge(df_used, df_internet_grouped, how='outer', on=['user_id', 'billing_month'])\n",
    "# переведем таблицу из типа groupby в DataFrame\n",
    "df_used = pd.DataFrame(df_used).reset_index()\n",
    "display(df_used)\n",
    "display(df_used.info())"
   ]
  },
  {
   "cell_type": "markdown",
   "id": "019b4489",
   "metadata": {},
   "source": [
    "Окончательно объединим три таблицы- с информацией о пользователях, с расчитанными по месяцам показателям для каждого пользователя и с информацией о тарифах. Добавим столбец, содержащий информацию об оплате за месяц, исходя из рассчитанных показателей и информации о тарифе. Столбцы с пакетами минут, сообщений и интернета превратим в столбцы с превышением пакета пользователем в текущем месяце, так как сами по себе эти столбцы не несут важной информации, а информация в таком виде позволит рассчитать процент пользователей, превышающих лимиты."
   ]
  },
  {
   "cell_type": "code",
   "execution_count": 14,
   "id": "f7746f97",
   "metadata": {
    "scrolled": false
   },
   "outputs": [
    {
     "data": {
      "text/html": [
       "<div>\n",
       "<style scoped>\n",
       "    .dataframe tbody tr th:only-of-type {\n",
       "        vertical-align: middle;\n",
       "    }\n",
       "\n",
       "    .dataframe tbody tr th {\n",
       "        vertical-align: top;\n",
       "    }\n",
       "\n",
       "    .dataframe thead th {\n",
       "        text-align: right;\n",
       "    }\n",
       "</style>\n",
       "<table border=\"1\" class=\"dataframe\">\n",
       "  <thead>\n",
       "    <tr style=\"text-align: right;\">\n",
       "      <th></th>\n",
       "      <th>user_id</th>\n",
       "      <th>age</th>\n",
       "      <th>churn_date</th>\n",
       "      <th>city</th>\n",
       "      <th>first_name</th>\n",
       "      <th>last_name</th>\n",
       "      <th>reg_date</th>\n",
       "      <th>tariff</th>\n",
       "      <th>billing_month</th>\n",
       "      <th>duration</th>\n",
       "      <th>message_count</th>\n",
       "      <th>gb_used</th>\n",
       "      <th>messages_over</th>\n",
       "      <th>gb_over</th>\n",
       "      <th>minutes_over</th>\n",
       "      <th>rub_monthly_fee</th>\n",
       "      <th>rub_per_gb</th>\n",
       "      <th>rub_per_message</th>\n",
       "      <th>rub_per_minute</th>\n",
       "      <th>monthly_payment</th>\n",
       "    </tr>\n",
       "  </thead>\n",
       "  <tbody>\n",
       "    <tr>\n",
       "      <td>2948</td>\n",
       "      <td>1438</td>\n",
       "      <td>24</td>\n",
       "      <td>2018-12-24</td>\n",
       "      <td>Екатеринбург</td>\n",
       "      <td>Нателла</td>\n",
       "      <td>Бородина</td>\n",
       "      <td>2018-10-05</td>\n",
       "      <td>smart</td>\n",
       "      <td>10.0</td>\n",
       "      <td>271.0</td>\n",
       "      <td>53.0</td>\n",
       "      <td>13.0</td>\n",
       "      <td>3.0</td>\n",
       "      <td>0.0</td>\n",
       "      <td>0.0</td>\n",
       "      <td>550</td>\n",
       "      <td>200</td>\n",
       "      <td>3</td>\n",
       "      <td>3</td>\n",
       "      <td>559.0</td>\n",
       "    </tr>\n",
       "    <tr>\n",
       "      <td>289</td>\n",
       "      <td>1166</td>\n",
       "      <td>48</td>\n",
       "      <td>NaT</td>\n",
       "      <td>Нижний Новгород</td>\n",
       "      <td>Святослав</td>\n",
       "      <td>Жданов</td>\n",
       "      <td>2018-08-17</td>\n",
       "      <td>ultra</td>\n",
       "      <td>10.0</td>\n",
       "      <td>406.0</td>\n",
       "      <td>115.0</td>\n",
       "      <td>14.0</td>\n",
       "      <td>0.0</td>\n",
       "      <td>0.0</td>\n",
       "      <td>0.0</td>\n",
       "      <td>1950</td>\n",
       "      <td>150</td>\n",
       "      <td>1</td>\n",
       "      <td>1</td>\n",
       "      <td>1,950.0</td>\n",
       "    </tr>\n",
       "    <tr>\n",
       "      <td>1482</td>\n",
       "      <td>1112</td>\n",
       "      <td>51</td>\n",
       "      <td>NaT</td>\n",
       "      <td>Ульяновск</td>\n",
       "      <td>Арнольд</td>\n",
       "      <td>Казанцев</td>\n",
       "      <td>2018-09-04</td>\n",
       "      <td>smart</td>\n",
       "      <td>9.0</td>\n",
       "      <td>442.0</td>\n",
       "      <td>85.0</td>\n",
       "      <td>14.0</td>\n",
       "      <td>35.0</td>\n",
       "      <td>0.0</td>\n",
       "      <td>0.0</td>\n",
       "      <td>550</td>\n",
       "      <td>200</td>\n",
       "      <td>3</td>\n",
       "      <td>3</td>\n",
       "      <td>655.0</td>\n",
       "    </tr>\n",
       "    <tr>\n",
       "      <td>2821</td>\n",
       "      <td>1417</td>\n",
       "      <td>34</td>\n",
       "      <td>NaT</td>\n",
       "      <td>Тольятти</td>\n",
       "      <td>Исак</td>\n",
       "      <td>Макаров</td>\n",
       "      <td>2018-07-19</td>\n",
       "      <td>smart</td>\n",
       "      <td>10.0</td>\n",
       "      <td>310.0</td>\n",
       "      <td>78.0</td>\n",
       "      <td>11.0</td>\n",
       "      <td>28.0</td>\n",
       "      <td>0.0</td>\n",
       "      <td>0.0</td>\n",
       "      <td>550</td>\n",
       "      <td>200</td>\n",
       "      <td>3</td>\n",
       "      <td>3</td>\n",
       "      <td>634.0</td>\n",
       "    </tr>\n",
       "    <tr>\n",
       "      <td>2421</td>\n",
       "      <td>1314</td>\n",
       "      <td>27</td>\n",
       "      <td>NaT</td>\n",
       "      <td>Киров</td>\n",
       "      <td>Максим</td>\n",
       "      <td>Амелишко</td>\n",
       "      <td>2018-03-04</td>\n",
       "      <td>smart</td>\n",
       "      <td>9.0</td>\n",
       "      <td>490.0</td>\n",
       "      <td>33.0</td>\n",
       "      <td>17.0</td>\n",
       "      <td>0.0</td>\n",
       "      <td>2.0</td>\n",
       "      <td>0.0</td>\n",
       "      <td>550</td>\n",
       "      <td>200</td>\n",
       "      <td>3</td>\n",
       "      <td>3</td>\n",
       "      <td>950.0</td>\n",
       "    </tr>\n",
       "  </tbody>\n",
       "</table>\n",
       "</div>"
      ],
      "text/plain": [
       "      user_id  age churn_date             city first_name last_name  \\\n",
       "2948     1438   24 2018-12-24     Екатеринбург    Нателла  Бородина   \n",
       "289      1166   48        NaT  Нижний Новгород  Святослав    Жданов   \n",
       "1482     1112   51        NaT        Ульяновск    Арнольд  Казанцев   \n",
       "2821     1417   34        NaT         Тольятти       Исак   Макаров   \n",
       "2421     1314   27        NaT            Киров     Максим  Амелишко   \n",
       "\n",
       "       reg_date tariff  billing_month  duration  message_count  gb_used  \\\n",
       "2948 2018-10-05  smart           10.0     271.0           53.0     13.0   \n",
       "289  2018-08-17  ultra           10.0     406.0          115.0     14.0   \n",
       "1482 2018-09-04  smart            9.0     442.0           85.0     14.0   \n",
       "2821 2018-07-19  smart           10.0     310.0           78.0     11.0   \n",
       "2421 2018-03-04  smart            9.0     490.0           33.0     17.0   \n",
       "\n",
       "      messages_over  gb_over  minutes_over  rub_monthly_fee  rub_per_gb  \\\n",
       "2948            3.0      0.0           0.0              550         200   \n",
       "289             0.0      0.0           0.0             1950         150   \n",
       "1482           35.0      0.0           0.0              550         200   \n",
       "2821           28.0      0.0           0.0              550         200   \n",
       "2421            0.0      2.0           0.0              550         200   \n",
       "\n",
       "      rub_per_message  rub_per_minute  monthly_payment  \n",
       "2948                3               3            559.0  \n",
       "289                 1               1          1,950.0  \n",
       "1482                3               3            655.0  \n",
       "2821                3               3            634.0  \n",
       "2421                3               3            950.0  "
      ]
     },
     "metadata": {},
     "output_type": "display_data"
    },
    {
     "name": "stdout",
     "output_type": "stream",
     "text": [
      "<class 'pandas.core.frame.DataFrame'>\n",
      "Int64Index: 3216 entries, 0 to 3215\n",
      "Data columns (total 20 columns):\n",
      "user_id            3216 non-null int32\n",
      "age                3216 non-null int64\n",
      "churn_date         189 non-null datetime64[ns]\n",
      "city               3216 non-null object\n",
      "first_name         3216 non-null object\n",
      "last_name          3216 non-null object\n",
      "reg_date           3216 non-null datetime64[ns]\n",
      "tariff             3216 non-null object\n",
      "billing_month      3214 non-null float64\n",
      "duration           3216 non-null float64\n",
      "message_count      3216 non-null float64\n",
      "gb_used            3216 non-null float64\n",
      "messages_over      3216 non-null float64\n",
      "gb_over            3216 non-null float64\n",
      "minutes_over       3216 non-null float64\n",
      "rub_monthly_fee    3216 non-null int64\n",
      "rub_per_gb         3216 non-null int64\n",
      "rub_per_message    3216 non-null int64\n",
      "rub_per_minute     3216 non-null int64\n",
      "monthly_payment    3216 non-null float64\n",
      "dtypes: datetime64[ns](2), float64(8), int32(1), int64(5), object(4)\n",
      "memory usage: 515.1+ KB\n"
     ]
    },
    {
     "data": {
      "text/plain": [
       "None"
      ]
     },
     "metadata": {},
     "output_type": "display_data"
    }
   ],
   "source": [
    "# объединим данные\n",
    "df_final = df_users.merge(df_used, on='user_id', how='outer')\n",
    "df_final = df_final.merge(df_tariffs, on='tariff', how='inner')\n",
    "# заполним пропуски в столбцах с временем разговора, количеством сообщений и использованного трафика значением 0\n",
    "# так как наличие пропусков в данных столбцах вызвано отсутствием звонков, сообщений и трафика в данном месяце\n",
    "df_final['duration'] = df_final['duration'].fillna(0)\n",
    "df_final['message_count'] = df_final['message_count'].fillna(0)\n",
    "df_final['gb_used'] = df_final['gb_used'].fillna(0)\n",
    "# столбцы из таблицы tariffs, в которых указано максимальное значение минут, сообщений и трафика в тарифе\n",
    "# превратим в столбцы с информацией о превышении пользователем указанных значений\n",
    "# превышение получим следующим образом: (abs(b - a) + b - a) / 2\n",
    "# так, если пользователь не превысил лимит, соответствующее значение в столбце будет равно нулю\n",
    "df_final['minutes_included'] = (abs(df_final['duration'] - df_final['minutes_included']) + df_final['duration'] - df_final['minutes_included']) / 2\n",
    "df_final['messages_included'] = (abs(df_final['message_count'] - df_final['messages_included']) + df_final['message_count'] - df_final['messages_included']) / 2\n",
    "df_final['mb_per_month_included'] = (abs(df_final['gb_used'] - df_final['mb_per_month_included'] / 1024) + df_final['gb_used'] - df_final['mb_per_month_included'] / 1024) / 2\n",
    "# переименуем столбцы в соответствии с информацией, содержащейся в них\n",
    "df_final = df_final.rename(columns={'minutes_included':'minutes_over', 'messages_included':'messages_over', 'mb_per_month_included':'gb_over'})\n",
    "# вычислим, сколько каждый пользователь заплатил за месяц\n",
    "df_final['monthly_payment'] = df_final['rub_monthly_fee'] + (df_final['rub_per_minute'] * df_final['minutes_over']) + (df_final['rub_per_message'] * df_final['messages_over']) + (df_final['rub_per_gb'] * df_final['gb_over'])\n",
    "display(df_final.sample(5))\n",
    "display(df_final.info())"
   ]
  },
  {
   "cell_type": "markdown",
   "id": "d1b07867",
   "metadata": {},
   "source": [
    "Во всех столбцах, кроме churn_date и billing_month одинаковое количество ненулевых значений. В столбце churn_date ненулевые значения- это дата завершения контракта, то есть пропущенные значения- это активные абоненты. В столбце billing_month не хватает двух строк. Выведем на экран эти строки и попробуем понять, с чем связаны пропуски в них."
   ]
  },
  {
   "cell_type": "code",
   "execution_count": 15,
   "id": "89702442",
   "metadata": {
    "scrolled": true
   },
   "outputs": [
    {
     "data": {
      "text/html": [
       "<div>\n",
       "<style scoped>\n",
       "    .dataframe tbody tr th:only-of-type {\n",
       "        vertical-align: middle;\n",
       "    }\n",
       "\n",
       "    .dataframe tbody tr th {\n",
       "        vertical-align: top;\n",
       "    }\n",
       "\n",
       "    .dataframe thead th {\n",
       "        text-align: right;\n",
       "    }\n",
       "</style>\n",
       "<table border=\"1\" class=\"dataframe\">\n",
       "  <thead>\n",
       "    <tr style=\"text-align: right;\">\n",
       "      <th></th>\n",
       "      <th>user_id</th>\n",
       "      <th>age</th>\n",
       "      <th>churn_date</th>\n",
       "      <th>city</th>\n",
       "      <th>first_name</th>\n",
       "      <th>last_name</th>\n",
       "      <th>reg_date</th>\n",
       "      <th>tariff</th>\n",
       "      <th>billing_month</th>\n",
       "      <th>duration</th>\n",
       "      <th>message_count</th>\n",
       "      <th>gb_used</th>\n",
       "      <th>messages_over</th>\n",
       "      <th>gb_over</th>\n",
       "      <th>minutes_over</th>\n",
       "      <th>rub_monthly_fee</th>\n",
       "      <th>rub_per_gb</th>\n",
       "      <th>rub_per_message</th>\n",
       "      <th>rub_per_minute</th>\n",
       "      <th>monthly_payment</th>\n",
       "    </tr>\n",
       "  </thead>\n",
       "  <tbody>\n",
       "    <tr>\n",
       "      <td>243</td>\n",
       "      <td>1128</td>\n",
       "      <td>51</td>\n",
       "      <td>2018-12-23</td>\n",
       "      <td>Волжский</td>\n",
       "      <td>Ксения</td>\n",
       "      <td>Агаева</td>\n",
       "      <td>2018-12-15</td>\n",
       "      <td>ultra</td>\n",
       "      <td>nan</td>\n",
       "      <td>0.0</td>\n",
       "      <td>0.0</td>\n",
       "      <td>0.0</td>\n",
       "      <td>0.0</td>\n",
       "      <td>0.0</td>\n",
       "      <td>0.0</td>\n",
       "      <td>1950</td>\n",
       "      <td>150</td>\n",
       "      <td>1</td>\n",
       "      <td>1</td>\n",
       "      <td>1,950.0</td>\n",
       "    </tr>\n",
       "    <tr>\n",
       "      <td>2619</td>\n",
       "      <td>1371</td>\n",
       "      <td>50</td>\n",
       "      <td>2018-12-30</td>\n",
       "      <td>Омск</td>\n",
       "      <td>Ириней</td>\n",
       "      <td>Трофимов</td>\n",
       "      <td>2018-12-25</td>\n",
       "      <td>smart</td>\n",
       "      <td>nan</td>\n",
       "      <td>0.0</td>\n",
       "      <td>0.0</td>\n",
       "      <td>0.0</td>\n",
       "      <td>0.0</td>\n",
       "      <td>0.0</td>\n",
       "      <td>0.0</td>\n",
       "      <td>550</td>\n",
       "      <td>200</td>\n",
       "      <td>3</td>\n",
       "      <td>3</td>\n",
       "      <td>550.0</td>\n",
       "    </tr>\n",
       "  </tbody>\n",
       "</table>\n",
       "</div>"
      ],
      "text/plain": [
       "      user_id  age churn_date      city first_name last_name   reg_date  \\\n",
       "243      1128   51 2018-12-23  Волжский     Ксения    Агаева 2018-12-15   \n",
       "2619     1371   50 2018-12-30      Омск     Ириней  Трофимов 2018-12-25   \n",
       "\n",
       "     tariff  billing_month  duration  message_count  gb_used  messages_over  \\\n",
       "243   ultra            nan       0.0            0.0      0.0            0.0   \n",
       "2619  smart            nan       0.0            0.0      0.0            0.0   \n",
       "\n",
       "      gb_over  minutes_over  rub_monthly_fee  rub_per_gb  rub_per_message  \\\n",
       "243       0.0           0.0             1950         150                1   \n",
       "2619      0.0           0.0              550         200                3   \n",
       "\n",
       "      rub_per_minute  monthly_payment  \n",
       "243                1          1,950.0  \n",
       "2619               3            550.0  "
      ]
     },
     "execution_count": 15,
     "metadata": {},
     "output_type": "execute_result"
    }
   ],
   "source": [
    "df_final[df_final['billing_month'].isna() == True]"
   ]
  },
  {
   "cell_type": "markdown",
   "id": "55534c24",
   "metadata": {},
   "source": [
    "В обеих строках видим, что пользователи не использовали свои пакеты- у них нет ни звонков, ни сообщений, ни трафика. Оба они зарегистрированы в декабре и оба расторгли свои контракты через неделю. В условии к проекту не указано, являются ли эти тарифы предоплатными или постоплатными. В предположении, что данные тарифы предоплатные, заполним пропуски в этих столбцах месяцем регистрации- то есть числом 12."
   ]
  },
  {
   "cell_type": "code",
   "execution_count": 16,
   "id": "9f8edfcd",
   "metadata": {},
   "outputs": [],
   "source": [
    "df_final['billing_month'] = df_final['billing_month'].fillna(12)"
   ]
  },
  {
   "cell_type": "markdown",
   "id": "295f7108",
   "metadata": {},
   "source": [
    "Изменим тип данных на целочисленный в столбцах с месяцем оплаты, длительностью звонков, использованных сообщениях, интернет-трафике, превышении лимитов и оплатой за месяц."
   ]
  },
  {
   "cell_type": "code",
   "execution_count": 17,
   "id": "24dec488",
   "metadata": {},
   "outputs": [
    {
     "name": "stdout",
     "output_type": "stream",
     "text": [
      "<class 'pandas.core.frame.DataFrame'>\n",
      "Int64Index: 3216 entries, 0 to 3215\n",
      "Data columns (total 20 columns):\n",
      "user_id            3216 non-null int32\n",
      "age                3216 non-null int64\n",
      "churn_date         189 non-null datetime64[ns]\n",
      "city               3216 non-null object\n",
      "first_name         3216 non-null object\n",
      "last_name          3216 non-null object\n",
      "reg_date           3216 non-null datetime64[ns]\n",
      "tariff             3216 non-null object\n",
      "billing_month      3216 non-null int32\n",
      "duration           3216 non-null int32\n",
      "message_count      3216 non-null int32\n",
      "gb_used            3216 non-null int32\n",
      "messages_over      3216 non-null int32\n",
      "gb_over            3216 non-null int32\n",
      "minutes_over       3216 non-null int32\n",
      "rub_monthly_fee    3216 non-null int64\n",
      "rub_per_gb         3216 non-null int64\n",
      "rub_per_message    3216 non-null int64\n",
      "rub_per_minute     3216 non-null int64\n",
      "monthly_payment    3216 non-null int32\n",
      "dtypes: datetime64[ns](2), int32(9), int64(5), object(4)\n",
      "memory usage: 414.6+ KB\n"
     ]
    }
   ],
   "source": [
    "df_final['billing_month'] = df_final['billing_month'].astype('int')\n",
    "df_final['duration'] = df_final['duration'].astype('int')\n",
    "df_final['message_count'] = df_final['message_count'].astype('int')\n",
    "df_final['gb_used'] = df_final['gb_used'].astype('int')\n",
    "df_final['messages_over'] = df_final['messages_over'].astype('int')\n",
    "df_final['gb_over'] = df_final['gb_over'].astype('int')\n",
    "df_final['minutes_over'] = df_final['minutes_over'].astype('int')\n",
    "df_final['monthly_payment'] = df_final['monthly_payment'].astype('int')\n",
    "df_final.info()"
   ]
  },
  {
   "cell_type": "markdown",
   "id": "0bc9dcf7",
   "metadata": {},
   "source": [
    "Посмотрим, насколько правдоподобно распределены числовые значения."
   ]
  },
  {
   "cell_type": "code",
   "execution_count": 18,
   "id": "58b4b4b3",
   "metadata": {},
   "outputs": [
    {
     "data": {
      "text/html": [
       "<div>\n",
       "<style scoped>\n",
       "    .dataframe tbody tr th:only-of-type {\n",
       "        vertical-align: middle;\n",
       "    }\n",
       "\n",
       "    .dataframe tbody tr th {\n",
       "        vertical-align: top;\n",
       "    }\n",
       "\n",
       "    .dataframe thead th {\n",
       "        text-align: right;\n",
       "    }\n",
       "</style>\n",
       "<table border=\"1\" class=\"dataframe\">\n",
       "  <thead>\n",
       "    <tr style=\"text-align: right;\">\n",
       "      <th></th>\n",
       "      <th>count</th>\n",
       "      <th>mean</th>\n",
       "      <th>std</th>\n",
       "      <th>min</th>\n",
       "      <th>25%</th>\n",
       "      <th>50%</th>\n",
       "      <th>75%</th>\n",
       "      <th>max</th>\n",
       "    </tr>\n",
       "  </thead>\n",
       "  <tbody>\n",
       "    <tr>\n",
       "      <td>user_id</td>\n",
       "      <td>3,216.0</td>\n",
       "      <td>1,251.6</td>\n",
       "      <td>144.6</td>\n",
       "      <td>1,000.0</td>\n",
       "      <td>1,125.0</td>\n",
       "      <td>1,253.0</td>\n",
       "      <td>1,378.2</td>\n",
       "      <td>1,499.0</td>\n",
       "    </tr>\n",
       "    <tr>\n",
       "      <td>age</td>\n",
       "      <td>3,216.0</td>\n",
       "      <td>46.6</td>\n",
       "      <td>16.6</td>\n",
       "      <td>18.0</td>\n",
       "      <td>32.0</td>\n",
       "      <td>46.0</td>\n",
       "      <td>62.0</td>\n",
       "      <td>75.0</td>\n",
       "    </tr>\n",
       "    <tr>\n",
       "      <td>billing_month</td>\n",
       "      <td>3,216.0</td>\n",
       "      <td>8.3</td>\n",
       "      <td>2.9</td>\n",
       "      <td>1.0</td>\n",
       "      <td>6.0</td>\n",
       "      <td>9.0</td>\n",
       "      <td>11.0</td>\n",
       "      <td>12.0</td>\n",
       "    </tr>\n",
       "    <tr>\n",
       "      <td>duration</td>\n",
       "      <td>3,216.0</td>\n",
       "      <td>426.1</td>\n",
       "      <td>228.8</td>\n",
       "      <td>0.0</td>\n",
       "      <td>268.0</td>\n",
       "      <td>418.0</td>\n",
       "      <td>555.2</td>\n",
       "      <td>1,579.0</td>\n",
       "    </tr>\n",
       "    <tr>\n",
       "      <td>message_count</td>\n",
       "      <td>3,216.0</td>\n",
       "      <td>38.3</td>\n",
       "      <td>36.1</td>\n",
       "      <td>0.0</td>\n",
       "      <td>9.0</td>\n",
       "      <td>30.0</td>\n",
       "      <td>57.0</td>\n",
       "      <td>224.0</td>\n",
       "    </tr>\n",
       "    <tr>\n",
       "      <td>gb_used</td>\n",
       "      <td>3,216.0</td>\n",
       "      <td>17.3</td>\n",
       "      <td>7.4</td>\n",
       "      <td>0.0</td>\n",
       "      <td>13.0</td>\n",
       "      <td>17.0</td>\n",
       "      <td>21.0</td>\n",
       "      <td>49.0</td>\n",
       "    </tr>\n",
       "    <tr>\n",
       "      <td>messages_over</td>\n",
       "      <td>3,216.0</td>\n",
       "      <td>4.0</td>\n",
       "      <td>11.5</td>\n",
       "      <td>0.0</td>\n",
       "      <td>0.0</td>\n",
       "      <td>0.0</td>\n",
       "      <td>0.0</td>\n",
       "      <td>93.0</td>\n",
       "    </tr>\n",
       "    <tr>\n",
       "      <td>gb_over</td>\n",
       "      <td>3,216.0</td>\n",
       "      <td>2.3</td>\n",
       "      <td>3.5</td>\n",
       "      <td>0.0</td>\n",
       "      <td>0.0</td>\n",
       "      <td>0.0</td>\n",
       "      <td>4.0</td>\n",
       "      <td>23.0</td>\n",
       "    </tr>\n",
       "    <tr>\n",
       "      <td>minutes_over</td>\n",
       "      <td>3,216.0</td>\n",
       "      <td>21.4</td>\n",
       "      <td>61.2</td>\n",
       "      <td>0.0</td>\n",
       "      <td>0.0</td>\n",
       "      <td>0.0</td>\n",
       "      <td>0.0</td>\n",
       "      <td>855.0</td>\n",
       "    </tr>\n",
       "    <tr>\n",
       "      <td>rub_monthly_fee</td>\n",
       "      <td>3,216.0</td>\n",
       "      <td>979.2</td>\n",
       "      <td>645.6</td>\n",
       "      <td>550.0</td>\n",
       "      <td>550.0</td>\n",
       "      <td>550.0</td>\n",
       "      <td>1,950.0</td>\n",
       "      <td>1,950.0</td>\n",
       "    </tr>\n",
       "    <tr>\n",
       "      <td>rub_per_gb</td>\n",
       "      <td>3,216.0</td>\n",
       "      <td>184.7</td>\n",
       "      <td>23.1</td>\n",
       "      <td>150.0</td>\n",
       "      <td>150.0</td>\n",
       "      <td>200.0</td>\n",
       "      <td>200.0</td>\n",
       "      <td>200.0</td>\n",
       "    </tr>\n",
       "    <tr>\n",
       "      <td>rub_per_message</td>\n",
       "      <td>3,216.0</td>\n",
       "      <td>2.4</td>\n",
       "      <td>0.9</td>\n",
       "      <td>1.0</td>\n",
       "      <td>1.0</td>\n",
       "      <td>3.0</td>\n",
       "      <td>3.0</td>\n",
       "      <td>3.0</td>\n",
       "    </tr>\n",
       "    <tr>\n",
       "      <td>rub_per_minute</td>\n",
       "      <td>3,216.0</td>\n",
       "      <td>2.4</td>\n",
       "      <td>0.9</td>\n",
       "      <td>1.0</td>\n",
       "      <td>1.0</td>\n",
       "      <td>3.0</td>\n",
       "      <td>3.0</td>\n",
       "      <td>3.0</td>\n",
       "    </tr>\n",
       "    <tr>\n",
       "      <td>monthly_payment</td>\n",
       "      <td>3,216.0</td>\n",
       "      <td>1,506.5</td>\n",
       "      <td>792.8</td>\n",
       "      <td>550.0</td>\n",
       "      <td>741.2</td>\n",
       "      <td>1,565.5</td>\n",
       "      <td>1,950.0</td>\n",
       "      <td>6,614.0</td>\n",
       "    </tr>\n",
       "  </tbody>\n",
       "</table>\n",
       "</div>"
      ],
      "text/plain": [
       "                  count    mean   std     min     25%     50%     75%     max\n",
       "user_id         3,216.0 1,251.6 144.6 1,000.0 1,125.0 1,253.0 1,378.2 1,499.0\n",
       "age             3,216.0    46.6  16.6    18.0    32.0    46.0    62.0    75.0\n",
       "billing_month   3,216.0     8.3   2.9     1.0     6.0     9.0    11.0    12.0\n",
       "duration        3,216.0   426.1 228.8     0.0   268.0   418.0   555.2 1,579.0\n",
       "message_count   3,216.0    38.3  36.1     0.0     9.0    30.0    57.0   224.0\n",
       "gb_used         3,216.0    17.3   7.4     0.0    13.0    17.0    21.0    49.0\n",
       "messages_over   3,216.0     4.0  11.5     0.0     0.0     0.0     0.0    93.0\n",
       "gb_over         3,216.0     2.3   3.5     0.0     0.0     0.0     4.0    23.0\n",
       "minutes_over    3,216.0    21.4  61.2     0.0     0.0     0.0     0.0   855.0\n",
       "rub_monthly_fee 3,216.0   979.2 645.6   550.0   550.0   550.0 1,950.0 1,950.0\n",
       "rub_per_gb      3,216.0   184.7  23.1   150.0   150.0   200.0   200.0   200.0\n",
       "rub_per_message 3,216.0     2.4   0.9     1.0     1.0     3.0     3.0     3.0\n",
       "rub_per_minute  3,216.0     2.4   0.9     1.0     1.0     3.0     3.0     3.0\n",
       "monthly_payment 3,216.0 1,506.5 792.8   550.0   741.2 1,565.5 1,950.0 6,614.0"
      ]
     },
     "execution_count": 18,
     "metadata": {},
     "output_type": "execute_result"
    }
   ],
   "source": [
    "df_final.describe().transpose()"
   ]
  },
  {
   "cell_type": "markdown",
   "id": "c59d7cb7",
   "metadata": {},
   "source": [
    "Видим, что сильно выбивающихся значений нет. Также уже здесь видим, что 75% пользователей не превышают лимиты по сообщениям и звонкам и незначительно превышают интернет- трафик."
   ]
  },
  {
   "cell_type": "markdown",
   "id": "47c5d48a",
   "metadata": {},
   "source": [
    "### Вывод\n",
    "\n",
    "В данном разделе открыли данные, ознакомились с ними и проверили на наличие ошибок в данных.\n",
    "\n",
    "В файлах, содержащих информацию о звонках, сообщениях и использованном трафике, данные не структурированы, поэтому в них пришлось добавить столбец с информацией о месяце использования пакета, сгруппировать данные по идентификатору пользователя и месяце оплаты, а затем объединить в одну таблицу по этим же двум столбцам. \n",
    "\n",
    "В общий датасет вошли три таблицы- объединенная с информацией об использованных пакетах каждым пользователем по месяцам, информация о пользователе и информация о тарифе. Стобцы с пакетами звонков, сообщений и трафика превратили в столбцы с информацией о превышении пользователем пакета в текущем месяце, так как сами по себе они несли довольно мало информации. \n",
    "\n",
    "Тип данных во всех столбцах, содержащих количественные данные, изменили с вещественного на целочисленный, а в столбцах, содержащих информацию о датах, тип данных имзенили на datetime. \n",
    "\n",
    "В целом, данные подготовлены к анализу. Необходимо ввести дополнительный столбец, содержащий информацию о возрастных категориях пользователей, чтобы анализ был наиболее полным. Чтобы дополнительно проанализировать пользователей, расторгнувших котнракт, в отдельном столбце почитаем, как быстро они его расторгнули."
   ]
  },
  {
   "cell_type": "markdown",
   "id": "df34b8a4",
   "metadata": {},
   "source": [
    "## Категоризация данных\n",
    "\n",
    "Для более качественного анализа введем дополнительные столбцы.\n",
    "\n",
    "1. Столбец с возрастной категорией абонента. Данный столбец потребуется нам, чтобы понять, как пользователи разного возраста используют свои тарифы. Здесь мы ожидаем увидеть, что молодые пользователи чаще используют интернет и сообщения, делая меньше звонков, а пользователи постарше- наоборот. Также сможем понять, какому тарифу отдают предпочтение пользователи разного возраста.\n",
    "\n",
    "2. Столбец с информацией о длительности пользования тарифами для абонентов, которые расторгнули контракт. Здесь посмотрим, как использовали свои тарифы такие абоненты. Варианта может быть три: \n",
    "* пользователям не хватало пакетов и они тратили больше остальных абонентов; \n",
    "* абоненты использовали свои пакеты не так эффективно по сравненнию с остальными;\n",
    "* абоненты использовали свои тарифы так же, а их отключение связано с иными причинами."
   ]
  },
  {
   "cell_type": "code",
   "execution_count": 19,
   "id": "27bfba3c",
   "metadata": {},
   "outputs": [
    {
     "data": {
      "text/plain": [
       "51-65    849\n",
       "18-30    751\n",
       "41-50    588\n",
       "65+      539\n",
       "31-40    489\n",
       "Name: age_group, dtype: int64"
      ]
     },
     "execution_count": 19,
     "metadata": {},
     "output_type": "execute_result"
    }
   ],
   "source": [
    "def age_group(row):\n",
    "    user_age = row['age']\n",
    "    if user_age < 31:\n",
    "        return '18-30'\n",
    "    elif user_age < 41:\n",
    "        return '31-40'\n",
    "    elif user_age < 51:\n",
    "        return '41-50'\n",
    "    elif user_age < 66:\n",
    "        return '51-65'\n",
    "    else:\n",
    "        return '65+'\n",
    "df_final['age_group'] = df_final.apply(age_group, axis=1)\n",
    "df_final['age_group'] = df_final['age_group'].astype('category').cat.reorder_categories(['18-30', '31-40', '41-50', '51-65', '65+'])\n",
    "df_final['age_group'].value_counts()"
   ]
  },
  {
   "cell_type": "code",
   "execution_count": 20,
   "id": "06e23072",
   "metadata": {},
   "outputs": [
    {
     "data": {
      "text/plain": [
       "276.0    10\n",
       "284.0    10\n",
       "263.0     9\n",
       "243.0     9\n",
       "195.0     8\n",
       "212.0     8\n",
       "224.0     8\n",
       "225.0     8\n",
       "218.0     8\n",
       "234.0     8\n",
       "Name: use_period, dtype: int64"
      ]
     },
     "execution_count": 20,
     "metadata": {},
     "output_type": "execute_result"
    }
   ],
   "source": [
    "df_final['use_period'] = (df_final['churn_date'] - df_final['reg_date']).dt.days.astype('int', errors='ignore')\n",
    "df_final['use_period'].value_counts().head(10)"
   ]
  },
  {
   "cell_type": "markdown",
   "id": "80d179c7",
   "metadata": {},
   "source": [
    "### Вывод\n",
    "\n",
    "В данном разделе ввели два дополнительных столбца. В одном разделили абонентов по пяти возрастным категориям. Все пять категорий содержат достаточное количество информации для анализа. Во втором столбце посчитали количество дней использования тарифа для пользователей, расторгнувших контракт. Это поможем нам оценить, как влияет пользование тарифом на лояльность абонента."
   ]
  },
  {
   "cell_type": "markdown",
   "id": "68c495ed",
   "metadata": {},
   "source": [
    "## Анализ данных\n",
    "\n",
    "В данном разделе произведем анализ данных. Сначала изучим распределение значений в столбцах, построив гистограммы для каждого. "
   ]
  },
  {
   "cell_type": "code",
   "execution_count": 21,
   "id": "1794e0ca",
   "metadata": {
    "scrolled": false
   },
   "outputs": [
    {
     "data": {
      "text/plain": [
       "<function matplotlib.pyplot.show(*args, **kw)>"
      ]
     },
     "execution_count": 21,
     "metadata": {},
     "output_type": "execute_result"
    },
    {
     "data": {
      "image/png": "[encoded data removed]",
      "text/plain": [
       "<Figure size 1440x1080 with 16 Axes>"
      ]
     },
     "metadata": {
      "needs_background": "light"
     },
     "output_type": "display_data"
    }
   ],
   "source": [
    "df_final.hist(figsize=(20,15), color='r', edgecolor='black', linewidth=1)\n",
    "plt.show"
   ]
  },
  {
   "cell_type": "markdown",
   "id": "f15737e0",
   "metadata": {},
   "source": [
    "На гистограммах видим, что возраст абонентов распределен равномерно с небольшими провалами в интервалах от 30 до 35 лет и от 55 до 65 лет. Меньшее количество абонентов возраста 30-35 объясняется, скорее всего, демографическим кризисом 90-х годов.\n",
    "\n",
    "На общем распределении длительности звонков видим, что больше половины абонентов обоих тарифов говорят меньше 500 минут в месяц, что остается в рамках тарифа \"Смарт\". Необходимо рассмотреть длительность звонков абонентов разных тарифов по отдельности.\n",
    "\n",
    "На общем распределении помесячного интернет-трафика видим, что большинство абонентов тратят больше 15 гигабайт интернета в месяц. Это превышает пакет тарифа \"Смарт\". Здесь также нужно построить отдельно по тарифам, чтобы оценить, на каком тарифе абоненты чаще выходят за рамки пакета трафика.\n",
    "\n",
    "На общем распределении использованных сообщений в месяц видим, что очень малая доля абонентов использует больше 100 сообщений в месяц.\n",
    "\n",
    "Распределение месячной выручки носит биномиальный характер. Судя по всему, пользователи тарифа \"Смарт\" чаще всего тратят в районе 900 рублей в месяц, а абоненты тарифа \"Ультра\" почти не выходят за рамки своего тарифа и тратят около 2000 рублей в месяц.\n",
    "\n",
    "Также биномиальный характер носит и период использования тарифа пользователями, завершившими свои контракты. Около 60% из таких пользователей отсеивается в первые три месяца использования тарифа, остальные же используют свой тариф больше полугода. Нужно подробнее рассмотреть таких пользователей и попробовать найти пути оставить их абонентами компании \"Мегалайн\".\n",
    "\n",
    "Распределения превышения пакета минут, СМС и использованного интернет-трафика в данном случае неинформативны, так как в них включены и нулевые значения, что не позволяет оценить, на сколько превышают свои пакеты те, кто их действительно превышает.\n",
    "\n",
    "Отдельно изучим, как пользователи тарифов используют свои тарифы. Построим распределение длительности звонком для пользователей различных тарифов."
   ]
  },
  {
   "cell_type": "code",
   "execution_count": 22,
   "id": "f97d7d0a",
   "metadata": {
    "scrolled": false
   },
   "outputs": [
    {
     "data": {
      "image/png": "[encoded data removed]",
      "text/plain": [
       "<Figure size 864x648 with 1 Axes>"
      ]
     },
     "metadata": {
      "needs_background": "light"
     },
     "output_type": "display_data"
    }
   ],
   "source": [
    "ax = (df_final[df_final['tariff'] == 'smart']\n",
    "      .groupby(by='user_id')\n",
    "      .mean()\n",
    "      .plot(\n",
    "          kind='hist',\n",
    "          y='duration',\n",
    "          histtype='step', \n",
    "          linewidth=5, \n",
    "          alpha=0.7, \n",
    "          grid=True,\n",
    "          label='Тариф \"Смарт\"',\n",
    "          figsize=(12,9)\n",
    "      ))\n",
    "(df_final[df_final['tariff'] == 'ultra']\n",
    "      .groupby(by='user_id')\n",
    "      .mean()\n",
    "      .plot(\n",
    "          kind='hist',\n",
    "          y='duration',\n",
    "          histtype='step', \n",
    "          linewidth=5, \n",
    "          alpha=0.7, \n",
    "          grid=True,\n",
    "          label='Тариф \"Ультра\"',\n",
    "          ax=ax\n",
    "      ))\n",
    "plt.title('Средняя длительность разговора абонентов разных тарифов по месяцам')\n",
    "plt.xlabel('Длительность, мин.')\n",
    "plt.ylabel('Количество абонентов')\n",
    "plt.show()"
   ]
  },
  {
   "cell_type": "markdown",
   "id": "0f9be418",
   "metadata": {},
   "source": [
    "Здесь видим, что абоненты тарифа \"Ультра\" никогда не выходят за рамки своего тарифа- никто не говорит дольше 3000 минут в месяц. С абонентами тарифа \"Смарт\" ситуация обратная- примерно пятая часть абонентов говорит больше 500 минут. При этом абоненты обоих тарифов в большинстве своем тратят меньше 500 минут. Определим среднее, дисперсию и стандартное отклонение.\n"
   ]
  },
  {
   "cell_type": "code",
   "execution_count": 23,
   "id": "5e7b2846",
   "metadata": {},
   "outputs": [
    {
     "name": "stdout",
     "output_type": "stream",
     "text": [
      "Средняя длительность разговоров абонентов тарифа \"Смарт\" составляет  394.75 мин. Дисперсия:  32433.76. Стандартное отклонение-  180.09\n",
      "Средняя длительность разговоров абонентов тарифа \"Ультра\" составляет  497.04 мин. Дисперсия:  90026.06. Стандартное отклонение-  300.04\n"
     ]
    }
   ],
   "source": [
    "smart_mean = df_final[df_final['tariff'] == 'smart']['duration'].mean()\n",
    "smart_std = np.std(df_final[df_final['tariff'] == 'smart']['duration'])\n",
    "smart_var = np.var(df_final[df_final['tariff'] == 'smart']['duration'])\n",
    "ultra_mean = df_final[df_final['tariff'] == 'ultra']['duration'].mean()\n",
    "ultra_std = np.std(df_final[df_final['tariff'] == 'ultra']['duration'])\n",
    "ultra_var = np.var(df_final[df_final['tariff'] == 'ultra']['duration'])\n",
    "print(f'Средняя длительность разговоров абонентов тарифа \"Смарт\" составляет {smart_mean: .2f} мин. Дисперсия: {smart_var: .2f}. Стандартное отклонение- {smart_std: .2f}')\n",
    "print(f'Средняя длительность разговоров абонентов тарифа \"Ультра\" составляет {ultra_mean: .2f} мин. Дисперсия: {ultra_var: .2f}. Стандартное отклонение- {ultra_std: .2f}')"
   ]
  },
  {
   "cell_type": "markdown",
   "id": "a1c9ec31",
   "metadata": {},
   "source": [
    "Так же изучим расходование трафика абонентами различных тарифов- построим графики распределения, вычислим среднее, дисперсию и стандартное отклонение."
   ]
  },
  {
   "cell_type": "code",
   "execution_count": 24,
   "id": "de940e74",
   "metadata": {},
   "outputs": [
    {
     "data": {
      "image/png": "[encoded data removed]",
      "text/plain": [
       "<Figure size 864x648 with 1 Axes>"
      ]
     },
     "metadata": {
      "needs_background": "light"
     },
     "output_type": "display_data"
    }
   ],
   "source": [
    "ax = (df_final[df_final['tariff'] == 'smart']\n",
    "  .groupby(by='user_id')\n",
    "  .mean()\n",
    "  .plot(\n",
    "      kind='kde',\n",
    "      y='gb_used',\n",
    "\n",
    "      linewidth=5, \n",
    "      alpha=0.7, \n",
    "      grid=True,\n",
    "      label='Тариф \"Смарт\"',\n",
    "      figsize=(12,9)\n",
    "  ))\n",
    "(df_final[df_final['tariff'] == 'ultra']\n",
    "      .groupby(by='user_id')\n",
    "      .mean()\n",
    "      .plot(\n",
    "          kind='kde',\n",
    "          y='gb_used',\n",
    "\n",
    "          linewidth=5, \n",
    "          alpha=0.7, \n",
    "          grid=True,\n",
    "          label='Тариф \"Ультра\"',\n",
    "          ax=ax\n",
    "      ))\n",
    "plt.title('Средний расход трафика абонентами разных тарифов по месяцам')\n",
    "plt.xlabel('Расход трафика, ГБ')\n",
    "plt.ylabel('Доля абонентов')\n",
    "plt.show()"
   ]
  },
  {
   "cell_type": "code",
   "execution_count": 25,
   "id": "aa80556a",
   "metadata": {},
   "outputs": [
    {
     "name": "stdout",
     "output_type": "stream",
     "text": [
      "Средний объем потербляемого трафика абонентами тарифа \"Смарт\" составляет  16.32 ГБ. Дисперсия:  33.12. Стандартное отклонение-  5.75\n",
      "Средний объем потербляемого трафика абонентами тарифа \"Ультра\" составляет  19.47 ГБ. Дисперсия:  97.28. Стандартное отклонение-  9.86\n"
     ]
    }
   ],
   "source": [
    "smart_mean = df_final[df_final['tariff'] == 'smart']['gb_used'].mean()\n",
    "smart_std = np.std(df_final[df_final['tariff'] == 'smart']['gb_used'])\n",
    "smart_var = np.var(df_final[df_final['tariff'] == 'smart']['gb_used'])\n",
    "ultra_mean = df_final[df_final['tariff'] == 'ultra']['gb_used'].mean()\n",
    "ultra_std = np.std(df_final[df_final['tariff'] == 'ultra']['gb_used'])\n",
    "ultra_var = np.var(df_final[df_final['tariff'] == 'ultra']['gb_used'])\n",
    "print(f'Средний объем потербляемого трафика абонентами тарифа \"Смарт\" составляет {smart_mean: .2f} ГБ. Дисперсия: {smart_var: .2f}. Стандартное отклонение- {smart_std: .2f}')\n",
    "print(f'Средний объем потербляемого трафика абонентами тарифа \"Ультра\" составляет {ultra_mean: .2f} ГБ. Дисперсия: {ultra_var: .2f}. Стандартное отклонение- {ultra_std: .2f}')"
   ]
  },
  {
   "cell_type": "markdown",
   "id": "ff58b83d",
   "metadata": {},
   "source": [
    "Распределение по абонентам тарифа \"Смарт\" имеет явный пик около 16 гигабайт в месяц- многие абоненты данного тарифа докупают дополнительные пакеты трафика. Абоненты тарифа \"Ультра\" в среднем тратят 19,5 гигабайт, однако многие из абонентов \"Ультры\" тратят даже больше своего пакета- до 40 гигабайт в месяц.\n",
    "\n",
    "Изучим использование абонентами различных тарифов СМС-сообщений."
   ]
  },
  {
   "cell_type": "code",
   "execution_count": 26,
   "id": "71c98ad7",
   "metadata": {},
   "outputs": [
    {
     "data": {
      "image/png": "[encoded data removed]",
      "text/plain": [
       "<Figure size 864x648 with 1 Axes>"
      ]
     },
     "metadata": {
      "needs_background": "light"
     },
     "output_type": "display_data"
    }
   ],
   "source": [
    "ax = (df_final[df_final['tariff'] == 'smart']\n",
    "      .groupby(by='user_id')\n",
    "      .mean()\n",
    "      .plot(\n",
    "          kind='hist',\n",
    "          y='message_count',\n",
    "          histtype='step', \n",
    "          linewidth=5, \n",
    "          alpha=0.7, \n",
    "          grid=True,\n",
    "          label='Тариф \"Смарт\"',\n",
    "          figsize=(12,9)\n",
    "      ))\n",
    "(df_final[df_final['tariff'] == 'ultra']\n",
    "      .groupby(by='user_id')\n",
    "      .mean()\n",
    "      .plot(\n",
    "          kind='hist',\n",
    "          y='message_count',\n",
    "          histtype='step', \n",
    "          linewidth=5, \n",
    "          alpha=0.7, \n",
    "          grid=True,\n",
    "          label='Тариф \"Ультра\"',\n",
    "          ax=ax\n",
    "      ))\n",
    "plt.title('Среднее количество сообщений, отправленных абонентами разных тарифов по месяцам')\n",
    "plt.xlabel('Количество сообщений')\n",
    "plt.ylabel('Количество абонентов')\n",
    "plt.show()"
   ]
  },
  {
   "cell_type": "code",
   "execution_count": 27,
   "id": "ddfd6274",
   "metadata": {},
   "outputs": [
    {
     "name": "stdout",
     "output_type": "stream",
     "text": [
      "Среднее количество сообщений, отправленных абонентами тарифа \"Смарт\" в месяц составляет  33.37. Дисперсия:  796.60. Стандартное отклонение-  28.22\n",
      "Среднее количество сообщений, отправленных абонентами тарифа \"Ультра\" в месяц составляет  49.31. Дисперсия:  2283.10. Стандартное отклонение-  47.78\n"
     ]
    }
   ],
   "source": [
    "smart_mean = df_final[df_final['tariff'] == 'smart']['message_count'].mean()\n",
    "smart_std = np.std(df_final[df_final['tariff'] == 'smart']['message_count'])\n",
    "smart_var = np.var(df_final[df_final['tariff'] == 'smart']['message_count'])\n",
    "ultra_mean = df_final[df_final['tariff'] == 'ultra']['message_count'].mean()\n",
    "ultra_std = np.std(df_final[df_final['tariff'] == 'ultra']['message_count'])\n",
    "ultra_var = np.var(df_final[df_final['tariff'] == 'ultra']['message_count'])\n",
    "print(f'Среднее количество сообщений, отправленных абонентами тарифа \"Смарт\" в месяц составляет {smart_mean: .2f}. Дисперсия: {smart_var: .2f}. Стандартное отклонение- {smart_std: .2f}')\n",
    "print(f'Среднее количество сообщений, отправленных абонентами тарифа \"Ультра\" в месяц составляет {ultra_mean: .2f}. Дисперсия: {ultra_var: .2f}. Стандартное отклонение- {ultra_std: .2f}')"
   ]
  },
  {
   "cell_type": "markdown",
   "id": "7f0c907b",
   "metadata": {},
   "source": [
    "Примерно пятая чать абонентов \"Смарта\" отправляет больше 50 сообщений в месяц, превышая пакет своего тарифа. Никто из абонентов тарифа \"Ультра\" не выходит за рамки своего пакета.\n",
    "\n",
    "Суммируя всё вышесказанное, можем сделать промежуточный вывод: абоненты тарифа \"Смарт\" чаще выходят за рамки своего тарифа. Подавляющее большинство абонентов тратит больше интернет-трафика, чем дается в тарифе, и по 20% абонентов тратят больше минут и сообщений. При этом абоненты тарифа \"Ультра\" редко тратят лишние минуты разговора и сообщения, но многие из них тратят больше интернет-трафика."
   ]
  },
  {
   "cell_type": "markdown",
   "id": "ea5e2142",
   "metadata": {},
   "source": [
    "Далее определим, сколько суммарно абонентов тарифов \"Смарт\" и \"Ультра\". В окончательной таблице идет разбивка по месяцам для каждого пользователя, поэтому для расчета общего количества пользователей каждого тарифа проще воспользоваться датасетом df_users."
   ]
  },
  {
   "cell_type": "code",
   "execution_count": 28,
   "id": "b8585ea0",
   "metadata": {},
   "outputs": [
    {
     "data": {
      "text/plain": [
       "smart    351\n",
       "ultra    149\n",
       "Name: tariff, dtype: int64"
      ]
     },
     "execution_count": 28,
     "metadata": {},
     "output_type": "execute_result"
    }
   ],
   "source": [
    "df_users['tariff'].value_counts()"
   ]
  },
  {
   "cell_type": "markdown",
   "id": "b08493ed",
   "metadata": {},
   "source": [
    "351 пользователь тарифа \"Смарт\" и 149- \"Ультра\". Это логично, так как тариф смарт почти в 4 раза дешевле, поэтому более популярен. \n",
    "\n",
    "Далее рассмотрим, сколько тратят пользователи в среднем за месяц. В отдельной таблице рассчитаем среднюю выручку с каждого пользователя и построим гистограммы для каждого тарифа по отдельности."
   ]
  },
  {
   "cell_type": "code",
   "execution_count": 29,
   "id": "d0280297",
   "metadata": {
    "scrolled": false
   },
   "outputs": [
    {
     "data": {
      "image/png": "[encoded data removed]",
      "text/plain": [
       "<Figure size 864x648 with 1 Axes>"
      ]
     },
     "metadata": {
      "needs_background": "light"
     },
     "output_type": "display_data"
    }
   ],
   "source": [
    "ax = (df_final[df_final['tariff'] == 'smart']\n",
    "      .groupby(by='user_id')\n",
    "      .mean()\n",
    "      .plot(\n",
    "          kind='hist',\n",
    "          y='monthly_payment',\n",
    "          histtype='step', \n",
    "          linewidth=5, \n",
    "          alpha=0.7, \n",
    "          grid=True,\n",
    "          label='Тариф \"Смарт\"',\n",
    "          figsize=(12,9)\n",
    "      ))\n",
    "(df_final[df_final['tariff'] == 'ultra']\n",
    "      .groupby(by='user_id')\n",
    "      .mean()\n",
    "      .plot(\n",
    "          kind='hist',\n",
    "          y='monthly_payment',\n",
    "          histtype='step', \n",
    "          linewidth=5, \n",
    "          alpha=0.7, \n",
    "          grid=True,\n",
    "          label='Тариф \"Ультра\"',\n",
    "          ax=ax\n",
    "      ))\n",
    "plt.title('Средняя выручка с абонентов разных тарифов по месяцам')\n",
    "plt.xlabel('Средняя сумма в месяц, руб.')\n",
    "plt.ylabel('Количество абонентов')\n",
    "plt.show()"
   ]
  },
  {
   "cell_type": "markdown",
   "id": "b37a1557",
   "metadata": {},
   "source": [
    "Генеральные совокупности для обоих тарифов не имеют вид нормального распределения, так как в тарифах существует минимальный размер ежемесячной оплаты и большое количество абонентов не превышают этот размер или превышают его незначительно. Оба распределения смещены влево. По распределению видим, что пользователи тарифа \"Ультра\" довольно редко сильно превышают абонентскую плату за месяц. Абоненты тарифа \"Смарт\" ведут себя иначе- значительное большинство пользователей платит в месяц больше 1000 рублей при абонентской плате в 550 рублей, то есть переплачивают в два раза. Около 10% абонентов \"Смарта\" при этом платят больше 1950 рублей- то есть абонентской платы тарифа \"Ультра\". Для пользователей обоих тарифов вычислим среднее значение и стандартное отклонение среднемесячной выручки."
   ]
  },
  {
   "cell_type": "code",
   "execution_count": 30,
   "id": "309f3894",
   "metadata": {
    "scrolled": true
   },
   "outputs": [
    {
     "name": "stdout",
     "output_type": "stream",
     "text": [
      "Средняя выручка абонентов тарифа \"Смарт\" составляет  1257.27 руб. Дисперсия:  641114.91. Стандартное отклонение-  800.70\n",
      "Средняя выручка абонентов тарифа \"Ультра\" составляет  2070.03 руб. Дисперсия:  141244.32. Стандартное отклонение-  375.82\n"
     ]
    }
   ],
   "source": [
    "smart_mean = df_final[df_final['tariff'] == 'smart']['monthly_payment'].mean()\n",
    "smart_std = np.std(df_final[df_final['tariff'] == 'smart']['monthly_payment'])\n",
    "smart_var = np.var(df_final[df_final['tariff'] == 'smart']['monthly_payment'])\n",
    "ultra_mean = df_final[df_final['tariff'] == 'ultra']['monthly_payment'].mean()\n",
    "ultra_std = np.std(df_final[df_final['tariff'] == 'ultra']['monthly_payment'])\n",
    "ultra_var = np.var(df_final[df_final['tariff'] == 'ultra']['monthly_payment'])\n",
    "print(f'Средняя выручка абонентов тарифа \"Смарт\" составляет {smart_mean: .2f} руб. Дисперсия: {smart_var: .2f}. Стандартное отклонение- {smart_std: .2f}')\n",
    "print(f'Средняя выручка абонентов тарифа \"Ультра\" составляет {ultra_mean: .2f} руб. Дисперсия: {ultra_var: .2f}. Стандартное отклонение- {ultra_std: .2f}')"
   ]
  },
  {
   "cell_type": "markdown",
   "id": "ac927b55",
   "metadata": {},
   "source": [
    "Средняя выручка абонентов \"Смарта\" более чем в 2 раза превосходит размер абонентской платы, в то время как выручка абонентов \"Ультры\" больше абонентской платы всего на 100 рублей (чуть больше 5%). Чтобы сравнить выручку абонентов по тарифам, сформулируем нулевую гипотезу: выручка пользователей тарифов \"Смарт\" и \"Ультра\" равна. Альтернативную гипотезу сформулируем односторонней: выручка пользователей тарифа \"Ультра\" выше выручки пользователей тарифа \"Смарт\". Уровень статистической значимости установим равным 0,03."
   ]
  },
  {
   "cell_type": "code",
   "execution_count": 31,
   "id": "df5ec204",
   "metadata": {
    "scrolled": true
   },
   "outputs": [
    {
     "name": "stdout",
     "output_type": "stream",
     "text": [
      "p-значение: 4.46525380299289e-65\n",
      "Отвергаем нулевую гипотезу\n"
     ]
    }
   ],
   "source": [
    "# вычислим для каждого тарифа среднемесячную выручку по пользователям и представим в виде списков\n",
    "smart_payment = df_final[df_final['tariff'] == 'smart'].groupby(by='user_id').mean()\n",
    "smart_payment = list(smart_payment['monthly_payment'])\n",
    "ultra_payment = df_final[df_final['tariff'] == 'ultra'].groupby(by='user_id').mean()\n",
    "ultra_payment = list(ultra_payment['monthly_payment'])\n",
    "\n",
    "# проверим нулевую гипотезу\n",
    "\n",
    "results = st.ttest_ind(smart_payment, ultra_payment, equal_var = False)\n",
    "alpha = 0.03\n",
    "print('p-значение:', results.pvalue)\n",
    "if results.pvalue < alpha:\n",
    "    print('Отвергаем нулевую гипотезу')\n",
    "else:\n",
    "    print('Не получилось отвергнуть нулевую гипотезу')"
   ]
  },
  {
   "cell_type": "markdown",
   "id": "a40b7684",
   "metadata": {},
   "source": [
    "p-значение настолько мало, что нулевая гипотеза отвергается практически при любых общепринятых значениях уровня значимости. \n",
    "\n",
    "Проверим, как много абонентов тарифа \"Смарт\" тратят больше 1950 рублей- абонентской платы тарифа \"Ультра\"."
   ]
  },
  {
   "cell_type": "code",
   "execution_count": 32,
   "id": "26f90822",
   "metadata": {},
   "outputs": [
    {
     "name": "stdout",
     "output_type": "stream",
     "text": [
      "Количество пользователей тарифа \"Смарт\", расходующих в месяц больше 1950 рублей составляет  13.1%\n"
     ]
    }
   ],
   "source": [
    "smart_more_ultra = 0\n",
    "for i in range(len(smart_payment)):\n",
    "    if smart_payment[i] > 1950:\n",
    "        smart_more_ultra += 1\n",
    "print(f'Количество пользователей тарифа \"Смарт\", расходующих в месяц больше 1950 рублей составляет {smart_more_ultra / len(smart_payment): .1%}')"
   ]
  },
  {
   "cell_type": "markdown",
   "id": "d5ca556f",
   "metadata": {},
   "source": [
    "Тратят больше 1950 рублей 13% абонентов \"Смарта\". Проверим, сколько из них превышают лимиты тарифа \"Ультра\". "
   ]
  },
  {
   "cell_type": "code",
   "execution_count": 33,
   "id": "a97efce7",
   "metadata": {},
   "outputs": [
    {
     "name": "stdout",
     "output_type": "stream",
     "text": [
      "18 пользователей тарифа \"Смарт\" не выходят за рамки выделенных пакетов\n",
      "46 пользователей тарифа \"Смарт\", которые тратят больше 1950 рублей, используют минут, сообщений и трафика меньше, чем в тарифе \"Ультра\"\n",
      "Доля таких абонентов тарифа \"Смарт\" составляет  13.1%\n"
     ]
    }
   ],
   "source": [
    "smart_comparison = pd.DataFrame(df_final[df_final['tariff'] == 'smart'].groupby(by='user_id').mean())\n",
    "print(f'{len(smart_comparison[smart_comparison[\"monthly_payment\"] == 550])} пользователей тарифа \"Смарт\" не выходят за рамки выделенных пакетов')\n",
    "smart_within_ultra = len(smart_comparison.query('monthly_payment > 1950 and duration <= 3000 and gb_used <= 30 and message_count <= 1000')) \n",
    "print(f'{smart_within_ultra} пользователей тарифа \"Смарт\", которые тратят больше 1950 рублей, используют минут, сообщений и трафика меньше, чем в тарифе \"Ультра\"')\n",
    "print(f'Доля таких абонентов тарифа \"Смарт\" составляет {smart_within_ultra / len(smart_payment): .1%}')"
   ]
  },
  {
   "cell_type": "markdown",
   "id": "181f5cf5",
   "metadata": {},
   "source": [
    "46 из 351 пользователей тарифа \"Смарт\" тратят больше, чем абонентская плата тарифа \"Ультра\", находясь при этом в рамках данного тарифа. Это довольно много пользователей- почти каждый десятый в общей выборке и почти треть от общего количества абонентов тарифа \"Ультра\". Для этих 46 абонентов было бы выгоднее использовать тариф \"Ультра\", но для компании было бы выгоднее оставить их на тарифе \"Смарт\", так как лишние минуты, сообщения и гигабайты в данном тарифе дороже, а их пакеты- меньше. \n",
    "\n",
    "Теперь решим обратную задачу: проверим, как много абонентов \"Ультры\" тратят больше 1950 рублей и используют пакетов меньше, чем в \"Смарте\". Для них было бы выгоднее перейти на \"Смарт\", а для компании- оставить их на \"Ультре\"."
   ]
  },
  {
   "cell_type": "code",
   "execution_count": 34,
   "id": "74d69ca7",
   "metadata": {},
   "outputs": [
    {
     "name": "stdout",
     "output_type": "stream",
     "text": [
      "Количество пользователей тарифа \"Ультра\", не расходующих больше абонентской платы составляет  71.1%\n"
     ]
    }
   ],
   "source": [
    "ultra_within = 0\n",
    "for i in range(len(ultra_payment)):\n",
    "    if ultra_payment[i] == 1950:\n",
    "        ultra_within += 1\n",
    "print(f'Количество пользователей тарифа \"Ультра\", не расходующих больше абонентской платы составляет {ultra_within / len(ultra_payment): .1%}')"
   ]
  },
  {
   "cell_type": "markdown",
   "id": "08b4d3ca",
   "metadata": {},
   "source": [
    "7 из 10 абонентов \"Ультры\" никогда не выходят за рамки тарифа. Проверим, тратят ли они пакеты больше, чем \"Смарте\"."
   ]
  },
  {
   "cell_type": "code",
   "execution_count": 35,
   "id": "14a4fec1",
   "metadata": {},
   "outputs": [
    {
     "name": "stdout",
     "output_type": "stream",
     "text": [
      "11 пользователей тарифа \"Ультра\" никогда не выходят за рамки своего тарифа и используют минут, сообщений и трафика меньше, чем в тарифе \"Смарт\"\n",
      "Доля таких абонентов тарифа \"Ультра\" составляет  7.4%\n"
     ]
    }
   ],
   "source": [
    "ultra_comparison = pd.DataFrame(df_final[df_final['tariff'] == 'ultra'].groupby(by='user_id').mean())\n",
    "ultra_less_smart = len(ultra_comparison.query('monthly_payment == 1950 and duration <= 500 and gb_used <= 15 and message_count <= 50')) \n",
    "print(f'{ultra_less_smart} пользователей тарифа \"Ультра\" никогда не выходят за рамки своего тарифа и используют минут, сообщений и трафика меньше, чем в тарифе \"Смарт\"')\n",
    "print(f'Доля таких абонентов тарифа \"Ультра\" составляет {ultra_less_smart / len(ultra_payment): .1%}')"
   ]
  },
  {
   "cell_type": "markdown",
   "id": "5d38f351",
   "metadata": {},
   "source": [
    "Всего 2% от общей выборки, но каждый десятый из числа не выходящих за рамки тарифа \"Ультра\" абонент тратит пакетов меньше, чем включено в тариф \"Смарт\". Им было бы выгоднее перейти на тариф \"Смарт\", но для компании было бы выгоднее оставить их на тарифе \"Ультра\". \n",
    "\n",
    "Отдельно рассчитаем, сколько приносит каждый тариф в год- сложим выручку по всем пользователям и выведем на экран."
   ]
  },
  {
   "cell_type": "code",
   "execution_count": 36,
   "id": "348bb87f",
   "metadata": {},
   "outputs": [
    {
     "data": {
      "text/plain": [
       "tariff\n",
       "smart    2803715\n",
       "ultra    2041050\n",
       "Name: monthly_payment, dtype: int32"
      ]
     },
     "execution_count": 36,
     "metadata": {},
     "output_type": "execute_result"
    }
   ],
   "source": [
    "df_final.groupby(by='tariff')['monthly_payment'].sum()"
   ]
  },
  {
   "cell_type": "markdown",
   "id": "ce566f73",
   "metadata": {},
   "source": [
    "Тариф \"Смарт\" приносит почти на 40% больше ежегодно. Это предсказуемо- абонентов тарифа \"Смарт\" почти в 2,5 раза больше.\n",
    "\n",
    "Здесь можем сделать предварительный вывод: благодаря низкой цене тариф \"Смарт\" популярнее тарифа \"Ультра\"- абонентов \"Смарта\" в 2,3 раза больше. Тариф \"Смарт\" приносит 2,8 миллиона рублей в год. В среднем его абоненты тратят 1257 рублей в месяц, но 13% из них тратят больше, чем стоит тариф \"Ультра\", и все из них остаются в рамках этого тарифа, т.е. при переходе на тариф \"Ультра\" они бы платили 1950 рублей в месяц. Всего 18 из 351 абонента не превышают выделенных пакетов в месяц. Тариф \"Ультра\" приносит 2 миллиона рублей в год. В среднем его абоненты тратят 2070 рублей в месяц, но 7% из них могли бы перейти на \"Смарт\" и платить только абонентскую плату, так как не превышают лимитов даже этого тарифа, т.е. при переходе на \"Смарт\" они бы платили 550 рублей в месяц вместо 1950. В тарифе \"Ультра\" 71% пользователей не превышают выделенных пакетов,  оставаясь в рамках тарифа. \n",
    "\n",
    "Пока нельзя однозначно сказать, какой тариф лучше. На данном этапе точно можно сказать, что для компании было бы выгоднее оставить на тарифе \"Смарт\" тех пользователей, которые тратят больше, чем абонентская плата тарифа \"Ультра\", и оставить на тарифе \"Ультра\" тех пользователей, звонки, сообщения и трафик которых остаются в рамках тарифа \"Смарт\"- они нагружают инфраструктуру компании меньше, а тратят больше. При этом стоит учитывать, что тариф \"Смарт\" привлекательнее для пользователей, не склонных отслеживать свою активность ежемесячно, за счет своей цены, поэтому перевести абонента с тарифа \"Смарт\" на \"Ультра\" будет сложнее.\n",
    "\n",
    "Посчитаем ожидаемую прибыль от абонентов, если бы все из них использовали тариф \"Смарт\" или тариф \"Ультра\". Для этого введем дополнительные столбцы, в которых посчитаем выручку с абонента, если бы он использовал один из этих двух тарифов."
   ]
  },
  {
   "cell_type": "code",
   "execution_count": 37,
   "id": "b34b6c25",
   "metadata": {
    "scrolled": true
   },
   "outputs": [
    {
     "name": "stdout",
     "output_type": "stream",
     "text": [
      "Ожидаемая выручка в месяц с пользователей тарифа \"Смарт\" составит 710500.0 руб.\n",
      "Ожидаемая выручка в месяц с пользователей тарифа \"Ультра\" составит 984150.0 руб.\n",
      "Текущая выручка компании в месяц составляет в среднем  763114.7 руб.\n"
     ]
    }
   ],
   "source": [
    "df_final_mean = pd.DataFrame(df_final.groupby(by='user_id').mean())\n",
    "df_final_mean\n",
    "df_final_mean['by_smart'] = (550 + \n",
    "                             3 * (np.ceil(df_final_mean['duration']) - 500 + abs(np.ceil(df_final_mean['duration']) - 500)) / 2 + \n",
    "                             3 * (np.ceil(df_final_mean['message_count']) - 50 + abs(np.ceil(df_final_mean['message_count']) - 50)) / 2 +\n",
    "                             200 * (np.ceil(df_final_mean['gb_used']) - 15 + abs(np.ceil(df_final_mean['gb_used']) - 15)) / 2)\n",
    "df_final_mean['by_ultra'] = (1950 + \n",
    "                             1 * (np.ceil(df_final_mean['duration']) - 3000 + abs(np.ceil(df_final_mean['duration']) - 3000)) / 2 + \n",
    "                             1 * (np.ceil(df_final_mean['message_count']) - 1000 + abs(np.ceil(df_final_mean['message_count']) - 1000)) / 2 +\n",
    "                             150 * (np.ceil(df_final_mean['gb_used']) - 30 + abs(np.ceil(df_final_mean['gb_used']) - 30)) / 2)\n",
    "by_smart = df_final_mean['by_smart'].sum()\n",
    "by_ultra = df_final_mean['by_ultra'].sum()\n",
    "monthly_now = df_final_mean['monthly_payment'].sum()\n",
    "print(f'Ожидаемая выручка в месяц с пользователей тарифа \"Смарт\" составит {by_smart} руб.')\n",
    "print(f'Ожидаемая выручка в месяц с пользователей тарифа \"Ультра\" составит {by_ultra} руб.')\n",
    "print(f'Текущая выручка компании в месяц составляет в среднем {monthly_now: .1f} руб.')"
   ]
  },
  {
   "cell_type": "markdown",
   "id": "ad0d3fdd",
   "metadata": {},
   "source": [
    "Если перевести всех пользователей на тариф \"Ультра\", компания заработает на 274 тысячи ежемесячно больше, чем если перевести всех пользователей на тариф \"Смарт\" и на 219 тысяч больше текущей ежемесячной выручки. Но при попытке перевести абонентов на более дорогой тариф есть риск, что они сменят оператора. Перевести абонентов на тариф дешевле проще, однако для компании было бы выгоднее перевести абонентов на тариф дешевле таким образом, чтобы они начали тратить больше. \n",
    "\n",
    "Выведем на экран всех абонентов тарифа \"Смарт\", которые превышают хотя бы один из пакетов- звонки, сообщения или интернет-трафик, но тратят меньше 1950 рублей, и посмотрим, сколько они в среднем тратят в месяц. Таких абонентов будет проще переубедить перейти на более дорогой тариф с большим размером пакетов."
   ]
  },
  {
   "cell_type": "code",
   "execution_count": 38,
   "id": "beab2b27",
   "metadata": {
    "scrolled": false
   },
   "outputs": [
    {
     "data": {
      "text/plain": [
       "Text(0, 0.5, 'Количество абонентов')"
      ]
     },
     "execution_count": 38,
     "metadata": {},
     "output_type": "execute_result"
    },
    {
     "data": {
      "image/png": "[encoded data removed]",
      "text/plain": [
       "<Figure size 864x648 with 1 Axes>"
      ]
     },
     "metadata": {
      "needs_background": "light"
     },
     "output_type": "display_data"
    }
   ],
   "source": [
    "smart_comparison.query('monthly_payment < 1950 and (minutes_over > 0 or messages_over > 0 or gb_over > 0)').plot(kind='hist', y='monthly_payment', bins=20, range=(550, 1950), grid=True, figsize=(12,9))\n",
    "plt.title('Распределение выручки с абонентов, превышающих пакеты тарифа \"Смарт\"')\n",
    "plt.xlabel('Выручка, руб.')\n",
    "plt.ylabel('Количество абонентов')"
   ]
  },
  {
   "cell_type": "markdown",
   "id": "a3e77606",
   "metadata": {},
   "source": [
    "Распределение выручки носит характер, близкий к биномиальному, с двумя характерными пиками- в районе 1000 рублей и в районе 1500 рублей. Абонентам, которые превышают лимиты тарифа \"Смарт\" и платят больше 1500 рублей можно предложить перейти на тариф \"Ультра\", а в качестве аргумента привести больший объем пакетов, включенных в тариф. \n",
    "\n",
    "Также рассмотрим, меняется ли поведение абонентов \"Смарта\" в течение года- тратят ли они одинаково в каждом месяце или же траты абонентов меняются в течение года. Построим диаграммы размаха для абонентов тарифа \"Смарт\" по месяцам оплаты."
   ]
  },
  {
   "cell_type": "code",
   "execution_count": 39,
   "id": "69bf10c0",
   "metadata": {},
   "outputs": [
    {
     "data": {
      "image/png": "[encoded data removed]",
      "text/plain": [
       "<Figure size 864x648 with 1 Axes>"
      ]
     },
     "metadata": {
      "needs_background": "light"
     },
     "output_type": "display_data"
    }
   ],
   "source": [
    "plt.figure(figsize=(12,9))\n",
    "sns.boxplot(x='billing_month', y='monthly_payment', data=df_final[df_final['tariff'] == 'smart'], showfliers=False)\n",
    "plt.title('Распределение выручки по абонентам тарифа \"Смарт\"')\n",
    "plt.xlabel('Месяц оплаты')\n",
    "plt.ylabel('Выручка, руб.')\n",
    "plt.show()"
   ]
  },
  {
   "cell_type": "markdown",
   "id": "7fee58ef",
   "metadata": {},
   "source": [
    "Из анализа диаграмм размаха по месяцам видим, что абоненты \"Смарта\" остаются в пределах своих пакетов в январе и почти не выходят за границы пакетов в феврале. Средняя выручка близка к абонентской плате тарифа в апреле. В марте и с мая по сентябрь наблюдаем примерно одинаковую среднюю выручку и верхний квартиль выручки по абонентам, но видим постоянный рост верхней границы, что приводит к большей средней выручке с октября по декабрь. Следовательно, с октября по декабрь абоненты тарифа \"Смарт\" тратят больше и именно в эти месяцы нужно предлагать абонентам, которые превышают свои пакеты и тратят от 1500 до 1950 рублей, перейти на тариф \"Ультра\".\n",
    "\n",
    "Для более эффективного продвижения тарифа \"Ультра\" в разных возрастных категориях изучим, как меняется поведение абонентов тарифа \"Смарт\" в различных возрастных категориях. Для этого построим диаграммы размаха по длительности звонков, количеству сообщений и использованному трафику в каждой возрастной категории."
   ]
  },
  {
   "cell_type": "code",
   "execution_count": 40,
   "id": "790fc693",
   "metadata": {
    "scrolled": false
   },
   "outputs": [
    {
     "data": {
      "image/png": "[encoded data removed]",
      "text/plain": [
       "<Figure size 864x648 with 1 Axes>"
      ]
     },
     "metadata": {
      "needs_background": "light"
     },
     "output_type": "display_data"
    }
   ],
   "source": [
    "plt.figure(figsize=(12,9))\n",
    "sns.boxplot(x='age_group', y='duration', data=df_final[df_final['tariff'] == 'smart'], showfliers=False)\n",
    "plt.title('Использование пакета звонков в месяц абонентами тарифа \"Смарт\"')\n",
    "plt.xlabel('Возрастная категория')\n",
    "plt.ylabel('Количество минут')\n",
    "plt.show()"
   ]
  },
  {
   "cell_type": "markdown",
   "id": "dd6fb1a2",
   "metadata": {},
   "source": [
    "Абоненты во всех возрастных категориях используют примерно одинаковое количество минут в месяц- около 400. Это не превышает установленный лимит для тарифа \"Смарт\" в 500 минут. Верхний квартиль в возрастных категориях старше 50 лет незначительно превышает установленный лимит. Предлагая переход на тариф \"Ультра\" абонентам тарифа \"Смарт\" старше 50 лет можно аргументировать большим пакетом минут."
   ]
  },
  {
   "cell_type": "code",
   "execution_count": 41,
   "id": "024ad9dd",
   "metadata": {},
   "outputs": [
    {
     "data": {
      "image/png": "[encoded data removed]",
      "text/plain": [
       "<Figure size 864x648 with 1 Axes>"
      ]
     },
     "metadata": {
      "needs_background": "light"
     },
     "output_type": "display_data"
    }
   ],
   "source": [
    "plt.figure(figsize=(12,9))\n",
    "sns.boxplot(x='age_group', y='message_count', data=df_final[df_final['tariff'] == 'smart'], showfliers=False)\n",
    "plt.title('Использование пакета сообщений в месяц абонентами тарифа \"Смарт\"')\n",
    "plt.xlabel('Возрастная категория')\n",
    "plt.ylabel('Количество сообщений')\n",
    "plt.show()"
   ]
  },
  {
   "cell_type": "markdown",
   "id": "55897fdd",
   "metadata": {},
   "source": [
    "В среднем абоненты \"Смарта\" во всех возрастных категориях используют не больше 300 сообщений в месяц, что также не превышает установленный лимит. Однако верхний квартиль и верхняя граница в возрастных категориях старше 40 лет выше, чем в возрастных категориях младше 40. Предлагая переход на тариф \"Ультра\" для пользователей \"Смарта\" старше 40 можно также аргументировать и большим пакетом сообщений в тарифе."
   ]
  },
  {
   "cell_type": "code",
   "execution_count": 42,
   "id": "49412060",
   "metadata": {
    "scrolled": true
   },
   "outputs": [
    {
     "data": {
      "image/png": "[encoded data removed]",
      "text/plain": [
       "<Figure size 864x648 with 1 Axes>"
      ]
     },
     "metadata": {
      "needs_background": "light"
     },
     "output_type": "display_data"
    }
   ],
   "source": [
    "plt.figure(figsize=(12,9))\n",
    "sns.boxplot(x='age_group', y='gb_used', data=df_final[df_final['tariff'] == 'smart'], showfliers=False)\n",
    "plt.title('Использование интернет-трафика в месяц абонентами тарифа \"Смарт\"')\n",
    "plt.xlabel('Возрастная категория')\n",
    "plt.ylabel('Объем трафика, ГБ')\n",
    "plt.show()"
   ]
  },
  {
   "cell_type": "markdown",
   "id": "8023bde5",
   "metadata": {},
   "source": [
    "Абоненты младше 40 в большинстве своем используют больше трафика, чем дается в тарифе \"Смарт\"- нижний квартиль в этих категориях приближается к 15 гигабайтам. Пользователи от 41 до 65 используют меньше трафика и в среднем незначительно превышают лимиты тарифа. Пользователи старше 65 тоже используют больше трафика, чем есть в тарифе.\n",
    "\n",
    "Промежуточный итог можно сформулировать так: каждый шестой пользователь тарифа \"Смарт\" тратит от 1500 до 1950 рублей. Выгоднее было бы перевести их на тариф \"Ультра\". Предлагая таким пользователям перейти на тариф \"Ультра\" стоит разделить их на возрастные категории и в каждой категории приводить свою аргументацию. Так, для абонентов до 40 лет основной упор следует делать на повышенный объем интернет-трафика, в категории от 40 до 65 лет- на больший пакет минут и сообщений, а в возрасте старше 65 лет- на все пакеты сразу. При этом наиболее активно поменять тариф следует предлагать с октября по декабрь- в жто время пользователи тратят больше и убедить их перейти на более дорогой тариф будет проще.\n",
    "\n",
    "Теперь проанализируем пользователей из разных городов. Одной из целей проекта является сравнение трат пользователей из Москвы и из других городов. Нулевую гипотезу сформулируем так: пользователи из Москвы тратят столько же, сколько и пользователи из других городов России. Альтернативная гипотеза: пользователи из Москвы и из других городов тратят по-разному. Создадим два списка- список с тратами пользователей из Москвы и из других городов, после чего проверим нулевую гипотезу."
   ]
  },
  {
   "cell_type": "code",
   "execution_count": 43,
   "id": "dae5de08",
   "metadata": {},
   "outputs": [
    {
     "name": "stdout",
     "output_type": "stream",
     "text": [
      "p-значение: 0.46183914667656145\n",
      "Не получилось отвергнуть нулевую гипотезу\n"
     ]
    }
   ],
   "source": [
    "moscow_users_payment = list(df_final[df_final['city'] == 'Москва']['monthly_payment'])\n",
    "non_moscow_users_payment = list(df_final[df_final['city'] != 'Москва']['monthly_payment'])\n",
    "results = st.ttest_ind(moscow_users_payment, non_moscow_users_payment, equal_var = False)\n",
    "alpha = 0.03\n",
    "print('p-значение:', results.pvalue)\n",
    "if results.pvalue < alpha:\n",
    "    print('Отвергаем нулевую гипотезу')\n",
    "else:\n",
    "    print('Не получилось отвергнуть нулевую гипотезу')"
   ]
  },
  {
   "cell_type": "markdown",
   "id": "b88eb4b8",
   "metadata": {},
   "source": [
    "Теперь рассчитаем среднее, дисперсию и стандартное отклонение для пользователей из Москвы и из других городов."
   ]
  },
  {
   "cell_type": "code",
   "execution_count": 44,
   "id": "1e93c8d4",
   "metadata": {},
   "outputs": [
    {
     "name": "stdout",
     "output_type": "stream",
     "text": [
      "Средняя выручка абонентов тарифа \"Смарт\" составляет  1526.84 руб. Дисперсия:  561911.03. Стандартное отклонение-  749.61\n",
      "Средняя выручка абонентов тарифа \"Ультра\" составляет  1501.68 руб. Дисперсия:  643742.46. Стандартное отклонение-  802.34\n"
     ]
    }
   ],
   "source": [
    "moscow_mean = df_final[df_final['city'] == 'Москва']['monthly_payment'].mean()\n",
    "moscow_std = np.std(df_final[df_final['city'] == 'Москва']['monthly_payment'])\n",
    "moscow_var = np.var(df_final[df_final['city'] == 'Москва']['monthly_payment'])\n",
    "non_moscow_mean = df_final[df_final['city'] != 'Москва']['monthly_payment'].mean()\n",
    "non_moscow_std = np.std(df_final[df_final['city'] != 'Москва']['monthly_payment'])\n",
    "non_moscow_var = np.var(df_final[df_final['city'] != 'Москва']['monthly_payment'])\n",
    "print(f'Средняя выручка абонентов тарифа \"Смарт\" составляет {moscow_mean: .2f} руб. Дисперсия: {moscow_var: .2f}. Стандартное отклонение- {moscow_std: .2f}')\n",
    "print(f'Средняя выручка абонентов тарифа \"Ультра\" составляет {non_moscow_mean: .2f} руб. Дисперсия: {non_moscow_var: .2f}. Стандартное отклонение- {non_moscow_std: .2f}')"
   ]
  },
  {
   "cell_type": "markdown",
   "id": "4a74bb85",
   "metadata": {},
   "source": [
    "Среднее значение и стандартное отклонение для пользователей из Москвы и пользователей из других городов близки по значению. На данном этапе можно сделать вывод, что пользователи по всей России тратят примерно одинаково на связь. Чтобы в этом убедиться построим диаграммы размаха, группируя пользователей из Москвы и из других городов для пакетов минут, сообщений и трафика."
   ]
  },
  {
   "cell_type": "code",
   "execution_count": 45,
   "id": "f182e3f4",
   "metadata": {
    "scrolled": false
   },
   "outputs": [
    {
     "data": {
      "image/png": "[encoded data removed]",
      "text/plain": [
       "<Figure size 864x648 with 1 Axes>"
      ]
     },
     "metadata": {
      "needs_background": "light"
     },
     "output_type": "display_data"
    }
   ],
   "source": [
    "df_final['is_moscow'] = (df_final['city'] == 'Москва')\n",
    "df_final\n",
    "plt.figure(figsize=(12,9))\n",
    "sns.boxplot(x='is_moscow', y='duration', data=df_final, showfliers=False)\n",
    "plt.title('Использование пакета звонков в месяц абонентами из Москвы и других городов')\n",
    "plt.xlabel('Зарегистрирован ли абонент в Москве')\n",
    "plt.ylabel('Количество минут')\n",
    "plt.show()"
   ]
  },
  {
   "cell_type": "markdown",
   "id": "c0a5c23e",
   "metadata": {},
   "source": [
    "Абоненты из Москвы тратят немного больше минут, чем абоненты из других городов."
   ]
  },
  {
   "cell_type": "code",
   "execution_count": 46,
   "id": "31eb8280",
   "metadata": {},
   "outputs": [
    {
     "data": {
      "image/png": "[encoded data removed]",
      "text/plain": [
       "<Figure size 864x648 with 1 Axes>"
      ]
     },
     "metadata": {
      "needs_background": "light"
     },
     "output_type": "display_data"
    }
   ],
   "source": [
    "df_final['is_moscow'] = (df_final['city'] == 'Москва')\n",
    "df_final\n",
    "plt.figure(figsize=(12,9))\n",
    "sns.boxplot(x='is_moscow', y='message_count', data=df_final, showfliers=False)\n",
    "plt.title('Использование пакета сообщений в месяц абонентами из Москвы и других городов')\n",
    "plt.xlabel('Зарегистрирован ли абонент в Москве')\n",
    "plt.ylabel('Количество сообщений')\n",
    "plt.show()"
   ]
  },
  {
   "cell_type": "markdown",
   "id": "bb7a0144",
   "metadata": {},
   "source": [
    "Абоненты из Москвы и из других городов тратят одинаковое количество сообщений в месяц."
   ]
  },
  {
   "cell_type": "code",
   "execution_count": 47,
   "id": "2c272e06",
   "metadata": {},
   "outputs": [
    {
     "data": {
      "image/png": "[encoded data removed]",
      "text/plain": [
       "<Figure size 864x648 with 1 Axes>"
      ]
     },
     "metadata": {
      "needs_background": "light"
     },
     "output_type": "display_data"
    }
   ],
   "source": [
    "df_final['is_moscow'] = (df_final['city'] == 'Москва')\n",
    "df_final\n",
    "plt.figure(figsize=(12,9))\n",
    "sns.boxplot(x='is_moscow', y='gb_used', data=df_final, showfliers=False)\n",
    "plt.title('Использование пакета интернет-трафика в месяц абонентами из Москвы и других городов')\n",
    "plt.xlabel('Зарегистрирован ли абонент в Москве')\n",
    "plt.ylabel('Объем трафика, ГБ')\n",
    "plt.show()"
   ]
  },
  {
   "cell_type": "markdown",
   "id": "00339612",
   "metadata": {},
   "source": [
    "Абоненты из Москвы тратят немного больше трафика в месяц. \n",
    "\n",
    "В целом, небольшими объемами превышения трафика и использованных минут в месяц абонентами из Москвы по сравнению с абонентами из других городов можно объяснить незначительное превышение средней выручки. Но нельзя сказать, что абоненты из Москвы в чем-то ведут себя иначе по сравнению с абонентами из других городов.\n",
    "\n",
    "Далее проанализируем абонентов, которые прекратили использование тарифа. Для начала выведем на экран количество абонентов в каждом тарифе."
   ]
  },
  {
   "cell_type": "code",
   "execution_count": 48,
   "id": "ab54829e",
   "metadata": {},
   "outputs": [
    {
     "data": {
      "text/plain": [
       "smart    23\n",
       "ultra    15\n",
       "Name: tariff, dtype: int64"
      ]
     },
     "execution_count": 48,
     "metadata": {},
     "output_type": "execute_result"
    }
   ],
   "source": [
    "df_users[df_users['churn_date'].isna() == False]['tariff'].value_counts()"
   ]
  },
  {
   "cell_type": "markdown",
   "id": "5801427f",
   "metadata": {},
   "source": [
    "Если общее распределение абонентов тарифов \"Смарт\" и \"Ультра\" составляет примерно 2,35:1, то распределение среди абонентов, прекративших использование, составляет уже 1,53:1. Это говорит нам о том, что от тарифа \"Ультра\" отказываются чаще, чем от тарифа \"Смарт\". Таких абонентов тарифа \"Ультра\" всего 15, поэтому можем вывести их расходы на экран и проанализировать."
   ]
  },
  {
   "cell_type": "code",
   "execution_count": 49,
   "id": "d9278c73",
   "metadata": {},
   "outputs": [
    {
     "data": {
      "text/html": [
       "<div>\n",
       "<style scoped>\n",
       "    .dataframe tbody tr th:only-of-type {\n",
       "        vertical-align: middle;\n",
       "    }\n",
       "\n",
       "    .dataframe tbody tr th {\n",
       "        vertical-align: top;\n",
       "    }\n",
       "\n",
       "    .dataframe thead th {\n",
       "        text-align: right;\n",
       "    }\n",
       "</style>\n",
       "<table border=\"1\" class=\"dataframe\">\n",
       "  <thead>\n",
       "    <tr style=\"text-align: right;\">\n",
       "      <th></th>\n",
       "      <th>age</th>\n",
       "      <th>billing_month</th>\n",
       "      <th>duration</th>\n",
       "      <th>message_count</th>\n",
       "      <th>gb_used</th>\n",
       "      <th>messages_over</th>\n",
       "      <th>gb_over</th>\n",
       "      <th>minutes_over</th>\n",
       "      <th>rub_monthly_fee</th>\n",
       "      <th>rub_per_gb</th>\n",
       "      <th>rub_per_message</th>\n",
       "      <th>rub_per_minute</th>\n",
       "      <th>monthly_payment</th>\n",
       "      <th>use_period</th>\n",
       "      <th>is_moscow</th>\n",
       "    </tr>\n",
       "    <tr>\n",
       "      <th>user_id</th>\n",
       "      <th></th>\n",
       "      <th></th>\n",
       "      <th></th>\n",
       "      <th></th>\n",
       "      <th></th>\n",
       "      <th></th>\n",
       "      <th></th>\n",
       "      <th></th>\n",
       "      <th></th>\n",
       "      <th></th>\n",
       "      <th></th>\n",
       "      <th></th>\n",
       "      <th></th>\n",
       "      <th></th>\n",
       "      <th></th>\n",
       "    </tr>\n",
       "  </thead>\n",
       "  <tbody>\n",
       "    <tr>\n",
       "      <td>1019</td>\n",
       "      <td>63</td>\n",
       "      <td>7.5</td>\n",
       "      <td>335.8</td>\n",
       "      <td>18.3</td>\n",
       "      <td>16.0</td>\n",
       "      <td>0.0</td>\n",
       "      <td>0.0</td>\n",
       "      <td>0.0</td>\n",
       "      <td>1950</td>\n",
       "      <td>150</td>\n",
       "      <td>1</td>\n",
       "      <td>1</td>\n",
       "      <td>1,950.0</td>\n",
       "      <td>142.0</td>\n",
       "      <td>False</td>\n",
       "    </tr>\n",
       "    <tr>\n",
       "      <td>1050</td>\n",
       "      <td>44</td>\n",
       "      <td>8.0</td>\n",
       "      <td>170.2</td>\n",
       "      <td>32.8</td>\n",
       "      <td>20.2</td>\n",
       "      <td>0.0</td>\n",
       "      <td>1.0</td>\n",
       "      <td>0.0</td>\n",
       "      <td>1950</td>\n",
       "      <td>150</td>\n",
       "      <td>1</td>\n",
       "      <td>1</td>\n",
       "      <td>2,100.0</td>\n",
       "      <td>109.0</td>\n",
       "      <td>False</td>\n",
       "    </tr>\n",
       "    <tr>\n",
       "      <td>1063</td>\n",
       "      <td>45</td>\n",
       "      <td>8.0</td>\n",
       "      <td>712.0</td>\n",
       "      <td>0.0</td>\n",
       "      <td>17.2</td>\n",
       "      <td>0.0</td>\n",
       "      <td>0.0</td>\n",
       "      <td>0.0</td>\n",
       "      <td>1950</td>\n",
       "      <td>150</td>\n",
       "      <td>1</td>\n",
       "      <td>1</td>\n",
       "      <td>1,950.0</td>\n",
       "      <td>243.0</td>\n",
       "      <td>False</td>\n",
       "    </tr>\n",
       "    <tr>\n",
       "      <td>1090</td>\n",
       "      <td>54</td>\n",
       "      <td>11.0</td>\n",
       "      <td>362.7</td>\n",
       "      <td>14.0</td>\n",
       "      <td>12.3</td>\n",
       "      <td>0.0</td>\n",
       "      <td>0.0</td>\n",
       "      <td>0.0</td>\n",
       "      <td>1950</td>\n",
       "      <td>150</td>\n",
       "      <td>1</td>\n",
       "      <td>1</td>\n",
       "      <td>1,950.0</td>\n",
       "      <td>53.0</td>\n",
       "      <td>False</td>\n",
       "    </tr>\n",
       "    <tr>\n",
       "      <td>1128</td>\n",
       "      <td>51</td>\n",
       "      <td>12.0</td>\n",
       "      <td>0.0</td>\n",
       "      <td>0.0</td>\n",
       "      <td>0.0</td>\n",
       "      <td>0.0</td>\n",
       "      <td>0.0</td>\n",
       "      <td>0.0</td>\n",
       "      <td>1950</td>\n",
       "      <td>150</td>\n",
       "      <td>1</td>\n",
       "      <td>1</td>\n",
       "      <td>1,950.0</td>\n",
       "      <td>8.0</td>\n",
       "      <td>False</td>\n",
       "    </tr>\n",
       "    <tr>\n",
       "      <td>1201</td>\n",
       "      <td>32</td>\n",
       "      <td>10.0</td>\n",
       "      <td>668.6</td>\n",
       "      <td>0.0</td>\n",
       "      <td>8.0</td>\n",
       "      <td>0.0</td>\n",
       "      <td>0.0</td>\n",
       "      <td>0.0</td>\n",
       "      <td>1950</td>\n",
       "      <td>150</td>\n",
       "      <td>1</td>\n",
       "      <td>1</td>\n",
       "      <td>1,950.0</td>\n",
       "      <td>119.0</td>\n",
       "      <td>True</td>\n",
       "    </tr>\n",
       "    <tr>\n",
       "      <td>1254</td>\n",
       "      <td>75</td>\n",
       "      <td>4.5</td>\n",
       "      <td>493.6</td>\n",
       "      <td>0.0</td>\n",
       "      <td>21.4</td>\n",
       "      <td>0.0</td>\n",
       "      <td>0.0</td>\n",
       "      <td>0.0</td>\n",
       "      <td>1950</td>\n",
       "      <td>150</td>\n",
       "      <td>1</td>\n",
       "      <td>1</td>\n",
       "      <td>1,950.0</td>\n",
       "      <td>225.0</td>\n",
       "      <td>True</td>\n",
       "    </tr>\n",
       "    <tr>\n",
       "      <td>1255</td>\n",
       "      <td>40</td>\n",
       "      <td>5.5</td>\n",
       "      <td>192.0</td>\n",
       "      <td>0.0</td>\n",
       "      <td>31.1</td>\n",
       "      <td>0.0</td>\n",
       "      <td>6.6</td>\n",
       "      <td>0.0</td>\n",
       "      <td>1950</td>\n",
       "      <td>150</td>\n",
       "      <td>1</td>\n",
       "      <td>1</td>\n",
       "      <td>2,943.8</td>\n",
       "      <td>195.0</td>\n",
       "      <td>False</td>\n",
       "    </tr>\n",
       "    <tr>\n",
       "      <td>1265</td>\n",
       "      <td>24</td>\n",
       "      <td>8.0</td>\n",
       "      <td>517.6</td>\n",
       "      <td>57.6</td>\n",
       "      <td>25.0</td>\n",
       "      <td>0.0</td>\n",
       "      <td>4.4</td>\n",
       "      <td>0.0</td>\n",
       "      <td>1950</td>\n",
       "      <td>150</td>\n",
       "      <td>1</td>\n",
       "      <td>1</td>\n",
       "      <td>2,610.0</td>\n",
       "      <td>102.0</td>\n",
       "      <td>False</td>\n",
       "    </tr>\n",
       "    <tr>\n",
       "      <td>1271</td>\n",
       "      <td>69</td>\n",
       "      <td>9.0</td>\n",
       "      <td>341.6</td>\n",
       "      <td>86.4</td>\n",
       "      <td>18.0</td>\n",
       "      <td>0.0</td>\n",
       "      <td>0.0</td>\n",
       "      <td>0.0</td>\n",
       "      <td>1950</td>\n",
       "      <td>150</td>\n",
       "      <td>1</td>\n",
       "      <td>1</td>\n",
       "      <td>1,950.0</td>\n",
       "      <td>122.0</td>\n",
       "      <td>False</td>\n",
       "    </tr>\n",
       "    <tr>\n",
       "      <td>1343</td>\n",
       "      <td>30</td>\n",
       "      <td>9.0</td>\n",
       "      <td>353.7</td>\n",
       "      <td>59.3</td>\n",
       "      <td>5.7</td>\n",
       "      <td>0.0</td>\n",
       "      <td>0.0</td>\n",
       "      <td>0.0</td>\n",
       "      <td>1950</td>\n",
       "      <td>150</td>\n",
       "      <td>1</td>\n",
       "      <td>1</td>\n",
       "      <td>1,950.0</td>\n",
       "      <td>74.0</td>\n",
       "      <td>False</td>\n",
       "    </tr>\n",
       "    <tr>\n",
       "      <td>1367</td>\n",
       "      <td>43</td>\n",
       "      <td>10.0</td>\n",
       "      <td>360.3</td>\n",
       "      <td>0.0</td>\n",
       "      <td>15.3</td>\n",
       "      <td>0.0</td>\n",
       "      <td>0.0</td>\n",
       "      <td>0.0</td>\n",
       "      <td>1950</td>\n",
       "      <td>150</td>\n",
       "      <td>1</td>\n",
       "      <td>1</td>\n",
       "      <td>1,950.0</td>\n",
       "      <td>63.0</td>\n",
       "      <td>True</td>\n",
       "    </tr>\n",
       "    <tr>\n",
       "      <td>1392</td>\n",
       "      <td>54</td>\n",
       "      <td>5.5</td>\n",
       "      <td>357.0</td>\n",
       "      <td>33.2</td>\n",
       "      <td>16.8</td>\n",
       "      <td>0.0</td>\n",
       "      <td>0.0</td>\n",
       "      <td>0.0</td>\n",
       "      <td>1950</td>\n",
       "      <td>150</td>\n",
       "      <td>1</td>\n",
       "      <td>1</td>\n",
       "      <td>1,950.0</td>\n",
       "      <td>212.0</td>\n",
       "      <td>False</td>\n",
       "    </tr>\n",
       "    <tr>\n",
       "      <td>1399</td>\n",
       "      <td>31</td>\n",
       "      <td>11.5</td>\n",
       "      <td>303.5</td>\n",
       "      <td>65.0</td>\n",
       "      <td>2.5</td>\n",
       "      <td>0.0</td>\n",
       "      <td>0.0</td>\n",
       "      <td>0.0</td>\n",
       "      <td>1950</td>\n",
       "      <td>150</td>\n",
       "      <td>1</td>\n",
       "      <td>1</td>\n",
       "      <td>1,950.0</td>\n",
       "      <td>49.0</td>\n",
       "      <td>False</td>\n",
       "    </tr>\n",
       "    <tr>\n",
       "      <td>1416</td>\n",
       "      <td>50</td>\n",
       "      <td>9.5</td>\n",
       "      <td>704.5</td>\n",
       "      <td>75.8</td>\n",
       "      <td>18.3</td>\n",
       "      <td>0.0</td>\n",
       "      <td>0.0</td>\n",
       "      <td>0.0</td>\n",
       "      <td>1950</td>\n",
       "      <td>150</td>\n",
       "      <td>1</td>\n",
       "      <td>1</td>\n",
       "      <td>1,950.0</td>\n",
       "      <td>151.0</td>\n",
       "      <td>False</td>\n",
       "    </tr>\n",
       "  </tbody>\n",
       "</table>\n",
       "</div>"
      ],
      "text/plain": [
       "         age  billing_month  duration  message_count  gb_used  messages_over  \\\n",
       "user_id                                                                        \n",
       "1019      63            7.5     335.8           18.3     16.0            0.0   \n",
       "1050      44            8.0     170.2           32.8     20.2            0.0   \n",
       "1063      45            8.0     712.0            0.0     17.2            0.0   \n",
       "1090      54           11.0     362.7           14.0     12.3            0.0   \n",
       "1128      51           12.0       0.0            0.0      0.0            0.0   \n",
       "1201      32           10.0     668.6            0.0      8.0            0.0   \n",
       "1254      75            4.5     493.6            0.0     21.4            0.0   \n",
       "1255      40            5.5     192.0            0.0     31.1            0.0   \n",
       "1265      24            8.0     517.6           57.6     25.0            0.0   \n",
       "1271      69            9.0     341.6           86.4     18.0            0.0   \n",
       "1343      30            9.0     353.7           59.3      5.7            0.0   \n",
       "1367      43           10.0     360.3            0.0     15.3            0.0   \n",
       "1392      54            5.5     357.0           33.2     16.8            0.0   \n",
       "1399      31           11.5     303.5           65.0      2.5            0.0   \n",
       "1416      50            9.5     704.5           75.8     18.3            0.0   \n",
       "\n",
       "         gb_over  minutes_over  rub_monthly_fee  rub_per_gb  rub_per_message  \\\n",
       "user_id                                                                        \n",
       "1019         0.0           0.0             1950         150                1   \n",
       "1050         1.0           0.0             1950         150                1   \n",
       "1063         0.0           0.0             1950         150                1   \n",
       "1090         0.0           0.0             1950         150                1   \n",
       "1128         0.0           0.0             1950         150                1   \n",
       "1201         0.0           0.0             1950         150                1   \n",
       "1254         0.0           0.0             1950         150                1   \n",
       "1255         6.6           0.0             1950         150                1   \n",
       "1265         4.4           0.0             1950         150                1   \n",
       "1271         0.0           0.0             1950         150                1   \n",
       "1343         0.0           0.0             1950         150                1   \n",
       "1367         0.0           0.0             1950         150                1   \n",
       "1392         0.0           0.0             1950         150                1   \n",
       "1399         0.0           0.0             1950         150                1   \n",
       "1416         0.0           0.0             1950         150                1   \n",
       "\n",
       "         rub_per_minute  monthly_payment  use_period  is_moscow  \n",
       "user_id                                                          \n",
       "1019                  1          1,950.0       142.0      False  \n",
       "1050                  1          2,100.0       109.0      False  \n",
       "1063                  1          1,950.0       243.0      False  \n",
       "1090                  1          1,950.0        53.0      False  \n",
       "1128                  1          1,950.0         8.0      False  \n",
       "1201                  1          1,950.0       119.0       True  \n",
       "1254                  1          1,950.0       225.0       True  \n",
       "1255                  1          2,943.8       195.0      False  \n",
       "1265                  1          2,610.0       102.0      False  \n",
       "1271                  1          1,950.0       122.0      False  \n",
       "1343                  1          1,950.0        74.0      False  \n",
       "1367                  1          1,950.0        63.0       True  \n",
       "1392                  1          1,950.0       212.0      False  \n",
       "1399                  1          1,950.0        49.0      False  \n",
       "1416                  1          1,950.0       151.0      False  "
      ]
     },
     "execution_count": 49,
     "metadata": {},
     "output_type": "execute_result"
    }
   ],
   "source": [
    "ultra_churn = df_final.query('tariff == \"ultra\" and use_period > 0').groupby(by='user_id').mean()\n",
    "ultra_churn"
   ]
  },
  {
   "cell_type": "markdown",
   "id": "1cef1c4e",
   "metadata": {},
   "source": [
    "Почти все абоненты не превышали лимиты тарифа \"Ультра\", а большинство из них пользовалось преимущественно интернетом, звонками и сообщениями не превышая лимиты, установленные даже для тарифа \"Смарт\". При этом многие из них использовали тариф дольше трех месяцев. Судя по всему, абоненты просто отказались от тарифа \"Ультра\" в пользу более дешевого тарифа. Это обстоятельство стоит учесть для тех 7% пользователей тарифа \"Ультра\", которые тратят пакеты меньше, чем даются в тарифе \"Смарт\"- они могут сменить тариф и уйти к другому оператору. Следует предусмотреть меры, чтобы оставить их на тарифе \"Ультра\" или хотя бы перевести на тариф \"Смарт\", чтобы не потерять их вообще.\n",
    "\n",
    "Так же проанализируем абонентов тарифа \"Смарт\", прекративших использование."
   ]
  },
  {
   "cell_type": "code",
   "execution_count": 50,
   "id": "72325e33",
   "metadata": {},
   "outputs": [
    {
     "data": {
      "text/html": [
       "<div>\n",
       "<style scoped>\n",
       "    .dataframe tbody tr th:only-of-type {\n",
       "        vertical-align: middle;\n",
       "    }\n",
       "\n",
       "    .dataframe tbody tr th {\n",
       "        vertical-align: top;\n",
       "    }\n",
       "\n",
       "    .dataframe thead th {\n",
       "        text-align: right;\n",
       "    }\n",
       "</style>\n",
       "<table border=\"1\" class=\"dataframe\">\n",
       "  <thead>\n",
       "    <tr style=\"text-align: right;\">\n",
       "      <th></th>\n",
       "      <th>age</th>\n",
       "      <th>billing_month</th>\n",
       "      <th>duration</th>\n",
       "      <th>message_count</th>\n",
       "      <th>gb_used</th>\n",
       "      <th>messages_over</th>\n",
       "      <th>gb_over</th>\n",
       "      <th>minutes_over</th>\n",
       "      <th>rub_monthly_fee</th>\n",
       "      <th>rub_per_gb</th>\n",
       "      <th>rub_per_message</th>\n",
       "      <th>rub_per_minute</th>\n",
       "      <th>monthly_payment</th>\n",
       "      <th>use_period</th>\n",
       "      <th>is_moscow</th>\n",
       "    </tr>\n",
       "    <tr>\n",
       "      <th>user_id</th>\n",
       "      <th></th>\n",
       "      <th></th>\n",
       "      <th></th>\n",
       "      <th></th>\n",
       "      <th></th>\n",
       "      <th></th>\n",
       "      <th></th>\n",
       "      <th></th>\n",
       "      <th></th>\n",
       "      <th></th>\n",
       "      <th></th>\n",
       "      <th></th>\n",
       "      <th></th>\n",
       "      <th></th>\n",
       "      <th></th>\n",
       "    </tr>\n",
       "  </thead>\n",
       "  <tbody>\n",
       "    <tr>\n",
       "      <td>1020</td>\n",
       "      <td>59</td>\n",
       "      <td>11.0</td>\n",
       "      <td>394.7</td>\n",
       "      <td>12.7</td>\n",
       "      <td>11.0</td>\n",
       "      <td>0.0</td>\n",
       "      <td>1.0</td>\n",
       "      <td>46.0</td>\n",
       "      <td>550</td>\n",
       "      <td>200</td>\n",
       "      <td>3</td>\n",
       "      <td>3</td>\n",
       "      <td>888.0</td>\n",
       "      <td>57.0</td>\n",
       "      <td>False</td>\n",
       "    </tr>\n",
       "    <tr>\n",
       "      <td>1034</td>\n",
       "      <td>66</td>\n",
       "      <td>9.5</td>\n",
       "      <td>425.8</td>\n",
       "      <td>25.5</td>\n",
       "      <td>12.8</td>\n",
       "      <td>0.0</td>\n",
       "      <td>1.8</td>\n",
       "      <td>53.8</td>\n",
       "      <td>550</td>\n",
       "      <td>200</td>\n",
       "      <td>3</td>\n",
       "      <td>3</td>\n",
       "      <td>1,061.2</td>\n",
       "      <td>87.0</td>\n",
       "      <td>False</td>\n",
       "    </tr>\n",
       "    <tr>\n",
       "      <td>1051</td>\n",
       "      <td>37</td>\n",
       "      <td>7.5</td>\n",
       "      <td>274.8</td>\n",
       "      <td>2.5</td>\n",
       "      <td>14.0</td>\n",
       "      <td>0.0</td>\n",
       "      <td>2.3</td>\n",
       "      <td>0.0</td>\n",
       "      <td>550</td>\n",
       "      <td>200</td>\n",
       "      <td>3</td>\n",
       "      <td>3</td>\n",
       "      <td>1,016.7</td>\n",
       "      <td>139.0</td>\n",
       "      <td>True</td>\n",
       "    </tr>\n",
       "    <tr>\n",
       "      <td>1056</td>\n",
       "      <td>73</td>\n",
       "      <td>7.0</td>\n",
       "      <td>303.0</td>\n",
       "      <td>34.3</td>\n",
       "      <td>14.1</td>\n",
       "      <td>0.0</td>\n",
       "      <td>1.6</td>\n",
       "      <td>0.0</td>\n",
       "      <td>550</td>\n",
       "      <td>200</td>\n",
       "      <td>3</td>\n",
       "      <td>3</td>\n",
       "      <td>864.3</td>\n",
       "      <td>184.0</td>\n",
       "      <td>False</td>\n",
       "    </tr>\n",
       "    <tr>\n",
       "      <td>1062</td>\n",
       "      <td>24</td>\n",
       "      <td>11.5</td>\n",
       "      <td>332.0</td>\n",
       "      <td>13.0</td>\n",
       "      <td>6.0</td>\n",
       "      <td>0.0</td>\n",
       "      <td>0.0</td>\n",
       "      <td>0.0</td>\n",
       "      <td>550</td>\n",
       "      <td>200</td>\n",
       "      <td>3</td>\n",
       "      <td>3</td>\n",
       "      <td>550.0</td>\n",
       "      <td>23.0</td>\n",
       "      <td>True</td>\n",
       "    </tr>\n",
       "    <tr>\n",
       "      <td>1064</td>\n",
       "      <td>55</td>\n",
       "      <td>7.5</td>\n",
       "      <td>337.7</td>\n",
       "      <td>35.1</td>\n",
       "      <td>18.5</td>\n",
       "      <td>0.0</td>\n",
       "      <td>4.4</td>\n",
       "      <td>0.0</td>\n",
       "      <td>550</td>\n",
       "      <td>200</td>\n",
       "      <td>3</td>\n",
       "      <td>3</td>\n",
       "      <td>1,430.0</td>\n",
       "      <td>284.0</td>\n",
       "      <td>False</td>\n",
       "    </tr>\n",
       "    <tr>\n",
       "      <td>1065</td>\n",
       "      <td>53</td>\n",
       "      <td>7.5</td>\n",
       "      <td>442.8</td>\n",
       "      <td>59.4</td>\n",
       "      <td>21.9</td>\n",
       "      <td>12.6</td>\n",
       "      <td>7.8</td>\n",
       "      <td>8.5</td>\n",
       "      <td>550</td>\n",
       "      <td>200</td>\n",
       "      <td>3</td>\n",
       "      <td>3</td>\n",
       "      <td>2,173.3</td>\n",
       "      <td>276.0</td>\n",
       "      <td>True</td>\n",
       "    </tr>\n",
       "    <tr>\n",
       "      <td>1071</td>\n",
       "      <td>20</td>\n",
       "      <td>4.5</td>\n",
       "      <td>282.6</td>\n",
       "      <td>16.6</td>\n",
       "      <td>16.8</td>\n",
       "      <td>0.0</td>\n",
       "      <td>1.9</td>\n",
       "      <td>0.0</td>\n",
       "      <td>550</td>\n",
       "      <td>200</td>\n",
       "      <td>3</td>\n",
       "      <td>3</td>\n",
       "      <td>925.0</td>\n",
       "      <td>234.0</td>\n",
       "      <td>False</td>\n",
       "    </tr>\n",
       "    <tr>\n",
       "      <td>1161</td>\n",
       "      <td>65</td>\n",
       "      <td>9.0</td>\n",
       "      <td>274.0</td>\n",
       "      <td>33.6</td>\n",
       "      <td>15.6</td>\n",
       "      <td>0.0</td>\n",
       "      <td>2.6</td>\n",
       "      <td>0.0</td>\n",
       "      <td>550</td>\n",
       "      <td>200</td>\n",
       "      <td>3</td>\n",
       "      <td>3</td>\n",
       "      <td>1,070.0</td>\n",
       "      <td>127.0</td>\n",
       "      <td>False</td>\n",
       "    </tr>\n",
       "    <tr>\n",
       "      <td>1163</td>\n",
       "      <td>21</td>\n",
       "      <td>11.5</td>\n",
       "      <td>293.0</td>\n",
       "      <td>27.5</td>\n",
       "      <td>11.5</td>\n",
       "      <td>0.0</td>\n",
       "      <td>0.0</td>\n",
       "      <td>0.0</td>\n",
       "      <td>550</td>\n",
       "      <td>200</td>\n",
       "      <td>3</td>\n",
       "      <td>3</td>\n",
       "      <td>550.0</td>\n",
       "      <td>43.0</td>\n",
       "      <td>True</td>\n",
       "    </tr>\n",
       "    <tr>\n",
       "      <td>1191</td>\n",
       "      <td>64</td>\n",
       "      <td>8.0</td>\n",
       "      <td>270.2</td>\n",
       "      <td>64.8</td>\n",
       "      <td>14.6</td>\n",
       "      <td>32.8</td>\n",
       "      <td>4.8</td>\n",
       "      <td>0.0</td>\n",
       "      <td>550</td>\n",
       "      <td>200</td>\n",
       "      <td>3</td>\n",
       "      <td>3</td>\n",
       "      <td>1,608.4</td>\n",
       "      <td>95.0</td>\n",
       "      <td>False</td>\n",
       "    </tr>\n",
       "    <tr>\n",
       "      <td>1206</td>\n",
       "      <td>35</td>\n",
       "      <td>11.5</td>\n",
       "      <td>196.0</td>\n",
       "      <td>11.0</td>\n",
       "      <td>10.0</td>\n",
       "      <td>0.0</td>\n",
       "      <td>0.0</td>\n",
       "      <td>0.0</td>\n",
       "      <td>550</td>\n",
       "      <td>200</td>\n",
       "      <td>3</td>\n",
       "      <td>3</td>\n",
       "      <td>550.0</td>\n",
       "      <td>47.0</td>\n",
       "      <td>True</td>\n",
       "    </tr>\n",
       "    <tr>\n",
       "      <td>1232</td>\n",
       "      <td>60</td>\n",
       "      <td>10.5</td>\n",
       "      <td>222.5</td>\n",
       "      <td>26.0</td>\n",
       "      <td>9.5</td>\n",
       "      <td>0.0</td>\n",
       "      <td>0.0</td>\n",
       "      <td>0.0</td>\n",
       "      <td>550</td>\n",
       "      <td>200</td>\n",
       "      <td>3</td>\n",
       "      <td>3</td>\n",
       "      <td>550.0</td>\n",
       "      <td>54.0</td>\n",
       "      <td>False</td>\n",
       "    </tr>\n",
       "    <tr>\n",
       "      <td>1242</td>\n",
       "      <td>39</td>\n",
       "      <td>11.5</td>\n",
       "      <td>166.0</td>\n",
       "      <td>0.0</td>\n",
       "      <td>7.0</td>\n",
       "      <td>0.0</td>\n",
       "      <td>0.0</td>\n",
       "      <td>0.0</td>\n",
       "      <td>550</td>\n",
       "      <td>200</td>\n",
       "      <td>3</td>\n",
       "      <td>3</td>\n",
       "      <td>550.0</td>\n",
       "      <td>33.0</td>\n",
       "      <td>False</td>\n",
       "    </tr>\n",
       "    <tr>\n",
       "      <td>1293</td>\n",
       "      <td>39</td>\n",
       "      <td>10.0</td>\n",
       "      <td>158.3</td>\n",
       "      <td>30.0</td>\n",
       "      <td>10.3</td>\n",
       "      <td>0.0</td>\n",
       "      <td>0.0</td>\n",
       "      <td>0.0</td>\n",
       "      <td>550</td>\n",
       "      <td>200</td>\n",
       "      <td>3</td>\n",
       "      <td>3</td>\n",
       "      <td>550.0</td>\n",
       "      <td>78.0</td>\n",
       "      <td>False</td>\n",
       "    </tr>\n",
       "    <tr>\n",
       "      <td>1353</td>\n",
       "      <td>57</td>\n",
       "      <td>7.5</td>\n",
       "      <td>325.4</td>\n",
       "      <td>48.1</td>\n",
       "      <td>17.4</td>\n",
       "      <td>3.0</td>\n",
       "      <td>3.5</td>\n",
       "      <td>0.0</td>\n",
       "      <td>550</td>\n",
       "      <td>200</td>\n",
       "      <td>3</td>\n",
       "      <td>3</td>\n",
       "      <td>1,259.0</td>\n",
       "      <td>218.0</td>\n",
       "      <td>False</td>\n",
       "    </tr>\n",
       "    <tr>\n",
       "      <td>1355</td>\n",
       "      <td>33</td>\n",
       "      <td>9.0</td>\n",
       "      <td>322.4</td>\n",
       "      <td>16.0</td>\n",
       "      <td>14.6</td>\n",
       "      <td>0.0</td>\n",
       "      <td>2.0</td>\n",
       "      <td>6.2</td>\n",
       "      <td>550</td>\n",
       "      <td>200</td>\n",
       "      <td>3</td>\n",
       "      <td>3</td>\n",
       "      <td>968.6</td>\n",
       "      <td>129.0</td>\n",
       "      <td>False</td>\n",
       "    </tr>\n",
       "    <tr>\n",
       "      <td>1370</td>\n",
       "      <td>48</td>\n",
       "      <td>6.0</td>\n",
       "      <td>154.7</td>\n",
       "      <td>0.0</td>\n",
       "      <td>16.1</td>\n",
       "      <td>0.0</td>\n",
       "      <td>1.9</td>\n",
       "      <td>0.0</td>\n",
       "      <td>550</td>\n",
       "      <td>200</td>\n",
       "      <td>3</td>\n",
       "      <td>3</td>\n",
       "      <td>927.8</td>\n",
       "      <td>263.0</td>\n",
       "      <td>False</td>\n",
       "    </tr>\n",
       "    <tr>\n",
       "      <td>1371</td>\n",
       "      <td>50</td>\n",
       "      <td>12.0</td>\n",
       "      <td>0.0</td>\n",
       "      <td>0.0</td>\n",
       "      <td>0.0</td>\n",
       "      <td>0.0</td>\n",
       "      <td>0.0</td>\n",
       "      <td>0.0</td>\n",
       "      <td>550</td>\n",
       "      <td>200</td>\n",
       "      <td>3</td>\n",
       "      <td>3</td>\n",
       "      <td>550.0</td>\n",
       "      <td>5.0</td>\n",
       "      <td>False</td>\n",
       "    </tr>\n",
       "    <tr>\n",
       "      <td>1422</td>\n",
       "      <td>60</td>\n",
       "      <td>11.0</td>\n",
       "      <td>296.7</td>\n",
       "      <td>34.0</td>\n",
       "      <td>9.0</td>\n",
       "      <td>0.0</td>\n",
       "      <td>0.0</td>\n",
       "      <td>0.0</td>\n",
       "      <td>550</td>\n",
       "      <td>200</td>\n",
       "      <td>3</td>\n",
       "      <td>3</td>\n",
       "      <td>550.0</td>\n",
       "      <td>70.0</td>\n",
       "      <td>True</td>\n",
       "    </tr>\n",
       "    <tr>\n",
       "      <td>1438</td>\n",
       "      <td>24</td>\n",
       "      <td>11.0</td>\n",
       "      <td>299.3</td>\n",
       "      <td>56.0</td>\n",
       "      <td>11.3</td>\n",
       "      <td>6.3</td>\n",
       "      <td>0.0</td>\n",
       "      <td>0.0</td>\n",
       "      <td>550</td>\n",
       "      <td>200</td>\n",
       "      <td>3</td>\n",
       "      <td>3</td>\n",
       "      <td>569.0</td>\n",
       "      <td>80.0</td>\n",
       "      <td>False</td>\n",
       "    </tr>\n",
       "    <tr>\n",
       "      <td>1480</td>\n",
       "      <td>29</td>\n",
       "      <td>5.5</td>\n",
       "      <td>401.0</td>\n",
       "      <td>20.1</td>\n",
       "      <td>14.2</td>\n",
       "      <td>0.0</td>\n",
       "      <td>0.8</td>\n",
       "      <td>3.9</td>\n",
       "      <td>550</td>\n",
       "      <td>200</td>\n",
       "      <td>3</td>\n",
       "      <td>3</td>\n",
       "      <td>711.6</td>\n",
       "      <td>224.0</td>\n",
       "      <td>False</td>\n",
       "    </tr>\n",
       "    <tr>\n",
       "      <td>1498</td>\n",
       "      <td>68</td>\n",
       "      <td>8.5</td>\n",
       "      <td>306.0</td>\n",
       "      <td>42.0</td>\n",
       "      <td>18.8</td>\n",
       "      <td>3.0</td>\n",
       "      <td>5.5</td>\n",
       "      <td>0.0</td>\n",
       "      <td>550</td>\n",
       "      <td>200</td>\n",
       "      <td>3</td>\n",
       "      <td>3</td>\n",
       "      <td>1,659.0</td>\n",
       "      <td>98.0</td>\n",
       "      <td>False</td>\n",
       "    </tr>\n",
       "  </tbody>\n",
       "</table>\n",
       "</div>"
      ],
      "text/plain": [
       "         age  billing_month  duration  message_count  gb_used  messages_over  \\\n",
       "user_id                                                                        \n",
       "1020      59           11.0     394.7           12.7     11.0            0.0   \n",
       "1034      66            9.5     425.8           25.5     12.8            0.0   \n",
       "1051      37            7.5     274.8            2.5     14.0            0.0   \n",
       "1056      73            7.0     303.0           34.3     14.1            0.0   \n",
       "1062      24           11.5     332.0           13.0      6.0            0.0   \n",
       "1064      55            7.5     337.7           35.1     18.5            0.0   \n",
       "1065      53            7.5     442.8           59.4     21.9           12.6   \n",
       "1071      20            4.5     282.6           16.6     16.8            0.0   \n",
       "1161      65            9.0     274.0           33.6     15.6            0.0   \n",
       "1163      21           11.5     293.0           27.5     11.5            0.0   \n",
       "1191      64            8.0     270.2           64.8     14.6           32.8   \n",
       "1206      35           11.5     196.0           11.0     10.0            0.0   \n",
       "1232      60           10.5     222.5           26.0      9.5            0.0   \n",
       "1242      39           11.5     166.0            0.0      7.0            0.0   \n",
       "1293      39           10.0     158.3           30.0     10.3            0.0   \n",
       "1353      57            7.5     325.4           48.1     17.4            3.0   \n",
       "1355      33            9.0     322.4           16.0     14.6            0.0   \n",
       "1370      48            6.0     154.7            0.0     16.1            0.0   \n",
       "1371      50           12.0       0.0            0.0      0.0            0.0   \n",
       "1422      60           11.0     296.7           34.0      9.0            0.0   \n",
       "1438      24           11.0     299.3           56.0     11.3            6.3   \n",
       "1480      29            5.5     401.0           20.1     14.2            0.0   \n",
       "1498      68            8.5     306.0           42.0     18.8            3.0   \n",
       "\n",
       "         gb_over  minutes_over  rub_monthly_fee  rub_per_gb  rub_per_message  \\\n",
       "user_id                                                                        \n",
       "1020         1.0          46.0              550         200                3   \n",
       "1034         1.8          53.8              550         200                3   \n",
       "1051         2.3           0.0              550         200                3   \n",
       "1056         1.6           0.0              550         200                3   \n",
       "1062         0.0           0.0              550         200                3   \n",
       "1064         4.4           0.0              550         200                3   \n",
       "1065         7.8           8.5              550         200                3   \n",
       "1071         1.9           0.0              550         200                3   \n",
       "1161         2.6           0.0              550         200                3   \n",
       "1163         0.0           0.0              550         200                3   \n",
       "1191         4.8           0.0              550         200                3   \n",
       "1206         0.0           0.0              550         200                3   \n",
       "1232         0.0           0.0              550         200                3   \n",
       "1242         0.0           0.0              550         200                3   \n",
       "1293         0.0           0.0              550         200                3   \n",
       "1353         3.5           0.0              550         200                3   \n",
       "1355         2.0           6.2              550         200                3   \n",
       "1370         1.9           0.0              550         200                3   \n",
       "1371         0.0           0.0              550         200                3   \n",
       "1422         0.0           0.0              550         200                3   \n",
       "1438         0.0           0.0              550         200                3   \n",
       "1480         0.8           3.9              550         200                3   \n",
       "1498         5.5           0.0              550         200                3   \n",
       "\n",
       "         rub_per_minute  monthly_payment  use_period  is_moscow  \n",
       "user_id                                                          \n",
       "1020                  3            888.0        57.0      False  \n",
       "1034                  3          1,061.2        87.0      False  \n",
       "1051                  3          1,016.7       139.0       True  \n",
       "1056                  3            864.3       184.0      False  \n",
       "1062                  3            550.0        23.0       True  \n",
       "1064                  3          1,430.0       284.0      False  \n",
       "1065                  3          2,173.3       276.0       True  \n",
       "1071                  3            925.0       234.0      False  \n",
       "1161                  3          1,070.0       127.0      False  \n",
       "1163                  3            550.0        43.0       True  \n",
       "1191                  3          1,608.4        95.0      False  \n",
       "1206                  3            550.0        47.0       True  \n",
       "1232                  3            550.0        54.0      False  \n",
       "1242                  3            550.0        33.0      False  \n",
       "1293                  3            550.0        78.0      False  \n",
       "1353                  3          1,259.0       218.0      False  \n",
       "1355                  3            968.6       129.0      False  \n",
       "1370                  3            927.8       263.0      False  \n",
       "1371                  3            550.0         5.0      False  \n",
       "1422                  3            550.0        70.0       True  \n",
       "1438                  3            569.0        80.0      False  \n",
       "1480                  3            711.6       224.0      False  \n",
       "1498                  3          1,659.0        98.0      False  "
      ]
     },
     "execution_count": 50,
     "metadata": {},
     "output_type": "execute_result"
    }
   ],
   "source": [
    "smart_churn = df_final.query('tariff == \"smart\" and use_period > 0').groupby(by='user_id').mean()\n",
    "smart_churn"
   ]
  },
  {
   "cell_type": "markdown",
   "id": "beb2e2aa",
   "metadata": {},
   "source": [
    "Здесь абоненты разделились на две группы. Первая из них- около половины пользователей- не тратят больше абонентской платы, используют чуть больше половины выделенных минут и интернет-трафика и почти не используют сообщения. Все они использовали тариф \"Смарт\" недолго- не более трех месяцев. Скорее всего, эти абоненты нашли подходящие им тарифы дешевле у других операторов связи. Нужно отслеживать динамику ухода таких абонентов и, при необходимости, предусмотреть для них какой-то базовый тариф по сниженной цене.\n",
    "\n",
    "Вторая группа абонентов тратят ощутимо больше абонентской платы- больше 850 рублей в месяц. Они активно используют интернет, почти не превышая лимит по звонкам и сообщениям. Из-за высокой стоимости дополнительных пакетов трафика они платят довольно много и, возможно, нашли более подходящие им тарифы у других операторов. 4 человека из выборки платят больше 1500 в месяц. Возможно, их можно было удержать, предложив им перейти на тариф \"Ультра\", где как раз больше пакет интернет-трафика."
   ]
  },
  {
   "cell_type": "markdown",
   "id": "f336ce78",
   "metadata": {},
   "source": [
    "### Вывод\n",
    "В данном разделе выполнили анализ данных. По результатам анализа можно сделать следующие выводы:\n",
    "\n",
    "Пользователи тарифа \"Ультра\" в среднем тратят на 800 рублей больше, чем пользователи тарифа \"Смарт\", но при этом подавляющее большинство из них не превышает или превышает незначительно абонентскую плату по тарифу. Пользователи тарифа \"Смарт\" же наоборот- половина из них тратит больше 1000 рублей в месяц при размере абонентской платы в 550 рублей. \n",
    "\n",
    "Нельзя однозначно сказать, какой тариф лучше для всех абонентов и для компании. Нужно выделить категории пользователей и подходить к каждой из них индивидуально:\n",
    "* В категории средних расходов- абонентов, которые в обоих тарифах тратят больше половины выделенных минут разговора и больше половины трафика,- было бы выгоднее перевести всех на тариф \"Ультра\". Так бы выручка компании с этих абонентов увеличилась. Здесь следует предусмотреть механизмы убеждения пользователей сменить тариф \"Смарт\" на \"Ультру\". Особенное внимание следует уделить абонентам \"Смарта\", которые тратят от 1500 до 1950 рублей в месяц, разделить их на возрастные категории и в каждой категории по-своему убеждать абонентов сменить тариф, аргументируя повышенными пакетами минут, сообщений или трафика. Следует учесть, что абоненты тратят больше денег с октября по декабрь, поэтому аргументы будут звучать убедительнее именно в это время на фоне повышенных расходов пользователей. \n",
    "* Категория низких расходов- абоненты обоих тарифов, использующих мало минут, трафика и сообщений. Такие абоненты попросту уходят из тарифа \"Ультра\" и покупают более дешевые тарифы. Нужно продумать механизмы отслеживания таких пользователей, чтобы вовремя предложить им перейти на тариф \"Смарт\" и не потерять их вообще. Из тарифа \"Смарт\" такие абоненты уходят менее активно- тариф дешевле и не так ощущается в общем бюджете абонента. При необходимости можно предусмотреть тариф со сниженной ценой, чтобы оставить таких абонентов в компании. \n",
    "* Категория высоких расходов - абоненты тарифа \"Смарт\", чьи расходы в месяц превышают 1950 рублей. Для компании было бы выгоднее, чтобы эти абоненты оставались на тарифе \"Смарт\", так как при переходе на тариф \"Ультра\" они будут платить 1950 рублей- эти абоненты не превышают лимиты тарифа \"Ультра\" и не будут докупать дополнительные пакеты звонков, сообщений и трафика. Но здесь тоже следует отслеживать динамику ухода этих абонентов. Если их будет уходить слишком много, то стоит перевести их на тариф \"Ультра\".\n",
    "\n",
    "Также можно сделать вывод, что абоненты из Москвы практически не отличаются от абонентов из других городов- все они платят около 1500 рублей в месяц, используя при этом примерно одинаковое количество минут, сообщений и трафика из пакетов."
   ]
  },
  {
   "cell_type": "markdown",
   "id": "26ced3fa",
   "metadata": {},
   "source": [
    "## Общий вывод\n",
    "\n",
    "1. В ходе работы над проектом были изучены файлы, в которых хранится основная информация об абонентах сети \"Мегалайн\". Данные сохраняются без ошибок, ввод данных корректен и не встречается неявных дубликатов. Данные были объединены в структурированные таблицы по каждому пользователю и подготовлены к анализу. Для наиболее полного анализа были введены дополнительные столбцы, содержащие информацию о возрастной категории абонента и, в случае прекращения использования, срока использования тарифа.\n",
    "\n",
    "2. В результате анализа данных было определено, что при прочих равным наиболее выгодням тарифом для компании является тариф \"Ультра\", однако переводить на него всех абонентов сети не рекомендуется, так как высока вероятность потерять часть абонентов, которые будут недовольны высокой ценой тарифа. Для достижения наибольшей выгоды рекомендуется разделить пользователей каждого тарифа на категории по полноте использования и в каждой категории проводить свои мероприятия по повышению лояльности абонентов.\n",
    "\n",
    "3. В целом, можно сделать вывод, что результаты исследования дают ответ на главный вопрос проекта- какой тариф выгоднее. "
   ]
  }
 ],
 "metadata": {
  "ExecuteTimeLog": [
   {
    "duration": 1174,
    "start_time": "2022-03-20T14:36:40.583Z"
   },
   {
    "duration": 58,
    "start_time": "2022-03-20T14:36:41.759Z"
   },
   {
    "duration": 6,
    "start_time": "2022-03-20T14:36:41.818Z"
   },
   {
    "duration": 16,
    "start_time": "2022-03-20T14:36:41.826Z"
   },
   {
    "duration": 7,
    "start_time": "2022-03-20T14:36:41.843Z"
   },
   {
    "duration": 335,
    "start_time": "2022-03-20T14:36:41.851Z"
   },
   {
    "duration": 54,
    "start_time": "2022-03-20T14:36:42.187Z"
   },
   {
    "duration": 182,
    "start_time": "2022-03-20T14:36:42.243Z"
   },
   {
    "duration": 54,
    "start_time": "2022-03-20T14:36:42.427Z"
   },
   {
    "duration": 448,
    "start_time": "2022-03-20T14:36:42.484Z"
   },
   {
    "duration": 51,
    "start_time": "2022-03-20T14:36:42.933Z"
   },
   {
    "duration": 23,
    "start_time": "2022-03-20T14:36:42.985Z"
   },
   {
    "duration": 30,
    "start_time": "2022-03-20T14:36:43.010Z"
   },
   {
    "duration": 55,
    "start_time": "2022-03-20T14:36:43.042Z"
   },
   {
    "duration": 13,
    "start_time": "2022-03-20T14:36:43.099Z"
   },
   {
    "duration": 6,
    "start_time": "2022-03-20T14:36:43.114Z"
   },
   {
    "duration": 21,
    "start_time": "2022-03-20T14:36:43.121Z"
   },
   {
    "duration": 37,
    "start_time": "2022-03-20T14:36:43.163Z"
   },
   {
    "duration": 43,
    "start_time": "2022-03-20T14:36:43.202Z"
   },
   {
    "duration": 8,
    "start_time": "2022-03-20T14:36:43.263Z"
   },
   {
    "duration": 5,
    "start_time": "2022-03-20T14:36:43.273Z"
   },
   {
    "duration": 245,
    "start_time": "2022-03-20T14:36:43.280Z"
   },
   {
    "duration": 15,
    "start_time": "2022-03-20T14:36:43.527Z"
   },
   {
    "duration": 27,
    "start_time": "2022-03-20T14:36:43.543Z"
   },
   {
    "duration": 4,
    "start_time": "2022-03-20T14:36:43.572Z"
   },
   {
    "duration": 16,
    "start_time": "2022-03-20T14:36:43.577Z"
   },
   {
    "duration": 4,
    "start_time": "2022-03-20T14:36:43.595Z"
   },
   {
    "duration": 11,
    "start_time": "2022-03-20T14:36:43.603Z"
   },
   {
    "duration": 5,
    "start_time": "2022-03-20T14:36:43.616Z"
   },
   {
    "duration": 52,
    "start_time": "2022-03-20T14:36:43.623Z"
   },
   {
    "duration": 221,
    "start_time": "2022-03-20T14:36:43.677Z"
   },
   {
    "duration": 274,
    "start_time": "2022-03-20T14:36:43.900Z"
   },
   {
    "duration": 181,
    "start_time": "2022-03-20T14:36:44.176Z"
   },
   {
    "duration": 181,
    "start_time": "2022-03-20T14:36:44.363Z"
   },
   {
    "duration": 177,
    "start_time": "2022-03-20T14:36:44.546Z"
   },
   {
    "duration": 10,
    "start_time": "2022-03-20T14:36:44.724Z"
   },
   {
    "duration": 27,
    "start_time": "2022-03-20T14:36:44.736Z"
   },
   {
    "duration": 155,
    "start_time": "2022-03-20T14:36:44.764Z"
   },
   {
    "duration": 250,
    "start_time": "2022-03-20T14:36:44.921Z"
   },
   {
    "duration": 163,
    "start_time": "2022-03-20T14:36:45.173Z"
   },
   {
    "duration": 7,
    "start_time": "2022-03-20T14:36:45.338Z"
   },
   {
    "duration": 31,
    "start_time": "2022-03-20T14:36:45.347Z"
   },
   {
    "duration": 21,
    "start_time": "2022-03-20T14:36:45.379Z"
   },
   {
    "duration": 243,
    "start_time": "2022-03-20T15:02:30.007Z"
   },
   {
    "duration": 214,
    "start_time": "2022-03-20T15:02:40.512Z"
   },
   {
    "duration": 13,
    "start_time": "2022-03-20T15:03:59.659Z"
   },
   {
    "duration": 233,
    "start_time": "2022-03-20T15:04:05.593Z"
   },
   {
    "duration": 14,
    "start_time": "2022-03-20T15:04:36.837Z"
   },
   {
    "duration": 355,
    "start_time": "2022-03-20T15:04:40.888Z"
   },
   {
    "duration": 290,
    "start_time": "2022-03-20T15:05:30.683Z"
   },
   {
    "duration": 288,
    "start_time": "2022-03-20T15:06:12.857Z"
   },
   {
    "duration": 370,
    "start_time": "2022-03-20T15:06:53.461Z"
   }
  ],
  "kernelspec": {
   "display_name": "Python 3 (ipykernel)",
   "language": "python",
   "name": "python3"
  },
  "language_info": {
   "codemirror_mode": {
    "name": "ipython",
    "version": 3
   },
   "file_extension": ".py",
   "mimetype": "text/x-python",
   "name": "python",
   "nbconvert_exporter": "python",
   "pygments_lexer": "ipython3",
   "version": "3.9.7"
  },
  "toc": {
   "base_numbering": 1,
   "nav_menu": {},
   "number_sections": true,
   "sideBar": true,
   "skip_h1_title": true,
   "title_cell": "Table of Contents",
   "title_sidebar": "Contents",
   "toc_cell": false,
   "toc_position": {},
   "toc_section_display": true,
   "toc_window_display": false
  }
 },
 "nbformat": 4,
 "nbformat_minor": 5
}
