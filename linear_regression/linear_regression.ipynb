{
 "cells": [
  {
   "cell_type": "markdown",
   "metadata": {},
   "source": [
    "# Защита персональных данных клиентов"
   ]
  },
  {
   "cell_type": "markdown",
   "metadata": {},
   "source": [
    "Цель проекта -  защитить данные клиентов страховой компании «Хоть потоп». Необходимо разработать такой метод преобразования данных, чтобы по ним было сложно восстановить персональную информацию, и обосновать корректность его работы.\n",
    "\n",
    "Нужно защитить данные, чтобы при преобразовании качество моделей машинного обучения не ухудшилось. Подбирать наилучшую модель не требуется."
   ]
  },
  {
   "cell_type": "markdown",
   "metadata": {},
   "source": [
    "## Загрузка данных"
   ]
  },
  {
   "cell_type": "markdown",
   "metadata": {},
   "source": [
    "Импортируем необходимые для работы над проектом библиотеки и метрики."
   ]
  },
  {
   "cell_type": "code",
   "execution_count": 1,
   "metadata": {},
   "outputs": [],
   "source": [
    "import pandas as pd\n",
    "import numpy as np\n",
    "import matplotlib.pyplot as plt\n",
    "import seaborn as sns\n",
    "\n",
    "from sklearn import preprocessing\n",
    "from sklearn.metrics import r2_score\n",
    "from scipy.spatial import distance"
   ]
  },
  {
   "cell_type": "markdown",
   "metadata": {},
   "source": [
    "Загрузим данные и изучим их."
   ]
  },
  {
   "cell_type": "code",
   "execution_count": 2,
   "metadata": {},
   "outputs": [],
   "source": [
    "data = pd.read_csv('datasets/insurance.csv')"
   ]
  },
  {
   "cell_type": "code",
   "execution_count": 3,
   "metadata": {},
   "outputs": [
    {
     "data": {
      "text/html": [
       "<div>\n",
       "<style scoped>\n",
       "    .dataframe tbody tr th:only-of-type {\n",
       "        vertical-align: middle;\n",
       "    }\n",
       "\n",
       "    .dataframe tbody tr th {\n",
       "        vertical-align: top;\n",
       "    }\n",
       "\n",
       "    .dataframe thead th {\n",
       "        text-align: right;\n",
       "    }\n",
       "</style>\n",
       "<table border=\"1\" class=\"dataframe\">\n",
       "  <thead>\n",
       "    <tr style=\"text-align: right;\">\n",
       "      <th></th>\n",
       "      <th>Пол</th>\n",
       "      <th>Возраст</th>\n",
       "      <th>Зарплата</th>\n",
       "      <th>Члены семьи</th>\n",
       "      <th>Страховые выплаты</th>\n",
       "    </tr>\n",
       "  </thead>\n",
       "  <tbody>\n",
       "    <tr>\n",
       "      <th>0</th>\n",
       "      <td>1</td>\n",
       "      <td>41.0</td>\n",
       "      <td>49600.0</td>\n",
       "      <td>1</td>\n",
       "      <td>0</td>\n",
       "    </tr>\n",
       "    <tr>\n",
       "      <th>1</th>\n",
       "      <td>0</td>\n",
       "      <td>46.0</td>\n",
       "      <td>38000.0</td>\n",
       "      <td>1</td>\n",
       "      <td>1</td>\n",
       "    </tr>\n",
       "    <tr>\n",
       "      <th>2</th>\n",
       "      <td>0</td>\n",
       "      <td>29.0</td>\n",
       "      <td>21000.0</td>\n",
       "      <td>0</td>\n",
       "      <td>0</td>\n",
       "    </tr>\n",
       "    <tr>\n",
       "      <th>3</th>\n",
       "      <td>0</td>\n",
       "      <td>21.0</td>\n",
       "      <td>41700.0</td>\n",
       "      <td>2</td>\n",
       "      <td>0</td>\n",
       "    </tr>\n",
       "    <tr>\n",
       "      <th>4</th>\n",
       "      <td>1</td>\n",
       "      <td>28.0</td>\n",
       "      <td>26100.0</td>\n",
       "      <td>0</td>\n",
       "      <td>0</td>\n",
       "    </tr>\n",
       "    <tr>\n",
       "      <th>5</th>\n",
       "      <td>1</td>\n",
       "      <td>43.0</td>\n",
       "      <td>41000.0</td>\n",
       "      <td>2</td>\n",
       "      <td>1</td>\n",
       "    </tr>\n",
       "    <tr>\n",
       "      <th>6</th>\n",
       "      <td>1</td>\n",
       "      <td>39.0</td>\n",
       "      <td>39700.0</td>\n",
       "      <td>2</td>\n",
       "      <td>0</td>\n",
       "    </tr>\n",
       "    <tr>\n",
       "      <th>7</th>\n",
       "      <td>1</td>\n",
       "      <td>25.0</td>\n",
       "      <td>38600.0</td>\n",
       "      <td>4</td>\n",
       "      <td>0</td>\n",
       "    </tr>\n",
       "    <tr>\n",
       "      <th>8</th>\n",
       "      <td>1</td>\n",
       "      <td>36.0</td>\n",
       "      <td>49700.0</td>\n",
       "      <td>1</td>\n",
       "      <td>0</td>\n",
       "    </tr>\n",
       "    <tr>\n",
       "      <th>9</th>\n",
       "      <td>1</td>\n",
       "      <td>32.0</td>\n",
       "      <td>51700.0</td>\n",
       "      <td>1</td>\n",
       "      <td>0</td>\n",
       "    </tr>\n",
       "  </tbody>\n",
       "</table>\n",
       "</div>"
      ],
      "text/plain": [
       "   Пол  Возраст  Зарплата  Члены семьи  Страховые выплаты\n",
       "0    1     41.0   49600.0            1                  0\n",
       "1    0     46.0   38000.0            1                  1\n",
       "2    0     29.0   21000.0            0                  0\n",
       "3    0     21.0   41700.0            2                  0\n",
       "4    1     28.0   26100.0            0                  0\n",
       "5    1     43.0   41000.0            2                  1\n",
       "6    1     39.0   39700.0            2                  0\n",
       "7    1     25.0   38600.0            4                  0\n",
       "8    1     36.0   49700.0            1                  0\n",
       "9    1     32.0   51700.0            1                  0"
      ]
     },
     "metadata": {},
     "output_type": "display_data"
    },
    {
     "name": "stdout",
     "output_type": "stream",
     "text": [
      "<class 'pandas.core.frame.DataFrame'>\n",
      "RangeIndex: 5000 entries, 0 to 4999\n",
      "Data columns (total 5 columns):\n",
      " #   Column             Non-Null Count  Dtype  \n",
      "---  ------             --------------  -----  \n",
      " 0   Пол                5000 non-null   int64  \n",
      " 1   Возраст            5000 non-null   float64\n",
      " 2   Зарплата           5000 non-null   float64\n",
      " 3   Члены семьи        5000 non-null   int64  \n",
      " 4   Страховые выплаты  5000 non-null   int64  \n",
      "dtypes: float64(2), int64(3)\n",
      "memory usage: 195.4 KB\n"
     ]
    },
    {
     "data": {
      "text/plain": [
       "None"
      ]
     },
     "metadata": {},
     "output_type": "display_data"
    },
    {
     "data": {
      "text/html": [
       "<div>\n",
       "<style scoped>\n",
       "    .dataframe tbody tr th:only-of-type {\n",
       "        vertical-align: middle;\n",
       "    }\n",
       "\n",
       "    .dataframe tbody tr th {\n",
       "        vertical-align: top;\n",
       "    }\n",
       "\n",
       "    .dataframe thead th {\n",
       "        text-align: right;\n",
       "    }\n",
       "</style>\n",
       "<table border=\"1\" class=\"dataframe\">\n",
       "  <thead>\n",
       "    <tr style=\"text-align: right;\">\n",
       "      <th></th>\n",
       "      <th>count</th>\n",
       "      <th>mean</th>\n",
       "      <th>std</th>\n",
       "      <th>min</th>\n",
       "      <th>25%</th>\n",
       "      <th>50%</th>\n",
       "      <th>75%</th>\n",
       "      <th>max</th>\n",
       "    </tr>\n",
       "  </thead>\n",
       "  <tbody>\n",
       "    <tr>\n",
       "      <th>Пол</th>\n",
       "      <td>5000.0</td>\n",
       "      <td>0.4990</td>\n",
       "      <td>0.500049</td>\n",
       "      <td>0.0</td>\n",
       "      <td>0.0</td>\n",
       "      <td>0.0</td>\n",
       "      <td>1.0</td>\n",
       "      <td>1.0</td>\n",
       "    </tr>\n",
       "    <tr>\n",
       "      <th>Возраст</th>\n",
       "      <td>5000.0</td>\n",
       "      <td>30.9528</td>\n",
       "      <td>8.440807</td>\n",
       "      <td>18.0</td>\n",
       "      <td>24.0</td>\n",
       "      <td>30.0</td>\n",
       "      <td>37.0</td>\n",
       "      <td>65.0</td>\n",
       "    </tr>\n",
       "    <tr>\n",
       "      <th>Зарплата</th>\n",
       "      <td>5000.0</td>\n",
       "      <td>39916.3600</td>\n",
       "      <td>9900.083569</td>\n",
       "      <td>5300.0</td>\n",
       "      <td>33300.0</td>\n",
       "      <td>40200.0</td>\n",
       "      <td>46600.0</td>\n",
       "      <td>79000.0</td>\n",
       "    </tr>\n",
       "    <tr>\n",
       "      <th>Члены семьи</th>\n",
       "      <td>5000.0</td>\n",
       "      <td>1.1942</td>\n",
       "      <td>1.091387</td>\n",
       "      <td>0.0</td>\n",
       "      <td>0.0</td>\n",
       "      <td>1.0</td>\n",
       "      <td>2.0</td>\n",
       "      <td>6.0</td>\n",
       "    </tr>\n",
       "    <tr>\n",
       "      <th>Страховые выплаты</th>\n",
       "      <td>5000.0</td>\n",
       "      <td>0.1480</td>\n",
       "      <td>0.463183</td>\n",
       "      <td>0.0</td>\n",
       "      <td>0.0</td>\n",
       "      <td>0.0</td>\n",
       "      <td>0.0</td>\n",
       "      <td>5.0</td>\n",
       "    </tr>\n",
       "  </tbody>\n",
       "</table>\n",
       "</div>"
      ],
      "text/plain": [
       "                    count        mean          std     min      25%      50%  \\\n",
       "Пол                5000.0      0.4990     0.500049     0.0      0.0      0.0   \n",
       "Возраст            5000.0     30.9528     8.440807    18.0     24.0     30.0   \n",
       "Зарплата           5000.0  39916.3600  9900.083569  5300.0  33300.0  40200.0   \n",
       "Члены семьи        5000.0      1.1942     1.091387     0.0      0.0      1.0   \n",
       "Страховые выплаты  5000.0      0.1480     0.463183     0.0      0.0      0.0   \n",
       "\n",
       "                       75%      max  \n",
       "Пол                    1.0      1.0  \n",
       "Возраст               37.0     65.0  \n",
       "Зарплата           46600.0  79000.0  \n",
       "Члены семьи            2.0      6.0  \n",
       "Страховые выплаты      0.0      5.0  "
      ]
     },
     "metadata": {},
     "output_type": "display_data"
    }
   ],
   "source": [
    "display(data.head(10))\n",
    "display(data.info())\n",
    "display(data.describe().transpose())"
   ]
  },
  {
   "cell_type": "markdown",
   "metadata": {},
   "source": [
    "Всего в датасете 5000 записей, пропущенных значений нет, пол клиентов распределен примерно пополам, в столбцах с информацией о вохрасте, зарплате, количестве членов семьи и количестве страховых выплат нет явнях выбросов."
   ]
  },
  {
   "cell_type": "markdown",
   "metadata": {},
   "source": [
    "Проанализируем распределение количественных значений в столбцах."
   ]
  },
  {
   "cell_type": "code",
   "execution_count": 4,
   "metadata": {},
   "outputs": [
    {
     "data": {
      "image/png": "[encoded data removed]",
      "text/plain": [
       "<Figure size 1440x576 with 6 Axes>"
      ]
     },
     "metadata": {
      "needs_background": "light"
     },
     "output_type": "display_data"
    }
   ],
   "source": [
    "data.hist(bins=50, figsize=(20,8), color='r', edgecolor='black', linewidth=1)\n",
    "plt.show()"
   ]
  },
  {
   "cell_type": "markdown",
   "metadata": {},
   "source": [
    "Как и было сказано выше, пол распределен примерно пополам, распределение зарплаты клиентов носит вид, близкий к нормальному, со средним в районе 40000, возраст в интервале от 18 до 35 распределен практически непрерывно, далее- по убывающей. У подавляющего большинства клиентов не было страховых выплат, поэтому результаты обучения модели на несбалансированных данных по целевому признаку могут быть недостаточно хороши.\n",
    "\n",
    "Также видим, что столбцы 'Возраст' и 'Зарплата' имеют вещественный тип данных. Для столбца с возрастом проверим, можем ли без ущерба для данных перевести его в целочисленный- выведем на экран гистограмму дробной части всех записей в столбце."
   ]
  },
  {
   "cell_type": "code",
   "execution_count": 5,
   "metadata": {},
   "outputs": [
    {
     "data": {
      "text/plain": [
       "<AxesSubplot:>"
      ]
     },
     "execution_count": 5,
     "metadata": {},
     "output_type": "execute_result"
    },
    {
     "data": {
      "image/png": "[encoded data removed]",
      "text/plain": [
       "<Figure size 432x288 with 1 Axes>"
      ]
     },
     "metadata": {
      "needs_background": "light"
     },
     "output_type": "display_data"
    }
   ],
   "source": [
    "(data['Возраст'] % 1).hist(range=(0,1), bins=20)"
   ]
  },
  {
   "cell_type": "markdown",
   "metadata": {},
   "source": [
    "Видим, что в столбце с возрастом клиентов нет записей с дробной частью, поэтому можем перевести данные в целочисленный формат (int8), а в столбце с зарплатой данные можно округлить без большой погрешности, так как числа в нем довольно большие. В столбце с зарплатой данные переведем в int32. Столбцы с полом, количеством членов семьи и страховых выплат также переведем в int8, чтобы они занимали меньше места."
   ]
  },
  {
   "cell_type": "code",
   "execution_count": 6,
   "metadata": {},
   "outputs": [
    {
     "name": "stdout",
     "output_type": "stream",
     "text": [
      "<class 'pandas.core.frame.DataFrame'>\n",
      "RangeIndex: 5000 entries, 0 to 4999\n",
      "Data columns (total 5 columns):\n",
      " #   Column             Non-Null Count  Dtype\n",
      "---  ------             --------------  -----\n",
      " 0   Пол                5000 non-null   int8 \n",
      " 1   Возраст            5000 non-null   int8 \n",
      " 2   Зарплата           5000 non-null   int32\n",
      " 3   Члены семьи        5000 non-null   int8 \n",
      " 4   Страховые выплаты  5000 non-null   int8 \n",
      "dtypes: int32(1), int8(4)\n",
      "memory usage: 39.2 KB\n"
     ]
    }
   ],
   "source": [
    "for column in ['Пол', 'Возраст', 'Члены семьи', 'Страховые выплаты']:\n",
    "    data[column] = data[column].astype('int8')\n",
    "\n",
    "data['Зарплата'] = data['Зарплата'].astype('int32')\n",
    "\n",
    "data.info()"
   ]
  },
  {
   "cell_type": "code",
   "execution_count": 7,
   "metadata": {},
   "outputs": [
    {
     "data": {
      "text/html": [
       "<div>\n",
       "<style scoped>\n",
       "    .dataframe tbody tr th:only-of-type {\n",
       "        vertical-align: middle;\n",
       "    }\n",
       "\n",
       "    .dataframe tbody tr th {\n",
       "        vertical-align: top;\n",
       "    }\n",
       "\n",
       "    .dataframe thead th {\n",
       "        text-align: right;\n",
       "    }\n",
       "</style>\n",
       "<table border=\"1\" class=\"dataframe\">\n",
       "  <thead>\n",
       "    <tr style=\"text-align: right;\">\n",
       "      <th></th>\n",
       "      <th>Пол</th>\n",
       "      <th>Возраст</th>\n",
       "      <th>Зарплата</th>\n",
       "      <th>Члены семьи</th>\n",
       "      <th>Страховые выплаты</th>\n",
       "    </tr>\n",
       "  </thead>\n",
       "  <tbody>\n",
       "    <tr>\n",
       "      <th>0</th>\n",
       "      <td>1</td>\n",
       "      <td>41</td>\n",
       "      <td>49600</td>\n",
       "      <td>1</td>\n",
       "      <td>0</td>\n",
       "    </tr>\n",
       "    <tr>\n",
       "      <th>1</th>\n",
       "      <td>0</td>\n",
       "      <td>46</td>\n",
       "      <td>38000</td>\n",
       "      <td>1</td>\n",
       "      <td>1</td>\n",
       "    </tr>\n",
       "    <tr>\n",
       "      <th>2</th>\n",
       "      <td>0</td>\n",
       "      <td>29</td>\n",
       "      <td>21000</td>\n",
       "      <td>0</td>\n",
       "      <td>0</td>\n",
       "    </tr>\n",
       "    <tr>\n",
       "      <th>3</th>\n",
       "      <td>0</td>\n",
       "      <td>21</td>\n",
       "      <td>41700</td>\n",
       "      <td>2</td>\n",
       "      <td>0</td>\n",
       "    </tr>\n",
       "    <tr>\n",
       "      <th>4</th>\n",
       "      <td>1</td>\n",
       "      <td>28</td>\n",
       "      <td>26100</td>\n",
       "      <td>0</td>\n",
       "      <td>0</td>\n",
       "    </tr>\n",
       "  </tbody>\n",
       "</table>\n",
       "</div>"
      ],
      "text/plain": [
       "   Пол  Возраст  Зарплата  Члены семьи  Страховые выплаты\n",
       "0    1       41     49600            1                  0\n",
       "1    0       46     38000            1                  1\n",
       "2    0       29     21000            0                  0\n",
       "3    0       21     41700            2                  0\n",
       "4    1       28     26100            0                  0"
      ]
     },
     "execution_count": 7,
     "metadata": {},
     "output_type": "execute_result"
    }
   ],
   "source": [
    "data.head()"
   ]
  },
  {
   "cell_type": "markdown",
   "metadata": {},
   "source": [
    "Изменили тип данных на целочисленный во всех столбцах. \n",
    "\n",
    "Проверим, нет ли мультиколлинеарности признаков. Для этого построим матрицу корреляции."
   ]
  },
  {
   "cell_type": "code",
   "execution_count": 8,
   "metadata": {
    "scrolled": false
   },
   "outputs": [
    {
     "data": {
      "image/png": "[encoded data removed]",
      "text/plain": [
       "<Figure size 504x432 with 2 Axes>"
      ]
     },
     "metadata": {
      "needs_background": "light"
     },
     "output_type": "display_data"
    }
   ],
   "source": [
    "correlation = data.corr()\n",
    "fig, ax = plt.subplots(figsize=(7, 6))\n",
    "sns.heatmap(correlation, annot=True, linewidths=.1, ax=ax)\n",
    "plt.show()"
   ]
  },
  {
   "cell_type": "markdown",
   "metadata": {},
   "source": [
    "Видим среднюю корреляцию целевого признака с возрастом клиента."
   ]
  },
  {
   "cell_type": "markdown",
   "metadata": {},
   "source": [
    "### Вывод\n",
    "\n",
    "В данном разделе проекта открыли и проанализировали данные о клиентах страховой компании. Пропусков в данных нет, выбросов также нет. \n",
    "\n",
    "Данные можно считать подготовленными для машинного обучения."
   ]
  },
  {
   "cell_type": "markdown",
   "metadata": {},
   "source": [
    "## Умножение матриц"
   ]
  },
  {
   "cell_type": "markdown",
   "metadata": {},
   "source": [
    "Выделим в отдельные переменные обучающие признаки и целевой признак- количество страховых выплат клиентов."
   ]
  },
  {
   "cell_type": "code",
   "execution_count": 9,
   "metadata": {},
   "outputs": [],
   "source": [
    "features = data.drop('Страховые выплаты', axis=1)\n",
    "target = data['Страховые выплаты']"
   ]
  },
  {
   "cell_type": "markdown",
   "metadata": {},
   "source": [
    "Создадим класс линейной регрессии, в котором напишем функции обучения и предсказания. Обучение будет производить путем матричного умножения по формуле:\n",
    "$$\n",
    "w = (X^T X)^{-1} X^T y\n",
    "$$\n",
    "\n",
    "где  $X$ — матрица признаков (нулевой столбец состоит из единиц), $y$ — вектор целевого признака, $P$ — матрица, на которую умножаются признаки, $w$ — вектор весов линейной регрессии (нулевой элемент равен сдвигу)"
   ]
  },
  {
   "cell_type": "markdown",
   "metadata": {},
   "source": [
    "Предсказания:\n",
    "\n",
    "$$\n",
    "a = Xw\n",
    "$$\n",
    "\n",
    "Задача обучения:\n",
    "\n",
    "$$\n",
    "w = \\arg\\min_w MSE(Xw, y)\n",
    "$$\n",
    "\n"
   ]
  },
  {
   "cell_type": "code",
   "execution_count": 10,
   "metadata": {
    "scrolled": true
   },
   "outputs": [
    {
     "name": "stdout",
     "output_type": "stream",
     "text": [
      "0.6270326719379382\n"
     ]
    }
   ],
   "source": [
    "class LinearRegression:\n",
    "    def fit(self, train_features, train_target):\n",
    "        X = np.concatenate((np.ones((train_features.shape[0], 1)), train_features), axis=1)\n",
    "        y = train_target\n",
    "        w = np.linalg.inv(X.T.dot(X)).dot(X.T).dot(y)\n",
    "        self.w = w[1:]\n",
    "        self.w0 = w[0]\n",
    "\n",
    "    def predict(self, test_features):\n",
    "        return test_features.dot(self.w) + self.w0\n",
    "    \n",
    "model = LinearRegression()\n",
    "model.fit(features, target)\n",
    "predictions = np.round(model.predict(features))\n",
    "\n",
    "print(r2_score(target, predictions))"
   ]
  },
  {
   "cell_type": "markdown",
   "metadata": {},
   "source": [
    "**Вопрос:** Признаки умножают на обратимую матрицу. Изменится ли качество линейной регрессии? \n",
    "\n",
    "**Ответ:** Не изменится\n",
    "\n",
    "**Обоснование:** Выпишем отдельно формулы обучения и предсказания:\n",
    "\n",
    "$$\n",
    "w = (X^T X)^{-1} X^T y\n",
    "$$\n",
    "$$\n",
    "a = Xw\n",
    "$$\n",
    "\n",
    "Подставим $w$ в формулу предсказания:\n",
    "\n",
    "\n",
    "$$\n",
    "a = X (X^T X)^{-1} X^T y\n",
    "$$\n",
    "\n",
    "Домножим матрицу признаков на невырожденную матрицу $A$ (определитель такой матрицы не равен нулю) и запишем формулу предсказания для матрицы $X*A$.\n",
    "\n",
    "$$\n",
    "a_1 = (X*A) ((X*A)^T (X*A))^{-1} (X*A)^T y\n",
    "$$\n",
    "\n",
    "Раскроем скобки и с помощью преобразований $(X*A)^T=A^T*X^T$ и $(X*A)^{-1}=A^{-1}*X^{-1}$ получим уравнение следующего вида:\n",
    "\n",
    "$$\n",
    "a_1 = (X*A) (A^T (X^T X) A )^{-1} (X*A)^T y\n",
    "$$\n",
    "\n",
    "$$\n",
    "a_1 = X A A^{-1} (X^T X)^{-1} (A^T)^{-1} A^T X^T y\n",
    "$$\n",
    "\n",
    "Умножения вида $A * A^{-1}$ и $A^T * (A^T)^{-1}$ дают нам единичные матрицы, которые можно сократить. Итого имеем выражение:\n",
    "\n",
    "$$\n",
    "a_1 = X (X^T X)^{-1} X^T y\n",
    "$$\n",
    "\n",
    "И окончательно:\n",
    "\n",
    "$$\n",
    "a_1 = a\n",
    "$$"
   ]
  },
  {
   "cell_type": "markdown",
   "metadata": {},
   "source": [
    "## Алгоритм преобразования"
   ]
  },
  {
   "cell_type": "markdown",
   "metadata": {},
   "source": [
    "**Алгоритм**\n",
    "\n",
    "Так как умножение на невырожденную матрицу не изменяет результаты прогноза линейной регрессии, напишем класс прямого и обратного преобразования, в котором создадим функцию преобразования признаков по следующему алгоритму:\n",
    "\n",
    "1. Сгенерируем матрицу размера $n*n$, где $n$- количество обучающих признаков.\n",
    "2. Вычислим определитель матрицы и сравним его с нулем.\n",
    "3. Если определитель не равен нулю, умножим матрицу признаков на созданную матрицу. Если определитель равен нулю, то будем создавать матрицу до момента, пока ее определитель не станет отличным от нуля.\n",
    "4. Функция возвращает преобразованную матрицу обучающих признаков.\n",
    "\n",
    "Также внутри класса создадим функцию преобразования к исходной матрице. Для этого преобразованную матрицу умножим на обратную матрицу к случайной."
   ]
  },
  {
   "cell_type": "code",
   "execution_count": 11,
   "metadata": {},
   "outputs": [],
   "source": [
    "class Encrypt:\n",
    "    def transform_features(self, features):\n",
    "        n = features.shape[1]\n",
    "        determinant = 0\n",
    "        np.random.seed(12345)\n",
    "        while determinant == 0:\n",
    "            random_matrix = np.random.randint(1, 10,(n,n))\n",
    "            determinant = np.linalg.det(random_matrix)\n",
    "            self.random_matrix = random_matrix\n",
    "        return features @ random_matrix\n",
    "    def retransform(self, new_features):\n",
    "        return new_features.dot(np.linalg.inv(self.random_matrix)).round().astype('int32')"
   ]
  },
  {
   "cell_type": "markdown",
   "metadata": {},
   "source": [
    "**Обоснование**\n",
    "\n",
    "Чтобы получить матрицу размера $M*N$ при умножении исходной матрицы размера $M*N$ на невырожденную матрицу $A$, матрица $A$ должна быть квадратной размера $N*N$."
   ]
  },
  {
   "cell_type": "markdown",
   "metadata": {},
   "source": [
    "## Проверка алгоритма"
   ]
  },
  {
   "cell_type": "markdown",
   "metadata": {},
   "source": [
    "Проверим наш алгоритм. Преобразуем обучающие признаки, обучим модель линейной регрессии, предскажем результат, вычислим R2 и сравним его значение с полученным при обучении на непреобразованных признаках."
   ]
  },
  {
   "cell_type": "code",
   "execution_count": 12,
   "metadata": {},
   "outputs": [
    {
     "name": "stdout",
     "output_type": "stream",
     "text": [
      "0.6270326719379382\n"
     ]
    }
   ],
   "source": [
    "encryptor = Encrypt()\n",
    "new_features = encryptor.transform_features(features)\n",
    "model.fit(new_features, target)\n",
    "predictions = np.round(model.predict(new_features))\n",
    "\n",
    "print(r2_score(target, predictions))"
   ]
  },
  {
   "cell_type": "markdown",
   "metadata": {},
   "source": [
    "Значение $R^2$ при обучении на преобразованных признаках равно значению $R^2$ при обучении на оригинальном датасете. Таким образом, работоспособность алгоритма преобразования данных доказана. Также для проверки отобразим на экране количественные значения признаков, чтобы проверить, возможно ли по ним восстановить информацию о клиенте."
   ]
  },
  {
   "cell_type": "code",
   "execution_count": 13,
   "metadata": {},
   "outputs": [
    {
     "data": {
      "text/html": [
       "<div>\n",
       "<style scoped>\n",
       "    .dataframe tbody tr th:only-of-type {\n",
       "        vertical-align: middle;\n",
       "    }\n",
       "\n",
       "    .dataframe tbody tr th {\n",
       "        vertical-align: top;\n",
       "    }\n",
       "\n",
       "    .dataframe thead th {\n",
       "        text-align: right;\n",
       "    }\n",
       "</style>\n",
       "<table border=\"1\" class=\"dataframe\">\n",
       "  <thead>\n",
       "    <tr style=\"text-align: right;\">\n",
       "      <th></th>\n",
       "      <th>0</th>\n",
       "      <th>1</th>\n",
       "      <th>2</th>\n",
       "      <th>3</th>\n",
       "    </tr>\n",
       "  </thead>\n",
       "  <tbody>\n",
       "    <tr>\n",
       "      <th>0</th>\n",
       "      <td>99452</td>\n",
       "      <td>396931</td>\n",
       "      <td>347287</td>\n",
       "      <td>49899</td>\n",
       "    </tr>\n",
       "    <tr>\n",
       "      <th>1</th>\n",
       "      <td>76279</td>\n",
       "      <td>304140</td>\n",
       "      <td>266095</td>\n",
       "      <td>38329</td>\n",
       "    </tr>\n",
       "    <tr>\n",
       "      <th>2</th>\n",
       "      <td>42174</td>\n",
       "      <td>168087</td>\n",
       "      <td>147058</td>\n",
       "      <td>21203</td>\n",
       "    </tr>\n",
       "    <tr>\n",
       "      <th>3</th>\n",
       "      <td>83532</td>\n",
       "      <td>333667</td>\n",
       "      <td>291948</td>\n",
       "      <td>41861</td>\n",
       "    </tr>\n",
       "    <tr>\n",
       "      <th>4</th>\n",
       "      <td>52371</td>\n",
       "      <td>208890</td>\n",
       "      <td>182758</td>\n",
       "      <td>26301</td>\n",
       "    </tr>\n",
       "    <tr>\n",
       "      <th>...</th>\n",
       "      <td>...</td>\n",
       "      <td>...</td>\n",
       "      <td>...</td>\n",
       "      <td>...</td>\n",
       "    </tr>\n",
       "    <tr>\n",
       "      <th>4995</th>\n",
       "      <td>71574</td>\n",
       "      <td>285688</td>\n",
       "      <td>249962</td>\n",
       "      <td>35910</td>\n",
       "    </tr>\n",
       "    <tr>\n",
       "      <th>4996</th>\n",
       "      <td>105007</td>\n",
       "      <td>419304</td>\n",
       "      <td>366871</td>\n",
       "      <td>52645</td>\n",
       "    </tr>\n",
       "    <tr>\n",
       "      <th>4997</th>\n",
       "      <td>67926</td>\n",
       "      <td>271264</td>\n",
       "      <td>237346</td>\n",
       "      <td>34054</td>\n",
       "    </tr>\n",
       "    <tr>\n",
       "      <th>4998</th>\n",
       "      <td>65544</td>\n",
       "      <td>261678</td>\n",
       "      <td>228955</td>\n",
       "      <td>32880</td>\n",
       "    </tr>\n",
       "    <tr>\n",
       "      <th>4999</th>\n",
       "      <td>81374</td>\n",
       "      <td>324892</td>\n",
       "      <td>284261</td>\n",
       "      <td>40808</td>\n",
       "    </tr>\n",
       "  </tbody>\n",
       "</table>\n",
       "<p>5000 rows × 4 columns</p>\n",
       "</div>"
      ],
      "text/plain": [
       "           0       1       2      3\n",
       "0      99452  396931  347287  49899\n",
       "1      76279  304140  266095  38329\n",
       "2      42174  168087  147058  21203\n",
       "3      83532  333667  291948  41861\n",
       "4      52371  208890  182758  26301\n",
       "...      ...     ...     ...    ...\n",
       "4995   71574  285688  249962  35910\n",
       "4996  105007  419304  366871  52645\n",
       "4997   67926  271264  237346  34054\n",
       "4998   65544  261678  228955  32880\n",
       "4999   81374  324892  284261  40808\n",
       "\n",
       "[5000 rows x 4 columns]"
      ]
     },
     "execution_count": 13,
     "metadata": {},
     "output_type": "execute_result"
    }
   ],
   "source": [
    "new_features"
   ]
  },
  {
   "cell_type": "markdown",
   "metadata": {},
   "source": [
    "Видим, что по преобразованным признакам невозможно восстановить какую-либо информацию без доступа к матрице, на которую была умножена оригинальная матрица признаков. При этом сама матрица в явном виде также не отображается в коде и формируется случайным образом.\n",
    "\n",
    "Для тестирования всех функций класса шифровщика попробуем расшифровать признаки обратно и сравним первые строки с исходными данными."
   ]
  },
  {
   "cell_type": "code",
   "execution_count": 14,
   "metadata": {},
   "outputs": [
    {
     "data": {
      "text/html": [
       "<div>\n",
       "<style scoped>\n",
       "    .dataframe tbody tr th:only-of-type {\n",
       "        vertical-align: middle;\n",
       "    }\n",
       "\n",
       "    .dataframe tbody tr th {\n",
       "        vertical-align: top;\n",
       "    }\n",
       "\n",
       "    .dataframe thead th {\n",
       "        text-align: right;\n",
       "    }\n",
       "</style>\n",
       "<table border=\"1\" class=\"dataframe\">\n",
       "  <thead>\n",
       "    <tr style=\"text-align: right;\">\n",
       "      <th></th>\n",
       "      <th>0</th>\n",
       "      <th>1</th>\n",
       "      <th>2</th>\n",
       "      <th>3</th>\n",
       "    </tr>\n",
       "  </thead>\n",
       "  <tbody>\n",
       "    <tr>\n",
       "      <th>0</th>\n",
       "      <td>1</td>\n",
       "      <td>41</td>\n",
       "      <td>49600</td>\n",
       "      <td>1</td>\n",
       "    </tr>\n",
       "    <tr>\n",
       "      <th>1</th>\n",
       "      <td>0</td>\n",
       "      <td>46</td>\n",
       "      <td>38000</td>\n",
       "      <td>1</td>\n",
       "    </tr>\n",
       "    <tr>\n",
       "      <th>2</th>\n",
       "      <td>0</td>\n",
       "      <td>29</td>\n",
       "      <td>21000</td>\n",
       "      <td>0</td>\n",
       "    </tr>\n",
       "    <tr>\n",
       "      <th>3</th>\n",
       "      <td>0</td>\n",
       "      <td>21</td>\n",
       "      <td>41700</td>\n",
       "      <td>2</td>\n",
       "    </tr>\n",
       "    <tr>\n",
       "      <th>4</th>\n",
       "      <td>1</td>\n",
       "      <td>28</td>\n",
       "      <td>26100</td>\n",
       "      <td>0</td>\n",
       "    </tr>\n",
       "    <tr>\n",
       "      <th>...</th>\n",
       "      <td>...</td>\n",
       "      <td>...</td>\n",
       "      <td>...</td>\n",
       "      <td>...</td>\n",
       "    </tr>\n",
       "    <tr>\n",
       "      <th>4995</th>\n",
       "      <td>0</td>\n",
       "      <td>28</td>\n",
       "      <td>35700</td>\n",
       "      <td>2</td>\n",
       "    </tr>\n",
       "    <tr>\n",
       "      <th>4996</th>\n",
       "      <td>0</td>\n",
       "      <td>34</td>\n",
       "      <td>52400</td>\n",
       "      <td>1</td>\n",
       "    </tr>\n",
       "    <tr>\n",
       "      <th>4997</th>\n",
       "      <td>0</td>\n",
       "      <td>20</td>\n",
       "      <td>33900</td>\n",
       "      <td>2</td>\n",
       "    </tr>\n",
       "    <tr>\n",
       "      <th>4998</th>\n",
       "      <td>1</td>\n",
       "      <td>22</td>\n",
       "      <td>32700</td>\n",
       "      <td>3</td>\n",
       "    </tr>\n",
       "    <tr>\n",
       "      <th>4999</th>\n",
       "      <td>1</td>\n",
       "      <td>28</td>\n",
       "      <td>40600</td>\n",
       "      <td>1</td>\n",
       "    </tr>\n",
       "  </tbody>\n",
       "</table>\n",
       "<p>5000 rows × 4 columns</p>\n",
       "</div>"
      ],
      "text/plain": [
       "      0   1      2  3\n",
       "0     1  41  49600  1\n",
       "1     0  46  38000  1\n",
       "2     0  29  21000  0\n",
       "3     0  21  41700  2\n",
       "4     1  28  26100  0\n",
       "...  ..  ..    ... ..\n",
       "4995  0  28  35700  2\n",
       "4996  0  34  52400  1\n",
       "4997  0  20  33900  2\n",
       "4998  1  22  32700  3\n",
       "4999  1  28  40600  1\n",
       "\n",
       "[5000 rows x 4 columns]"
      ]
     },
     "execution_count": 14,
     "metadata": {},
     "output_type": "execute_result"
    }
   ],
   "source": [
    "encryptor.retransform(new_features)"
   ]
  },
  {
   "cell_type": "markdown",
   "metadata": {},
   "source": [
    "Видим, что функция дешифровки также работает."
   ]
  },
  {
   "cell_type": "markdown",
   "metadata": {},
   "source": [
    "## Вывод\n",
    "\n",
    "В данном проекте предложили и математически доказали корректность алгоритма преобразования данных для защиты клиентов страховой компании. Алгоритм заключается в умножении обучающих признаков на невырожденную матрицу. При умножении на матрицу восстановить информацию о клиентах невозможно, а качество обучения модели линейной регрессии при этом не снижается. Таким образом, можно считать проект выполненным."
   ]
  }
 ],
 "metadata": {
  "ExecuteTimeLog": [
   {
    "duration": 415,
    "start_time": "2022-08-16T14:56:49.716Z"
   },
   {
    "duration": 95,
    "start_time": "2022-08-16T14:57:11.709Z"
   },
   {
    "duration": 96,
    "start_time": "2022-08-16T14:57:20.388Z"
   },
   {
    "duration": 20,
    "start_time": "2022-08-16T14:57:26.125Z"
   },
   {
    "duration": 86,
    "start_time": "2022-08-16T15:00:23.225Z"
   },
   {
    "duration": 7,
    "start_time": "2022-08-16T15:00:25.967Z"
   },
   {
    "duration": 65,
    "start_time": "2022-08-18T13:00:08.807Z"
   },
   {
    "duration": 388,
    "start_time": "2022-08-18T13:00:12.146Z"
   },
   {
    "duration": 99,
    "start_time": "2022-08-18T13:00:14.180Z"
   },
   {
    "duration": 26,
    "start_time": "2022-08-18T13:00:15.310Z"
   },
   {
    "duration": 41,
    "start_time": "2022-08-18T13:01:11.332Z"
   },
   {
    "duration": 42,
    "start_time": "2022-08-18T13:01:27.163Z"
   },
   {
    "duration": 478,
    "start_time": "2022-08-18T13:03:14.957Z"
   },
   {
    "duration": 1014,
    "start_time": "2022-08-18T13:03:23.490Z"
   },
   {
    "duration": 801,
    "start_time": "2022-08-18T13:03:33.818Z"
   },
   {
    "duration": 879,
    "start_time": "2022-08-18T13:03:39.744Z"
   },
   {
    "duration": 1021,
    "start_time": "2022-08-18T13:03:48.055Z"
   },
   {
    "duration": 216,
    "start_time": "2022-08-18T13:05:46.784Z"
   },
   {
    "duration": 558,
    "start_time": "2022-08-18T13:05:59.275Z"
   },
   {
    "duration": 501,
    "start_time": "2022-08-18T13:06:03.435Z"
   },
   {
    "duration": 368,
    "start_time": "2022-08-18T13:06:31.210Z"
   },
   {
    "duration": 1546,
    "start_time": "2022-08-29T06:37:56.073Z"
   },
   {
    "duration": 74,
    "start_time": "2022-08-29T06:37:59.646Z"
   },
   {
    "duration": 44,
    "start_time": "2022-08-29T06:38:01.514Z"
   },
   {
    "duration": 894,
    "start_time": "2022-08-29T06:38:05.604Z"
   },
   {
    "duration": 506,
    "start_time": "2022-08-29T06:38:08.687Z"
   },
   {
    "duration": 4,
    "start_time": "2022-08-29T06:39:25.088Z"
   },
   {
    "duration": 249,
    "start_time": "2022-08-29T06:40:10.650Z"
   },
   {
    "duration": 16,
    "start_time": "2022-08-29T06:41:28.179Z"
   },
   {
    "duration": 6,
    "start_time": "2022-08-29T06:41:34.566Z"
   },
   {
    "duration": 5,
    "start_time": "2022-08-29T06:41:46.804Z"
   },
   {
    "duration": 6,
    "start_time": "2022-08-29T06:41:52.639Z"
   },
   {
    "duration": 142,
    "start_time": "2022-08-29T06:42:00.856Z"
   },
   {
    "duration": 112,
    "start_time": "2022-08-29T06:42:12.054Z"
   },
   {
    "duration": 6,
    "start_time": "2022-08-29T06:42:27.601Z"
   },
   {
    "duration": 20,
    "start_time": "2022-08-29T06:42:58.702Z"
   },
   {
    "duration": 3,
    "start_time": "2022-08-29T06:43:04.192Z"
   },
   {
    "duration": 10,
    "start_time": "2022-08-29T06:43:10.323Z"
   },
   {
    "duration": 7,
    "start_time": "2022-08-29T06:43:22.688Z"
   },
   {
    "duration": 137,
    "start_time": "2022-08-29T06:43:29.612Z"
   },
   {
    "duration": 113,
    "start_time": "2022-08-29T06:54:48.838Z"
   },
   {
    "duration": 4,
    "start_time": "2022-08-29T06:55:42.721Z"
   },
   {
    "duration": 153,
    "start_time": "2022-08-29T06:55:54.532Z"
   },
   {
    "duration": 5,
    "start_time": "2022-08-29T06:56:05.331Z"
   },
   {
    "duration": 12,
    "start_time": "2022-08-29T06:56:13.547Z"
   },
   {
    "duration": 6,
    "start_time": "2022-08-29T06:56:27.095Z"
   },
   {
    "duration": 6,
    "start_time": "2022-08-29T06:56:30.025Z"
   },
   {
    "duration": 13,
    "start_time": "2022-08-29T06:56:33.509Z"
   },
   {
    "duration": 11,
    "start_time": "2022-08-29T06:56:57.303Z"
   },
   {
    "duration": 133,
    "start_time": "2022-08-29T06:57:13.316Z"
   },
   {
    "duration": 3,
    "start_time": "2022-08-29T06:58:14.310Z"
   },
   {
    "duration": 85,
    "start_time": "2022-08-29T06:58:23.102Z"
   },
   {
    "duration": 129,
    "start_time": "2022-08-29T06:58:25.979Z"
   },
   {
    "duration": 120,
    "start_time": "2022-08-29T06:58:32.100Z"
   },
   {
    "duration": 3,
    "start_time": "2022-08-29T06:59:51.879Z"
   },
   {
    "duration": 45,
    "start_time": "2022-08-29T07:00:00.043Z"
   },
   {
    "duration": 12,
    "start_time": "2022-08-29T07:00:06.355Z"
   },
   {
    "duration": 4,
    "start_time": "2022-08-29T07:01:07.198Z"
   },
   {
    "duration": 8,
    "start_time": "2022-08-29T07:01:29.655Z"
   },
   {
    "duration": 107,
    "start_time": "2022-08-29T07:01:38.609Z"
   },
   {
    "duration": 49,
    "start_time": "2022-08-29T07:02:02.038Z"
   },
   {
    "duration": 135,
    "start_time": "2022-08-29T07:02:05.132Z"
   },
   {
    "duration": 209,
    "start_time": "2022-08-29T07:02:18.164Z"
   },
   {
    "duration": 9,
    "start_time": "2022-08-29T07:02:27.982Z"
   },
   {
    "duration": 121,
    "start_time": "2022-08-29T07:02:34.414Z"
   },
   {
    "duration": 9,
    "start_time": "2022-08-29T07:02:47.289Z"
   },
   {
    "duration": 9,
    "start_time": "2022-08-29T07:02:54.391Z"
   },
   {
    "duration": 140,
    "start_time": "2022-08-29T07:02:55.980Z"
   },
   {
    "duration": 6,
    "start_time": "2022-08-29T07:03:31.656Z"
   },
   {
    "duration": 6,
    "start_time": "2022-08-29T07:03:38.625Z"
   },
   {
    "duration": 7,
    "start_time": "2022-08-29T07:03:50.377Z"
   },
   {
    "duration": 6,
    "start_time": "2022-08-29T07:03:56.878Z"
   },
   {
    "duration": 5,
    "start_time": "2022-08-29T07:07:55.809Z"
   },
   {
    "duration": 12,
    "start_time": "2022-08-29T07:08:03.395Z"
   },
   {
    "duration": 9,
    "start_time": "2022-08-29T07:09:10.961Z"
   },
   {
    "duration": 10,
    "start_time": "2022-08-29T07:09:23.972Z"
   },
   {
    "duration": 70,
    "start_time": "2022-08-29T07:09:49.945Z"
   },
   {
    "duration": 6,
    "start_time": "2022-08-29T07:30:59.598Z"
   },
   {
    "duration": 49,
    "start_time": "2022-08-29T07:32:41.256Z"
   },
   {
    "duration": 8,
    "start_time": "2022-08-29T07:32:57.133Z"
   },
   {
    "duration": 3,
    "start_time": "2022-08-29T07:32:59.299Z"
   },
   {
    "duration": 3,
    "start_time": "2022-08-29T07:33:09.856Z"
   },
   {
    "duration": 20,
    "start_time": "2022-08-29T07:36:43.658Z"
   },
   {
    "duration": 3,
    "start_time": "2022-08-29T07:37:20.405Z"
   },
   {
    "duration": 160668,
    "start_time": "2022-08-29T07:37:25.620Z"
   },
   {
    "duration": 5,
    "start_time": "2022-08-29T07:40:39.150Z"
   },
   {
    "duration": 9,
    "start_time": "2022-08-29T07:40:41.019Z"
   },
   {
    "duration": 5,
    "start_time": "2022-08-29T07:42:05.710Z"
   },
   {
    "duration": 8,
    "start_time": "2022-08-29T07:42:07.594Z"
   },
   {
    "duration": 7,
    "start_time": "2022-08-29T07:42:14.428Z"
   },
   {
    "duration": 1486,
    "start_time": "2022-08-29T07:42:26.064Z"
   },
   {
    "duration": 30,
    "start_time": "2022-08-29T07:42:27.552Z"
   },
   {
    "duration": 61,
    "start_time": "2022-08-29T07:42:27.584Z"
   },
   {
    "duration": 885,
    "start_time": "2022-08-29T07:42:27.647Z"
   },
   {
    "duration": 481,
    "start_time": "2022-08-29T07:42:28.534Z"
   },
   {
    "duration": 4,
    "start_time": "2022-08-29T07:42:29.016Z"
   },
   {
    "duration": 68,
    "start_time": "2022-08-29T07:42:29.021Z"
   },
   {
    "duration": 106,
    "start_time": "2022-08-29T07:42:29.091Z"
   },
   {
    "duration": 9,
    "start_time": "2022-08-29T07:42:33.358Z"
   },
   {
    "duration": 5,
    "start_time": "2022-08-29T07:43:05.756Z"
   },
   {
    "duration": 8,
    "start_time": "2022-08-29T07:43:08.847Z"
   },
   {
    "duration": 4,
    "start_time": "2022-08-29T07:45:15.509Z"
   },
   {
    "duration": 9,
    "start_time": "2022-08-29T07:45:16.958Z"
   },
   {
    "duration": 4,
    "start_time": "2022-08-29T07:45:22.082Z"
   },
   {
    "duration": 62,
    "start_time": "2022-08-29T07:45:22.088Z"
   },
   {
    "duration": 59,
    "start_time": "2022-08-29T07:45:22.153Z"
   },
   {
    "duration": 905,
    "start_time": "2022-08-29T07:45:22.213Z"
   },
   {
    "duration": 388,
    "start_time": "2022-08-29T07:45:23.121Z"
   },
   {
    "duration": 5,
    "start_time": "2022-08-29T07:45:23.511Z"
   },
   {
    "duration": 73,
    "start_time": "2022-08-29T07:45:23.518Z"
   },
   {
    "duration": 6,
    "start_time": "2022-08-29T07:45:23.594Z"
   },
   {
    "duration": 3,
    "start_time": "2022-08-29T07:45:31.724Z"
   },
   {
    "duration": 8,
    "start_time": "2022-08-29T07:45:33.267Z"
   },
   {
    "duration": 4,
    "start_time": "2022-08-29T07:46:50.181Z"
   },
   {
    "duration": 151,
    "start_time": "2022-08-29T07:47:46.014Z"
   },
   {
    "duration": 17,
    "start_time": "2022-08-29T07:48:06.257Z"
   },
   {
    "duration": 3,
    "start_time": "2022-08-29T07:48:16.114Z"
   },
   {
    "duration": 11,
    "start_time": "2022-08-29T07:48:18.010Z"
   },
   {
    "duration": 1508,
    "start_time": "2022-08-29T07:50:23.426Z"
   },
   {
    "duration": 30,
    "start_time": "2022-08-29T07:50:24.937Z"
   },
   {
    "duration": 56,
    "start_time": "2022-08-29T07:50:24.969Z"
   },
   {
    "duration": 1019,
    "start_time": "2022-08-29T07:50:25.027Z"
   },
   {
    "duration": 563,
    "start_time": "2022-08-29T07:50:26.048Z"
   },
   {
    "duration": 5,
    "start_time": "2022-08-29T07:50:26.613Z"
   },
   {
    "duration": 29,
    "start_time": "2022-08-29T07:50:26.620Z"
   },
   {
    "duration": 3,
    "start_time": "2022-08-29T07:50:34.051Z"
   },
   {
    "duration": 159,
    "start_time": "2022-08-29T07:51:05.138Z"
   },
   {
    "duration": 4,
    "start_time": "2022-08-29T07:51:29.759Z"
   },
   {
    "duration": 7678,
    "start_time": "2022-08-29T07:51:32.751Z"
   },
   {
    "duration": 7,
    "start_time": "2022-08-29T07:51:44.908Z"
   },
   {
    "duration": 3,
    "start_time": "2022-08-29T07:51:51.379Z"
   },
   {
    "duration": 5,
    "start_time": "2022-08-29T08:07:35.476Z"
   },
   {
    "duration": 4,
    "start_time": "2022-08-29T08:07:44.452Z"
   },
   {
    "duration": 3,
    "start_time": "2022-08-29T08:08:15.399Z"
   },
   {
    "duration": 3144,
    "start_time": "2022-08-29T08:08:26.148Z"
   },
   {
    "duration": 3038,
    "start_time": "2022-08-29T08:08:32.607Z"
   },
   {
    "duration": 4,
    "start_time": "2022-08-29T08:08:36.627Z"
   },
   {
    "duration": 5,
    "start_time": "2022-08-29T08:45:34.591Z"
   },
   {
    "duration": 846,
    "start_time": "2022-08-29T08:45:36.958Z"
   },
   {
    "duration": 5,
    "start_time": "2022-08-29T08:45:40.314Z"
   },
   {
    "duration": 3,
    "start_time": "2022-08-29T08:46:21.698Z"
   },
   {
    "duration": 14,
    "start_time": "2022-08-29T08:46:23.456Z"
   },
   {
    "duration": 4,
    "start_time": "2022-08-29T08:46:40.569Z"
   },
   {
    "duration": 934,
    "start_time": "2022-08-29T08:46:42.127Z"
   },
   {
    "duration": 4,
    "start_time": "2022-08-29T08:46:44.754Z"
   },
   {
    "duration": 11,
    "start_time": "2022-08-29T08:49:09.043Z"
   },
   {
    "duration": 2519,
    "start_time": "2022-08-29T08:49:25.031Z"
   },
   {
    "duration": 9,
    "start_time": "2022-08-29T08:49:34.549Z"
   },
   {
    "duration": 12,
    "start_time": "2022-08-29T08:49:37.486Z"
   },
   {
    "duration": 18,
    "start_time": "2022-08-29T08:49:54.000Z"
   },
   {
    "duration": 1501,
    "start_time": "2022-08-29T17:11:39.423Z"
   },
   {
    "duration": 126,
    "start_time": "2022-08-29T17:11:41.830Z"
   },
   {
    "duration": 42,
    "start_time": "2022-08-29T17:11:42.891Z"
   },
   {
    "duration": 789,
    "start_time": "2022-08-29T17:11:44.679Z"
   },
   {
    "duration": 443,
    "start_time": "2022-08-29T17:11:48.798Z"
   },
   {
    "duration": 4,
    "start_time": "2022-08-29T17:11:53.046Z"
   },
   {
    "duration": 10,
    "start_time": "2022-08-29T17:11:53.990Z"
   },
   {
    "duration": 4,
    "start_time": "2022-08-29T17:12:04.927Z"
   },
   {
    "duration": 2239,
    "start_time": "2022-08-29T17:12:06.894Z"
   },
   {
    "duration": 12,
    "start_time": "2022-08-29T17:12:09.135Z"
   },
   {
    "duration": 12,
    "start_time": "2022-08-29T17:12:14.721Z"
   },
   {
    "duration": 11,
    "start_time": "2022-08-29T17:12:55.515Z"
   },
   {
    "duration": 3,
    "start_time": "2022-08-29T17:16:18.052Z"
   },
   {
    "duration": 8,
    "start_time": "2022-08-29T17:18:18.885Z"
   },
   {
    "duration": 6,
    "start_time": "2022-08-29T17:19:05.409Z"
   },
   {
    "duration": 5,
    "start_time": "2022-08-29T17:19:24.845Z"
   },
   {
    "duration": 5,
    "start_time": "2022-08-29T17:21:34.588Z"
   },
   {
    "duration": 6,
    "start_time": "2022-08-29T17:21:44.970Z"
   },
   {
    "duration": 798,
    "start_time": "2022-08-29T17:22:36.916Z"
   },
   {
    "duration": 551,
    "start_time": "2022-08-29T17:25:23.833Z"
   },
   {
    "duration": 813,
    "start_time": "2022-08-29T17:25:29.566Z"
   },
   {
    "duration": 323,
    "start_time": "2022-08-29T17:27:44.475Z"
   },
   {
    "duration": 10,
    "start_time": "2022-08-29T17:33:29.026Z"
   },
   {
    "duration": 321,
    "start_time": "2022-08-29T17:33:36.924Z"
   },
   {
    "duration": 342,
    "start_time": "2022-08-29T17:34:56.813Z"
   },
   {
    "duration": 3,
    "start_time": "2022-08-29T17:37:26.497Z"
   },
   {
    "duration": 3,
    "start_time": "2022-08-29T18:08:21.930Z"
   },
   {
    "duration": 4,
    "start_time": "2022-08-29T18:08:29.370Z"
   },
   {
    "duration": 1599,
    "start_time": "2022-08-30T17:21:12.419Z"
   },
   {
    "duration": 77,
    "start_time": "2022-08-30T17:21:14.985Z"
   },
   {
    "duration": 42,
    "start_time": "2022-08-30T17:21:16.348Z"
   },
   {
    "duration": 6,
    "start_time": "2022-08-30T17:21:17.776Z"
   },
   {
    "duration": 8,
    "start_time": "2022-08-30T17:21:18.887Z"
   },
   {
    "duration": 704,
    "start_time": "2022-08-30T17:21:19.903Z"
   },
   {
    "duration": 453,
    "start_time": "2022-08-30T17:21:21.738Z"
   },
   {
    "duration": 4,
    "start_time": "2022-08-30T17:21:24.867Z"
   },
   {
    "duration": 5,
    "start_time": "2022-08-30T17:22:57.512Z"
   },
   {
    "duration": 4,
    "start_time": "2022-08-30T17:23:01.061Z"
   },
   {
    "duration": 6,
    "start_time": "2022-08-30T17:23:02.710Z"
   },
   {
    "duration": 5,
    "start_time": "2022-08-30T17:23:06.993Z"
   },
   {
    "duration": 12,
    "start_time": "2022-08-30T17:24:44.190Z"
   },
   {
    "duration": 12,
    "start_time": "2022-08-30T17:24:51.611Z"
   },
   {
    "duration": 3,
    "start_time": "2022-08-30T17:25:17.632Z"
   },
   {
    "duration": 10,
    "start_time": "2022-08-30T17:25:20.262Z"
   },
   {
    "duration": 7,
    "start_time": "2022-08-30T17:25:49.903Z"
   },
   {
    "duration": 108,
    "start_time": "2022-08-30T17:31:01.728Z"
   },
   {
    "duration": 5,
    "start_time": "2022-08-30T17:31:21.458Z"
   },
   {
    "duration": 4,
    "start_time": "2022-08-30T17:31:26.556Z"
   },
   {
    "duration": 5,
    "start_time": "2022-08-30T17:31:34.077Z"
   },
   {
    "duration": 5,
    "start_time": "2022-08-30T17:31:34.601Z"
   },
   {
    "duration": 4,
    "start_time": "2022-08-30T17:31:35.164Z"
   },
   {
    "duration": 5,
    "start_time": "2022-08-30T17:31:35.455Z"
   },
   {
    "duration": 4,
    "start_time": "2022-08-30T17:31:35.739Z"
   },
   {
    "duration": 5,
    "start_time": "2022-08-30T17:31:36.037Z"
   },
   {
    "duration": 5,
    "start_time": "2022-08-30T17:31:36.323Z"
   },
   {
    "duration": 5,
    "start_time": "2022-08-30T17:31:36.603Z"
   },
   {
    "duration": 4,
    "start_time": "2022-08-30T17:31:36.873Z"
   },
   {
    "duration": 4,
    "start_time": "2022-08-30T17:31:37.119Z"
   },
   {
    "duration": 3,
    "start_time": "2022-08-30T17:31:43.205Z"
   },
   {
    "duration": 10,
    "start_time": "2022-08-30T17:32:08.052Z"
   },
   {
    "duration": 3,
    "start_time": "2022-08-30T18:03:37.924Z"
   },
   {
    "duration": 3,
    "start_time": "2022-08-30T18:03:44.599Z"
   },
   {
    "duration": 5,
    "start_time": "2022-08-30T18:06:18.381Z"
   },
   {
    "duration": 6,
    "start_time": "2022-08-30T18:10:05.991Z"
   },
   {
    "duration": 10,
    "start_time": "2022-08-30T18:13:51.316Z"
   },
   {
    "duration": 1256,
    "start_time": "2022-08-30T18:17:40.653Z"
   },
   {
    "duration": 29,
    "start_time": "2022-08-30T18:17:41.911Z"
   },
   {
    "duration": 38,
    "start_time": "2022-08-30T18:17:41.941Z"
   },
   {
    "duration": 4,
    "start_time": "2022-08-30T18:17:41.980Z"
   },
   {
    "duration": 7,
    "start_time": "2022-08-30T18:17:41.986Z"
   },
   {
    "duration": 801,
    "start_time": "2022-08-30T18:17:41.995Z"
   },
   {
    "duration": 396,
    "start_time": "2022-08-30T18:17:42.798Z"
   },
   {
    "duration": 4,
    "start_time": "2022-08-30T18:17:43.195Z"
   },
   {
    "duration": 19,
    "start_time": "2022-08-30T18:17:43.201Z"
   },
   {
    "duration": 97,
    "start_time": "2022-08-30T18:17:43.222Z"
   },
   {
    "duration": 98,
    "start_time": "2022-08-30T18:17:43.320Z"
   },
   {
    "duration": 197,
    "start_time": "2022-08-30T18:17:43.420Z"
   },
   {
    "duration": 1558,
    "start_time": "2022-08-31T15:08:06.606Z"
   },
   {
    "duration": 89,
    "start_time": "2022-08-31T15:08:08.166Z"
   },
   {
    "duration": 41,
    "start_time": "2022-08-31T15:08:08.257Z"
   },
   {
    "duration": 5,
    "start_time": "2022-08-31T15:08:08.433Z"
   },
   {
    "duration": 7,
    "start_time": "2022-08-31T15:08:09.225Z"
   },
   {
    "duration": 740,
    "start_time": "2022-08-31T15:08:13.999Z"
   },
   {
    "duration": 457,
    "start_time": "2022-08-31T15:08:15.109Z"
   },
   {
    "duration": 4,
    "start_time": "2022-08-31T15:08:20.773Z"
   },
   {
    "duration": 19,
    "start_time": "2022-08-31T15:08:39.163Z"
   },
   {
    "duration": 51,
    "start_time": "2022-08-31T16:58:38.874Z"
   },
   {
    "duration": 1624,
    "start_time": "2022-08-31T16:58:44.219Z"
   },
   {
    "duration": 87,
    "start_time": "2022-08-31T16:58:47.489Z"
   },
   {
    "duration": 52,
    "start_time": "2022-08-31T16:58:49.224Z"
   },
   {
    "duration": 5,
    "start_time": "2022-08-31T16:58:52.950Z"
   },
   {
    "duration": 8,
    "start_time": "2022-08-31T16:58:55.700Z"
   },
   {
    "duration": 886,
    "start_time": "2022-08-31T16:58:59.510Z"
   },
   {
    "duration": 210,
    "start_time": "2022-08-31T16:59:04.883Z"
   },
   {
    "duration": 125,
    "start_time": "2022-08-31T16:59:19.637Z"
   },
   {
    "duration": 140,
    "start_time": "2022-08-31T17:01:20.046Z"
   },
   {
    "duration": 16,
    "start_time": "2022-08-31T17:08:15.947Z"
   },
   {
    "duration": 7,
    "start_time": "2022-08-31T17:08:36.071Z"
   },
   {
    "duration": 8,
    "start_time": "2022-08-31T17:08:42.420Z"
   },
   {
    "duration": 410,
    "start_time": "2022-08-31T17:09:06.011Z"
   },
   {
    "duration": 5,
    "start_time": "2022-08-31T17:12:30.305Z"
   },
   {
    "duration": 10,
    "start_time": "2022-08-31T17:12:35.408Z"
   },
   {
    "duration": 4,
    "start_time": "2022-08-31T17:13:03.846Z"
   },
   {
    "duration": 9,
    "start_time": "2022-08-31T17:13:56.279Z"
   },
   {
    "duration": 10,
    "start_time": "2022-08-31T17:13:58.421Z"
   },
   {
    "duration": 4,
    "start_time": "2022-08-31T17:36:46.916Z"
   },
   {
    "duration": 77,
    "start_time": "2022-08-31T17:36:52.917Z"
   },
   {
    "duration": 3,
    "start_time": "2022-08-31T17:37:09.080Z"
   },
   {
    "duration": 8,
    "start_time": "2022-08-31T17:37:11.127Z"
   },
   {
    "duration": 8,
    "start_time": "2022-08-31T17:37:12.684Z"
   },
   {
    "duration": 1613,
    "start_time": "2022-08-31T17:37:29.572Z"
   },
   {
    "duration": 31,
    "start_time": "2022-08-31T17:37:31.187Z"
   },
   {
    "duration": 46,
    "start_time": "2022-08-31T17:37:31.220Z"
   },
   {
    "duration": 5,
    "start_time": "2022-08-31T17:37:31.268Z"
   },
   {
    "duration": 19,
    "start_time": "2022-08-31T17:37:31.275Z"
   },
   {
    "duration": 967,
    "start_time": "2022-08-31T17:37:31.296Z"
   },
   {
    "duration": 229,
    "start_time": "2022-08-31T17:37:32.265Z"
   },
   {
    "duration": 14,
    "start_time": "2022-08-31T17:37:32.495Z"
   },
   {
    "duration": 7,
    "start_time": "2022-08-31T17:37:32.511Z"
   },
   {
    "duration": 375,
    "start_time": "2022-08-31T17:37:32.520Z"
   },
   {
    "duration": 4,
    "start_time": "2022-08-31T17:37:32.897Z"
   },
   {
    "duration": 19,
    "start_time": "2022-08-31T17:37:32.903Z"
   },
   {
    "duration": 100,
    "start_time": "2022-08-31T17:37:32.993Z"
   },
   {
    "duration": 16,
    "start_time": "2022-08-31T17:37:33.095Z"
   },
   {
    "duration": 191,
    "start_time": "2022-08-31T17:37:33.113Z"
   },
   {
    "duration": 4,
    "start_time": "2022-08-31T17:44:29.336Z"
   },
   {
    "duration": 4,
    "start_time": "2022-08-31T17:50:14.133Z"
   },
   {
    "duration": 8,
    "start_time": "2022-08-31T17:51:42.025Z"
   },
   {
    "duration": 118,
    "start_time": "2022-08-31T17:52:03.917Z"
   },
   {
    "duration": 6,
    "start_time": "2022-08-31T17:54:32.671Z"
   },
   {
    "duration": 12,
    "start_time": "2022-08-31T17:54:37.583Z"
   },
   {
    "duration": 6,
    "start_time": "2022-08-31T17:54:46.842Z"
   },
   {
    "duration": 4,
    "start_time": "2022-08-31T17:55:50.170Z"
   },
   {
    "duration": 11,
    "start_time": "2022-08-31T17:55:53.604Z"
   },
   {
    "duration": 10,
    "start_time": "2022-08-31T17:55:56.428Z"
   },
   {
    "duration": 5,
    "start_time": "2022-08-31T17:57:07.441Z"
   },
   {
    "duration": 10,
    "start_time": "2022-08-31T17:57:12.971Z"
   },
   {
    "duration": 4,
    "start_time": "2022-08-31T17:58:07.862Z"
   },
   {
    "duration": 14,
    "start_time": "2022-08-31T17:58:10.588Z"
   },
   {
    "duration": 4,
    "start_time": "2022-08-31T17:58:37.552Z"
   },
   {
    "duration": 16,
    "start_time": "2022-08-31T17:58:40.335Z"
   },
   {
    "duration": 4,
    "start_time": "2022-08-31T17:58:59.105Z"
   },
   {
    "duration": 7,
    "start_time": "2022-08-31T17:59:02.661Z"
   },
   {
    "duration": 13,
    "start_time": "2022-08-31T17:59:32.788Z"
   },
   {
    "duration": 4,
    "start_time": "2022-08-31T18:03:08.792Z"
   },
   {
    "duration": 11,
    "start_time": "2022-08-31T18:03:12.563Z"
   },
   {
    "duration": 5,
    "start_time": "2022-08-31T18:04:15.238Z"
   },
   {
    "duration": 10,
    "start_time": "2022-08-31T18:04:18.350Z"
   },
   {
    "duration": 9,
    "start_time": "2022-08-31T18:04:23.192Z"
   },
   {
    "duration": 5,
    "start_time": "2022-08-31T18:04:49.666Z"
   },
   {
    "duration": 10,
    "start_time": "2022-08-31T18:04:52.272Z"
   },
   {
    "duration": 4,
    "start_time": "2022-08-31T18:06:46.767Z"
   },
   {
    "duration": 10,
    "start_time": "2022-08-31T18:06:50.785Z"
   },
   {
    "duration": 9,
    "start_time": "2022-08-31T18:07:09.098Z"
   },
   {
    "duration": 11,
    "start_time": "2022-08-31T18:07:13.007Z"
   },
   {
    "duration": 1434,
    "start_time": "2022-08-31T18:07:26.336Z"
   },
   {
    "duration": 31,
    "start_time": "2022-08-31T18:07:27.772Z"
   },
   {
    "duration": 44,
    "start_time": "2022-08-31T18:07:27.804Z"
   },
   {
    "duration": 5,
    "start_time": "2022-08-31T18:07:27.851Z"
   },
   {
    "duration": 13,
    "start_time": "2022-08-31T18:07:27.858Z"
   },
   {
    "duration": 864,
    "start_time": "2022-08-31T18:07:27.872Z"
   },
   {
    "duration": 239,
    "start_time": "2022-08-31T18:07:28.738Z"
   },
   {
    "duration": 21,
    "start_time": "2022-08-31T18:07:28.978Z"
   },
   {
    "duration": 10,
    "start_time": "2022-08-31T18:07:29.001Z"
   },
   {
    "duration": 400,
    "start_time": "2022-08-31T18:07:29.014Z"
   },
   {
    "duration": 8,
    "start_time": "2022-08-31T18:07:29.416Z"
   },
   {
    "duration": 64,
    "start_time": "2022-08-31T18:07:29.427Z"
   },
   {
    "duration": 104,
    "start_time": "2022-08-31T18:07:29.497Z"
   },
   {
    "duration": 11,
    "start_time": "2022-08-31T18:07:29.603Z"
   },
   {
    "duration": 177,
    "start_time": "2022-08-31T18:07:29.617Z"
   },
   {
    "duration": 1437,
    "start_time": "2022-09-01T17:32:46.855Z"
   },
   {
    "duration": 77,
    "start_time": "2022-09-01T17:32:48.294Z"
   },
   {
    "duration": 45,
    "start_time": "2022-09-01T17:32:48.373Z"
   },
   {
    "duration": 4,
    "start_time": "2022-09-01T17:32:48.420Z"
   },
   {
    "duration": 9,
    "start_time": "2022-09-01T17:32:48.426Z"
   },
   {
    "duration": 765,
    "start_time": "2022-09-01T17:32:48.436Z"
   },
   {
    "duration": 213,
    "start_time": "2022-09-01T17:32:49.203Z"
   },
   {
    "duration": 13,
    "start_time": "2022-09-01T17:32:49.417Z"
   },
   {
    "duration": 8,
    "start_time": "2022-09-01T17:32:49.431Z"
   },
   {
    "duration": 377,
    "start_time": "2022-09-01T17:32:49.441Z"
   },
   {
    "duration": 5,
    "start_time": "2022-09-01T17:32:49.820Z"
   },
   {
    "duration": 11,
    "start_time": "2022-09-01T17:32:49.827Z"
   },
   {
    "duration": 3,
    "start_time": "2022-09-01T17:32:53.045Z"
   },
   {
    "duration": 3,
    "start_time": "2022-09-01T17:36:19.939Z"
   },
   {
    "duration": 108,
    "start_time": "2022-09-01T17:40:13.916Z"
   },
   {
    "duration": 4,
    "start_time": "2022-09-01T17:40:44.108Z"
   },
   {
    "duration": 10,
    "start_time": "2022-09-01T17:41:09.853Z"
   },
   {
    "duration": 4,
    "start_time": "2022-09-01T17:44:31.158Z"
   },
   {
    "duration": 11,
    "start_time": "2022-09-01T17:44:33.361Z"
   },
   {
    "duration": 4,
    "start_time": "2022-09-01T17:45:03.440Z"
   },
   {
    "duration": 11,
    "start_time": "2022-09-01T17:45:05.141Z"
   },
   {
    "duration": 4,
    "start_time": "2022-09-01T17:47:10.464Z"
   },
   {
    "duration": 9,
    "start_time": "2022-09-01T17:47:11.708Z"
   },
   {
    "duration": 5,
    "start_time": "2022-09-01T17:47:29.733Z"
   },
   {
    "duration": 9,
    "start_time": "2022-09-01T17:47:30.501Z"
   },
   {
    "duration": 4,
    "start_time": "2022-09-01T17:47:45.803Z"
   },
   {
    "duration": 9,
    "start_time": "2022-09-01T17:47:46.398Z"
   },
   {
    "duration": 4,
    "start_time": "2022-09-01T17:52:43.290Z"
   },
   {
    "duration": 9,
    "start_time": "2022-09-01T17:52:44.486Z"
   },
   {
    "duration": 9,
    "start_time": "2022-09-01T17:54:54.224Z"
   },
   {
    "duration": 4,
    "start_time": "2022-09-01T17:54:57.088Z"
   },
   {
    "duration": 4,
    "start_time": "2022-09-01T17:54:58.532Z"
   },
   {
    "duration": 9,
    "start_time": "2022-09-01T17:55:17.204Z"
   },
   {
    "duration": 19,
    "start_time": "2022-09-01T17:55:46.694Z"
   },
   {
    "duration": 4,
    "start_time": "2022-09-01T17:56:53.905Z"
   },
   {
    "duration": 4,
    "start_time": "2022-09-01T17:56:55.233Z"
   },
   {
    "duration": 11,
    "start_time": "2022-09-01T17:56:55.819Z"
   },
   {
    "duration": 4,
    "start_time": "2022-09-01T17:57:21.923Z"
   },
   {
    "duration": 4,
    "start_time": "2022-09-01T17:57:22.312Z"
   },
   {
    "duration": 20,
    "start_time": "2022-09-01T17:57:22.809Z"
   },
   {
    "duration": 4,
    "start_time": "2022-09-01T17:58:16.844Z"
   },
   {
    "duration": 4,
    "start_time": "2022-09-01T17:58:17.139Z"
   },
   {
    "duration": 11,
    "start_time": "2022-09-01T17:58:17.432Z"
   },
   {
    "duration": 4,
    "start_time": "2022-09-01T17:58:23.073Z"
   },
   {
    "duration": 4,
    "start_time": "2022-09-01T17:58:23.349Z"
   },
   {
    "duration": 14,
    "start_time": "2022-09-01T17:58:23.603Z"
   },
   {
    "duration": 4,
    "start_time": "2022-09-01T18:01:17.089Z"
   },
   {
    "duration": 9,
    "start_time": "2022-09-01T18:01:52.789Z"
   },
   {
    "duration": 8,
    "start_time": "2022-09-01T18:01:59.434Z"
   },
   {
    "duration": 13,
    "start_time": "2022-09-01T18:03:19.717Z"
   },
   {
    "duration": 1444,
    "start_time": "2022-09-01T18:03:56.674Z"
   },
   {
    "duration": 30,
    "start_time": "2022-09-01T18:03:58.120Z"
   },
   {
    "duration": 42,
    "start_time": "2022-09-01T18:03:58.152Z"
   },
   {
    "duration": 6,
    "start_time": "2022-09-01T18:03:58.196Z"
   },
   {
    "duration": 15,
    "start_time": "2022-09-01T18:03:58.204Z"
   },
   {
    "duration": 759,
    "start_time": "2022-09-01T18:03:58.221Z"
   },
   {
    "duration": 203,
    "start_time": "2022-09-01T18:03:58.982Z"
   },
   {
    "duration": 11,
    "start_time": "2022-09-01T18:03:59.187Z"
   },
   {
    "duration": 7,
    "start_time": "2022-09-01T18:03:59.208Z"
   },
   {
    "duration": 342,
    "start_time": "2022-09-01T18:03:59.217Z"
   },
   {
    "duration": 4,
    "start_time": "2022-09-01T18:03:59.561Z"
   },
   {
    "duration": 46,
    "start_time": "2022-09-01T18:03:59.566Z"
   },
   {
    "duration": 118,
    "start_time": "2022-09-01T18:03:59.614Z"
   },
   {
    "duration": 18,
    "start_time": "2022-09-01T18:03:59.734Z"
   },
   {
    "duration": 164,
    "start_time": "2022-09-01T18:03:59.754Z"
   },
   {
    "duration": 22,
    "start_time": "2022-09-01T18:03:59.920Z"
   }
  ],
  "kernelspec": {
   "display_name": "Python 3 (ipykernel)",
   "language": "python",
   "name": "python3"
  },
  "language_info": {
   "codemirror_mode": {
    "name": "ipython",
    "version": 3
   },
   "file_extension": ".py",
   "mimetype": "text/x-python",
   "name": "python",
   "nbconvert_exporter": "python",
   "pygments_lexer": "ipython3",
   "version": "3.9.12"
  },
  "toc": {
   "base_numbering": 1,
   "nav_menu": {},
   "number_sections": true,
   "sideBar": true,
   "skip_h1_title": true,
   "title_cell": "Содержание",
   "title_sidebar": "Contents",
   "toc_cell": true,
   "toc_position": {},
   "toc_section_display": true,
   "toc_window_display": true
  }
 },
 "nbformat": 4,
 "nbformat_minor": 2
}
