{
 "cells": [
  {
   "cell_type": "markdown",
   "metadata": {},
   "source": [
    "# Прогнозирование оттока клиентов в сети отелей «Как в гостях»"
   ]
  },
  {
   "cell_type": "markdown",
   "metadata": {},
   "source": [
    "Заказчик этого исследования — сеть отелей «Как в гостях».\n",
    "\n",
    "Чтобы привлечь клиентов, эта сеть отелей добавила на свой сайт возможность забронировать номер без предоплаты. Однако если клиент отменял бронирование, то компания терпела убытки. \n",
    "\n",
    "В рамках данного проекта наши задачи:\n",
    "\n",
    "* ознакомиться с данными;\n",
    "* произвести предварительную обработку и исследовательский анализ данных;\n",
    "* определить прибыль отеля;\n",
    "* на основе данных и бизнес-задачи сформулировать задачу машинного обучения;\n",
    "* обучить модели и выбрать лучшую из них;\n",
    "* оценить прибыль на основе предсказаний обученной модели и сравнить с прибылью отеля. На разработку системы заложено 400000 рублей и она должна окупиться за год;\n",
    "* определить признаки \"ненадежного\" клиента.\n",
    "\n",
    "В выводах к проекту необходимо ответить на вопрос, целесообразно ли создание такой предсказательной системы для сети отелей."
   ]
  },
  {
   "cell_type": "markdown",
   "metadata": {},
   "source": [
    "### Шаг 1. Откройте файлы с данными"
   ]
  },
  {
   "cell_type": "markdown",
   "metadata": {},
   "source": [
    "На данном этапе произведем открытие файлов и первичный анализ данных.\n",
    "\n",
    "Для начала импортируем необходимые библиотеки для работы с данными и машинного обучения."
   ]
  },
  {
   "cell_type": "code",
   "execution_count": 1,
   "metadata": {},
   "outputs": [],
   "source": [
    "import pandas as pd\n",
    "import numpy as np\n",
    "import matplotlib.pyplot as plt\n",
    "import seaborn as sns\n",
    "from scipy import stats as st\n",
    "from sklearn.tree import DecisionTreeClassifier\n",
    "from sklearn.ensemble import AdaBoostClassifier\n",
    "from sklearn.linear_model import LogisticRegression\n",
    "from sklearn.model_selection import train_test_split\n",
    "from sklearn.model_selection import cross_val_score\n",
    "from sklearn.metrics import f1_score, recall_score\n",
    "from sklearn.preprocessing import StandardScaler\n",
    "from sklearn.preprocessing import OneHotEncoder\n",
    "from sklearn.utils import shuffle\n",
    "pd.options.display.float_format = '{:,.2f}'.format"
   ]
  },
  {
   "cell_type": "markdown",
   "metadata": {},
   "source": [
    "Откроем файлы и выведем на экран основную информацию по ним."
   ]
  },
  {
   "cell_type": "code",
   "execution_count": 2,
   "metadata": {
    "scrolled": true
   },
   "outputs": [
    {
     "name": "stdout",
     "output_type": "stream",
     "text": [
      "<class 'pandas.core.frame.DataFrame'>\n",
      "RangeIndex: 65229 entries, 0 to 65228\n",
      "Data columns (total 25 columns):\n",
      " #   Column                          Non-Null Count  Dtype  \n",
      "---  ------                          --------------  -----  \n",
      " 0   id                              65229 non-null  int64  \n",
      " 1   is_canceled                     65229 non-null  int64  \n",
      " 2   lead_time                       65229 non-null  float64\n",
      " 3   arrival_date_year               65229 non-null  int64  \n",
      " 4   arrival_date_month              65229 non-null  object \n",
      " 5   arrival_date_week_number        65229 non-null  int64  \n",
      " 6   arrival_date_day_of_month       65229 non-null  int64  \n",
      " 7   stays_in_weekend_nights         65229 non-null  int64  \n",
      " 8   stays_in_week_nights            65229 non-null  int64  \n",
      " 9   adults                          65229 non-null  float64\n",
      " 10  children                        65229 non-null  float64\n",
      " 11  babies                          65229 non-null  float64\n",
      " 12  meal                            65229 non-null  object \n",
      " 13  country                         65229 non-null  object \n",
      " 14  distribution_channel            65229 non-null  object \n",
      " 15  is_repeated_guest               65229 non-null  int64  \n",
      " 16  previous_cancellations          65229 non-null  int64  \n",
      " 17  previous_bookings_not_canceled  65229 non-null  int64  \n",
      " 18  reserved_room_type              65229 non-null  object \n",
      " 19  booking_changes                 65229 non-null  int64  \n",
      " 20  days_in_waiting_list            65229 non-null  int64  \n",
      " 21  customer_type                   65229 non-null  object \n",
      " 22  required_car_parking_spaces     65229 non-null  int64  \n",
      " 23  total_of_special_requests       65229 non-null  int64  \n",
      " 24  total_nights                    65229 non-null  int64  \n",
      "dtypes: float64(4), int64(15), object(6)\n",
      "memory usage: 12.4+ MB\n"
     ]
    },
    {
     "data": {
      "text/plain": [
       "None"
      ]
     },
     "metadata": {},
     "output_type": "display_data"
    },
    {
     "data": {
      "text/html": [
       "<div>\n",
       "<style scoped>\n",
       "    .dataframe tbody tr th:only-of-type {\n",
       "        vertical-align: middle;\n",
       "    }\n",
       "\n",
       "    .dataframe tbody tr th {\n",
       "        vertical-align: top;\n",
       "    }\n",
       "\n",
       "    .dataframe thead th {\n",
       "        text-align: right;\n",
       "    }\n",
       "</style>\n",
       "<table border=\"1\" class=\"dataframe\">\n",
       "  <thead>\n",
       "    <tr style=\"text-align: right;\">\n",
       "      <th></th>\n",
       "      <th>id</th>\n",
       "      <th>is_canceled</th>\n",
       "      <th>lead_time</th>\n",
       "      <th>arrival_date_year</th>\n",
       "      <th>arrival_date_month</th>\n",
       "      <th>arrival_date_week_number</th>\n",
       "      <th>arrival_date_day_of_month</th>\n",
       "      <th>stays_in_weekend_nights</th>\n",
       "      <th>stays_in_week_nights</th>\n",
       "      <th>adults</th>\n",
       "      <th>...</th>\n",
       "      <th>is_repeated_guest</th>\n",
       "      <th>previous_cancellations</th>\n",
       "      <th>previous_bookings_not_canceled</th>\n",
       "      <th>reserved_room_type</th>\n",
       "      <th>booking_changes</th>\n",
       "      <th>days_in_waiting_list</th>\n",
       "      <th>customer_type</th>\n",
       "      <th>required_car_parking_spaces</th>\n",
       "      <th>total_of_special_requests</th>\n",
       "      <th>total_nights</th>\n",
       "    </tr>\n",
       "  </thead>\n",
       "  <tbody>\n",
       "    <tr>\n",
       "      <th>0</th>\n",
       "      <td>0</td>\n",
       "      <td>0</td>\n",
       "      <td>7.00</td>\n",
       "      <td>2015</td>\n",
       "      <td>July</td>\n",
       "      <td>27</td>\n",
       "      <td>1</td>\n",
       "      <td>0</td>\n",
       "      <td>1</td>\n",
       "      <td>1.00</td>\n",
       "      <td>...</td>\n",
       "      <td>0</td>\n",
       "      <td>0</td>\n",
       "      <td>0</td>\n",
       "      <td>A</td>\n",
       "      <td>0</td>\n",
       "      <td>0</td>\n",
       "      <td>Transient</td>\n",
       "      <td>0</td>\n",
       "      <td>0</td>\n",
       "      <td>1</td>\n",
       "    </tr>\n",
       "    <tr>\n",
       "      <th>1</th>\n",
       "      <td>1</td>\n",
       "      <td>0</td>\n",
       "      <td>14.00</td>\n",
       "      <td>2015</td>\n",
       "      <td>July</td>\n",
       "      <td>27</td>\n",
       "      <td>1</td>\n",
       "      <td>0</td>\n",
       "      <td>2</td>\n",
       "      <td>2.00</td>\n",
       "      <td>...</td>\n",
       "      <td>0</td>\n",
       "      <td>0</td>\n",
       "      <td>0</td>\n",
       "      <td>A</td>\n",
       "      <td>0</td>\n",
       "      <td>0</td>\n",
       "      <td>Transient</td>\n",
       "      <td>0</td>\n",
       "      <td>1</td>\n",
       "      <td>2</td>\n",
       "    </tr>\n",
       "    <tr>\n",
       "      <th>2</th>\n",
       "      <td>2</td>\n",
       "      <td>0</td>\n",
       "      <td>0.00</td>\n",
       "      <td>2015</td>\n",
       "      <td>July</td>\n",
       "      <td>27</td>\n",
       "      <td>1</td>\n",
       "      <td>0</td>\n",
       "      <td>2</td>\n",
       "      <td>2.00</td>\n",
       "      <td>...</td>\n",
       "      <td>0</td>\n",
       "      <td>0</td>\n",
       "      <td>0</td>\n",
       "      <td>C</td>\n",
       "      <td>0</td>\n",
       "      <td>0</td>\n",
       "      <td>Transient</td>\n",
       "      <td>0</td>\n",
       "      <td>0</td>\n",
       "      <td>2</td>\n",
       "    </tr>\n",
       "    <tr>\n",
       "      <th>3</th>\n",
       "      <td>3</td>\n",
       "      <td>0</td>\n",
       "      <td>9.00</td>\n",
       "      <td>2015</td>\n",
       "      <td>July</td>\n",
       "      <td>27</td>\n",
       "      <td>1</td>\n",
       "      <td>0</td>\n",
       "      <td>2</td>\n",
       "      <td>2.00</td>\n",
       "      <td>...</td>\n",
       "      <td>0</td>\n",
       "      <td>0</td>\n",
       "      <td>0</td>\n",
       "      <td>C</td>\n",
       "      <td>0</td>\n",
       "      <td>0</td>\n",
       "      <td>Transient</td>\n",
       "      <td>0</td>\n",
       "      <td>1</td>\n",
       "      <td>2</td>\n",
       "    </tr>\n",
       "    <tr>\n",
       "      <th>4</th>\n",
       "      <td>4</td>\n",
       "      <td>1</td>\n",
       "      <td>85.00</td>\n",
       "      <td>2015</td>\n",
       "      <td>July</td>\n",
       "      <td>27</td>\n",
       "      <td>1</td>\n",
       "      <td>0</td>\n",
       "      <td>3</td>\n",
       "      <td>2.00</td>\n",
       "      <td>...</td>\n",
       "      <td>0</td>\n",
       "      <td>0</td>\n",
       "      <td>0</td>\n",
       "      <td>A</td>\n",
       "      <td>0</td>\n",
       "      <td>0</td>\n",
       "      <td>Transient</td>\n",
       "      <td>0</td>\n",
       "      <td>1</td>\n",
       "      <td>3</td>\n",
       "    </tr>\n",
       "  </tbody>\n",
       "</table>\n",
       "<p>5 rows × 25 columns</p>\n",
       "</div>"
      ],
      "text/plain": [
       "   id  is_canceled  lead_time  arrival_date_year arrival_date_month  \\\n",
       "0   0            0       7.00               2015               July   \n",
       "1   1            0      14.00               2015               July   \n",
       "2   2            0       0.00               2015               July   \n",
       "3   3            0       9.00               2015               July   \n",
       "4   4            1      85.00               2015               July   \n",
       "\n",
       "   arrival_date_week_number  arrival_date_day_of_month  \\\n",
       "0                        27                          1   \n",
       "1                        27                          1   \n",
       "2                        27                          1   \n",
       "3                        27                          1   \n",
       "4                        27                          1   \n",
       "\n",
       "   stays_in_weekend_nights  stays_in_week_nights  adults  ...  \\\n",
       "0                        0                     1    1.00  ...   \n",
       "1                        0                     2    2.00  ...   \n",
       "2                        0                     2    2.00  ...   \n",
       "3                        0                     2    2.00  ...   \n",
       "4                        0                     3    2.00  ...   \n",
       "\n",
       "   is_repeated_guest  previous_cancellations previous_bookings_not_canceled  \\\n",
       "0                  0                       0                              0   \n",
       "1                  0                       0                              0   \n",
       "2                  0                       0                              0   \n",
       "3                  0                       0                              0   \n",
       "4                  0                       0                              0   \n",
       "\n",
       "  reserved_room_type booking_changes  days_in_waiting_list  customer_type  \\\n",
       "0   A                              0                     0      Transient   \n",
       "1   A                              0                     0      Transient   \n",
       "2   C                              0                     0      Transient   \n",
       "3   C                              0                     0      Transient   \n",
       "4   A                              0                     0      Transient   \n",
       "\n",
       "   required_car_parking_spaces total_of_special_requests  total_nights  \n",
       "0                            0                         0             1  \n",
       "1                            0                         1             2  \n",
       "2                            0                         0             2  \n",
       "3                            0                         1             2  \n",
       "4                            0                         1             3  \n",
       "\n",
       "[5 rows x 25 columns]"
      ]
     },
     "metadata": {},
     "output_type": "display_data"
    }
   ],
   "source": [
    "try:\n",
    "    data_train = pd.read_csv('hotel_train.csv')\n",
    "except:\n",
    "    data_train = pd.read_csv('/hotel_train.csv')\n",
    "display(data_train.info())\n",
    "display(data_train.head())"
   ]
  },
  {
   "cell_type": "code",
   "execution_count": 3,
   "metadata": {
    "scrolled": false
   },
   "outputs": [
    {
     "name": "stdout",
     "output_type": "stream",
     "text": [
      "<class 'pandas.core.frame.DataFrame'>\n",
      "RangeIndex: 32412 entries, 0 to 32411\n",
      "Data columns (total 25 columns):\n",
      " #   Column                          Non-Null Count  Dtype  \n",
      "---  ------                          --------------  -----  \n",
      " 0   id                              32412 non-null  int64  \n",
      " 1   is_canceled                     32412 non-null  int64  \n",
      " 2   lead_time                       32412 non-null  float64\n",
      " 3   arrival_date_year               32412 non-null  int64  \n",
      " 4   arrival_date_month              32412 non-null  object \n",
      " 5   arrival_date_week_number        32412 non-null  int64  \n",
      " 6   arrival_date_day_of_month       32412 non-null  int64  \n",
      " 7   stays_in_weekend_nights         32412 non-null  int64  \n",
      " 8   stays_in_week_nights            32412 non-null  int64  \n",
      " 9   adults                          32412 non-null  float64\n",
      " 10  children                        32412 non-null  float64\n",
      " 11  babies                          32412 non-null  float64\n",
      " 12  meal                            32412 non-null  object \n",
      " 13  country                         32412 non-null  object \n",
      " 14  distribution_channel            32412 non-null  object \n",
      " 15  is_repeated_guest               32412 non-null  int64  \n",
      " 16  previous_cancellations          32412 non-null  int64  \n",
      " 17  previous_bookings_not_canceled  32412 non-null  int64  \n",
      " 18  reserved_room_type              32412 non-null  object \n",
      " 19  booking_changes                 32412 non-null  int64  \n",
      " 20  days_in_waiting_list            32412 non-null  int64  \n",
      " 21  customer_type                   32412 non-null  object \n",
      " 22  required_car_parking_spaces     32412 non-null  int64  \n",
      " 23  total_of_special_requests       32412 non-null  int64  \n",
      " 24  total_nights                    32412 non-null  int64  \n",
      "dtypes: float64(4), int64(15), object(6)\n",
      "memory usage: 6.2+ MB\n"
     ]
    },
    {
     "data": {
      "text/plain": [
       "None"
      ]
     },
     "metadata": {},
     "output_type": "display_data"
    },
    {
     "data": {
      "text/html": [
       "<div>\n",
       "<style scoped>\n",
       "    .dataframe tbody tr th:only-of-type {\n",
       "        vertical-align: middle;\n",
       "    }\n",
       "\n",
       "    .dataframe tbody tr th {\n",
       "        vertical-align: top;\n",
       "    }\n",
       "\n",
       "    .dataframe thead th {\n",
       "        text-align: right;\n",
       "    }\n",
       "</style>\n",
       "<table border=\"1\" class=\"dataframe\">\n",
       "  <thead>\n",
       "    <tr style=\"text-align: right;\">\n",
       "      <th></th>\n",
       "      <th>id</th>\n",
       "      <th>is_canceled</th>\n",
       "      <th>lead_time</th>\n",
       "      <th>arrival_date_year</th>\n",
       "      <th>arrival_date_month</th>\n",
       "      <th>arrival_date_week_number</th>\n",
       "      <th>arrival_date_day_of_month</th>\n",
       "      <th>stays_in_weekend_nights</th>\n",
       "      <th>stays_in_week_nights</th>\n",
       "      <th>adults</th>\n",
       "      <th>...</th>\n",
       "      <th>is_repeated_guest</th>\n",
       "      <th>previous_cancellations</th>\n",
       "      <th>previous_bookings_not_canceled</th>\n",
       "      <th>reserved_room_type</th>\n",
       "      <th>booking_changes</th>\n",
       "      <th>days_in_waiting_list</th>\n",
       "      <th>customer_type</th>\n",
       "      <th>required_car_parking_spaces</th>\n",
       "      <th>total_of_special_requests</th>\n",
       "      <th>total_nights</th>\n",
       "    </tr>\n",
       "  </thead>\n",
       "  <tbody>\n",
       "    <tr>\n",
       "      <th>0</th>\n",
       "      <td>6086</td>\n",
       "      <td>1</td>\n",
       "      <td>74.00</td>\n",
       "      <td>2017</td>\n",
       "      <td>January</td>\n",
       "      <td>1</td>\n",
       "      <td>1</td>\n",
       "      <td>1</td>\n",
       "      <td>0</td>\n",
       "      <td>2.00</td>\n",
       "      <td>...</td>\n",
       "      <td>0</td>\n",
       "      <td>0</td>\n",
       "      <td>0</td>\n",
       "      <td>A</td>\n",
       "      <td>0</td>\n",
       "      <td>0</td>\n",
       "      <td>Transient</td>\n",
       "      <td>0</td>\n",
       "      <td>0</td>\n",
       "      <td>1</td>\n",
       "    </tr>\n",
       "    <tr>\n",
       "      <th>1</th>\n",
       "      <td>6087</td>\n",
       "      <td>1</td>\n",
       "      <td>62.00</td>\n",
       "      <td>2017</td>\n",
       "      <td>January</td>\n",
       "      <td>1</td>\n",
       "      <td>1</td>\n",
       "      <td>2</td>\n",
       "      <td>2</td>\n",
       "      <td>2.00</td>\n",
       "      <td>...</td>\n",
       "      <td>0</td>\n",
       "      <td>0</td>\n",
       "      <td>0</td>\n",
       "      <td>A</td>\n",
       "      <td>0</td>\n",
       "      <td>0</td>\n",
       "      <td>Transient</td>\n",
       "      <td>0</td>\n",
       "      <td>1</td>\n",
       "      <td>4</td>\n",
       "    </tr>\n",
       "    <tr>\n",
       "      <th>2</th>\n",
       "      <td>6088</td>\n",
       "      <td>1</td>\n",
       "      <td>62.00</td>\n",
       "      <td>2017</td>\n",
       "      <td>January</td>\n",
       "      <td>1</td>\n",
       "      <td>1</td>\n",
       "      <td>2</td>\n",
       "      <td>2</td>\n",
       "      <td>2.00</td>\n",
       "      <td>...</td>\n",
       "      <td>0</td>\n",
       "      <td>0</td>\n",
       "      <td>0</td>\n",
       "      <td>A</td>\n",
       "      <td>0</td>\n",
       "      <td>0</td>\n",
       "      <td>Transient</td>\n",
       "      <td>0</td>\n",
       "      <td>1</td>\n",
       "      <td>4</td>\n",
       "    </tr>\n",
       "    <tr>\n",
       "      <th>3</th>\n",
       "      <td>6089</td>\n",
       "      <td>1</td>\n",
       "      <td>71.00</td>\n",
       "      <td>2017</td>\n",
       "      <td>January</td>\n",
       "      <td>1</td>\n",
       "      <td>1</td>\n",
       "      <td>2</td>\n",
       "      <td>2</td>\n",
       "      <td>1.00</td>\n",
       "      <td>...</td>\n",
       "      <td>0</td>\n",
       "      <td>0</td>\n",
       "      <td>0</td>\n",
       "      <td>A</td>\n",
       "      <td>0</td>\n",
       "      <td>0</td>\n",
       "      <td>Transient</td>\n",
       "      <td>0</td>\n",
       "      <td>1</td>\n",
       "      <td>4</td>\n",
       "    </tr>\n",
       "    <tr>\n",
       "      <th>4</th>\n",
       "      <td>6090</td>\n",
       "      <td>1</td>\n",
       "      <td>172.00</td>\n",
       "      <td>2017</td>\n",
       "      <td>January</td>\n",
       "      <td>1</td>\n",
       "      <td>1</td>\n",
       "      <td>2</td>\n",
       "      <td>5</td>\n",
       "      <td>2.00</td>\n",
       "      <td>...</td>\n",
       "      <td>0</td>\n",
       "      <td>0</td>\n",
       "      <td>0</td>\n",
       "      <td>A</td>\n",
       "      <td>0</td>\n",
       "      <td>0</td>\n",
       "      <td>Transient</td>\n",
       "      <td>0</td>\n",
       "      <td>0</td>\n",
       "      <td>7</td>\n",
       "    </tr>\n",
       "  </tbody>\n",
       "</table>\n",
       "<p>5 rows × 25 columns</p>\n",
       "</div>"
      ],
      "text/plain": [
       "     id  is_canceled  lead_time  arrival_date_year arrival_date_month  \\\n",
       "0  6086            1      74.00               2017            January   \n",
       "1  6087            1      62.00               2017            January   \n",
       "2  6088            1      62.00               2017            January   \n",
       "3  6089            1      71.00               2017            January   \n",
       "4  6090            1     172.00               2017            January   \n",
       "\n",
       "   arrival_date_week_number  arrival_date_day_of_month  \\\n",
       "0                         1                          1   \n",
       "1                         1                          1   \n",
       "2                         1                          1   \n",
       "3                         1                          1   \n",
       "4                         1                          1   \n",
       "\n",
       "   stays_in_weekend_nights  stays_in_week_nights  adults  ...  \\\n",
       "0                        1                     0    2.00  ...   \n",
       "1                        2                     2    2.00  ...   \n",
       "2                        2                     2    2.00  ...   \n",
       "3                        2                     2    1.00  ...   \n",
       "4                        2                     5    2.00  ...   \n",
       "\n",
       "   is_repeated_guest  previous_cancellations previous_bookings_not_canceled  \\\n",
       "0                  0                       0                              0   \n",
       "1                  0                       0                              0   \n",
       "2                  0                       0                              0   \n",
       "3                  0                       0                              0   \n",
       "4                  0                       0                              0   \n",
       "\n",
       "  reserved_room_type booking_changes  days_in_waiting_list  customer_type  \\\n",
       "0   A                              0                     0      Transient   \n",
       "1   A                              0                     0      Transient   \n",
       "2   A                              0                     0      Transient   \n",
       "3   A                              0                     0      Transient   \n",
       "4   A                              0                     0      Transient   \n",
       "\n",
       "   required_car_parking_spaces total_of_special_requests  total_nights  \n",
       "0                            0                         0             1  \n",
       "1                            0                         1             4  \n",
       "2                            0                         1             4  \n",
       "3                            0                         1             4  \n",
       "4                            0                         0             7  \n",
       "\n",
       "[5 rows x 25 columns]"
      ]
     },
     "metadata": {},
     "output_type": "display_data"
    }
   ],
   "source": [
    "try:\n",
    "    data_test = pd.read_csv('hotel_test.csv')\n",
    "except:\n",
    "    data_test = pd.read_csv('/hotel_test.csv')\n",
    "display(data_test.info())\n",
    "display(data_test.head())"
   ]
  },
  {
   "cell_type": "markdown",
   "metadata": {},
   "source": [
    "Тренировочная выборка содержит 65229 наблюдений. Пропусков данных нет.\n",
    "\n",
    "Тестовая выборка содержит 32412 наблюдений. Пропусков данных также нет.\n",
    "\n",
    "Далее выведем на экран распределение количественных и категориальных значений в тренировочной выборке методом describe."
   ]
  },
  {
   "cell_type": "code",
   "execution_count": 4,
   "metadata": {
    "scrolled": false
   },
   "outputs": [
    {
     "data": {
      "text/html": [
       "<div>\n",
       "<style scoped>\n",
       "    .dataframe tbody tr th:only-of-type {\n",
       "        vertical-align: middle;\n",
       "    }\n",
       "\n",
       "    .dataframe tbody tr th {\n",
       "        vertical-align: top;\n",
       "    }\n",
       "\n",
       "    .dataframe thead th {\n",
       "        text-align: right;\n",
       "    }\n",
       "</style>\n",
       "<table border=\"1\" class=\"dataframe\">\n",
       "  <thead>\n",
       "    <tr style=\"text-align: right;\">\n",
       "      <th></th>\n",
       "      <th>count</th>\n",
       "      <th>unique</th>\n",
       "      <th>top</th>\n",
       "      <th>freq</th>\n",
       "      <th>mean</th>\n",
       "      <th>std</th>\n",
       "      <th>min</th>\n",
       "      <th>25%</th>\n",
       "      <th>50%</th>\n",
       "      <th>75%</th>\n",
       "      <th>max</th>\n",
       "    </tr>\n",
       "  </thead>\n",
       "  <tbody>\n",
       "    <tr>\n",
       "      <th>id</th>\n",
       "      <td>65,229.00</td>\n",
       "      <td>NaN</td>\n",
       "      <td>NaN</td>\n",
       "      <td>NaN</td>\n",
       "      <td>43,544.07</td>\n",
       "      <td>25,614.86</td>\n",
       "      <td>0.00</td>\n",
       "      <td>19,108.00</td>\n",
       "      <td>40,554.00</td>\n",
       "      <td>67,414.00</td>\n",
       "      <td>84,121.00</td>\n",
       "    </tr>\n",
       "    <tr>\n",
       "      <th>is_canceled</th>\n",
       "      <td>65,229.00</td>\n",
       "      <td>NaN</td>\n",
       "      <td>NaN</td>\n",
       "      <td>NaN</td>\n",
       "      <td>0.37</td>\n",
       "      <td>0.48</td>\n",
       "      <td>0.00</td>\n",
       "      <td>0.00</td>\n",
       "      <td>0.00</td>\n",
       "      <td>1.00</td>\n",
       "      <td>1.00</td>\n",
       "    </tr>\n",
       "    <tr>\n",
       "      <th>lead_time</th>\n",
       "      <td>65,229.00</td>\n",
       "      <td>NaN</td>\n",
       "      <td>NaN</td>\n",
       "      <td>NaN</td>\n",
       "      <td>96.34</td>\n",
       "      <td>96.13</td>\n",
       "      <td>0.00</td>\n",
       "      <td>17.00</td>\n",
       "      <td>64.00</td>\n",
       "      <td>151.00</td>\n",
       "      <td>374.00</td>\n",
       "    </tr>\n",
       "    <tr>\n",
       "      <th>arrival_date_year</th>\n",
       "      <td>65,229.00</td>\n",
       "      <td>NaN</td>\n",
       "      <td>NaN</td>\n",
       "      <td>NaN</td>\n",
       "      <td>2,015.72</td>\n",
       "      <td>0.45</td>\n",
       "      <td>2,015.00</td>\n",
       "      <td>2,015.00</td>\n",
       "      <td>2,016.00</td>\n",
       "      <td>2,016.00</td>\n",
       "      <td>2,016.00</td>\n",
       "    </tr>\n",
       "    <tr>\n",
       "      <th>arrival_date_month</th>\n",
       "      <td>65229</td>\n",
       "      <td>12</td>\n",
       "      <td>October</td>\n",
       "      <td>9255</td>\n",
       "      <td>NaN</td>\n",
       "      <td>NaN</td>\n",
       "      <td>NaN</td>\n",
       "      <td>NaN</td>\n",
       "      <td>NaN</td>\n",
       "      <td>NaN</td>\n",
       "      <td>NaN</td>\n",
       "    </tr>\n",
       "    <tr>\n",
       "      <th>arrival_date_week_number</th>\n",
       "      <td>65,229.00</td>\n",
       "      <td>NaN</td>\n",
       "      <td>NaN</td>\n",
       "      <td>NaN</td>\n",
       "      <td>31.34</td>\n",
       "      <td>13.46</td>\n",
       "      <td>1.00</td>\n",
       "      <td>21.00</td>\n",
       "      <td>34.00</td>\n",
       "      <td>42.00</td>\n",
       "      <td>53.00</td>\n",
       "    </tr>\n",
       "    <tr>\n",
       "      <th>arrival_date_day_of_month</th>\n",
       "      <td>65,229.00</td>\n",
       "      <td>NaN</td>\n",
       "      <td>NaN</td>\n",
       "      <td>NaN</td>\n",
       "      <td>15.85</td>\n",
       "      <td>8.75</td>\n",
       "      <td>1.00</td>\n",
       "      <td>8.00</td>\n",
       "      <td>16.00</td>\n",
       "      <td>23.00</td>\n",
       "      <td>31.00</td>\n",
       "    </tr>\n",
       "    <tr>\n",
       "      <th>stays_in_weekend_nights</th>\n",
       "      <td>65,229.00</td>\n",
       "      <td>NaN</td>\n",
       "      <td>NaN</td>\n",
       "      <td>NaN</td>\n",
       "      <td>0.83</td>\n",
       "      <td>0.85</td>\n",
       "      <td>0.00</td>\n",
       "      <td>0.00</td>\n",
       "      <td>1.00</td>\n",
       "      <td>2.00</td>\n",
       "      <td>4.00</td>\n",
       "    </tr>\n",
       "    <tr>\n",
       "      <th>stays_in_week_nights</th>\n",
       "      <td>65,229.00</td>\n",
       "      <td>NaN</td>\n",
       "      <td>NaN</td>\n",
       "      <td>NaN</td>\n",
       "      <td>2.22</td>\n",
       "      <td>1.35</td>\n",
       "      <td>0.00</td>\n",
       "      <td>1.00</td>\n",
       "      <td>2.00</td>\n",
       "      <td>3.00</td>\n",
       "      <td>6.00</td>\n",
       "    </tr>\n",
       "    <tr>\n",
       "      <th>adults</th>\n",
       "      <td>65,229.00</td>\n",
       "      <td>NaN</td>\n",
       "      <td>NaN</td>\n",
       "      <td>NaN</td>\n",
       "      <td>1.84</td>\n",
       "      <td>0.48</td>\n",
       "      <td>0.00</td>\n",
       "      <td>2.00</td>\n",
       "      <td>2.00</td>\n",
       "      <td>2.00</td>\n",
       "      <td>4.00</td>\n",
       "    </tr>\n",
       "    <tr>\n",
       "      <th>children</th>\n",
       "      <td>65,229.00</td>\n",
       "      <td>NaN</td>\n",
       "      <td>NaN</td>\n",
       "      <td>NaN</td>\n",
       "      <td>0.07</td>\n",
       "      <td>0.33</td>\n",
       "      <td>0.00</td>\n",
       "      <td>0.00</td>\n",
       "      <td>0.00</td>\n",
       "      <td>0.00</td>\n",
       "      <td>3.00</td>\n",
       "    </tr>\n",
       "    <tr>\n",
       "      <th>babies</th>\n",
       "      <td>65,229.00</td>\n",
       "      <td>NaN</td>\n",
       "      <td>NaN</td>\n",
       "      <td>NaN</td>\n",
       "      <td>0.01</td>\n",
       "      <td>0.10</td>\n",
       "      <td>0.00</td>\n",
       "      <td>0.00</td>\n",
       "      <td>0.00</td>\n",
       "      <td>0.00</td>\n",
       "      <td>10.00</td>\n",
       "    </tr>\n",
       "    <tr>\n",
       "      <th>meal</th>\n",
       "      <td>65229</td>\n",
       "      <td>5</td>\n",
       "      <td>BB</td>\n",
       "      <td>51697</td>\n",
       "      <td>NaN</td>\n",
       "      <td>NaN</td>\n",
       "      <td>NaN</td>\n",
       "      <td>NaN</td>\n",
       "      <td>NaN</td>\n",
       "      <td>NaN</td>\n",
       "      <td>NaN</td>\n",
       "    </tr>\n",
       "    <tr>\n",
       "      <th>country</th>\n",
       "      <td>65229</td>\n",
       "      <td>155</td>\n",
       "      <td>PRT</td>\n",
       "      <td>28831</td>\n",
       "      <td>NaN</td>\n",
       "      <td>NaN</td>\n",
       "      <td>NaN</td>\n",
       "      <td>NaN</td>\n",
       "      <td>NaN</td>\n",
       "      <td>NaN</td>\n",
       "      <td>NaN</td>\n",
       "    </tr>\n",
       "    <tr>\n",
       "      <th>distribution_channel</th>\n",
       "      <td>65229</td>\n",
       "      <td>4</td>\n",
       "      <td>TA/TO</td>\n",
       "      <td>54454</td>\n",
       "      <td>NaN</td>\n",
       "      <td>NaN</td>\n",
       "      <td>NaN</td>\n",
       "      <td>NaN</td>\n",
       "      <td>NaN</td>\n",
       "      <td>NaN</td>\n",
       "      <td>NaN</td>\n",
       "    </tr>\n",
       "    <tr>\n",
       "      <th>is_repeated_guest</th>\n",
       "      <td>65,229.00</td>\n",
       "      <td>NaN</td>\n",
       "      <td>NaN</td>\n",
       "      <td>NaN</td>\n",
       "      <td>0.03</td>\n",
       "      <td>0.16</td>\n",
       "      <td>0.00</td>\n",
       "      <td>0.00</td>\n",
       "      <td>0.00</td>\n",
       "      <td>0.00</td>\n",
       "      <td>1.00</td>\n",
       "    </tr>\n",
       "    <tr>\n",
       "      <th>previous_cancellations</th>\n",
       "      <td>65,229.00</td>\n",
       "      <td>NaN</td>\n",
       "      <td>NaN</td>\n",
       "      <td>NaN</td>\n",
       "      <td>0.13</td>\n",
       "      <td>0.97</td>\n",
       "      <td>0.00</td>\n",
       "      <td>0.00</td>\n",
       "      <td>0.00</td>\n",
       "      <td>0.00</td>\n",
       "      <td>26.00</td>\n",
       "    </tr>\n",
       "    <tr>\n",
       "      <th>previous_bookings_not_canceled</th>\n",
       "      <td>65,229.00</td>\n",
       "      <td>NaN</td>\n",
       "      <td>NaN</td>\n",
       "      <td>NaN</td>\n",
       "      <td>0.11</td>\n",
       "      <td>1.33</td>\n",
       "      <td>0.00</td>\n",
       "      <td>0.00</td>\n",
       "      <td>0.00</td>\n",
       "      <td>0.00</td>\n",
       "      <td>58.00</td>\n",
       "    </tr>\n",
       "    <tr>\n",
       "      <th>reserved_room_type</th>\n",
       "      <td>65229</td>\n",
       "      <td>7</td>\n",
       "      <td>A</td>\n",
       "      <td>50501</td>\n",
       "      <td>NaN</td>\n",
       "      <td>NaN</td>\n",
       "      <td>NaN</td>\n",
       "      <td>NaN</td>\n",
       "      <td>NaN</td>\n",
       "      <td>NaN</td>\n",
       "      <td>NaN</td>\n",
       "    </tr>\n",
       "    <tr>\n",
       "      <th>booking_changes</th>\n",
       "      <td>65,229.00</td>\n",
       "      <td>NaN</td>\n",
       "      <td>NaN</td>\n",
       "      <td>NaN</td>\n",
       "      <td>0.19</td>\n",
       "      <td>0.59</td>\n",
       "      <td>0.00</td>\n",
       "      <td>0.00</td>\n",
       "      <td>0.00</td>\n",
       "      <td>0.00</td>\n",
       "      <td>17.00</td>\n",
       "    </tr>\n",
       "    <tr>\n",
       "      <th>days_in_waiting_list</th>\n",
       "      <td>65,229.00</td>\n",
       "      <td>NaN</td>\n",
       "      <td>NaN</td>\n",
       "      <td>NaN</td>\n",
       "      <td>3.33</td>\n",
       "      <td>18.24</td>\n",
       "      <td>0.00</td>\n",
       "      <td>0.00</td>\n",
       "      <td>0.00</td>\n",
       "      <td>0.00</td>\n",
       "      <td>259.00</td>\n",
       "    </tr>\n",
       "    <tr>\n",
       "      <th>customer_type</th>\n",
       "      <td>65229</td>\n",
       "      <td>4</td>\n",
       "      <td>Transient</td>\n",
       "      <td>45493</td>\n",
       "      <td>NaN</td>\n",
       "      <td>NaN</td>\n",
       "      <td>NaN</td>\n",
       "      <td>NaN</td>\n",
       "      <td>NaN</td>\n",
       "      <td>NaN</td>\n",
       "      <td>NaN</td>\n",
       "    </tr>\n",
       "    <tr>\n",
       "      <th>required_car_parking_spaces</th>\n",
       "      <td>65,229.00</td>\n",
       "      <td>NaN</td>\n",
       "      <td>NaN</td>\n",
       "      <td>NaN</td>\n",
       "      <td>0.06</td>\n",
       "      <td>0.23</td>\n",
       "      <td>0.00</td>\n",
       "      <td>0.00</td>\n",
       "      <td>0.00</td>\n",
       "      <td>0.00</td>\n",
       "      <td>3.00</td>\n",
       "    </tr>\n",
       "    <tr>\n",
       "      <th>total_of_special_requests</th>\n",
       "      <td>65,229.00</td>\n",
       "      <td>NaN</td>\n",
       "      <td>NaN</td>\n",
       "      <td>NaN</td>\n",
       "      <td>0.51</td>\n",
       "      <td>0.75</td>\n",
       "      <td>0.00</td>\n",
       "      <td>0.00</td>\n",
       "      <td>0.00</td>\n",
       "      <td>1.00</td>\n",
       "      <td>5.00</td>\n",
       "    </tr>\n",
       "    <tr>\n",
       "      <th>total_nights</th>\n",
       "      <td>65,229.00</td>\n",
       "      <td>NaN</td>\n",
       "      <td>NaN</td>\n",
       "      <td>NaN</td>\n",
       "      <td>3.05</td>\n",
       "      <td>1.74</td>\n",
       "      <td>1.00</td>\n",
       "      <td>2.00</td>\n",
       "      <td>3.00</td>\n",
       "      <td>4.00</td>\n",
       "      <td>10.00</td>\n",
       "    </tr>\n",
       "  </tbody>\n",
       "</table>\n",
       "</div>"
      ],
      "text/plain": [
       "                                   count unique               top   freq  \\\n",
       "id                             65,229.00    NaN               NaN    NaN   \n",
       "is_canceled                    65,229.00    NaN               NaN    NaN   \n",
       "lead_time                      65,229.00    NaN               NaN    NaN   \n",
       "arrival_date_year              65,229.00    NaN               NaN    NaN   \n",
       "arrival_date_month                 65229     12           October   9255   \n",
       "arrival_date_week_number       65,229.00    NaN               NaN    NaN   \n",
       "arrival_date_day_of_month      65,229.00    NaN               NaN    NaN   \n",
       "stays_in_weekend_nights        65,229.00    NaN               NaN    NaN   \n",
       "stays_in_week_nights           65,229.00    NaN               NaN    NaN   \n",
       "adults                         65,229.00    NaN               NaN    NaN   \n",
       "children                       65,229.00    NaN               NaN    NaN   \n",
       "babies                         65,229.00    NaN               NaN    NaN   \n",
       "meal                               65229      5         BB         51697   \n",
       "country                            65229    155               PRT  28831   \n",
       "distribution_channel               65229      4             TA/TO  54454   \n",
       "is_repeated_guest              65,229.00    NaN               NaN    NaN   \n",
       "previous_cancellations         65,229.00    NaN               NaN    NaN   \n",
       "previous_bookings_not_canceled 65,229.00    NaN               NaN    NaN   \n",
       "reserved_room_type                 65229      7  A                 50501   \n",
       "booking_changes                65,229.00    NaN               NaN    NaN   \n",
       "days_in_waiting_list           65,229.00    NaN               NaN    NaN   \n",
       "customer_type                      65229      4         Transient  45493   \n",
       "required_car_parking_spaces    65,229.00    NaN               NaN    NaN   \n",
       "total_of_special_requests      65,229.00    NaN               NaN    NaN   \n",
       "total_nights                   65,229.00    NaN               NaN    NaN   \n",
       "\n",
       "                                    mean       std      min       25%  \\\n",
       "id                             43,544.07 25,614.86     0.00 19,108.00   \n",
       "is_canceled                         0.37      0.48     0.00      0.00   \n",
       "lead_time                          96.34     96.13     0.00     17.00   \n",
       "arrival_date_year               2,015.72      0.45 2,015.00  2,015.00   \n",
       "arrival_date_month                   NaN       NaN      NaN       NaN   \n",
       "arrival_date_week_number           31.34     13.46     1.00     21.00   \n",
       "arrival_date_day_of_month          15.85      8.75     1.00      8.00   \n",
       "stays_in_weekend_nights             0.83      0.85     0.00      0.00   \n",
       "stays_in_week_nights                2.22      1.35     0.00      1.00   \n",
       "adults                              1.84      0.48     0.00      2.00   \n",
       "children                            0.07      0.33     0.00      0.00   \n",
       "babies                              0.01      0.10     0.00      0.00   \n",
       "meal                                 NaN       NaN      NaN       NaN   \n",
       "country                              NaN       NaN      NaN       NaN   \n",
       "distribution_channel                 NaN       NaN      NaN       NaN   \n",
       "is_repeated_guest                   0.03      0.16     0.00      0.00   \n",
       "previous_cancellations              0.13      0.97     0.00      0.00   \n",
       "previous_bookings_not_canceled      0.11      1.33     0.00      0.00   \n",
       "reserved_room_type                   NaN       NaN      NaN       NaN   \n",
       "booking_changes                     0.19      0.59     0.00      0.00   \n",
       "days_in_waiting_list                3.33     18.24     0.00      0.00   \n",
       "customer_type                        NaN       NaN      NaN       NaN   \n",
       "required_car_parking_spaces         0.06      0.23     0.00      0.00   \n",
       "total_of_special_requests           0.51      0.75     0.00      0.00   \n",
       "total_nights                        3.05      1.74     1.00      2.00   \n",
       "\n",
       "                                     50%       75%       max  \n",
       "id                             40,554.00 67,414.00 84,121.00  \n",
       "is_canceled                         0.00      1.00      1.00  \n",
       "lead_time                          64.00    151.00    374.00  \n",
       "arrival_date_year               2,016.00  2,016.00  2,016.00  \n",
       "arrival_date_month                   NaN       NaN       NaN  \n",
       "arrival_date_week_number           34.00     42.00     53.00  \n",
       "arrival_date_day_of_month          16.00     23.00     31.00  \n",
       "stays_in_weekend_nights             1.00      2.00      4.00  \n",
       "stays_in_week_nights                2.00      3.00      6.00  \n",
       "adults                              2.00      2.00      4.00  \n",
       "children                            0.00      0.00      3.00  \n",
       "babies                              0.00      0.00     10.00  \n",
       "meal                                 NaN       NaN       NaN  \n",
       "country                              NaN       NaN       NaN  \n",
       "distribution_channel                 NaN       NaN       NaN  \n",
       "is_repeated_guest                   0.00      0.00      1.00  \n",
       "previous_cancellations              0.00      0.00     26.00  \n",
       "previous_bookings_not_canceled      0.00      0.00     58.00  \n",
       "reserved_room_type                   NaN       NaN       NaN  \n",
       "booking_changes                     0.00      0.00     17.00  \n",
       "days_in_waiting_list                0.00      0.00    259.00  \n",
       "customer_type                        NaN       NaN       NaN  \n",
       "required_car_parking_spaces         0.00      0.00      3.00  \n",
       "total_of_special_requests           0.00      1.00      5.00  \n",
       "total_nights                        3.00      4.00     10.00  "
      ]
     },
     "execution_count": 4,
     "metadata": {},
     "output_type": "execute_result"
    }
   ],
   "source": [
    "data_train.describe(include='all').transpose()"
   ]
  },
  {
   "cell_type": "code",
   "execution_count": 5,
   "metadata": {
    "scrolled": false
   },
   "outputs": [
    {
     "data": {
      "text/html": [
       "<div>\n",
       "<style scoped>\n",
       "    .dataframe tbody tr th:only-of-type {\n",
       "        vertical-align: middle;\n",
       "    }\n",
       "\n",
       "    .dataframe tbody tr th {\n",
       "        vertical-align: top;\n",
       "    }\n",
       "\n",
       "    .dataframe thead th {\n",
       "        text-align: right;\n",
       "    }\n",
       "</style>\n",
       "<table border=\"1\" class=\"dataframe\">\n",
       "  <thead>\n",
       "    <tr style=\"text-align: right;\">\n",
       "      <th></th>\n",
       "      <th>count</th>\n",
       "      <th>unique</th>\n",
       "      <th>top</th>\n",
       "      <th>freq</th>\n",
       "      <th>mean</th>\n",
       "      <th>std</th>\n",
       "      <th>min</th>\n",
       "      <th>25%</th>\n",
       "      <th>50%</th>\n",
       "      <th>75%</th>\n",
       "      <th>max</th>\n",
       "    </tr>\n",
       "  </thead>\n",
       "  <tbody>\n",
       "    <tr>\n",
       "      <th>id</th>\n",
       "      <td>32,412.00</td>\n",
       "      <td>NaN</td>\n",
       "      <td>NaN</td>\n",
       "      <td>NaN</td>\n",
       "      <td>60,131.51</td>\n",
       "      <td>29,953.59</td>\n",
       "      <td>6,086.00</td>\n",
       "      <td>45,291.75</td>\n",
       "      <td>53,394.50</td>\n",
       "      <td>89,800.25</td>\n",
       "      <td>97,903.00</td>\n",
       "    </tr>\n",
       "    <tr>\n",
       "      <th>is_canceled</th>\n",
       "      <td>32,412.00</td>\n",
       "      <td>NaN</td>\n",
       "      <td>NaN</td>\n",
       "      <td>NaN</td>\n",
       "      <td>0.39</td>\n",
       "      <td>0.49</td>\n",
       "      <td>0.00</td>\n",
       "      <td>0.00</td>\n",
       "      <td>0.00</td>\n",
       "      <td>1.00</td>\n",
       "      <td>1.00</td>\n",
       "    </tr>\n",
       "    <tr>\n",
       "      <th>lead_time</th>\n",
       "      <td>32,412.00</td>\n",
       "      <td>NaN</td>\n",
       "      <td>NaN</td>\n",
       "      <td>NaN</td>\n",
       "      <td>97.59</td>\n",
       "      <td>86.51</td>\n",
       "      <td>0.00</td>\n",
       "      <td>23.00</td>\n",
       "      <td>76.00</td>\n",
       "      <td>155.00</td>\n",
       "      <td>373.00</td>\n",
       "    </tr>\n",
       "    <tr>\n",
       "      <th>arrival_date_year</th>\n",
       "      <td>32,412.00</td>\n",
       "      <td>NaN</td>\n",
       "      <td>NaN</td>\n",
       "      <td>NaN</td>\n",
       "      <td>2,017.00</td>\n",
       "      <td>0.00</td>\n",
       "      <td>2,017.00</td>\n",
       "      <td>2,017.00</td>\n",
       "      <td>2,017.00</td>\n",
       "      <td>2,017.00</td>\n",
       "      <td>2,017.00</td>\n",
       "    </tr>\n",
       "    <tr>\n",
       "      <th>arrival_date_month</th>\n",
       "      <td>32412</td>\n",
       "      <td>8</td>\n",
       "      <td>May</td>\n",
       "      <td>5262</td>\n",
       "      <td>NaN</td>\n",
       "      <td>NaN</td>\n",
       "      <td>NaN</td>\n",
       "      <td>NaN</td>\n",
       "      <td>NaN</td>\n",
       "      <td>NaN</td>\n",
       "      <td>NaN</td>\n",
       "    </tr>\n",
       "    <tr>\n",
       "      <th>arrival_date_week_number</th>\n",
       "      <td>32,412.00</td>\n",
       "      <td>NaN</td>\n",
       "      <td>NaN</td>\n",
       "      <td>NaN</td>\n",
       "      <td>17.80</td>\n",
       "      <td>9.18</td>\n",
       "      <td>1.00</td>\n",
       "      <td>10.00</td>\n",
       "      <td>18.00</td>\n",
       "      <td>25.00</td>\n",
       "      <td>35.00</td>\n",
       "    </tr>\n",
       "    <tr>\n",
       "      <th>arrival_date_day_of_month</th>\n",
       "      <td>32,412.00</td>\n",
       "      <td>NaN</td>\n",
       "      <td>NaN</td>\n",
       "      <td>NaN</td>\n",
       "      <td>15.66</td>\n",
       "      <td>8.77</td>\n",
       "      <td>1.00</td>\n",
       "      <td>8.00</td>\n",
       "      <td>15.50</td>\n",
       "      <td>23.00</td>\n",
       "      <td>31.00</td>\n",
       "    </tr>\n",
       "    <tr>\n",
       "      <th>stays_in_weekend_nights</th>\n",
       "      <td>32,412.00</td>\n",
       "      <td>NaN</td>\n",
       "      <td>NaN</td>\n",
       "      <td>NaN</td>\n",
       "      <td>0.87</td>\n",
       "      <td>0.85</td>\n",
       "      <td>0.00</td>\n",
       "      <td>0.00</td>\n",
       "      <td>1.00</td>\n",
       "      <td>2.00</td>\n",
       "      <td>4.00</td>\n",
       "    </tr>\n",
       "    <tr>\n",
       "      <th>stays_in_week_nights</th>\n",
       "      <td>32,412.00</td>\n",
       "      <td>NaN</td>\n",
       "      <td>NaN</td>\n",
       "      <td>NaN</td>\n",
       "      <td>2.34</td>\n",
       "      <td>1.38</td>\n",
       "      <td>0.00</td>\n",
       "      <td>1.00</td>\n",
       "      <td>2.00</td>\n",
       "      <td>3.00</td>\n",
       "      <td>6.00</td>\n",
       "    </tr>\n",
       "    <tr>\n",
       "      <th>adults</th>\n",
       "      <td>32,412.00</td>\n",
       "      <td>NaN</td>\n",
       "      <td>NaN</td>\n",
       "      <td>NaN</td>\n",
       "      <td>1.86</td>\n",
       "      <td>0.49</td>\n",
       "      <td>0.00</td>\n",
       "      <td>2.00</td>\n",
       "      <td>2.00</td>\n",
       "      <td>2.00</td>\n",
       "      <td>4.00</td>\n",
       "    </tr>\n",
       "    <tr>\n",
       "      <th>children</th>\n",
       "      <td>32,412.00</td>\n",
       "      <td>NaN</td>\n",
       "      <td>NaN</td>\n",
       "      <td>NaN</td>\n",
       "      <td>0.08</td>\n",
       "      <td>0.34</td>\n",
       "      <td>0.00</td>\n",
       "      <td>0.00</td>\n",
       "      <td>0.00</td>\n",
       "      <td>0.00</td>\n",
       "      <td>3.00</td>\n",
       "    </tr>\n",
       "    <tr>\n",
       "      <th>babies</th>\n",
       "      <td>32,412.00</td>\n",
       "      <td>NaN</td>\n",
       "      <td>NaN</td>\n",
       "      <td>NaN</td>\n",
       "      <td>0.01</td>\n",
       "      <td>0.08</td>\n",
       "      <td>0.00</td>\n",
       "      <td>0.00</td>\n",
       "      <td>0.00</td>\n",
       "      <td>0.00</td>\n",
       "      <td>2.00</td>\n",
       "    </tr>\n",
       "    <tr>\n",
       "      <th>meal</th>\n",
       "      <td>32412</td>\n",
       "      <td>5</td>\n",
       "      <td>BB</td>\n",
       "      <td>24684</td>\n",
       "      <td>NaN</td>\n",
       "      <td>NaN</td>\n",
       "      <td>NaN</td>\n",
       "      <td>NaN</td>\n",
       "      <td>NaN</td>\n",
       "      <td>NaN</td>\n",
       "      <td>NaN</td>\n",
       "    </tr>\n",
       "    <tr>\n",
       "      <th>country</th>\n",
       "      <td>32412</td>\n",
       "      <td>143</td>\n",
       "      <td>PRT</td>\n",
       "      <td>9887</td>\n",
       "      <td>NaN</td>\n",
       "      <td>NaN</td>\n",
       "      <td>NaN</td>\n",
       "      <td>NaN</td>\n",
       "      <td>NaN</td>\n",
       "      <td>NaN</td>\n",
       "      <td>NaN</td>\n",
       "    </tr>\n",
       "    <tr>\n",
       "      <th>distribution_channel</th>\n",
       "      <td>32412</td>\n",
       "      <td>4</td>\n",
       "      <td>TA/TO</td>\n",
       "      <td>27083</td>\n",
       "      <td>NaN</td>\n",
       "      <td>NaN</td>\n",
       "      <td>NaN</td>\n",
       "      <td>NaN</td>\n",
       "      <td>NaN</td>\n",
       "      <td>NaN</td>\n",
       "      <td>NaN</td>\n",
       "    </tr>\n",
       "    <tr>\n",
       "      <th>is_repeated_guest</th>\n",
       "      <td>32,412.00</td>\n",
       "      <td>NaN</td>\n",
       "      <td>NaN</td>\n",
       "      <td>NaN</td>\n",
       "      <td>0.03</td>\n",
       "      <td>0.17</td>\n",
       "      <td>0.00</td>\n",
       "      <td>0.00</td>\n",
       "      <td>0.00</td>\n",
       "      <td>0.00</td>\n",
       "      <td>1.00</td>\n",
       "    </tr>\n",
       "    <tr>\n",
       "      <th>previous_cancellations</th>\n",
       "      <td>32,412.00</td>\n",
       "      <td>NaN</td>\n",
       "      <td>NaN</td>\n",
       "      <td>NaN</td>\n",
       "      <td>0.01</td>\n",
       "      <td>0.18</td>\n",
       "      <td>0.00</td>\n",
       "      <td>0.00</td>\n",
       "      <td>0.00</td>\n",
       "      <td>0.00</td>\n",
       "      <td>6.00</td>\n",
       "    </tr>\n",
       "    <tr>\n",
       "      <th>previous_bookings_not_canceled</th>\n",
       "      <td>32,412.00</td>\n",
       "      <td>NaN</td>\n",
       "      <td>NaN</td>\n",
       "      <td>NaN</td>\n",
       "      <td>0.17</td>\n",
       "      <td>1.88</td>\n",
       "      <td>0.00</td>\n",
       "      <td>0.00</td>\n",
       "      <td>0.00</td>\n",
       "      <td>0.00</td>\n",
       "      <td>72.00</td>\n",
       "    </tr>\n",
       "    <tr>\n",
       "      <th>reserved_room_type</th>\n",
       "      <td>32412</td>\n",
       "      <td>7</td>\n",
       "      <td>A</td>\n",
       "      <td>23471</td>\n",
       "      <td>NaN</td>\n",
       "      <td>NaN</td>\n",
       "      <td>NaN</td>\n",
       "      <td>NaN</td>\n",
       "      <td>NaN</td>\n",
       "      <td>NaN</td>\n",
       "      <td>NaN</td>\n",
       "    </tr>\n",
       "    <tr>\n",
       "      <th>booking_changes</th>\n",
       "      <td>32,412.00</td>\n",
       "      <td>NaN</td>\n",
       "      <td>NaN</td>\n",
       "      <td>NaN</td>\n",
       "      <td>0.22</td>\n",
       "      <td>0.64</td>\n",
       "      <td>0.00</td>\n",
       "      <td>0.00</td>\n",
       "      <td>0.00</td>\n",
       "      <td>0.00</td>\n",
       "      <td>18.00</td>\n",
       "    </tr>\n",
       "    <tr>\n",
       "      <th>days_in_waiting_list</th>\n",
       "      <td>32,412.00</td>\n",
       "      <td>NaN</td>\n",
       "      <td>NaN</td>\n",
       "      <td>NaN</td>\n",
       "      <td>0.26</td>\n",
       "      <td>4.73</td>\n",
       "      <td>0.00</td>\n",
       "      <td>0.00</td>\n",
       "      <td>0.00</td>\n",
       "      <td>0.00</td>\n",
       "      <td>223.00</td>\n",
       "    </tr>\n",
       "    <tr>\n",
       "      <th>customer_type</th>\n",
       "      <td>32412</td>\n",
       "      <td>4</td>\n",
       "      <td>Transient</td>\n",
       "      <td>27461</td>\n",
       "      <td>NaN</td>\n",
       "      <td>NaN</td>\n",
       "      <td>NaN</td>\n",
       "      <td>NaN</td>\n",
       "      <td>NaN</td>\n",
       "      <td>NaN</td>\n",
       "      <td>NaN</td>\n",
       "    </tr>\n",
       "    <tr>\n",
       "      <th>required_car_parking_spaces</th>\n",
       "      <td>32,412.00</td>\n",
       "      <td>NaN</td>\n",
       "      <td>NaN</td>\n",
       "      <td>NaN</td>\n",
       "      <td>0.05</td>\n",
       "      <td>0.22</td>\n",
       "      <td>0.00</td>\n",
       "      <td>0.00</td>\n",
       "      <td>0.00</td>\n",
       "      <td>0.00</td>\n",
       "      <td>8.00</td>\n",
       "    </tr>\n",
       "    <tr>\n",
       "      <th>total_of_special_requests</th>\n",
       "      <td>32,412.00</td>\n",
       "      <td>NaN</td>\n",
       "      <td>NaN</td>\n",
       "      <td>NaN</td>\n",
       "      <td>0.66</td>\n",
       "      <td>0.83</td>\n",
       "      <td>0.00</td>\n",
       "      <td>0.00</td>\n",
       "      <td>0.00</td>\n",
       "      <td>1.00</td>\n",
       "      <td>5.00</td>\n",
       "    </tr>\n",
       "    <tr>\n",
       "      <th>total_nights</th>\n",
       "      <td>32,412.00</td>\n",
       "      <td>NaN</td>\n",
       "      <td>NaN</td>\n",
       "      <td>NaN</td>\n",
       "      <td>3.21</td>\n",
       "      <td>1.74</td>\n",
       "      <td>1.00</td>\n",
       "      <td>2.00</td>\n",
       "      <td>3.00</td>\n",
       "      <td>4.00</td>\n",
       "      <td>10.00</td>\n",
       "    </tr>\n",
       "  </tbody>\n",
       "</table>\n",
       "</div>"
      ],
      "text/plain": [
       "                                   count unique               top   freq  \\\n",
       "id                             32,412.00    NaN               NaN    NaN   \n",
       "is_canceled                    32,412.00    NaN               NaN    NaN   \n",
       "lead_time                      32,412.00    NaN               NaN    NaN   \n",
       "arrival_date_year              32,412.00    NaN               NaN    NaN   \n",
       "arrival_date_month                 32412      8               May   5262   \n",
       "arrival_date_week_number       32,412.00    NaN               NaN    NaN   \n",
       "arrival_date_day_of_month      32,412.00    NaN               NaN    NaN   \n",
       "stays_in_weekend_nights        32,412.00    NaN               NaN    NaN   \n",
       "stays_in_week_nights           32,412.00    NaN               NaN    NaN   \n",
       "adults                         32,412.00    NaN               NaN    NaN   \n",
       "children                       32,412.00    NaN               NaN    NaN   \n",
       "babies                         32,412.00    NaN               NaN    NaN   \n",
       "meal                               32412      5         BB         24684   \n",
       "country                            32412    143               PRT   9887   \n",
       "distribution_channel               32412      4             TA/TO  27083   \n",
       "is_repeated_guest              32,412.00    NaN               NaN    NaN   \n",
       "previous_cancellations         32,412.00    NaN               NaN    NaN   \n",
       "previous_bookings_not_canceled 32,412.00    NaN               NaN    NaN   \n",
       "reserved_room_type                 32412      7  A                 23471   \n",
       "booking_changes                32,412.00    NaN               NaN    NaN   \n",
       "days_in_waiting_list           32,412.00    NaN               NaN    NaN   \n",
       "customer_type                      32412      4         Transient  27461   \n",
       "required_car_parking_spaces    32,412.00    NaN               NaN    NaN   \n",
       "total_of_special_requests      32,412.00    NaN               NaN    NaN   \n",
       "total_nights                   32,412.00    NaN               NaN    NaN   \n",
       "\n",
       "                                    mean       std      min       25%  \\\n",
       "id                             60,131.51 29,953.59 6,086.00 45,291.75   \n",
       "is_canceled                         0.39      0.49     0.00      0.00   \n",
       "lead_time                          97.59     86.51     0.00     23.00   \n",
       "arrival_date_year               2,017.00      0.00 2,017.00  2,017.00   \n",
       "arrival_date_month                   NaN       NaN      NaN       NaN   \n",
       "arrival_date_week_number           17.80      9.18     1.00     10.00   \n",
       "arrival_date_day_of_month          15.66      8.77     1.00      8.00   \n",
       "stays_in_weekend_nights             0.87      0.85     0.00      0.00   \n",
       "stays_in_week_nights                2.34      1.38     0.00      1.00   \n",
       "adults                              1.86      0.49     0.00      2.00   \n",
       "children                            0.08      0.34     0.00      0.00   \n",
       "babies                              0.01      0.08     0.00      0.00   \n",
       "meal                                 NaN       NaN      NaN       NaN   \n",
       "country                              NaN       NaN      NaN       NaN   \n",
       "distribution_channel                 NaN       NaN      NaN       NaN   \n",
       "is_repeated_guest                   0.03      0.17     0.00      0.00   \n",
       "previous_cancellations              0.01      0.18     0.00      0.00   \n",
       "previous_bookings_not_canceled      0.17      1.88     0.00      0.00   \n",
       "reserved_room_type                   NaN       NaN      NaN       NaN   \n",
       "booking_changes                     0.22      0.64     0.00      0.00   \n",
       "days_in_waiting_list                0.26      4.73     0.00      0.00   \n",
       "customer_type                        NaN       NaN      NaN       NaN   \n",
       "required_car_parking_spaces         0.05      0.22     0.00      0.00   \n",
       "total_of_special_requests           0.66      0.83     0.00      0.00   \n",
       "total_nights                        3.21      1.74     1.00      2.00   \n",
       "\n",
       "                                     50%       75%       max  \n",
       "id                             53,394.50 89,800.25 97,903.00  \n",
       "is_canceled                         0.00      1.00      1.00  \n",
       "lead_time                          76.00    155.00    373.00  \n",
       "arrival_date_year               2,017.00  2,017.00  2,017.00  \n",
       "arrival_date_month                   NaN       NaN       NaN  \n",
       "arrival_date_week_number           18.00     25.00     35.00  \n",
       "arrival_date_day_of_month          15.50     23.00     31.00  \n",
       "stays_in_weekend_nights             1.00      2.00      4.00  \n",
       "stays_in_week_nights                2.00      3.00      6.00  \n",
       "adults                              2.00      2.00      4.00  \n",
       "children                            0.00      0.00      3.00  \n",
       "babies                              0.00      0.00      2.00  \n",
       "meal                                 NaN       NaN       NaN  \n",
       "country                              NaN       NaN       NaN  \n",
       "distribution_channel                 NaN       NaN       NaN  \n",
       "is_repeated_guest                   0.00      0.00      1.00  \n",
       "previous_cancellations              0.00      0.00      6.00  \n",
       "previous_bookings_not_canceled      0.00      0.00     72.00  \n",
       "reserved_room_type                   NaN       NaN       NaN  \n",
       "booking_changes                     0.00      0.00     18.00  \n",
       "days_in_waiting_list                0.00      0.00    223.00  \n",
       "customer_type                        NaN       NaN       NaN  \n",
       "required_car_parking_spaces         0.00      0.00      8.00  \n",
       "total_of_special_requests           0.00      1.00      5.00  \n",
       "total_nights                        3.00      4.00     10.00  "
      ]
     },
     "execution_count": 5,
     "metadata": {},
     "output_type": "execute_result"
    }
   ],
   "source": [
    "data_test.describe(include='all').transpose()"
   ]
  },
  {
   "cell_type": "code",
   "execution_count": 6,
   "metadata": {
    "scrolled": true
   },
   "outputs": [
    {
     "name": "stdout",
     "output_type": "stream",
     "text": [
      "Количество явных дубликатов в обучающей выборке: 21377\n",
      "Количество явных дубликатов в тестовой выборке: 7717\n"
     ]
    }
   ],
   "source": [
    "print('Количество явных дубликатов в обучающей выборке:', data_train.drop('id', axis=1).duplicated().sum())\n",
    "print('Количество явных дубликатов в тестовой выборке:', data_test.drop('id', axis=1).duplicated().sum())"
   ]
  },
  {
   "cell_type": "markdown",
   "metadata": {},
   "source": [
    "Обнаружено большое количество явных дубликатов- около трети всех записей в тренировочной выборке, и около четверти- в тестовой. Удалим явные дубликаты и обновим индексы в датасетах."
   ]
  },
  {
   "cell_type": "code",
   "execution_count": 7,
   "metadata": {},
   "outputs": [
    {
     "name": "stdout",
     "output_type": "stream",
     "text": [
      "Количество явных дубликатов в обучающей выборке: 0\n",
      "Количество явных дубликатов в тестовой выборке: 0\n"
     ]
    }
   ],
   "source": [
    "data_train = (data_train\n",
    "              .drop_duplicates(subset=list(data_train.drop('id', axis=1).columns))\n",
    "              .reset_index(drop=True)\n",
    "             )\n",
    "data_test = (data_test\n",
    "              .drop_duplicates(subset=list(data_test.drop('id', axis=1).columns))\n",
    "              .reset_index(drop=True)\n",
    "             )\n",
    "print('Количество явных дубликатов в обучающей выборке:', data_train.drop('id', axis=1).duplicated().sum())\n",
    "print('Количество явных дубликатов в тестовой выборке:', data_test.drop('id', axis=1).duplicated().sum())"
   ]
  },
  {
   "cell_type": "markdown",
   "metadata": {},
   "source": [
    "#### Вывод\n",
    "\n",
    "После открытия файлов видим, что в данных отсутствуют пропуски и явные дубликаты. В обучающей выборке предоставлены данные за 2015 и 2016 годы, а в тестовой- за 2017.\n",
    "\n",
    "Из распределения количественных значений видим, что отменяют бронь номера около 40% клиентов. Это довольно много, поэтому следует рассмотреть возможности снижения данного показателя. Информация в тренировочной выборке дана за 2015 и 2016 год. Половина клиентов бронируют номера таким образом, чтобы хотя бы один из дней попал на выходной и в 75% случаев в номер заселяется пара без детей. В столбце, содержащем информацию о количестве младенцев в брони, видим максимальное значение 10. Данное значение похоже на выброс и следует вычислить, сколько таких значений встречается в столбце. Также следует рассмотреть на наличие выбросов признаки, содержащие информацию о количестве предыдущих отмен клиентом брони и о количестве неотмененных бронирований клиента. В этих признаках 75%-й квантиль содержит значение 0, а максимальные значения, соответственно- 26 и 58.\n",
    "\n",
    "В категориальных значениях видим, что большинство клиентов приезжает из страны PRT (предположительно Португалии), а всего в данных представлены клиенты из 155 стран. Возможно, представители некоторых из них малочислены и их выборка нерепрезентативна. Это может повлиять на качество обучения модели, поэтому необходимо рассмотреть, как ведут себя представители разных стран и, возможно, объединить те страны, представителей которых в данных не более 1%. Также видим, что наиболее популярными опциями являются завтрак (BB), номер категории A, а заказчик не связан с договором или групповым заездом.\n",
    "\n",
    "В описании к проекту не представлена расшифровка значений в признаке 'distribution_channel', поэтому следует вывести уникальные значения на экран и попытаться понять, что они обозначают."
   ]
  },
  {
   "cell_type": "markdown",
   "metadata": {},
   "source": [
    "### Шаг 2. Предобработка и исследовательский анализ данных"
   ]
  },
  {
   "cell_type": "markdown",
   "metadata": {},
   "source": [
    "На данном этапе произведем исследовательский анализ данных, чтобы понять, отличаются ли клиенты, отменившие свою бронь, от клиентов, не отменивших ее. Для начала выведем на экран матрицу корреляции и средние значения всех количественных характеристик в группах клиентов по признаку отмены брони."
   ]
  },
  {
   "cell_type": "code",
   "execution_count": 8,
   "metadata": {
    "scrolled": false
   },
   "outputs": [
    {
     "data": {
      "image/png": "[encoded data removed]",
      "text/plain": [
       "<Figure size 1080x864 with 2 Axes>"
      ]
     },
     "metadata": {
      "needs_background": "light"
     },
     "output_type": "display_data"
    }
   ],
   "source": [
    "correlation = data_train.corr()\n",
    "fig, ax = plt.subplots(figsize=(15, 12))\n",
    "sns.heatmap(correlation, annot=True, linewidths=.1, ax=ax)\n",
    "plt.show()"
   ]
  },
  {
   "cell_type": "code",
   "execution_count": 9,
   "metadata": {},
   "outputs": [
    {
     "data": {
      "text/html": [
       "<div>\n",
       "<style scoped>\n",
       "    .dataframe tbody tr th:only-of-type {\n",
       "        vertical-align: middle;\n",
       "    }\n",
       "\n",
       "    .dataframe tbody tr th {\n",
       "        vertical-align: top;\n",
       "    }\n",
       "\n",
       "    .dataframe thead th {\n",
       "        text-align: right;\n",
       "    }\n",
       "</style>\n",
       "<table border=\"1\" class=\"dataframe\">\n",
       "  <thead>\n",
       "    <tr style=\"text-align: right;\">\n",
       "      <th></th>\n",
       "      <th>id</th>\n",
       "      <th>lead_time</th>\n",
       "      <th>arrival_date_year</th>\n",
       "      <th>arrival_date_week_number</th>\n",
       "      <th>arrival_date_day_of_month</th>\n",
       "      <th>stays_in_weekend_nights</th>\n",
       "      <th>stays_in_week_nights</th>\n",
       "      <th>adults</th>\n",
       "      <th>children</th>\n",
       "      <th>babies</th>\n",
       "      <th>is_repeated_guest</th>\n",
       "      <th>previous_cancellations</th>\n",
       "      <th>previous_bookings_not_canceled</th>\n",
       "      <th>booking_changes</th>\n",
       "      <th>days_in_waiting_list</th>\n",
       "      <th>required_car_parking_spaces</th>\n",
       "      <th>total_of_special_requests</th>\n",
       "      <th>total_nights</th>\n",
       "    </tr>\n",
       "    <tr>\n",
       "      <th>is_canceled</th>\n",
       "      <th></th>\n",
       "      <th></th>\n",
       "      <th></th>\n",
       "      <th></th>\n",
       "      <th></th>\n",
       "      <th></th>\n",
       "      <th></th>\n",
       "      <th></th>\n",
       "      <th></th>\n",
       "      <th></th>\n",
       "      <th></th>\n",
       "      <th></th>\n",
       "      <th></th>\n",
       "      <th></th>\n",
       "      <th></th>\n",
       "      <th></th>\n",
       "      <th></th>\n",
       "      <th></th>\n",
       "    </tr>\n",
       "  </thead>\n",
       "  <tbody>\n",
       "    <tr>\n",
       "      <th>0</th>\n",
       "      <td>48,245.84</td>\n",
       "      <td>60.29</td>\n",
       "      <td>2,015.76</td>\n",
       "      <td>30.90</td>\n",
       "      <td>15.83</td>\n",
       "      <td>0.88</td>\n",
       "      <td>2.25</td>\n",
       "      <td>1.84</td>\n",
       "      <td>0.10</td>\n",
       "      <td>0.01</td>\n",
       "      <td>0.04</td>\n",
       "      <td>0.02</td>\n",
       "      <td>0.19</td>\n",
       "      <td>0.28</td>\n",
       "      <td>0.80</td>\n",
       "      <td>0.11</td>\n",
       "      <td>0.73</td>\n",
       "      <td>3.13</td>\n",
       "    </tr>\n",
       "    <tr>\n",
       "      <th>1</th>\n",
       "      <td>30,934.37</td>\n",
       "      <td>90.21</td>\n",
       "      <td>2,015.82</td>\n",
       "      <td>31.65</td>\n",
       "      <td>16.18</td>\n",
       "      <td>0.95</td>\n",
       "      <td>2.48</td>\n",
       "      <td>1.91</td>\n",
       "      <td>0.14</td>\n",
       "      <td>0.01</td>\n",
       "      <td>0.02</td>\n",
       "      <td>0.10</td>\n",
       "      <td>0.04</td>\n",
       "      <td>0.16</td>\n",
       "      <td>0.87</td>\n",
       "      <td>0.00</td>\n",
       "      <td>0.49</td>\n",
       "      <td>3.43</td>\n",
       "    </tr>\n",
       "  </tbody>\n",
       "</table>\n",
       "</div>"
      ],
      "text/plain": [
       "                   id  lead_time  arrival_date_year  arrival_date_week_number  \\\n",
       "is_canceled                                                                     \n",
       "0           48,245.84      60.29           2,015.76                     30.90   \n",
       "1           30,934.37      90.21           2,015.82                     31.65   \n",
       "\n",
       "             arrival_date_day_of_month  stays_in_weekend_nights  \\\n",
       "is_canceled                                                       \n",
       "0                                15.83                     0.88   \n",
       "1                                16.18                     0.95   \n",
       "\n",
       "             stays_in_week_nights  adults  children  babies  \\\n",
       "is_canceled                                                   \n",
       "0                            2.25    1.84      0.10    0.01   \n",
       "1                            2.48    1.91      0.14    0.01   \n",
       "\n",
       "             is_repeated_guest  previous_cancellations  \\\n",
       "is_canceled                                              \n",
       "0                         0.04                    0.02   \n",
       "1                         0.02                    0.10   \n",
       "\n",
       "             previous_bookings_not_canceled  booking_changes  \\\n",
       "is_canceled                                                    \n",
       "0                                      0.19             0.28   \n",
       "1                                      0.04             0.16   \n",
       "\n",
       "             days_in_waiting_list  required_car_parking_spaces  \\\n",
       "is_canceled                                                      \n",
       "0                            0.80                         0.11   \n",
       "1                            0.87                         0.00   \n",
       "\n",
       "             total_of_special_requests  total_nights  \n",
       "is_canceled                                           \n",
       "0                                 0.73          3.13  \n",
       "1                                 0.49          3.43  "
      ]
     },
     "execution_count": 9,
     "metadata": {},
     "output_type": "execute_result"
    }
   ],
   "source": [
    "data_train.groupby(by='is_canceled').mean()"
   ]
  },
  {
   "cell_type": "markdown",
   "metadata": {},
   "source": [
    "На данном этапе видим следующие различия в поведении клиентов:\n",
    "\n",
    "* количество дней между датой бронирования и приезда у клиентов, отменивших свою бронь, в полтора раза больше, чем у заселившихся клиентов. Если наше предположение о том, что PRT в стране приезда означает Португалию, то большинство клиентов из этой страны, скорее всего, означает, что сеть отелей располагается по большей части в Португалии, а для приезда в нее из стран, не входящих в шенгенскую зону, необходимо получение визы. Для получения визы необходимо осуществить бронирование отеля и производится это заблаговвременно, чем можем объяснить такой большой разрыв в двух группах клиентов;\n",
    "* 10% клиентов, отменивших свое бронирование, делают это повторно. Заселившиеся клиенты, напротив, почти не имеют отмен. При этом 19% заселившихся клиентов заселяются повторно, чего нельзя сказать о клиентах, отменивших свое бронирование- только 4% из них не имеют в своей истории неотмененных бронирований;\n",
    "* заселившиеся клиенты чаще производят изменения в своем бронировании- 0,28 против 0,16;\n",
    "* клиенты, отменившие бронирование, практически никогда не бронируют парковочное место для автомобиля;\n",
    "* заселившиеся клиенты делают больше специальных отметок- 0,73 против 0,49.\n",
    "\n",
    "В целом видим, что поведение клиентов действительно отличается в зависимости от того, отменяют они свое бронирование или нет. Клиенты, планирующие приехать в отель подходят к бронированию более ответственно, внося в него больше различных изменений, и, как правило, не бронируют отель сильно заранее. Также видим, что на отмену бронирования влияет и срок ожидания свободных номеров- чем дольше клиент ожидает номер, тем больше вероятность отмены бронирования.\n",
    "\n",
    "Далее рассмотрим влияние значений категориальных признаков на отмену бронирования."
   ]
  },
  {
   "cell_type": "code",
   "execution_count": 10,
   "metadata": {},
   "outputs": [
    {
     "data": {
      "text/plain": [
       "array(['BB       ', 'FB       ', 'HB       ', 'SC       ', 'SC'],\n",
       "      dtype=object)"
      ]
     },
     "execution_count": 10,
     "metadata": {},
     "output_type": "execute_result"
    }
   ],
   "source": [
    "data_train['meal'].unique()"
   ]
  },
  {
   "cell_type": "code",
   "execution_count": 11,
   "metadata": {},
   "outputs": [
    {
     "data": {
      "text/plain": [
       "array(['BB', 'FB', 'HB', 'SC'], dtype=object)"
      ]
     },
     "execution_count": 11,
     "metadata": {},
     "output_type": "execute_result"
    }
   ],
   "source": [
    "data_train['meal'] = data_train['meal'].str.strip()\n",
    "data_train['meal'].unique()"
   ]
  },
  {
   "cell_type": "code",
   "execution_count": 12,
   "metadata": {},
   "outputs": [
    {
     "data": {
      "text/plain": [
       "array(['A', 'C', 'D', 'E', 'G', 'F', 'B'], dtype=object)"
      ]
     },
     "execution_count": 12,
     "metadata": {},
     "output_type": "execute_result"
    }
   ],
   "source": [
    "data_train['reserved_room_type'] = data_train['reserved_room_type'].str.strip()\n",
    "data_train['reserved_room_type'].unique()"
   ]
  },
  {
   "cell_type": "code",
   "execution_count": 13,
   "metadata": {},
   "outputs": [
    {
     "name": "stdout",
     "output_type": "stream",
     "text": [
      "meal\n",
      "BB   0.25\n",
      "FB   0.30\n",
      "HB   0.25\n",
      "SC   0.32\n",
      "Name: is_canceled, dtype: float64\n",
      "==================================================\n",
      "distribution_channel\n",
      "Corporate   0.13\n",
      "Direct      0.14\n",
      "GDS         0.19\n",
      "TA/TO       0.28\n",
      "Name: is_canceled, dtype: float64\n",
      "==================================================\n",
      "reserved_room_type\n",
      "A   0.24\n",
      "B   0.30\n",
      "C   0.19\n",
      "D   0.29\n",
      "E   0.22\n",
      "F   0.29\n",
      "G   0.31\n",
      "Name: is_canceled, dtype: float64\n",
      "==================================================\n",
      "customer_type\n",
      "Contract          0.20\n",
      "Group             0.07\n",
      "Transient         0.27\n",
      "Transient-Party   0.17\n",
      "Name: is_canceled, dtype: float64\n",
      "==================================================\n"
     ]
    }
   ],
   "source": [
    "for name in ['meal', 'distribution_channel', 'reserved_room_type', 'customer_type']:\n",
    "    print(data_train.groupby(by=name)['is_canceled'].mean())\n",
    "    print('='*50)"
   ]
  },
  {
   "cell_type": "markdown",
   "metadata": {},
   "source": [
    "Здесь также видим некоторые особенности клиентов, отменивших бронирование:\n",
    "\n",
    "* канал привлечения клиента влияет на отмену им своего бронирования. В описании к проекту не даны расшифровки каналов, но мы можем предположить, что Corporate- это корпоративные клиенты, Direct- это клиенты, пришедшие на сайт напрямую, GDS- это глобальная дистрибьюторская система, а TA/TO- это, судя по всему, брони, поступившие через туристические агентства и сервисы онлайн-бронирования. Клиенты из последней категории отменяют свои бронирования в полтора раза чаще остальных;\n",
    "* в категориях номеров не видим каких-то выбивающихся значений- около 25% отмен происходят как в категории самых дорогих номеров, так и средней ценовой категории и самых дешевых. Меньше всего отменяют бронь в категории C. Однако, следует рассмотреть их количество. Возможно, таких номеров мало и их реже бронируют."
   ]
  },
  {
   "cell_type": "code",
   "execution_count": 14,
   "metadata": {},
   "outputs": [
    {
     "data": {
      "text/plain": [
       "array(['BB', 'HB', 'SC', 'FB'], dtype=object)"
      ]
     },
     "execution_count": 14,
     "metadata": {},
     "output_type": "execute_result"
    }
   ],
   "source": [
    "data_test['meal'] = data_test['meal'].str.strip()\n",
    "data_test['meal'].unique()"
   ]
  },
  {
   "cell_type": "code",
   "execution_count": 15,
   "metadata": {},
   "outputs": [
    {
     "data": {
      "text/plain": [
       "array(['A', 'E', 'G', 'D', 'F', 'C', 'B'], dtype=object)"
      ]
     },
     "execution_count": 15,
     "metadata": {},
     "output_type": "execute_result"
    }
   ],
   "source": [
    "data_test['reserved_room_type'] = data_test['reserved_room_type'].str.strip()\n",
    "data_test['reserved_room_type'].unique()"
   ]
  },
  {
   "cell_type": "markdown",
   "metadata": {},
   "source": [
    "После общего анализа данных видим, что факт отмены клиентом брони зависит от многих факторов. Далее изучим данные подробнее, чтобы получить большее представление о клиентах, отменяющих свое бронирование.\n",
    "\n",
    "Для начала определим, как влияет гражданство клиента на факт отмены им своего бронирования. Данный анализ необходим нам для подготовки признаков перед обучением моделей- если у какой-то страны очень мало представителей, отменивших бронирование, то модель, возможно, будет предсказывать им отмену бронирования всегда. В таком случае следует сгруппировать всех клиентов из таких стран в категорию 'Other'."
   ]
  },
  {
   "cell_type": "code",
   "execution_count": 16,
   "metadata": {},
   "outputs": [
    {
     "data": {
      "image/png": "[encoded data removed]",
      "text/plain": [
       "<Figure size 864x360 with 1 Axes>"
      ]
     },
     "metadata": {
      "needs_background": "light"
     },
     "output_type": "display_data"
    }
   ],
   "source": [
    "clients_by_country = data_train.pivot_table(index='country', values='is_canceled', aggfunc=['mean', 'count'])\n",
    "clients_by_country.columns = ['mean', 'count']\n",
    "\n",
    "ax = clients_by_country.plot(x='count', y='mean', kind='scatter', logx=True, figsize=(12, 5), grid=True)\n",
    "plt.title('Доля отмененных бронирований в зависимости от их количества для клиентов из разных стран')\n",
    "plt.xlabel('Количество представителей страны (log)')\n",
    "plt.ylabel('Доля отмен бронирований')\n",
    "plt.show()"
   ]
  },
  {
   "cell_type": "markdown",
   "metadata": {},
   "source": [
    "Для наглядности построили график с логарифмической горизонтальной осью. При анализе графика видим, что доля отмен бронирования для клиентов из стран, представленных более 0.1% от всех значений (43), лежит в интервале от 15 до 45 процентов. В левой же части графика наблюдается большой разброс значений- от 0 до 100% отмен, поэтому целесообразно объединить граждан стран, встречающихся меньше, чем в 0.1% случаев, в категорию 'Other'."
   ]
  },
  {
   "cell_type": "code",
   "execution_count": 17,
   "metadata": {
    "scrolled": false
   },
   "outputs": [
    {
     "data": {
      "text/plain": [
       "PRT      14467\n",
       "FRA       4825\n",
       "GBR       4274\n",
       "ESP       3908\n",
       "DEU       2754\n",
       "ITA       1774\n",
       "IRL       1236\n",
       "Other     1107\n",
       "BEL       1079\n",
       "NLD       1033\n",
       "BRA        948\n",
       "USA        876\n",
       "CHE        790\n",
       "AUT        483\n",
       "CHN        425\n",
       "CN         408\n",
       "POL        407\n",
       "SWE        402\n",
       "RUS        242\n",
       "FIN        228\n",
       "ROU        225\n",
       "NOR        215\n",
       "ISR        208\n",
       "DNK        167\n",
       "AUS        152\n",
       "TUR        138\n",
       "AGO        123\n",
       "LUX        114\n",
       "MAR        110\n",
       "JPN        107\n",
       "HUN        103\n",
       "ARG         98\n",
       "IND         80\n",
       "CZE         77\n",
       "GRC         71\n",
       "KOR         61\n",
       "HRV         48\n",
       "IRN         45\n",
       "EST         44\n",
       "Name: country, dtype: int64"
      ]
     },
     "execution_count": 17,
     "metadata": {},
     "output_type": "execute_result"
    }
   ],
   "source": [
    "countries = list(data_train['country'].unique())\n",
    "big_countries = []\n",
    "for name in countries:\n",
    "    if data_train[data_train['country'] == name]['country'].count() > 0.001 * len(data_train):\n",
    "        if name not in big_countries:\n",
    "            big_countries.append(name)\n",
    "            \n",
    "data_train.loc[~data_train['country'].isin(big_countries), 'country'] = 'Other'\n",
    "\n",
    "data_train['country'].value_counts()"
   ]
  },
  {
   "cell_type": "code",
   "execution_count": 18,
   "metadata": {},
   "outputs": [
    {
     "data": {
      "text/plain": [
       "country\n",
       "TUR   0.46\n",
       "CHN   0.45\n",
       "AGO   0.37\n",
       "RUS   0.36\n",
       "MAR   0.36\n",
       "PRT   0.35\n",
       "ITA   0.34\n",
       "LUX   0.33\n",
       "BRA   0.32\n",
       "ISR   0.32\n",
       "Name: is_canceled, dtype: float64"
      ]
     },
     "execution_count": 18,
     "metadata": {},
     "output_type": "execute_result"
    }
   ],
   "source": [
    "data_train.groupby(by='country')['is_canceled'].mean().sort_values(ascending=False).head(10)"
   ]
  },
  {
   "cell_type": "code",
   "execution_count": 19,
   "metadata": {
    "scrolled": true
   },
   "outputs": [
    {
     "data": {
      "text/plain": [
       "PRT      5436\n",
       "GBR      3347\n",
       "FRA      2988\n",
       "DEU      1972\n",
       "ESP      1629\n",
       "ITA       947\n",
       "IRL       932\n",
       "BEL       783\n",
       "BRA       777\n",
       "USA       691\n",
       "NLD       638\n",
       "Other     629\n",
       "CHE       526\n",
       "CN        405\n",
       "AUT       346\n",
       "CHN       310\n",
       "SWE       267\n",
       "POL       217\n",
       "RUS       199\n",
       "NOR       192\n",
       "DNK       160\n",
       "ISR       149\n",
       "AUS       145\n",
       "ROU       145\n",
       "FIN       131\n",
       "LUX        96\n",
       "ARG        76\n",
       "HUN        72\n",
       "AGO        63\n",
       "JPN        62\n",
       "TUR        56\n",
       "MAR        54\n",
       "KOR        52\n",
       "CZE        43\n",
       "IND        41\n",
       "HRV        37\n",
       "GRC        37\n",
       "IRN        27\n",
       "EST        18\n",
       "Name: country, dtype: int64"
      ]
     },
     "execution_count": 19,
     "metadata": {},
     "output_type": "execute_result"
    }
   ],
   "source": [
    "data_test.loc[~data_test['country'].isin(big_countries), 'country'] = 'Other'\n",
    "\n",
    "data_test['country'].value_counts()"
   ]
  },
  {
   "cell_type": "markdown",
   "metadata": {},
   "source": [
    "При предварительном анализе заметили, что клиенты, отменяющие бронь, склонны бронировать номера сильно заранее. Построим гистограммы по данным в столбце 'lead_time' в группах клиентов, отменяющих бронирование и заселившихся."
   ]
  },
  {
   "cell_type": "code",
   "execution_count": 20,
   "metadata": {},
   "outputs": [
    {
     "data": {
      "image/png": "[encoded data removed]",
      "text/plain": [
       "<Figure size 864x432 with 1 Axes>"
      ]
     },
     "metadata": {
      "needs_background": "light"
     },
     "output_type": "display_data"
    }
   ],
   "source": [
    "kwargs = {'alpha': 0.7, 'density': True, 'histtype': 'step', 'linewidth': 3}\n",
    "plt.figure(figsize=(12,6))\n",
    "plt.hist(data_train[data_train['is_canceled'] == 1]['lead_time'], label='Отменили', **kwargs)\n",
    "plt.hist(data_train[data_train['is_canceled'] == 0]['lead_time'], label='Не отменили', **kwargs)\n",
    "plt.legend(loc='upper right')\n",
    "plt.grid(visible=True)\n",
    "\n",
    "plt.title('Различия между заселившимися клиентами и отменившими свою бронь в сроках бронирования')\n",
    "plt.xlabel('Количество дней между датой брони и датой заезда')\n",
    "plt.ylabel('Доля клиентов')\n",
    "plt.show()"
   ]
  },
  {
   "cell_type": "markdown",
   "metadata": {},
   "source": [
    "Здесь видим, что подавляющее большинство заселившихся клиентов производят бронирование менее, чем за 75 дней до даты заезда и очень малая их часть бронирует номер более, чем за 150 дней. Распределение в группе отменивших бронирование носит иной характер- снижение срока бронирования выглядит практически линейным, причем после 75 дней доля отменивших бронирование становится больше, чем доля заселившихся, еще раз подтверждая тот факт, что клиенты, отменяющие бронь, склонны бронировать номера заранее. \n",
    "\n",
    "Далее определим, влияет ли месяц заселения на отмену брони. Для начала определим, в каком объеме представлены данные в тренировочной выборке."
   ]
  },
  {
   "cell_type": "code",
   "execution_count": 21,
   "metadata": {
    "scrolled": true
   },
   "outputs": [
    {
     "data": {
      "image/png": "[encoded data removed]",
      "text/plain": [
       "<Figure size 864x288 with 2 Axes>"
      ]
     },
     "metadata": {
      "needs_background": "light"
     },
     "output_type": "display_data"
    }
   ],
   "source": [
    "\n",
    "fig,ax = plt.subplots()\n",
    "(data_train\n",
    "           .groupby(by=['arrival_date_year', 'arrival_date_month'])['is_canceled']\n",
    "           .mean()\n",
    "           .plot(color=\"#168680\", marker=\"o\", figsize=(12, 4), ax=ax)\n",
    ")\n",
    "ax.set_xlabel(\"Месяц заселения\")\n",
    "ax.set_ylabel(\"Доля отмен\",color=\"#168680\")\n",
    "ax2=ax.twinx()\n",
    "(data_train  \n",
    "           .groupby(by=['arrival_date_year', 'arrival_date_month'])['is_canceled']\n",
    "           .count()\n",
    "           .plot(color=\"#ea3c6d\",marker=\"o\", ax=ax2)\n",
    ")\n",
    "ax2.set_ylabel(\"Количество бронирований\",color=\"#ea3c6d\")\n",
    "plt.grid(True)\n",
    "\n",
    "plt.show()\n"
   ]
  },
  {
   "cell_type": "markdown",
   "metadata": {},
   "source": [
    "За редким исключением, доля отмен следует за количеством бронирований в течение года- повышается летом и спадает с осени по весну.\n",
    "\n",
    "Доля отмен бронирования стабильно высокая с апреля по октябрь. \n",
    "\n",
    "Отдельно рассмотрим, в каком объеме по месяцам представлены данные в тестовой выборке. Нам предстоит оценить окупаемость системы за один календарный год, а наблюдения в тестовой выборке даны только за 8 месяцев."
   ]
  },
  {
   "cell_type": "markdown",
   "metadata": {},
   "source": [
    "Исходя из анализа, можем предположить, что сеть отелей располагается в южной стране, поэтому для нее характерен наплыв посетителей летом и спад зимой. В таком случае необходимо такде проверить, как распределяются по месяцам заселения длительность бронирования и отмены в зависимости от дней недели. Здесь предполагаем следующее: летом большая часть клиентов бронируют на длительный срок, так как приезжают в отпуск, и чаще заселяются с захватом выходных дней, а зимой клиенты чаще приезжают в деловые поездки, поэтому чаще заселяются в будни. Если предположение верно, мы сможем также оценить, кто чаще отменяет свои бронирования- заселяющиеся в будни или в выходные."
   ]
  },
  {
   "cell_type": "code",
   "execution_count": 22,
   "metadata": {
    "scrolled": false
   },
   "outputs": [
    {
     "data": {
      "image/png": "[encoded data removed]",
      "text/plain": [
       "<Figure size 648x288 with 1 Axes>"
      ]
     },
     "metadata": {
      "needs_background": "light"
     },
     "output_type": "display_data"
    }
   ],
   "source": [
    "data_train.pivot_table(index='arrival_date_month', values=['stays_in_week_nights', 'stays_in_weekend_nights'], aggfunc='mean').plot(kind='bar', grid=True, figsize=(9,4))\n",
    "plt.xlabel('Месяц заселения')\n",
    "plt.ylabel('Среднее количество дней в бронировании')\n",
    "plt.title('Среднее количество выходных дней в бронировании по месяцам')\n",
    "plt.legend(loc='lower right')\n",
    "plt.show()"
   ]
  },
  {
   "cell_type": "markdown",
   "metadata": {},
   "source": [
    "Видим, что в течение года клиенты производят бронирование на разные сроки- в январе они заселяются на нименьший срок, а в июле- на наибольший. При этом количество будних и выходных дней в бронировании в течение года изменяются практически одинаково."
   ]
  },
  {
   "cell_type": "code",
   "execution_count": 23,
   "metadata": {},
   "outputs": [
    {
     "data": {
      "text/html": [
       "<div>\n",
       "<style scoped>\n",
       "    .dataframe tbody tr th:only-of-type {\n",
       "        vertical-align: middle;\n",
       "    }\n",
       "\n",
       "    .dataframe tbody tr th {\n",
       "        vertical-align: top;\n",
       "    }\n",
       "\n",
       "    .dataframe thead th {\n",
       "        text-align: right;\n",
       "    }\n",
       "</style>\n",
       "<table border=\"1\" class=\"dataframe\">\n",
       "  <thead>\n",
       "    <tr style=\"text-align: right;\">\n",
       "      <th></th>\n",
       "      <th>is_canceled</th>\n",
       "    </tr>\n",
       "    <tr>\n",
       "      <th>stays_in_weekend_nights</th>\n",
       "      <th></th>\n",
       "    </tr>\n",
       "  </thead>\n",
       "  <tbody>\n",
       "    <tr>\n",
       "      <th>0</th>\n",
       "      <td>0.24</td>\n",
       "    </tr>\n",
       "    <tr>\n",
       "      <th>1</th>\n",
       "      <td>0.25</td>\n",
       "    </tr>\n",
       "    <tr>\n",
       "      <th>2</th>\n",
       "      <td>0.27</td>\n",
       "    </tr>\n",
       "    <tr>\n",
       "      <th>3</th>\n",
       "      <td>0.34</td>\n",
       "    </tr>\n",
       "    <tr>\n",
       "      <th>4</th>\n",
       "      <td>0.32</td>\n",
       "    </tr>\n",
       "  </tbody>\n",
       "</table>\n",
       "</div>"
      ],
      "text/plain": [
       "                         is_canceled\n",
       "stays_in_weekend_nights             \n",
       "0                               0.24\n",
       "1                               0.25\n",
       "2                               0.27\n",
       "3                               0.34\n",
       "4                               0.32"
      ]
     },
     "execution_count": 23,
     "metadata": {},
     "output_type": "execute_result"
    }
   ],
   "source": [
    "data_train.pivot_table(index='stays_in_weekend_nights', values='is_canceled', aggfunc='mean')"
   ]
  },
  {
   "cell_type": "code",
   "execution_count": 24,
   "metadata": {},
   "outputs": [
    {
     "data": {
      "text/html": [
       "<div>\n",
       "<style scoped>\n",
       "    .dataframe tbody tr th:only-of-type {\n",
       "        vertical-align: middle;\n",
       "    }\n",
       "\n",
       "    .dataframe tbody tr th {\n",
       "        vertical-align: top;\n",
       "    }\n",
       "\n",
       "    .dataframe thead th {\n",
       "        text-align: right;\n",
       "    }\n",
       "</style>\n",
       "<table border=\"1\" class=\"dataframe\">\n",
       "  <thead>\n",
       "    <tr style=\"text-align: right;\">\n",
       "      <th></th>\n",
       "      <th>is_canceled</th>\n",
       "    </tr>\n",
       "    <tr>\n",
       "      <th>stays_in_week_nights</th>\n",
       "      <th></th>\n",
       "    </tr>\n",
       "  </thead>\n",
       "  <tbody>\n",
       "    <tr>\n",
       "      <th>0</th>\n",
       "      <td>0.20</td>\n",
       "    </tr>\n",
       "    <tr>\n",
       "      <th>1</th>\n",
       "      <td>0.21</td>\n",
       "    </tr>\n",
       "    <tr>\n",
       "      <th>2</th>\n",
       "      <td>0.27</td>\n",
       "    </tr>\n",
       "    <tr>\n",
       "      <th>3</th>\n",
       "      <td>0.27</td>\n",
       "    </tr>\n",
       "    <tr>\n",
       "      <th>4</th>\n",
       "      <td>0.29</td>\n",
       "    </tr>\n",
       "    <tr>\n",
       "      <th>5</th>\n",
       "      <td>0.29</td>\n",
       "    </tr>\n",
       "    <tr>\n",
       "      <th>6</th>\n",
       "      <td>0.32</td>\n",
       "    </tr>\n",
       "  </tbody>\n",
       "</table>\n",
       "</div>"
      ],
      "text/plain": [
       "                      is_canceled\n",
       "stays_in_week_nights             \n",
       "0                            0.20\n",
       "1                            0.21\n",
       "2                            0.27\n",
       "3                            0.27\n",
       "4                            0.29\n",
       "5                            0.29\n",
       "6                            0.32"
      ]
     },
     "execution_count": 24,
     "metadata": {},
     "output_type": "execute_result"
    }
   ],
   "source": [
    "data_train.pivot_table(index='stays_in_week_nights', values='is_canceled', aggfunc='mean')"
   ]
  },
  {
   "cell_type": "code",
   "execution_count": 25,
   "metadata": {},
   "outputs": [
    {
     "data": {
      "image/png": "[encoded data removed]",
      "text/plain": [
       "<Figure size 648x288 with 1 Axes>"
      ]
     },
     "metadata": {
      "needs_background": "light"
     },
     "output_type": "display_data"
    }
   ],
   "source": [
    "data_train.pivot_table(index='total_nights', values='is_canceled', aggfunc='mean').plot(kind='bar', figsize=(9, 4), grid=True)\n",
    "plt.title('Доля отмен в зависимости от количества забронированных ночей')\n",
    "plt.xlabel('Количество ночей')\n",
    "plt.ylabel('Доля отмен')\n",
    "plt.show()"
   ]
  },
  {
   "cell_type": "markdown",
   "metadata": {},
   "source": [
    "Наличие выходных дней в бронировании практически не влияет на отмену, а срок заселения в будни влияет незначительно. \n",
    "\n",
    "Реже всего отменяют свои бронирования клиенты, заселяющиеся на одну ночь.\n",
    "\n",
    "Далее рассмотрим, влияет ли количество детей на отмену брони. Дополнительно проверим признак, содержищий информацию о количестве младенцев- максимальное значение в нем составляет 10. "
   ]
  },
  {
   "cell_type": "code",
   "execution_count": 26,
   "metadata": {},
   "outputs": [
    {
     "data": {
      "text/html": [
       "<div>\n",
       "<style scoped>\n",
       "    .dataframe tbody tr th:only-of-type {\n",
       "        vertical-align: middle;\n",
       "    }\n",
       "\n",
       "    .dataframe tbody tr th {\n",
       "        vertical-align: top;\n",
       "    }\n",
       "\n",
       "    .dataframe thead tr th {\n",
       "        text-align: left;\n",
       "    }\n",
       "\n",
       "    .dataframe thead tr:last-of-type th {\n",
       "        text-align: right;\n",
       "    }\n",
       "</style>\n",
       "<table border=\"1\" class=\"dataframe\">\n",
       "  <thead>\n",
       "    <tr>\n",
       "      <th></th>\n",
       "      <th>mean</th>\n",
       "      <th>count</th>\n",
       "    </tr>\n",
       "    <tr>\n",
       "      <th></th>\n",
       "      <th>is_canceled</th>\n",
       "      <th>is_canceled</th>\n",
       "    </tr>\n",
       "    <tr>\n",
       "      <th>babies</th>\n",
       "      <th></th>\n",
       "      <th></th>\n",
       "    </tr>\n",
       "  </thead>\n",
       "  <tbody>\n",
       "    <tr>\n",
       "      <th>0.00</th>\n",
       "      <td>0.25</td>\n",
       "      <td>43403</td>\n",
       "    </tr>\n",
       "    <tr>\n",
       "      <th>1.00</th>\n",
       "      <td>0.18</td>\n",
       "      <td>444</td>\n",
       "    </tr>\n",
       "    <tr>\n",
       "      <th>2.00</th>\n",
       "      <td>0.00</td>\n",
       "      <td>3</td>\n",
       "    </tr>\n",
       "    <tr>\n",
       "      <th>9.00</th>\n",
       "      <td>0.00</td>\n",
       "      <td>1</td>\n",
       "    </tr>\n",
       "    <tr>\n",
       "      <th>10.00</th>\n",
       "      <td>0.00</td>\n",
       "      <td>1</td>\n",
       "    </tr>\n",
       "  </tbody>\n",
       "</table>\n",
       "</div>"
      ],
      "text/plain": [
       "              mean       count\n",
       "       is_canceled is_canceled\n",
       "babies                        \n",
       "0.00          0.25       43403\n",
       "1.00          0.18         444\n",
       "2.00          0.00           3\n",
       "9.00          0.00           1\n",
       "10.00         0.00           1"
      ]
     },
     "execution_count": 26,
     "metadata": {},
     "output_type": "execute_result"
    }
   ],
   "source": [
    "data_train.pivot_table(index='babies', values='is_canceled', aggfunc=['mean', 'count'])"
   ]
  },
  {
   "cell_type": "markdown",
   "metadata": {},
   "source": [
    "В данных встречаются две записи с подозрительно большим количеством младенцев в брони- 9 и 10. Если значение 10 можно было бы объяснить тем, что на каком-то из этапов внесения данных к единице случайно приписали ноль, то со значением 9 такого произойти не могло. \n",
    "\n",
    "Клиенты с младенцами, бронирующие номер, в реже отменяют бронирование, поэтому данный признак необходимо учесть при обучении модели. Но чтобы избавиться от выбросов и упростить задачу, преобразуем данный столбец в буллево значение- есть ли у клиента младенцы в бронировании."
   ]
  },
  {
   "cell_type": "code",
   "execution_count": 27,
   "metadata": {},
   "outputs": [
    {
     "data": {
      "text/plain": [
       "0.00    43403\n",
       "1.00      449\n",
       "Name: is_babies, dtype: int64"
      ]
     },
     "execution_count": 27,
     "metadata": {},
     "output_type": "execute_result"
    }
   ],
   "source": [
    "data_train.loc[data_train['babies'] > 0, 'babies'] = 1\n",
    "data_train = data_train.rename(columns = {'babies': 'is_babies'})\n",
    "data_train['is_babies'].value_counts()"
   ]
  },
  {
   "cell_type": "code",
   "execution_count": 28,
   "metadata": {},
   "outputs": [
    {
     "data": {
      "text/plain": [
       "0.00    24521\n",
       "1.00      174\n",
       "Name: is_babies, dtype: int64"
      ]
     },
     "execution_count": 28,
     "metadata": {},
     "output_type": "execute_result"
    }
   ],
   "source": [
    "data_test.loc[data_test['babies'] > 0, 'babies'] = 1\n",
    "data_test = data_test.rename(columns = {'babies': 'is_babies'})\n",
    "data_test['is_babies'].value_counts()"
   ]
  },
  {
   "cell_type": "markdown",
   "metadata": {},
   "source": [
    "Проверим, как влияет количество детей в бронировании на отмену."
   ]
  },
  {
   "cell_type": "code",
   "execution_count": 29,
   "metadata": {},
   "outputs": [
    {
     "data": {
      "text/html": [
       "<div>\n",
       "<style scoped>\n",
       "    .dataframe tbody tr th:only-of-type {\n",
       "        vertical-align: middle;\n",
       "    }\n",
       "\n",
       "    .dataframe tbody tr th {\n",
       "        vertical-align: top;\n",
       "    }\n",
       "\n",
       "    .dataframe thead tr th {\n",
       "        text-align: left;\n",
       "    }\n",
       "\n",
       "    .dataframe thead tr:last-of-type th {\n",
       "        text-align: right;\n",
       "    }\n",
       "</style>\n",
       "<table border=\"1\" class=\"dataframe\">\n",
       "  <thead>\n",
       "    <tr>\n",
       "      <th></th>\n",
       "      <th>mean</th>\n",
       "      <th>count</th>\n",
       "    </tr>\n",
       "    <tr>\n",
       "      <th></th>\n",
       "      <th>is_canceled</th>\n",
       "      <th>is_canceled</th>\n",
       "    </tr>\n",
       "    <tr>\n",
       "      <th>children</th>\n",
       "      <th></th>\n",
       "      <th></th>\n",
       "    </tr>\n",
       "  </thead>\n",
       "  <tbody>\n",
       "    <tr>\n",
       "      <th>0.00</th>\n",
       "      <td>0.25</td>\n",
       "      <td>40471</td>\n",
       "    </tr>\n",
       "    <tr>\n",
       "      <th>1.00</th>\n",
       "      <td>0.27</td>\n",
       "      <td>2060</td>\n",
       "    </tr>\n",
       "    <tr>\n",
       "      <th>2.00</th>\n",
       "      <td>0.36</td>\n",
       "      <td>1305</td>\n",
       "    </tr>\n",
       "    <tr>\n",
       "      <th>3.00</th>\n",
       "      <td>0.38</td>\n",
       "      <td>16</td>\n",
       "    </tr>\n",
       "  </tbody>\n",
       "</table>\n",
       "</div>"
      ],
      "text/plain": [
       "                mean       count\n",
       "         is_canceled is_canceled\n",
       "children                        \n",
       "0.00            0.25       40471\n",
       "1.00            0.27        2060\n",
       "2.00            0.36        1305\n",
       "3.00            0.38          16"
      ]
     },
     "execution_count": 29,
     "metadata": {},
     "output_type": "execute_result"
    }
   ],
   "source": [
    "data_train.pivot_table(index='children', values='is_canceled', aggfunc=['mean', 'count'])"
   ]
  },
  {
   "cell_type": "markdown",
   "metadata": {},
   "source": [
    "Наличие детей в бронировании незначительно влияет на факт его отмены. Процент отмен при наличии двух или трех детей в бронировании выше, чем при наличии одного или при их отсутствии, однако таких записей намного меньше.\n",
    "\n",
    "Также рассмотрим, как влияет количество взрослых в бронировании на долю отмен."
   ]
  },
  {
   "cell_type": "code",
   "execution_count": 30,
   "metadata": {
    "scrolled": false
   },
   "outputs": [
    {
     "data": {
      "text/html": [
       "<div>\n",
       "<style scoped>\n",
       "    .dataframe tbody tr th:only-of-type {\n",
       "        vertical-align: middle;\n",
       "    }\n",
       "\n",
       "    .dataframe tbody tr th {\n",
       "        vertical-align: top;\n",
       "    }\n",
       "\n",
       "    .dataframe thead tr th {\n",
       "        text-align: left;\n",
       "    }\n",
       "\n",
       "    .dataframe thead tr:last-of-type th {\n",
       "        text-align: right;\n",
       "    }\n",
       "</style>\n",
       "<table border=\"1\" class=\"dataframe\">\n",
       "  <thead>\n",
       "    <tr>\n",
       "      <th></th>\n",
       "      <th>mean</th>\n",
       "      <th>count</th>\n",
       "    </tr>\n",
       "    <tr>\n",
       "      <th></th>\n",
       "      <th>is_canceled</th>\n",
       "      <th>is_canceled</th>\n",
       "    </tr>\n",
       "    <tr>\n",
       "      <th>adults</th>\n",
       "      <th></th>\n",
       "      <th></th>\n",
       "    </tr>\n",
       "  </thead>\n",
       "  <tbody>\n",
       "    <tr>\n",
       "      <th>0.00</th>\n",
       "      <td>0.29</td>\n",
       "      <td>164</td>\n",
       "    </tr>\n",
       "    <tr>\n",
       "      <th>1.00</th>\n",
       "      <td>0.19</td>\n",
       "      <td>8688</td>\n",
       "    </tr>\n",
       "    <tr>\n",
       "      <th>2.00</th>\n",
       "      <td>0.27</td>\n",
       "      <td>32299</td>\n",
       "    </tr>\n",
       "    <tr>\n",
       "      <th>3.00</th>\n",
       "      <td>0.29</td>\n",
       "      <td>2688</td>\n",
       "    </tr>\n",
       "    <tr>\n",
       "      <th>4.00</th>\n",
       "      <td>0.08</td>\n",
       "      <td>13</td>\n",
       "    </tr>\n",
       "  </tbody>\n",
       "</table>\n",
       "</div>"
      ],
      "text/plain": [
       "              mean       count\n",
       "       is_canceled is_canceled\n",
       "adults                        \n",
       "0.00          0.29         164\n",
       "1.00          0.19        8688\n",
       "2.00          0.27       32299\n",
       "3.00          0.29        2688\n",
       "4.00          0.08          13"
      ]
     },
     "execution_count": 30,
     "metadata": {},
     "output_type": "execute_result"
    }
   ],
   "source": [
    "data_train.pivot_table(index='adults', values='is_canceled', aggfunc=['mean', 'count'])"
   ]
  },
  {
   "cell_type": "markdown",
   "metadata": {},
   "source": [
    "Рассмотрим также, как влияет бронирование парковочных мест на отмену бронирования номера. Также рассмотрим, влияет ли количество забронированных мест на вероятность бронирования и при отсутствии влияния объединим любое количество забронированных мет на парковке в буллев тип данных."
   ]
  },
  {
   "cell_type": "code",
   "execution_count": 31,
   "metadata": {},
   "outputs": [
    {
     "data": {
      "text/html": [
       "<div>\n",
       "<style scoped>\n",
       "    .dataframe tbody tr th:only-of-type {\n",
       "        vertical-align: middle;\n",
       "    }\n",
       "\n",
       "    .dataframe tbody tr th {\n",
       "        vertical-align: top;\n",
       "    }\n",
       "\n",
       "    .dataframe thead tr th {\n",
       "        text-align: left;\n",
       "    }\n",
       "\n",
       "    .dataframe thead tr:last-of-type th {\n",
       "        text-align: right;\n",
       "    }\n",
       "</style>\n",
       "<table border=\"1\" class=\"dataframe\">\n",
       "  <thead>\n",
       "    <tr>\n",
       "      <th></th>\n",
       "      <th>mean</th>\n",
       "      <th>count</th>\n",
       "    </tr>\n",
       "    <tr>\n",
       "      <th></th>\n",
       "      <th>is_canceled</th>\n",
       "      <th>is_canceled</th>\n",
       "    </tr>\n",
       "    <tr>\n",
       "      <th>required_car_parking_spaces</th>\n",
       "      <th></th>\n",
       "      <th></th>\n",
       "    </tr>\n",
       "  </thead>\n",
       "  <tbody>\n",
       "    <tr>\n",
       "      <th>0</th>\n",
       "      <td>0.28</td>\n",
       "      <td>40253</td>\n",
       "    </tr>\n",
       "    <tr>\n",
       "      <th>1</th>\n",
       "      <td>0.00</td>\n",
       "      <td>3587</td>\n",
       "    </tr>\n",
       "    <tr>\n",
       "      <th>2</th>\n",
       "      <td>0.00</td>\n",
       "      <td>11</td>\n",
       "    </tr>\n",
       "    <tr>\n",
       "      <th>3</th>\n",
       "      <td>0.00</td>\n",
       "      <td>1</td>\n",
       "    </tr>\n",
       "  </tbody>\n",
       "</table>\n",
       "</div>"
      ],
      "text/plain": [
       "                                   mean       count\n",
       "                            is_canceled is_canceled\n",
       "required_car_parking_spaces                        \n",
       "0                                  0.28       40253\n",
       "1                                  0.00        3587\n",
       "2                                  0.00          11\n",
       "3                                  0.00           1"
      ]
     },
     "execution_count": 31,
     "metadata": {},
     "output_type": "execute_result"
    }
   ],
   "source": [
    "data_train.pivot_table(index='required_car_parking_spaces', values='is_canceled', aggfunc=['mean', 'count'])"
   ]
  },
  {
   "cell_type": "markdown",
   "metadata": {},
   "source": [
    "Клиенты, которые бронируют парковочное место, практически никогда не отменяют свое бронирование номера. Можно предположить, что в локациях, где представлены отели сети, наблюдаются проблемы как с общественными парковками, так и с парковками в отелях-конкурентах. Данное преимущество можно сделать частью рекламной кампании. Преобразуем данный признак в буллев- бронирует ли клиент парковку в принципе."
   ]
  },
  {
   "cell_type": "code",
   "execution_count": 32,
   "metadata": {},
   "outputs": [
    {
     "data": {
      "text/plain": [
       "0    40253\n",
       "1     3599\n",
       "Name: is_parking, dtype: int64"
      ]
     },
     "execution_count": 32,
     "metadata": {},
     "output_type": "execute_result"
    }
   ],
   "source": [
    "data_train.loc[data_train['required_car_parking_spaces'] > 0, 'required_car_parking_spaces'] = 1\n",
    "data_train = data_train.rename(columns = {'required_car_parking_spaces': 'is_parking'})\n",
    "data_train['is_parking'].value_counts()"
   ]
  },
  {
   "cell_type": "code",
   "execution_count": 33,
   "metadata": {
    "scrolled": true
   },
   "outputs": [
    {
     "data": {
      "text/plain": [
       "0    23246\n",
       "1     1449\n",
       "Name: is_parking, dtype: int64"
      ]
     },
     "execution_count": 33,
     "metadata": {},
     "output_type": "execute_result"
    }
   ],
   "source": [
    "data_test.loc[data_test['required_car_parking_spaces'] > 0, 'required_car_parking_spaces'] = 1\n",
    "data_test = data_test.rename(columns = {'required_car_parking_spaces': 'is_parking'})\n",
    "data_test['is_parking'].value_counts()"
   ]
  },
  {
   "cell_type": "markdown",
   "metadata": {},
   "source": [
    "Рассмотрим, как распределяются доли отмен в зависимости от предыдущих отмененных и неотмененных бронирований."
   ]
  },
  {
   "cell_type": "code",
   "execution_count": 34,
   "metadata": {},
   "outputs": [
    {
     "data": {
      "text/html": [
       "<div>\n",
       "<style scoped>\n",
       "    .dataframe tbody tr th:only-of-type {\n",
       "        vertical-align: middle;\n",
       "    }\n",
       "\n",
       "    .dataframe tbody tr th {\n",
       "        vertical-align: top;\n",
       "    }\n",
       "\n",
       "    .dataframe thead tr th {\n",
       "        text-align: left;\n",
       "    }\n",
       "\n",
       "    .dataframe thead tr:last-of-type th {\n",
       "        text-align: right;\n",
       "    }\n",
       "</style>\n",
       "<table border=\"1\" class=\"dataframe\">\n",
       "  <thead>\n",
       "    <tr>\n",
       "      <th></th>\n",
       "      <th>mean</th>\n",
       "      <th>count</th>\n",
       "    </tr>\n",
       "    <tr>\n",
       "      <th></th>\n",
       "      <th>is_canceled</th>\n",
       "      <th>is_canceled</th>\n",
       "    </tr>\n",
       "    <tr>\n",
       "      <th>previous_cancellations</th>\n",
       "      <th></th>\n",
       "      <th></th>\n",
       "    </tr>\n",
       "  </thead>\n",
       "  <tbody>\n",
       "    <tr>\n",
       "      <th>0</th>\n",
       "      <td>0.24</td>\n",
       "      <td>42701</td>\n",
       "    </tr>\n",
       "    <tr>\n",
       "      <th>1</th>\n",
       "      <td>0.86</td>\n",
       "      <td>995</td>\n",
       "    </tr>\n",
       "    <tr>\n",
       "      <th>2</th>\n",
       "      <td>0.40</td>\n",
       "      <td>52</td>\n",
       "    </tr>\n",
       "    <tr>\n",
       "      <th>3</th>\n",
       "      <td>0.26</td>\n",
       "      <td>47</td>\n",
       "    </tr>\n",
       "    <tr>\n",
       "      <th>4</th>\n",
       "      <td>0.20</td>\n",
       "      <td>5</td>\n",
       "    </tr>\n",
       "    <tr>\n",
       "      <th>5</th>\n",
       "      <td>0.15</td>\n",
       "      <td>13</td>\n",
       "    </tr>\n",
       "    <tr>\n",
       "      <th>6</th>\n",
       "      <td>1.00</td>\n",
       "      <td>2</td>\n",
       "    </tr>\n",
       "    <tr>\n",
       "      <th>11</th>\n",
       "      <td>0.07</td>\n",
       "      <td>27</td>\n",
       "    </tr>\n",
       "    <tr>\n",
       "      <th>13</th>\n",
       "      <td>0.67</td>\n",
       "      <td>3</td>\n",
       "    </tr>\n",
       "    <tr>\n",
       "      <th>14</th>\n",
       "      <td>1.00</td>\n",
       "      <td>1</td>\n",
       "    </tr>\n",
       "    <tr>\n",
       "      <th>19</th>\n",
       "      <td>1.00</td>\n",
       "      <td>1</td>\n",
       "    </tr>\n",
       "    <tr>\n",
       "      <th>21</th>\n",
       "      <td>1.00</td>\n",
       "      <td>1</td>\n",
       "    </tr>\n",
       "    <tr>\n",
       "      <th>24</th>\n",
       "      <td>1.00</td>\n",
       "      <td>2</td>\n",
       "    </tr>\n",
       "    <tr>\n",
       "      <th>25</th>\n",
       "      <td>1.00</td>\n",
       "      <td>1</td>\n",
       "    </tr>\n",
       "    <tr>\n",
       "      <th>26</th>\n",
       "      <td>1.00</td>\n",
       "      <td>1</td>\n",
       "    </tr>\n",
       "  </tbody>\n",
       "</table>\n",
       "</div>"
      ],
      "text/plain": [
       "                              mean       count\n",
       "                       is_canceled is_canceled\n",
       "previous_cancellations                        \n",
       "0                             0.24       42701\n",
       "1                             0.86         995\n",
       "2                             0.40          52\n",
       "3                             0.26          47\n",
       "4                             0.20           5\n",
       "5                             0.15          13\n",
       "6                             1.00           2\n",
       "11                            0.07          27\n",
       "13                            0.67           3\n",
       "14                            1.00           1\n",
       "19                            1.00           1\n",
       "21                            1.00           1\n",
       "24                            1.00           2\n",
       "25                            1.00           1\n",
       "26                            1.00           1"
      ]
     },
     "execution_count": 34,
     "metadata": {},
     "output_type": "execute_result"
    }
   ],
   "source": [
    "data_train.pivot_table(index='previous_cancellations', values='is_canceled', aggfunc=['mean', 'count'])"
   ]
  },
  {
   "cell_type": "markdown",
   "metadata": {},
   "source": [
    "Здесь видим, что, за редким исключением, доля повторных отмен приближается к единице, поэтому преобразуем данный признак в бинарный."
   ]
  },
  {
   "cell_type": "code",
   "execution_count": 35,
   "metadata": {},
   "outputs": [
    {
     "data": {
      "text/plain": [
       "0    42701\n",
       "1     1151\n",
       "Name: is_cancelations, dtype: int64"
      ]
     },
     "execution_count": 35,
     "metadata": {},
     "output_type": "execute_result"
    }
   ],
   "source": [
    "data_train.loc[data_train['previous_cancellations'] > 0, 'previous_cancellations'] = 1\n",
    "data_train = data_train.rename(columns = {'previous_cancellations': 'is_cancelations'})\n",
    "data_train['is_cancelations'].value_counts()"
   ]
  },
  {
   "cell_type": "code",
   "execution_count": 36,
   "metadata": {},
   "outputs": [
    {
     "data": {
      "text/plain": [
       "0    24472\n",
       "1      223\n",
       "Name: is_cancelations, dtype: int64"
      ]
     },
     "execution_count": 36,
     "metadata": {},
     "output_type": "execute_result"
    }
   ],
   "source": [
    "data_test.loc[data_test['previous_cancellations'] > 0, 'previous_cancellations'] = 1\n",
    "data_test = data_test.rename(columns = {'previous_cancellations': 'is_cancelations'})\n",
    "data_test['is_cancelations'].value_counts()"
   ]
  },
  {
   "cell_type": "code",
   "execution_count": 37,
   "metadata": {},
   "outputs": [
    {
     "data": {
      "text/html": [
       "<div>\n",
       "<style scoped>\n",
       "    .dataframe tbody tr th:only-of-type {\n",
       "        vertical-align: middle;\n",
       "    }\n",
       "\n",
       "    .dataframe tbody tr th {\n",
       "        vertical-align: top;\n",
       "    }\n",
       "\n",
       "    .dataframe thead tr th {\n",
       "        text-align: left;\n",
       "    }\n",
       "\n",
       "    .dataframe thead tr:last-of-type th {\n",
       "        text-align: right;\n",
       "    }\n",
       "</style>\n",
       "<table border=\"1\" class=\"dataframe\">\n",
       "  <thead>\n",
       "    <tr>\n",
       "      <th></th>\n",
       "      <th>mean</th>\n",
       "      <th>count</th>\n",
       "    </tr>\n",
       "    <tr>\n",
       "      <th></th>\n",
       "      <th>is_canceled</th>\n",
       "      <th>is_canceled</th>\n",
       "    </tr>\n",
       "    <tr>\n",
       "      <th>previous_bookings_not_canceled</th>\n",
       "      <th></th>\n",
       "      <th></th>\n",
       "    </tr>\n",
       "  </thead>\n",
       "  <tbody>\n",
       "    <tr>\n",
       "      <th>0</th>\n",
       "      <td>0.26</td>\n",
       "      <td>42368</td>\n",
       "    </tr>\n",
       "    <tr>\n",
       "      <th>1</th>\n",
       "      <td>0.04</td>\n",
       "      <td>598</td>\n",
       "    </tr>\n",
       "    <tr>\n",
       "      <th>2</th>\n",
       "      <td>0.05</td>\n",
       "      <td>251</td>\n",
       "    </tr>\n",
       "    <tr>\n",
       "      <th>3</th>\n",
       "      <td>0.07</td>\n",
       "      <td>134</td>\n",
       "    </tr>\n",
       "    <tr>\n",
       "      <th>4</th>\n",
       "      <td>0.07</td>\n",
       "      <td>113</td>\n",
       "    </tr>\n",
       "    <tr>\n",
       "      <th>5</th>\n",
       "      <td>0.08</td>\n",
       "      <td>89</td>\n",
       "    </tr>\n",
       "    <tr>\n",
       "      <th>6</th>\n",
       "      <td>0.04</td>\n",
       "      <td>55</td>\n",
       "    </tr>\n",
       "    <tr>\n",
       "      <th>7</th>\n",
       "      <td>0.00</td>\n",
       "      <td>34</td>\n",
       "    </tr>\n",
       "    <tr>\n",
       "      <th>8</th>\n",
       "      <td>0.08</td>\n",
       "      <td>25</td>\n",
       "    </tr>\n",
       "    <tr>\n",
       "      <th>9</th>\n",
       "      <td>0.00</td>\n",
       "      <td>23</td>\n",
       "    </tr>\n",
       "  </tbody>\n",
       "</table>\n",
       "</div>"
      ],
      "text/plain": [
       "                                      mean       count\n",
       "                               is_canceled is_canceled\n",
       "previous_bookings_not_canceled                        \n",
       "0                                     0.26       42368\n",
       "1                                     0.04         598\n",
       "2                                     0.05         251\n",
       "3                                     0.07         134\n",
       "4                                     0.07         113\n",
       "5                                     0.08          89\n",
       "6                                     0.04          55\n",
       "7                                     0.00          34\n",
       "8                                     0.08          25\n",
       "9                                     0.00          23"
      ]
     },
     "execution_count": 37,
     "metadata": {},
     "output_type": "execute_result"
    }
   ],
   "source": [
    "data_train.pivot_table(index='previous_bookings_not_canceled', values='is_canceled', aggfunc=['mean', 'count']).head(10)"
   ]
  },
  {
   "cell_type": "markdown",
   "metadata": {},
   "source": [
    "Здесь видим: если клиент не отменил свое бронирование в прошлый раз, то с вероятностью около 95% он не отменит его и при дальнейших бронированиях. Для простоты также преобразуем данный признак в бинарный."
   ]
  },
  {
   "cell_type": "code",
   "execution_count": 38,
   "metadata": {},
   "outputs": [
    {
     "data": {
      "text/plain": [
       "0    42368\n",
       "1     1484\n",
       "Name: is_not_canceled, dtype: int64"
      ]
     },
     "execution_count": 38,
     "metadata": {},
     "output_type": "execute_result"
    }
   ],
   "source": [
    "data_train.loc[data_train['previous_bookings_not_canceled'] > 0, 'previous_bookings_not_canceled'] = 1\n",
    "data_train = data_train.rename(columns = {'previous_bookings_not_canceled': 'is_not_canceled'})\n",
    "data_train['is_not_canceled'].value_counts()"
   ]
  },
  {
   "cell_type": "code",
   "execution_count": 39,
   "metadata": {},
   "outputs": [
    {
     "data": {
      "text/plain": [
       "0    23665\n",
       "1     1030\n",
       "Name: is_not_canceled, dtype: int64"
      ]
     },
     "execution_count": 39,
     "metadata": {},
     "output_type": "execute_result"
    }
   ],
   "source": [
    "data_test.loc[data_test['previous_bookings_not_canceled'] > 0, 'previous_bookings_not_canceled'] = 1\n",
    "data_test = data_test.rename(columns = {'previous_bookings_not_canceled': 'is_not_canceled'})\n",
    "data_test['is_not_canceled'].value_counts()"
   ]
  },
  {
   "cell_type": "markdown",
   "metadata": {},
   "source": [
    "В заключении отобразим типы данных в признаках и при необходимости преобразуем их."
   ]
  },
  {
   "cell_type": "code",
   "execution_count": 40,
   "metadata": {},
   "outputs": [
    {
     "data": {
      "text/plain": [
       "id                             int64\n",
       "is_canceled                    int64\n",
       "lead_time                    float64\n",
       "arrival_date_year              int64\n",
       "arrival_date_month            object\n",
       "arrival_date_week_number       int64\n",
       "arrival_date_day_of_month      int64\n",
       "stays_in_weekend_nights        int64\n",
       "stays_in_week_nights           int64\n",
       "adults                       float64\n",
       "children                     float64\n",
       "is_babies                    float64\n",
       "meal                          object\n",
       "country                       object\n",
       "distribution_channel          object\n",
       "is_repeated_guest              int64\n",
       "is_cancelations                int64\n",
       "is_not_canceled                int64\n",
       "reserved_room_type            object\n",
       "booking_changes                int64\n",
       "days_in_waiting_list           int64\n",
       "customer_type                 object\n",
       "is_parking                     int64\n",
       "total_of_special_requests      int64\n",
       "total_nights                   int64\n",
       "dtype: object"
      ]
     },
     "execution_count": 40,
     "metadata": {},
     "output_type": "execute_result"
    }
   ],
   "source": [
    "data_train.dtypes"
   ]
  },
  {
   "cell_type": "code",
   "execution_count": 41,
   "metadata": {},
   "outputs": [
    {
     "data": {
      "text/plain": [
       "id                            int64\n",
       "is_canceled                   int64\n",
       "lead_time                     int32\n",
       "arrival_date_year             int64\n",
       "arrival_date_month           object\n",
       "arrival_date_week_number      int64\n",
       "arrival_date_day_of_month     int64\n",
       "stays_in_weekend_nights       int64\n",
       "stays_in_week_nights          int64\n",
       "adults                        int32\n",
       "children                      int32\n",
       "is_babies                     int32\n",
       "meal                         object\n",
       "country                      object\n",
       "distribution_channel         object\n",
       "is_repeated_guest             int64\n",
       "is_cancelations               int64\n",
       "is_not_canceled               int64\n",
       "reserved_room_type           object\n",
       "booking_changes               int64\n",
       "days_in_waiting_list          int64\n",
       "customer_type                object\n",
       "is_parking                    int64\n",
       "total_of_special_requests     int64\n",
       "total_nights                  int64\n",
       "dtype: object"
      ]
     },
     "execution_count": 41,
     "metadata": {},
     "output_type": "execute_result"
    }
   ],
   "source": [
    "for name in ['lead_time', 'adults', 'children', 'is_babies']:\n",
    "    data_train[name] = data_train[name].astype('int')\n",
    "data_train.dtypes"
   ]
  },
  {
   "cell_type": "code",
   "execution_count": 42,
   "metadata": {},
   "outputs": [
    {
     "data": {
      "text/plain": [
       "id                             int64\n",
       "is_canceled                    int64\n",
       "lead_time                    float64\n",
       "arrival_date_year              int64\n",
       "arrival_date_month            object\n",
       "arrival_date_week_number       int64\n",
       "arrival_date_day_of_month      int64\n",
       "stays_in_weekend_nights        int64\n",
       "stays_in_week_nights           int64\n",
       "adults                       float64\n",
       "children                     float64\n",
       "is_babies                    float64\n",
       "meal                          object\n",
       "country                       object\n",
       "distribution_channel          object\n",
       "is_repeated_guest              int64\n",
       "is_cancelations                int64\n",
       "is_not_canceled                int64\n",
       "reserved_room_type            object\n",
       "booking_changes                int64\n",
       "days_in_waiting_list           int64\n",
       "customer_type                 object\n",
       "is_parking                     int64\n",
       "total_of_special_requests      int64\n",
       "total_nights                   int64\n",
       "dtype: object"
      ]
     },
     "execution_count": 42,
     "metadata": {},
     "output_type": "execute_result"
    }
   ],
   "source": [
    "data_test.dtypes"
   ]
  },
  {
   "cell_type": "code",
   "execution_count": 43,
   "metadata": {},
   "outputs": [
    {
     "data": {
      "text/plain": [
       "id                            int64\n",
       "is_canceled                   int64\n",
       "lead_time                     int32\n",
       "arrival_date_year             int64\n",
       "arrival_date_month           object\n",
       "arrival_date_week_number      int64\n",
       "arrival_date_day_of_month     int64\n",
       "stays_in_weekend_nights       int64\n",
       "stays_in_week_nights          int64\n",
       "adults                        int32\n",
       "children                      int32\n",
       "is_babies                     int32\n",
       "meal                         object\n",
       "country                      object\n",
       "distribution_channel         object\n",
       "is_repeated_guest             int64\n",
       "is_cancelations               int64\n",
       "is_not_canceled               int64\n",
       "reserved_room_type           object\n",
       "booking_changes               int64\n",
       "days_in_waiting_list          int64\n",
       "customer_type                object\n",
       "is_parking                    int64\n",
       "total_of_special_requests     int64\n",
       "total_nights                  int64\n",
       "dtype: object"
      ]
     },
     "execution_count": 43,
     "metadata": {},
     "output_type": "execute_result"
    }
   ],
   "source": [
    "for name in ['lead_time', 'adults', 'children', 'is_babies']:\n",
    "    data_test[name] = data_test[name].astype('int')\n",
    "data_test.dtypes"
   ]
  },
  {
   "cell_type": "markdown",
   "metadata": {},
   "source": [
    "#### Вывод\n",
    "\n",
    "По результатам аналитического анализа данных можем сделать следующие выводы:\n",
    "\n",
    "1. В представленных данных нет пропусков и дубликатов. Были обнаружены единичные выбросы, от которых избавились путем преобразования данных в столбцах.\n",
    "\n",
    "2. Предварительно можем составить портрет клиента, который с большой вероятностью отменит бронирование- это клиент, который бронирует заранее (более, чем за месяц до заселения), не бронирует парковку, в его истории уже были отмены брони, он реже вносит изменения в бронирование, реже берет с собой младенцев и чаще бронирует номер на 2 ночи.\n",
    "\n",
    "3. Отдельно стоит отметить, что клиенты, бронирующие парковку, практически никогда не отменяют свое бронирование. Судя по всему, в локациях, где представлены отели сети, есть проблемы с парковкой, поэтому наличие собственного паркинга у отелей следует использовать как преимущество при проведении рекламных кампаний."
   ]
  },
  {
   "cell_type": "markdown",
   "metadata": {},
   "source": [
    "### Шаг 3. Формулировка ML-задачи на основе бизнес-задачи"
   ]
  },
  {
   "cell_type": "markdown",
   "metadata": {},
   "source": [
    "В данном разделе сформулируем задачу машинного обучения на основе бизнес задачи, а также напишем функции для расчета прибыли сети отелей, чтобы оценить, окупится ли создание системы отслеживания ненадежных клиентов.\n",
    "\n",
    "Наша задача- создать систему отслеживания ненадежных клиентов, позволяющую предсказать отмену ими бронирования и при положительном ответе вводящая аванс в размере 80% от стоимости номера за одни сутки. Успешность внедрения системы определяется ее окупаемостью- необходимо, чтобы система, в которую будет вложено 400 тыс. рублей, окупилась за один календарный год. Здесь мы сталкиваемся с первой проблемой- в тестовой выборке данны наблюдения только за 8 месяцев, поэтому нам придется определить среднюю прибыль за месяц и экстраполировать ее на год.\n",
    "\n",
    "Задачей машинного обучения в данном случае будет обучение модели с наибольшим значением accuracy на тренировочной выборке с целевым признаком- отменой бронирования. Прибыль от внедрения модели будем оценивать следующим образом- предскажем результаты отмены бронирования и для тех клиентов, которых модель угадала, посчитаем прибыль.\n",
    "\n",
    "Назначим константы в отдельном окне- стоимость номера и стоимость уборки в нем:\n",
    "* категория A: за ночь — 1 000, разовое обслуживание — 400;\n",
    "* категория B: за ночь — 800, разовое обслуживание — 350;\n",
    "* категория C: за ночь — 600, разовое обслуживание — 350;\n",
    "* категория D: за ночь — 550, разовое обслуживание — 150;\n",
    "* категория E: за ночь — 500, разовое обслуживание — 150;\n",
    "* категория F: за ночь — 450, разовое обслуживание — 150;\n",
    "* категория G: за ночь — 350, разовое обслуживание — 150."
   ]
  },
  {
   "cell_type": "code",
   "execution_count": 44,
   "metadata": {},
   "outputs": [],
   "source": [
    "# напишем функцию, возвращающую стоимость номера в зависимости от его типа\n",
    "def night_cost(row):\n",
    "    if row['reserved_room_type'] == 'A':\n",
    "        return 1000\n",
    "    elif row['reserved_room_type'] == 'B':\n",
    "        return 800\n",
    "    elif row['reserved_room_type'] == 'C':\n",
    "        return 600\n",
    "    elif row['reserved_room_type'] == 'D':\n",
    "        return 550\n",
    "    elif row['reserved_room_type'] == 'E':\n",
    "        return 500\n",
    "    elif row['reserved_room_type'] == 'F':\n",
    "        return 450\n",
    "    else:\n",
    "        return 350\n",
    "\n",
    "# напишем функцию, возвращающую стоимость уборки в номере в зависимости от типа\n",
    "def cleaning_cost(row):\n",
    "    if row['reserved_room_type'] == 'A':\n",
    "        return 400\n",
    "    elif row['reserved_room_type'] in ['B', 'C']:\n",
    "        return 350\n",
    "    else:\n",
    "        return 150\n",
    "        \n",
    "data_train['night_cost'] = data_train.apply(night_cost, axis=1)  \n",
    "data_train['cleaning_cost'] = data_train.apply(cleaning_cost, axis=1)"
   ]
  },
  {
   "cell_type": "code",
   "execution_count": 45,
   "metadata": {},
   "outputs": [],
   "source": [
    "# функция для расчета прибыли\n",
    "def profit(row):\n",
    "    if row['arrival_date_month'] in ['March', 'April', 'May', 'September', 'October', 'November']:\n",
    "        if row['is_canceled'] == 0:\n",
    "            return 1.2 *(row['night_cost'] * row['total_nights'] - np.ceil(row['total_nights'] / 2) * row['cleaning_cost'])\n",
    "        else:\n",
    "            return 0 - 1.2 * (row['night_cost'] + row['cleaning_cost'])\n",
    "    if row['arrival_date_month'] in ['June', 'July', 'August']:\n",
    "        if row['is_canceled'] == 0:\n",
    "            return 1.4 *(row['night_cost'] * row['total_nights'] - np.ceil(row['total_nights'] / 2) * row['cleaning_cost'])\n",
    "        else:\n",
    "            return 0 - 1.4 * (row['night_cost'] + row['cleaning_cost'])\n",
    "    else:\n",
    "        if row['is_canceled'] == 0:\n",
    "            return row['night_cost'] * row['total_nights'] - np.ceil(row['total_nights'] / 2) * row['cleaning_cost']\n",
    "        else:\n",
    "            return 0 - (row['night_cost'] + row['cleaning_cost'])\n",
    "\n",
    "data_train['profit'] = data_train.apply(profit, axis=1)"
   ]
  },
  {
   "cell_type": "code",
   "execution_count": 56,
   "metadata": {},
   "outputs": [],
   "source": [
    "# вычислим в отдельном столбце сумму штрафа\n",
    "data_train['penalty'] = (data_train['night_cost'] + data_train['cleaning_cost']) * 0.8"
   ]
  },
  {
   "cell_type": "code",
   "execution_count": 57,
   "metadata": {},
   "outputs": [
    {
     "data": {
      "text/html": [
       "<div>\n",
       "<style scoped>\n",
       "    .dataframe tbody tr th:only-of-type {\n",
       "        vertical-align: middle;\n",
       "    }\n",
       "\n",
       "    .dataframe tbody tr th {\n",
       "        vertical-align: top;\n",
       "    }\n",
       "\n",
       "    .dataframe thead th {\n",
       "        text-align: right;\n",
       "    }\n",
       "</style>\n",
       "<table border=\"1\" class=\"dataframe\">\n",
       "  <thead>\n",
       "    <tr style=\"text-align: right;\">\n",
       "      <th></th>\n",
       "      <th>id</th>\n",
       "      <th>is_canceled</th>\n",
       "      <th>lead_time</th>\n",
       "      <th>arrival_date_year</th>\n",
       "      <th>arrival_date_month</th>\n",
       "      <th>arrival_date_week_number</th>\n",
       "      <th>arrival_date_day_of_month</th>\n",
       "      <th>stays_in_weekend_nights</th>\n",
       "      <th>stays_in_week_nights</th>\n",
       "      <th>adults</th>\n",
       "      <th>...</th>\n",
       "      <th>booking_changes</th>\n",
       "      <th>days_in_waiting_list</th>\n",
       "      <th>customer_type</th>\n",
       "      <th>is_parking</th>\n",
       "      <th>total_of_special_requests</th>\n",
       "      <th>total_nights</th>\n",
       "      <th>night_cost</th>\n",
       "      <th>cleaning_cost</th>\n",
       "      <th>profit</th>\n",
       "      <th>penalty</th>\n",
       "    </tr>\n",
       "  </thead>\n",
       "  <tbody>\n",
       "    <tr>\n",
       "      <th>0</th>\n",
       "      <td>0</td>\n",
       "      <td>0</td>\n",
       "      <td>7</td>\n",
       "      <td>2015</td>\n",
       "      <td>July</td>\n",
       "      <td>27</td>\n",
       "      <td>1</td>\n",
       "      <td>0</td>\n",
       "      <td>1</td>\n",
       "      <td>1</td>\n",
       "      <td>...</td>\n",
       "      <td>0</td>\n",
       "      <td>0</td>\n",
       "      <td>Transient</td>\n",
       "      <td>0</td>\n",
       "      <td>0</td>\n",
       "      <td>1</td>\n",
       "      <td>1000</td>\n",
       "      <td>400</td>\n",
       "      <td>840.00</td>\n",
       "      <td>1,120.00</td>\n",
       "    </tr>\n",
       "    <tr>\n",
       "      <th>1</th>\n",
       "      <td>1</td>\n",
       "      <td>0</td>\n",
       "      <td>14</td>\n",
       "      <td>2015</td>\n",
       "      <td>July</td>\n",
       "      <td>27</td>\n",
       "      <td>1</td>\n",
       "      <td>0</td>\n",
       "      <td>2</td>\n",
       "      <td>2</td>\n",
       "      <td>...</td>\n",
       "      <td>0</td>\n",
       "      <td>0</td>\n",
       "      <td>Transient</td>\n",
       "      <td>0</td>\n",
       "      <td>1</td>\n",
       "      <td>2</td>\n",
       "      <td>1000</td>\n",
       "      <td>400</td>\n",
       "      <td>2,240.00</td>\n",
       "      <td>1,120.00</td>\n",
       "    </tr>\n",
       "    <tr>\n",
       "      <th>2</th>\n",
       "      <td>2</td>\n",
       "      <td>0</td>\n",
       "      <td>0</td>\n",
       "      <td>2015</td>\n",
       "      <td>July</td>\n",
       "      <td>27</td>\n",
       "      <td>1</td>\n",
       "      <td>0</td>\n",
       "      <td>2</td>\n",
       "      <td>2</td>\n",
       "      <td>...</td>\n",
       "      <td>0</td>\n",
       "      <td>0</td>\n",
       "      <td>Transient</td>\n",
       "      <td>0</td>\n",
       "      <td>0</td>\n",
       "      <td>2</td>\n",
       "      <td>600</td>\n",
       "      <td>350</td>\n",
       "      <td>1,190.00</td>\n",
       "      <td>760.00</td>\n",
       "    </tr>\n",
       "    <tr>\n",
       "      <th>3</th>\n",
       "      <td>3</td>\n",
       "      <td>0</td>\n",
       "      <td>9</td>\n",
       "      <td>2015</td>\n",
       "      <td>July</td>\n",
       "      <td>27</td>\n",
       "      <td>1</td>\n",
       "      <td>0</td>\n",
       "      <td>2</td>\n",
       "      <td>2</td>\n",
       "      <td>...</td>\n",
       "      <td>0</td>\n",
       "      <td>0</td>\n",
       "      <td>Transient</td>\n",
       "      <td>0</td>\n",
       "      <td>1</td>\n",
       "      <td>2</td>\n",
       "      <td>600</td>\n",
       "      <td>350</td>\n",
       "      <td>1,190.00</td>\n",
       "      <td>760.00</td>\n",
       "    </tr>\n",
       "    <tr>\n",
       "      <th>4</th>\n",
       "      <td>4</td>\n",
       "      <td>1</td>\n",
       "      <td>85</td>\n",
       "      <td>2015</td>\n",
       "      <td>July</td>\n",
       "      <td>27</td>\n",
       "      <td>1</td>\n",
       "      <td>0</td>\n",
       "      <td>3</td>\n",
       "      <td>2</td>\n",
       "      <td>...</td>\n",
       "      <td>0</td>\n",
       "      <td>0</td>\n",
       "      <td>Transient</td>\n",
       "      <td>0</td>\n",
       "      <td>1</td>\n",
       "      <td>3</td>\n",
       "      <td>1000</td>\n",
       "      <td>400</td>\n",
       "      <td>-1,960.00</td>\n",
       "      <td>1,120.00</td>\n",
       "    </tr>\n",
       "  </tbody>\n",
       "</table>\n",
       "<p>5 rows × 29 columns</p>\n",
       "</div>"
      ],
      "text/plain": [
       "   id  is_canceled  lead_time  arrival_date_year arrival_date_month  \\\n",
       "0   0            0          7               2015               July   \n",
       "1   1            0         14               2015               July   \n",
       "2   2            0          0               2015               July   \n",
       "3   3            0          9               2015               July   \n",
       "4   4            1         85               2015               July   \n",
       "\n",
       "   arrival_date_week_number  arrival_date_day_of_month  \\\n",
       "0                        27                          1   \n",
       "1                        27                          1   \n",
       "2                        27                          1   \n",
       "3                        27                          1   \n",
       "4                        27                          1   \n",
       "\n",
       "   stays_in_weekend_nights  stays_in_week_nights  adults  ...  \\\n",
       "0                        0                     1       1  ...   \n",
       "1                        0                     2       2  ...   \n",
       "2                        0                     2       2  ...   \n",
       "3                        0                     2       2  ...   \n",
       "4                        0                     3       2  ...   \n",
       "\n",
       "   booking_changes  days_in_waiting_list customer_type is_parking  \\\n",
       "0                0                     0     Transient          0   \n",
       "1                0                     0     Transient          0   \n",
       "2                0                     0     Transient          0   \n",
       "3                0                     0     Transient          0   \n",
       "4                0                     0     Transient          0   \n",
       "\n",
       "  total_of_special_requests  total_nights  night_cost  cleaning_cost  \\\n",
       "0                         0             1        1000            400   \n",
       "1                         1             2        1000            400   \n",
       "2                         0             2         600            350   \n",
       "3                         1             2         600            350   \n",
       "4                         1             3        1000            400   \n",
       "\n",
       "     profit  penalty  \n",
       "0    840.00 1,120.00  \n",
       "1  2,240.00 1,120.00  \n",
       "2  1,190.00   760.00  \n",
       "3  1,190.00   760.00  \n",
       "4 -1,960.00 1,120.00  \n",
       "\n",
       "[5 rows x 29 columns]"
      ]
     },
     "execution_count": 57,
     "metadata": {},
     "output_type": "execute_result"
    }
   ],
   "source": [
    "data_train.head()"
   ]
  },
  {
   "cell_type": "code",
   "execution_count": 58,
   "metadata": {},
   "outputs": [
    {
     "data": {
      "text/html": [
       "<div>\n",
       "<style scoped>\n",
       "    .dataframe tbody tr th:only-of-type {\n",
       "        vertical-align: middle;\n",
       "    }\n",
       "\n",
       "    .dataframe tbody tr th {\n",
       "        vertical-align: top;\n",
       "    }\n",
       "\n",
       "    .dataframe thead th {\n",
       "        text-align: right;\n",
       "    }\n",
       "</style>\n",
       "<table border=\"1\" class=\"dataframe\">\n",
       "  <thead>\n",
       "    <tr style=\"text-align: right;\">\n",
       "      <th></th>\n",
       "      <th>id</th>\n",
       "      <th>is_canceled</th>\n",
       "      <th>lead_time</th>\n",
       "      <th>arrival_date_year</th>\n",
       "      <th>arrival_date_month</th>\n",
       "      <th>arrival_date_week_number</th>\n",
       "      <th>arrival_date_day_of_month</th>\n",
       "      <th>stays_in_weekend_nights</th>\n",
       "      <th>stays_in_week_nights</th>\n",
       "      <th>adults</th>\n",
       "      <th>...</th>\n",
       "      <th>booking_changes</th>\n",
       "      <th>days_in_waiting_list</th>\n",
       "      <th>customer_type</th>\n",
       "      <th>is_parking</th>\n",
       "      <th>total_of_special_requests</th>\n",
       "      <th>total_nights</th>\n",
       "      <th>night_cost</th>\n",
       "      <th>cleaning_cost</th>\n",
       "      <th>profit</th>\n",
       "      <th>penalty</th>\n",
       "    </tr>\n",
       "  </thead>\n",
       "  <tbody>\n",
       "    <tr>\n",
       "      <th>6675</th>\n",
       "      <td>44973</td>\n",
       "      <td>1</td>\n",
       "      <td>124</td>\n",
       "      <td>2017</td>\n",
       "      <td>January</td>\n",
       "      <td>1</td>\n",
       "      <td>3</td>\n",
       "      <td>0</td>\n",
       "      <td>4</td>\n",
       "      <td>2</td>\n",
       "      <td>...</td>\n",
       "      <td>0</td>\n",
       "      <td>0</td>\n",
       "      <td>Transient</td>\n",
       "      <td>0</td>\n",
       "      <td>1</td>\n",
       "      <td>4</td>\n",
       "      <td>1000</td>\n",
       "      <td>400</td>\n",
       "      <td>-1,400.00</td>\n",
       "      <td>800.00</td>\n",
       "    </tr>\n",
       "    <tr>\n",
       "      <th>20673</th>\n",
       "      <td>93339</td>\n",
       "      <td>0</td>\n",
       "      <td>3</td>\n",
       "      <td>2017</td>\n",
       "      <td>June</td>\n",
       "      <td>24</td>\n",
       "      <td>11</td>\n",
       "      <td>2</td>\n",
       "      <td>1</td>\n",
       "      <td>1</td>\n",
       "      <td>...</td>\n",
       "      <td>0</td>\n",
       "      <td>0</td>\n",
       "      <td>Transient</td>\n",
       "      <td>0</td>\n",
       "      <td>0</td>\n",
       "      <td>3</td>\n",
       "      <td>1000</td>\n",
       "      <td>400</td>\n",
       "      <td>3,080.00</td>\n",
       "      <td>800.00</td>\n",
       "    </tr>\n",
       "    <tr>\n",
       "      <th>10872</th>\n",
       "      <td>53044</td>\n",
       "      <td>1</td>\n",
       "      <td>51</td>\n",
       "      <td>2017</td>\n",
       "      <td>June</td>\n",
       "      <td>26</td>\n",
       "      <td>27</td>\n",
       "      <td>0</td>\n",
       "      <td>4</td>\n",
       "      <td>2</td>\n",
       "      <td>...</td>\n",
       "      <td>0</td>\n",
       "      <td>0</td>\n",
       "      <td>Transient</td>\n",
       "      <td>0</td>\n",
       "      <td>1</td>\n",
       "      <td>4</td>\n",
       "      <td>1000</td>\n",
       "      <td>400</td>\n",
       "      <td>-1,960.00</td>\n",
       "      <td>800.00</td>\n",
       "    </tr>\n",
       "    <tr>\n",
       "      <th>22337</th>\n",
       "      <td>95228</td>\n",
       "      <td>0</td>\n",
       "      <td>202</td>\n",
       "      <td>2017</td>\n",
       "      <td>July</td>\n",
       "      <td>28</td>\n",
       "      <td>12</td>\n",
       "      <td>0</td>\n",
       "      <td>4</td>\n",
       "      <td>1</td>\n",
       "      <td>...</td>\n",
       "      <td>0</td>\n",
       "      <td>0</td>\n",
       "      <td>Transient</td>\n",
       "      <td>0</td>\n",
       "      <td>2</td>\n",
       "      <td>4</td>\n",
       "      <td>1000</td>\n",
       "      <td>400</td>\n",
       "      <td>4,480.00</td>\n",
       "      <td>800.00</td>\n",
       "    </tr>\n",
       "    <tr>\n",
       "      <th>9387</th>\n",
       "      <td>49959</td>\n",
       "      <td>1</td>\n",
       "      <td>49</td>\n",
       "      <td>2017</td>\n",
       "      <td>May</td>\n",
       "      <td>18</td>\n",
       "      <td>5</td>\n",
       "      <td>1</td>\n",
       "      <td>2</td>\n",
       "      <td>2</td>\n",
       "      <td>...</td>\n",
       "      <td>0</td>\n",
       "      <td>0</td>\n",
       "      <td>Transient</td>\n",
       "      <td>0</td>\n",
       "      <td>0</td>\n",
       "      <td>3</td>\n",
       "      <td>1000</td>\n",
       "      <td>400</td>\n",
       "      <td>-1,680.00</td>\n",
       "      <td>800.00</td>\n",
       "    </tr>\n",
       "  </tbody>\n",
       "</table>\n",
       "<p>5 rows × 29 columns</p>\n",
       "</div>"
      ],
      "text/plain": [
       "          id  is_canceled  lead_time  arrival_date_year arrival_date_month  \\\n",
       "6675   44973            1        124               2017            January   \n",
       "20673  93339            0          3               2017               June   \n",
       "10872  53044            1         51               2017               June   \n",
       "22337  95228            0        202               2017               July   \n",
       "9387   49959            1         49               2017                May   \n",
       "\n",
       "       arrival_date_week_number  arrival_date_day_of_month  \\\n",
       "6675                          1                          3   \n",
       "20673                        24                         11   \n",
       "10872                        26                         27   \n",
       "22337                        28                         12   \n",
       "9387                         18                          5   \n",
       "\n",
       "       stays_in_weekend_nights  stays_in_week_nights  adults  ...  \\\n",
       "6675                         0                     4       2  ...   \n",
       "20673                        2                     1       1  ...   \n",
       "10872                        0                     4       2  ...   \n",
       "22337                        0                     4       1  ...   \n",
       "9387                         1                     2       2  ...   \n",
       "\n",
       "       booking_changes  days_in_waiting_list customer_type is_parking  \\\n",
       "6675                 0                     0     Transient          0   \n",
       "20673                0                     0     Transient          0   \n",
       "10872                0                     0     Transient          0   \n",
       "22337                0                     0     Transient          0   \n",
       "9387                 0                     0     Transient          0   \n",
       "\n",
       "      total_of_special_requests  total_nights  night_cost  cleaning_cost  \\\n",
       "6675                          1             4        1000            400   \n",
       "20673                         0             3        1000            400   \n",
       "10872                         1             4        1000            400   \n",
       "22337                         2             4        1000            400   \n",
       "9387                          0             3        1000            400   \n",
       "\n",
       "         profit  penalty  \n",
       "6675  -1,400.00   800.00  \n",
       "20673  3,080.00   800.00  \n",
       "10872 -1,960.00   800.00  \n",
       "22337  4,480.00   800.00  \n",
       "9387  -1,680.00   800.00  \n",
       "\n",
       "[5 rows x 29 columns]"
      ]
     },
     "execution_count": 58,
     "metadata": {},
     "output_type": "execute_result"
    }
   ],
   "source": [
    "# применим все то же самое к тестовой выборке\n",
    "data_test['night_cost'] = data_test.apply(night_cost, axis=1)  \n",
    "data_test['cleaning_cost'] = data_test.apply(cleaning_cost, axis=1)\n",
    "data_test['profit'] = data_test.apply(profit, axis=1)\n",
    "data_test['penalty'] = data_test['night_cost'] * 0.8\n",
    "\n",
    "data_test.sample(5)"
   ]
  },
  {
   "cell_type": "markdown",
   "metadata": {},
   "source": [
    "Подготовим данные к обучению. Разделим обучающие признаки и целевой признак, масштабируем количественные данные и обработаем категориальные признаки методикой OHE."
   ]
  },
  {
   "cell_type": "markdown",
   "metadata": {},
   "source": [
    "### Шаг 4. Разработка модели ML"
   ]
  },
  {
   "cell_type": "markdown",
   "metadata": {},
   "source": [
    "Предварительные расчеты на несбалансированной обучающей выборке показади крайне низкую эффективность моделей машинного обучения. Значение f1-меры едва превосходило 0,25. Поэтому увеличим выборку по положительному целевому признаку с целью улучшения результатов обучения моделей."
   ]
  },
  {
   "cell_type": "code",
   "execution_count": 59,
   "metadata": {},
   "outputs": [],
   "source": [
    "# создадим функцию увеличения выборки по положительному целевому признаку\n",
    "def upsample(features, target, repeat):\n",
    "    features_zeros = features[target == 0]\n",
    "    features_ones = features[target == 1]\n",
    "    target_zeros = target[target == 0]\n",
    "    target_ones = target[target == 1]\n",
    "    \n",
    "    features_upsampled = pd.concat([features_zeros] + [features_ones] * repeat)\n",
    "    target_upsampled = pd.concat([target_zeros] + [target_ones] * repeat)\n",
    "    \n",
    "    features_upsampled, target_upsampled = shuffle(\n",
    "        features_upsampled, target_upsampled, random_state=12345)\n",
    "    \n",
    "    return features_upsampled, target_upsampled"
   ]
  },
  {
   "cell_type": "code",
   "execution_count": 60,
   "metadata": {},
   "outputs": [
    {
     "name": "stdout",
     "output_type": "stream",
     "text": [
      "Данных с отрицательным значением целевого признака больше в  2.93 раз, чем с положительным\n"
     ]
    }
   ],
   "source": [
    "for_upsample = len(data_train[data_train['is_canceled'] == 0]) / len(data_train[data_train['is_canceled'] == 1])\n",
    "print(f'Данных с отрицательным значением целевого признака больше в {for_upsample: .2f} раз, чем с положительным')"
   ]
  },
  {
   "cell_type": "code",
   "execution_count": 61,
   "metadata": {},
   "outputs": [
    {
     "name": "stdout",
     "output_type": "stream",
     "text": [
      "(66148, 79) (24695, 79)\n"
     ]
    }
   ],
   "source": [
    "# выделим целевой признак\n",
    "target_train = data_train['is_canceled']\n",
    "target_test = data_test['is_canceled']\n",
    "\n",
    "# выделим обучающие признаки\n",
    "features_train = data_train.drop(['id', 'is_canceled', 'arrival_date_week_number', 'arrival_date_year', 'night_cost', 'cleaning_cost', 'profit', 'penalty'], axis=1)\n",
    "features_test = data_test.drop(['id', 'is_canceled', 'arrival_date_week_number', 'arrival_date_year', 'night_cost', 'cleaning_cost', 'profit', 'penalty'], axis=1)\n",
    "\n",
    "# увеличим выборку по положительному целевому признаку\n",
    "features_upsampled, target_upsampled = upsample(features_train, target_train, 3)\n",
    "\n",
    "# выделим типы признаков- количественные и категориальные\n",
    "categorial = ['arrival_date_month', 'is_babies', 'country', 'distribution_channel', 'is_repeated_guest', 'is_cancelations', 'is_not_canceled', 'reserved_room_type', 'meal', 'customer_type', 'is_parking']\n",
    "numeric = [feature for feature in list(features_upsampled.columns) if feature not in categorial]\n",
    "\n",
    "# обработаем категориальные признаки методом One Hot Encoding\n",
    "enc = OneHotEncoder(drop='first')\n",
    "encoded_train = pd.DataFrame(enc.fit_transform(features_upsampled[categorial]).toarray())\n",
    "encoded_test = pd.DataFrame(enc.transform(features_test[categorial]).toarray())\n",
    "\n",
    "# масштабируем количественные признаки\n",
    "scaler = StandardScaler()\n",
    "scaler.fit(features_upsampled[numeric]) \n",
    "scaled_train = pd.DataFrame(scaler.transform(features_upsampled[numeric])) \n",
    "scaled_test = pd.DataFrame(scaler.transform(features_test[numeric]))\n",
    "\n",
    "# объединим признаки в обучающую и тестовую выборки\n",
    "ohe_sc_train = scaled_train.join(encoded_train, lsuffix='_scaled')\n",
    "ohe_sc_test = scaled_test.join(encoded_test, lsuffix='_scaled')\n",
    "\n",
    "print(ohe_sc_train.shape, ohe_sc_test.shape)"
   ]
  },
  {
   "cell_type": "code",
   "execution_count": 62,
   "metadata": {},
   "outputs": [
    {
     "name": "stdout",
     "output_type": "stream",
     "text": [
      "f1-мера модели логистической регрессии при кросс-валидации равна  0.732, recall =  0.744\n"
     ]
    }
   ],
   "source": [
    "# обучим модель логистической регрессии\n",
    "lr_model = LogisticRegression(max_iter=1000, random_state=12345)\n",
    "lr_model.fit(ohe_sc_train, target_upsampled)\n",
    "lr_f1_scores = cross_val_score(lr_model, ohe_sc_train, target_upsampled, scoring='f1', cv=10)\n",
    "lr_recall_scores = cross_val_score(lr_model, ohe_sc_train, target_upsampled, scoring='recall', cv=10)\n",
    "\n",
    "lr_f1_score = pd.Series(lr_f1_scores).mean()\n",
    "lr_recall_score = pd.Series(lr_recall_scores).mean()\n",
    "print(f'f1-мера модели логистической регрессии при кросс-валидации равна {lr_f1_score: 0.3f}, recall = {lr_recall_score: 0.3f}')"
   ]
  },
  {
   "cell_type": "code",
   "execution_count": 63,
   "metadata": {
    "scrolled": true
   },
   "outputs": [
    {
     "name": "stdout",
     "output_type": "stream",
     "text": [
      "f1-мера модели логистической регрессии при кросс-валидации равна  0.918, recall =  0.992\n"
     ]
    }
   ],
   "source": [
    "# обучим модель решающего дерева с перебором гиперпараметра- глубины дерева\n",
    "for depth in (1, len(ohe_sc_train.columns)):\n",
    "    best_result = 0\n",
    "    dtc_model = DecisionTreeClassifier(max_depth = depth, random_state=12345)\n",
    "    dtc_model.fit(ohe_sc_train, target_upsampled)\n",
    "    score = cross_val_score(dtc_model, ohe_sc_train, target_upsampled, scoring='f1', cv=10)\n",
    "    result = pd.Series(score).mean()\n",
    "    if result > best_result:\n",
    "        best_result = result\n",
    "        best_dtc_model = dtc_model\n",
    "        best_depth = depth\n",
    "dtc_f1_scores = cross_val_score(best_dtc_model, ohe_sc_train, target_upsampled, scoring='f1', cv=10)\n",
    "dtc_recall_scores = cross_val_score(best_dtc_model, ohe_sc_train, target_upsampled, scoring='recall', cv=10)\n",
    "\n",
    "dtc_f1_score = pd.Series(dtc_f1_scores).mean()\n",
    "dtc_recall_score = pd.Series(dtc_recall_scores).mean()\n",
    "print(f'f1-мера модели логистической регрессии при кросс-валидации равна {dtc_f1_score: 0.3f}, recall = {dtc_recall_score: 0.3f}')"
   ]
  },
  {
   "cell_type": "code",
   "execution_count": 65,
   "metadata": {
    "scrolled": true
   },
   "outputs": [
    {
     "name": "stdout",
     "output_type": "stream",
     "text": [
      "f1-мера модели логистической регрессии при кросс-валидации равна  0.752, recall =  0.767\n"
     ]
    }
   ],
   "source": [
    "# обучим модель Ada Boost\n",
    "for est in range(10, 51, 10):\n",
    "    best_result = 0\n",
    "    abc_model = AdaBoostClassifier(n_estimators=est, random_state=12345)\n",
    "    abc_model.fit(ohe_sc_train, target_upsampled)\n",
    "    score = cross_val_score(abc_model, ohe_sc_train, target_upsampled, scoring='f1', cv=10)\n",
    "    scores = pd.Series(score).mean()\n",
    "    if scores > best_result:\n",
    "        best_result = scores\n",
    "        best_est = est\n",
    "        best_abc_model = abc_model\n",
    "abc_f1_scores = cross_val_score(best_abc_model, ohe_sc_train, target_upsampled, scoring='f1', cv=10)\n",
    "abc_recall_scores = cross_val_score(best_abc_model, ohe_sc_train, target_upsampled, scoring='recall', cv=10)\n",
    "\n",
    "abc_f1_score = pd.Series(abc_f1_scores).mean()\n",
    "abc_recall_score = pd.Series(abc_recall_scores).mean()\n",
    "print(f'f1-мера модели логистической регрессии при кросс-валидации равна {abc_f1_score: 0.3f}, recall = {abc_recall_score: 0.3f}')"
   ]
  },
  {
   "cell_type": "markdown",
   "metadata": {},
   "source": [
    "f1-мера на модели решающего дерева получилась подозрительно высокой. Возможно, модель переобучилась. Проверим f1-меру и recall на тестовой выборке для моделей решающего дерева и AdaBoost."
   ]
  },
  {
   "cell_type": "code",
   "execution_count": 66,
   "metadata": {
    "scrolled": true
   },
   "outputs": [
    {
     "name": "stdout",
     "output_type": "stream",
     "text": [
      "f1-мера для модели решающего дерева на тестовой выборке-  0.442, recall-  0.401541\n",
      "f1-мера для модели AdaBoost на тестовой выборке-  0.602, recall-  0.707514\n"
     ]
    }
   ],
   "source": [
    "dtc_predictions = best_dtc_model.predict(ohe_sc_test)\n",
    "abc_predictions = best_abc_model.predict(ohe_sc_test)\n",
    "\n",
    "print(f'f1-мера для модели решающего дерева на тестовой выборке- {f1_score(target_test, dtc_predictions): .3f}, recall- {recall_score(target_test, dtc_predictions): 3f}')\n",
    "print(f'f1-мера для модели AdaBoost на тестовой выборке- {f1_score(target_test, abc_predictions): .3f}, recall- {recall_score(target_test, abc_predictions): 3f}')"
   ]
  },
  {
   "cell_type": "markdown",
   "metadata": {},
   "source": [
    "Как видно из результатов проверки на тестовой выборке, обе модели склонны к переобучению. Модель AdaBoost показывает более близкие результаты на обучающей и тестовой выборках, поэтому остановис свой выбор на ней."
   ]
  },
  {
   "cell_type": "code",
   "execution_count": 67,
   "metadata": {},
   "outputs": [],
   "source": [
    "# выделим столбец с предсказаниями лучшей модели- Ada Boost\n",
    "\n",
    "data_test['predictions'] = pd.Series(abc_predictions)\n"
   ]
  },
  {
   "cell_type": "code",
   "execution_count": 68,
   "metadata": {},
   "outputs": [],
   "source": [
    "# создадим столбец с вычисленной предсказанной прибылью\n",
    "def prediction_profit(row):\n",
    "    if row['is_canceled'] == 1 and row['predictions'] == 1:\n",
    "        return row['penalty'] + row['profit']\n",
    "    else:\n",
    "        return row['profit']\n",
    "    \n",
    "data_test['prediction_profit'] = data_test.apply(prediction_profit, axis=1)\n"
   ]
  },
  {
   "cell_type": "code",
   "execution_count": 69,
   "metadata": {
    "scrolled": true
   },
   "outputs": [],
   "source": [
    "Clients = len(data_test)"
   ]
  },
  {
   "cell_type": "code",
   "execution_count": 70,
   "metadata": {},
   "outputs": [
    {
     "name": "stdout",
     "output_type": "stream",
     "text": [
      "95%-ый доверительный интервал (3662281.428962829, 3668161.3710371708)\n",
      "Средняя прибыль  3665221.40 рублей\n",
      "Риск убытков составляет  0.0%\n"
     ]
    }
   ],
   "source": [
    "# напишем функцию, вычисляющую среднюю прибыль от внедрения системы прогнозирования и 95% доверительный интервал \n",
    "# техникой бутстрэп\n",
    "\n",
    "def profit_risk(data):\n",
    "    calculations = []\n",
    "    for i in range(1000):\n",
    "        subsample = data_test.sample(n=Clients, replace=True)\n",
    "        calculations.append(subsample['prediction_profit'].sum() - subsample['profit'].sum())\n",
    "    calculations = pd.Series(calculations)\n",
    "    conf_interval = st.t.interval(0.95, len(calculations)-1, calculations.mean(), calculations.sem())\n",
    "    print('95%-ый доверительный интервал', conf_interval)\n",
    "    print(f'Средняя прибыль {calculations.mean(): .2f} рублей')\n",
    "    print(f'Риск убытков составляет {len(calculations[calculations<0]) / len(calculations): .1%}')\n",
    "\n",
    "profit_risk(data_test)"
   ]
  },
  {
   "cell_type": "markdown",
   "metadata": {},
   "source": [
    "#### Вывод\n",
    "\n",
    "Наилучшие предсказания показала модель AdaBoost- 0.75 на обучающей выборке и 0.6- на тестовой. При применении модели AdaBoost предсказанный прирост прибыли от внедрения системы прогнозирования составит больше 3,6 млн рублей. Риски убытков при заданных условиях отсутствуют."
   ]
  },
  {
   "cell_type": "markdown",
   "metadata": {},
   "source": [
    "### Шаг 5. Опишите портрет «ненадёжного» клиента"
   ]
  },
  {
   "cell_type": "markdown",
   "metadata": {},
   "source": [
    "Предварительно можем составить портрет клиента, который с большой вероятностью отменит бронирование- это клиент, который бронирует заранее (более, чем за месяц до заселения), не бронирует парковку, в его истории уже были отмены брони, он реже вносит изменения в бронирование, реже берет с собой младенцев и чаще бронирует номер на 2 ночи.\n",
    "\n",
    "Также отметим, что чаще, чем остальные, отменяют свои бронирования клиенты из Турции и Китая. Чуть реже, но все еще довольно часто- из Анголы, России и Марокко.\n",
    "\n",
    "Больше всего бронирований как по количеству, так и по доле их отмен,- с апреля по октябрь. Возможно, есть смысл вводить платное бронирование для большинства клиентов в летние месяцы. Есть вероятность, что доля отмен в эти месяцы снизится и вырастет выручка сети. "
   ]
  },
  {
   "cell_type": "markdown",
   "metadata": {},
   "source": [
    "### Шаг 6. Напишите общий вывод"
   ]
  },
  {
   "cell_type": "markdown",
   "metadata": {},
   "source": [
    "На основе выполненного проекта можем сделать вывод, что внедрение системы прогнозирования принесет значительную дополнительную прибыль сети отелей. Наилучшей моделью для прогнозирования отказа клиента от брони при этом будет AdaBoostClassifier. "
   ]
  }
 ],
 "metadata": {
  "ExecuteTimeLog": [
   {
    "duration": 2578,
    "start_time": "2022-05-12T07:58:38.839Z"
   },
   {
    "duration": 6,
    "start_time": "2022-05-12T07:58:47.258Z"
   },
   {
    "duration": 518,
    "start_time": "2022-05-12T07:59:47.003Z"
   },
   {
    "duration": 111,
    "start_time": "2022-05-12T08:00:25.292Z"
   },
   {
    "duration": 28,
    "start_time": "2022-05-12T08:01:31.656Z"
   },
   {
    "duration": 5034,
    "start_time": "2022-05-12T08:02:49.006Z"
   },
   {
    "duration": 3431,
    "start_time": "2022-05-12T08:11:54.906Z"
   },
   {
    "duration": 423,
    "start_time": "2022-05-12T08:12:23.562Z"
   },
   {
    "duration": 4091,
    "start_time": "2022-05-12T08:14:38.142Z"
   },
   {
    "duration": 3515,
    "start_time": "2022-05-12T08:15:50.513Z"
   },
   {
    "duration": 4585,
    "start_time": "2022-05-13T06:35:04.057Z"
   },
   {
    "duration": 183,
    "start_time": "2022-05-13T06:35:08.645Z"
   },
   {
    "duration": 80,
    "start_time": "2022-05-13T06:35:08.829Z"
   },
   {
    "duration": 28,
    "start_time": "2022-05-13T06:35:08.911Z"
   },
   {
    "duration": 3023,
    "start_time": "2022-05-13T06:35:08.940Z"
   },
   {
    "duration": 2341,
    "start_time": "2022-05-13T06:35:11.965Z"
   },
   {
    "duration": 86388,
    "start_time": "2022-05-13T11:20:43.851Z"
   },
   {
    "duration": 2358,
    "start_time": "2022-05-13T11:22:46.308Z"
   },
   {
    "duration": 121,
    "start_time": "2022-05-13T11:31:49.348Z"
   },
   {
    "duration": 54,
    "start_time": "2022-05-13T11:40:44.498Z"
   },
   {
    "duration": 3526,
    "start_time": "2022-05-13T11:41:07.354Z"
   },
   {
    "duration": 48,
    "start_time": "2022-05-13T11:41:14.050Z"
   },
   {
    "duration": 12,
    "start_time": "2022-05-13T11:41:56.329Z"
   },
   {
    "duration": 12,
    "start_time": "2022-05-13T11:42:05.249Z"
   },
   {
    "duration": 11,
    "start_time": "2022-05-13T11:42:10.680Z"
   },
   {
    "duration": 10,
    "start_time": "2022-05-13T11:43:36.184Z"
   },
   {
    "duration": 11,
    "start_time": "2022-05-13T11:43:41.167Z"
   },
   {
    "duration": 10,
    "start_time": "2022-05-13T11:43:48.031Z"
   },
   {
    "duration": 11,
    "start_time": "2022-05-13T11:43:55.399Z"
   },
   {
    "duration": 11,
    "start_time": "2022-05-13T11:44:06.968Z"
   },
   {
    "duration": 12,
    "start_time": "2022-05-13T11:44:33.999Z"
   },
   {
    "duration": 12,
    "start_time": "2022-05-13T11:45:36.157Z"
   },
   {
    "duration": 11,
    "start_time": "2022-05-13T11:45:46.510Z"
   },
   {
    "duration": 12,
    "start_time": "2022-05-13T11:45:51.597Z"
   },
   {
    "duration": 12,
    "start_time": "2022-05-13T11:45:58.461Z"
   },
   {
    "duration": 12,
    "start_time": "2022-05-13T11:46:04.143Z"
   },
   {
    "duration": 17,
    "start_time": "2022-05-13T11:46:09.686Z"
   },
   {
    "duration": 13,
    "start_time": "2022-05-13T11:46:16.557Z"
   },
   {
    "duration": 10,
    "start_time": "2022-05-13T11:46:36.694Z"
   },
   {
    "duration": 28,
    "start_time": "2022-05-13T11:47:41.932Z"
   },
   {
    "duration": 45,
    "start_time": "2022-05-13T12:00:58.128Z"
   },
   {
    "duration": 52,
    "start_time": "2022-05-13T12:54:42.964Z"
   },
   {
    "duration": 11,
    "start_time": "2022-05-13T13:00:00.715Z"
   },
   {
    "duration": 10,
    "start_time": "2022-05-13T13:00:30.682Z"
   },
   {
    "duration": 12,
    "start_time": "2022-05-13T13:00:45.475Z"
   },
   {
    "duration": 44,
    "start_time": "2022-05-13T13:11:57.484Z"
   },
   {
    "duration": 38,
    "start_time": "2022-05-13T13:12:18.105Z"
   },
   {
    "duration": 45,
    "start_time": "2022-05-13T13:12:25.747Z"
   },
   {
    "duration": 56,
    "start_time": "2022-05-13T13:13:19.835Z"
   },
   {
    "duration": 43,
    "start_time": "2022-05-13T13:14:28.286Z"
   },
   {
    "duration": 52,
    "start_time": "2022-05-13T13:14:42.089Z"
   },
   {
    "duration": 1694,
    "start_time": "2022-06-02T12:05:00.895Z"
   },
   {
    "duration": 315,
    "start_time": "2022-06-02T12:05:05.401Z"
   },
   {
    "duration": 282,
    "start_time": "2022-06-02T12:05:09.017Z"
   },
   {
    "duration": 131,
    "start_time": "2022-06-02T12:05:13.332Z"
   },
   {
    "duration": 108,
    "start_time": "2022-06-02T12:05:16.409Z"
   },
   {
    "duration": 90,
    "start_time": "2022-06-02T12:05:48.577Z"
   },
   {
    "duration": 90,
    "start_time": "2022-06-02T12:06:12.585Z"
   },
   {
    "duration": 114,
    "start_time": "2022-06-02T12:12:11.088Z"
   },
   {
    "duration": 141,
    "start_time": "2022-06-02T12:12:16.378Z"
   },
   {
    "duration": 61,
    "start_time": "2022-06-02T12:17:27.988Z"
   },
   {
    "duration": 118,
    "start_time": "2022-06-02T12:17:39.151Z"
   },
   {
    "duration": 50,
    "start_time": "2022-06-02T12:17:49.934Z"
   },
   {
    "duration": 159,
    "start_time": "2022-06-02T12:19:27.150Z"
   },
   {
    "duration": 7,
    "start_time": "2022-06-02T12:22:48.951Z"
   },
   {
    "duration": 233,
    "start_time": "2022-06-02T12:22:51.411Z"
   },
   {
    "duration": 239,
    "start_time": "2022-06-02T12:22:54.924Z"
   },
   {
    "duration": 172,
    "start_time": "2022-06-02T12:22:59.151Z"
   },
   {
    "duration": 108,
    "start_time": "2022-06-02T12:23:01.782Z"
   },
   {
    "duration": 92,
    "start_time": "2022-06-02T12:23:04.688Z"
   },
   {
    "duration": 148,
    "start_time": "2022-06-02T12:23:06.652Z"
   },
   {
    "duration": 25,
    "start_time": "2022-06-02T12:23:37.776Z"
   },
   {
    "duration": 27,
    "start_time": "2022-06-02T12:23:43.393Z"
   },
   {
    "duration": 128,
    "start_time": "2022-06-02T12:23:59.668Z"
   },
   {
    "duration": 8,
    "start_time": "2022-06-02T12:24:04.995Z"
   },
   {
    "duration": 14,
    "start_time": "2022-06-02T12:25:55.173Z"
   },
   {
    "duration": 28,
    "start_time": "2022-06-02T12:28:28.984Z"
   },
   {
    "duration": 34,
    "start_time": "2022-06-02T12:28:35.617Z"
   },
   {
    "duration": 46,
    "start_time": "2022-06-02T12:30:16.808Z"
   },
   {
    "duration": 30,
    "start_time": "2022-06-02T12:30:24.709Z"
   },
   {
    "duration": 23,
    "start_time": "2022-06-02T12:30:43.851Z"
   },
   {
    "duration": 14,
    "start_time": "2022-06-02T12:31:32.280Z"
   },
   {
    "duration": 14,
    "start_time": "2022-06-02T12:31:50.799Z"
   },
   {
    "duration": 1085,
    "start_time": "2022-06-02T12:32:01.526Z"
   },
   {
    "duration": 501,
    "start_time": "2022-06-02T12:32:18.688Z"
   },
   {
    "duration": 11,
    "start_time": "2022-06-02T12:32:24.296Z"
   },
   {
    "duration": 243,
    "start_time": "2022-06-02T12:32:27.823Z"
   },
   {
    "duration": 185,
    "start_time": "2022-06-02T12:32:42.691Z"
   },
   {
    "duration": 210,
    "start_time": "2022-06-02T12:32:49.390Z"
   },
   {
    "duration": 8,
    "start_time": "2022-06-02T12:32:57.380Z"
   },
   {
    "duration": 268,
    "start_time": "2022-06-02T12:33:02.312Z"
   },
   {
    "duration": 14,
    "start_time": "2022-06-02T12:33:12.580Z"
   },
   {
    "duration": 14,
    "start_time": "2022-06-02T12:33:15.384Z"
   },
   {
    "duration": 323,
    "start_time": "2022-06-02T12:33:18.898Z"
   },
   {
    "duration": 22,
    "start_time": "2022-06-02T12:33:23.493Z"
   },
   {
    "duration": 13,
    "start_time": "2022-06-02T12:33:29.576Z"
   },
   {
    "duration": 12,
    "start_time": "2022-06-02T12:33:32.116Z"
   },
   {
    "duration": 26,
    "start_time": "2022-06-02T12:33:36.543Z"
   },
   {
    "duration": 28,
    "start_time": "2022-06-02T12:33:42.759Z"
   },
   {
    "duration": 21,
    "start_time": "2022-06-02T12:33:50.876Z"
   },
   {
    "duration": 16,
    "start_time": "2022-06-02T12:34:05.998Z"
   },
   {
    "duration": 11,
    "start_time": "2022-06-02T12:34:29.452Z"
   },
   {
    "duration": 24,
    "start_time": "2022-06-02T12:34:42.357Z"
   },
   {
    "duration": 22,
    "start_time": "2022-06-02T12:34:57.347Z"
   },
   {
    "duration": 10,
    "start_time": "2022-06-02T12:35:14.084Z"
   },
   {
    "duration": 25,
    "start_time": "2022-06-02T12:35:16.688Z"
   },
   {
    "duration": 15,
    "start_time": "2022-06-02T12:35:25.090Z"
   },
   {
    "duration": 11,
    "start_time": "2022-06-02T12:35:27.376Z"
   },
   {
    "duration": 7,
    "start_time": "2022-06-02T12:35:30.448Z"
   },
   {
    "duration": 10,
    "start_time": "2022-06-02T12:35:33.296Z"
   },
   {
    "duration": 6,
    "start_time": "2022-06-02T12:35:37.684Z"
   },
   {
    "duration": 15,
    "start_time": "2022-06-02T12:35:40.140Z"
   },
   {
    "duration": 921,
    "start_time": "2022-06-02T12:35:53.318Z"
   },
   {
    "duration": 1107,
    "start_time": "2022-06-02T12:36:00.794Z"
   },
   {
    "duration": 5,
    "start_time": "2022-06-02T12:36:35.968Z"
   },
   {
    "duration": 17,
    "start_time": "2022-06-02T12:36:38.780Z"
   },
   {
    "duration": 1312,
    "start_time": "2022-06-02T12:36:45.955Z"
   },
   {
    "duration": 316,
    "start_time": "2022-06-02T12:37:02.696Z"
   },
   {
    "duration": 197774,
    "start_time": "2022-06-02T12:37:45.479Z"
   },
   {
    "duration": 0,
    "start_time": "2022-06-02T12:41:03.256Z"
   },
   {
    "duration": 184,
    "start_time": "2022-06-02T13:03:45.793Z"
   },
   {
    "duration": 163,
    "start_time": "2022-06-02T13:03:53.527Z"
   },
   {
    "duration": 217,
    "start_time": "2022-06-02T13:04:33.476Z"
   },
   {
    "duration": 151,
    "start_time": "2022-06-02T13:05:39.580Z"
   },
   {
    "duration": 229,
    "start_time": "2022-06-02T13:05:58.190Z"
   },
   {
    "duration": 221,
    "start_time": "2022-06-02T13:09:23.098Z"
   },
   {
    "duration": 213,
    "start_time": "2022-06-02T13:10:22.517Z"
   },
   {
    "duration": 234,
    "start_time": "2022-06-02T13:10:42.036Z"
   },
   {
    "duration": 38,
    "start_time": "2022-06-02T13:11:04.353Z"
   },
   {
    "duration": 171,
    "start_time": "2022-06-02T13:11:14.837Z"
   },
   {
    "duration": 176,
    "start_time": "2022-06-02T13:11:36.435Z"
   },
   {
    "duration": 59,
    "start_time": "2022-06-02T13:17:45.985Z"
   },
   {
    "duration": 159,
    "start_time": "2022-06-02T13:17:53.877Z"
   },
   {
    "duration": 313,
    "start_time": "2022-06-02T13:18:24.386Z"
   },
   {
    "duration": 391,
    "start_time": "2022-06-02T13:24:11.319Z"
   },
   {
    "duration": 256,
    "start_time": "2022-06-02T13:24:18.394Z"
   },
   {
    "duration": 231,
    "start_time": "2022-06-02T13:24:29.436Z"
   },
   {
    "duration": 271,
    "start_time": "2022-06-02T13:24:35.848Z"
   },
   {
    "duration": 233,
    "start_time": "2022-06-02T13:24:53.792Z"
   },
   {
    "duration": 268,
    "start_time": "2022-06-02T13:25:02.163Z"
   },
   {
    "duration": 277,
    "start_time": "2022-06-02T13:25:31.843Z"
   },
   {
    "duration": 249,
    "start_time": "2022-06-02T13:25:39.592Z"
   },
   {
    "duration": 271,
    "start_time": "2022-06-02T13:25:56.391Z"
   },
   {
    "duration": 263,
    "start_time": "2022-06-02T13:26:17.591Z"
   },
   {
    "duration": 268,
    "start_time": "2022-06-02T13:26:35.305Z"
   },
   {
    "duration": 304,
    "start_time": "2022-06-02T13:27:31.708Z"
   },
   {
    "duration": 189,
    "start_time": "2022-06-02T13:27:49.623Z"
   },
   {
    "duration": 364,
    "start_time": "2022-06-02T13:28:06.237Z"
   },
   {
    "duration": 285,
    "start_time": "2022-06-02T13:28:57.919Z"
   },
   {
    "duration": 336,
    "start_time": "2022-06-02T13:30:23.403Z"
   },
   {
    "duration": 266,
    "start_time": "2022-06-02T13:30:48.707Z"
   },
   {
    "duration": 9,
    "start_time": "2022-06-02T13:31:09.932Z"
   },
   {
    "duration": 230,
    "start_time": "2022-06-02T13:31:12.766Z"
   },
   {
    "duration": 254,
    "start_time": "2022-06-02T13:32:22.608Z"
   },
   {
    "duration": 272,
    "start_time": "2022-06-02T13:33:05.914Z"
   },
   {
    "duration": 250,
    "start_time": "2022-06-02T13:33:38.758Z"
   },
   {
    "duration": 261,
    "start_time": "2022-06-02T13:34:00.706Z"
   },
   {
    "duration": 380,
    "start_time": "2022-06-02T13:34:33.761Z"
   },
   {
    "duration": 9,
    "start_time": "2022-06-02T13:37:40.326Z"
   },
   {
    "duration": 8,
    "start_time": "2022-06-02T13:44:03.652Z"
   },
   {
    "duration": 20,
    "start_time": "2022-06-02T13:44:04.035Z"
   },
   {
    "duration": 19,
    "start_time": "2022-06-02T13:44:04.443Z"
   },
   {
    "duration": 23,
    "start_time": "2022-06-02T13:44:04.833Z"
   },
   {
    "duration": 13,
    "start_time": "2022-06-02T13:44:10.153Z"
   },
   {
    "duration": 13,
    "start_time": "2022-06-02T13:44:10.554Z"
   },
   {
    "duration": 378,
    "start_time": "2022-06-02T13:44:17.507Z"
   },
   {
    "duration": 1406,
    "start_time": "2022-06-02T13:44:38.554Z"
   },
   {
    "duration": 279,
    "start_time": "2022-06-02T13:44:39.962Z"
   },
   {
    "duration": 177,
    "start_time": "2022-06-02T13:44:40.242Z"
   },
   {
    "duration": 139,
    "start_time": "2022-06-02T13:44:40.421Z"
   },
   {
    "duration": 100,
    "start_time": "2022-06-02T13:44:40.562Z"
   },
   {
    "duration": 103,
    "start_time": "2022-06-02T13:44:40.664Z"
   },
   {
    "duration": 174,
    "start_time": "2022-06-02T13:44:40.769Z"
   },
   {
    "duration": 23,
    "start_time": "2022-06-02T13:44:40.945Z"
   },
   {
    "duration": 7,
    "start_time": "2022-06-02T13:44:40.969Z"
   },
   {
    "duration": 48,
    "start_time": "2022-06-02T13:44:40.978Z"
   },
   {
    "duration": 21,
    "start_time": "2022-06-02T13:44:41.029Z"
   },
   {
    "duration": 25,
    "start_time": "2022-06-02T13:44:41.052Z"
   },
   {
    "duration": 49,
    "start_time": "2022-06-02T13:44:41.079Z"
   },
   {
    "duration": 17,
    "start_time": "2022-06-02T13:44:41.129Z"
   },
   {
    "duration": 567,
    "start_time": "2022-06-02T13:44:48.680Z"
   },
   {
    "duration": 5,
    "start_time": "2022-06-02T13:45:45.372Z"
   },
   {
    "duration": 482,
    "start_time": "2022-06-02T13:46:22.137Z"
   },
   {
    "duration": 14,
    "start_time": "2022-06-02T13:46:25.768Z"
   },
   {
    "duration": 218,
    "start_time": "2022-06-02T13:46:30.529Z"
   },
   {
    "duration": 263,
    "start_time": "2022-06-02T13:47:05.315Z"
   },
   {
    "duration": 247,
    "start_time": "2022-06-02T13:47:37.392Z"
   },
   {
    "duration": 16,
    "start_time": "2022-06-02T13:47:55.389Z"
   },
   {
    "duration": 16,
    "start_time": "2022-06-02T13:47:59.435Z"
   },
   {
    "duration": 307,
    "start_time": "2022-06-02T13:48:04.014Z"
   },
   {
    "duration": 22,
    "start_time": "2022-06-02T13:48:59.254Z"
   },
   {
    "duration": 13,
    "start_time": "2022-06-02T13:49:07.993Z"
   },
   {
    "duration": 12,
    "start_time": "2022-06-02T13:49:10.456Z"
   },
   {
    "duration": 24,
    "start_time": "2022-06-02T13:49:31.424Z"
   },
   {
    "duration": 24,
    "start_time": "2022-06-02T13:50:46.137Z"
   },
   {
    "duration": 36,
    "start_time": "2022-06-02T13:53:29.955Z"
   },
   {
    "duration": 1599,
    "start_time": "2022-06-02T13:54:46.807Z"
   },
   {
    "duration": 1739,
    "start_time": "2022-06-02T13:54:54.701Z"
   },
   {
    "duration": 1767,
    "start_time": "2022-06-02T13:55:09.592Z"
   },
   {
    "duration": 1674,
    "start_time": "2022-06-02T13:55:18.827Z"
   },
   {
    "duration": 1942,
    "start_time": "2022-06-02T17:31:51.763Z"
   },
   {
    "duration": 471,
    "start_time": "2022-06-02T17:31:53.708Z"
   },
   {
    "duration": 577,
    "start_time": "2022-06-02T17:31:55.356Z"
   },
   {
    "duration": 210,
    "start_time": "2022-06-02T17:31:58.511Z"
   },
   {
    "duration": 134,
    "start_time": "2022-06-02T17:31:59.374Z"
   },
   {
    "duration": 153,
    "start_time": "2022-06-02T17:32:00.858Z"
   },
   {
    "duration": 221,
    "start_time": "2022-06-02T17:32:03.074Z"
   },
   {
    "duration": 24,
    "start_time": "2022-06-02T17:32:07.076Z"
   },
   {
    "duration": 12,
    "start_time": "2022-06-02T17:32:11.973Z"
   },
   {
    "duration": 24,
    "start_time": "2022-06-02T17:32:12.587Z"
   },
   {
    "duration": 28,
    "start_time": "2022-06-02T17:32:13.053Z"
   },
   {
    "duration": 32,
    "start_time": "2022-06-02T17:32:13.458Z"
   },
   {
    "duration": 31,
    "start_time": "2022-06-02T17:32:14.630Z"
   },
   {
    "duration": 17,
    "start_time": "2022-06-02T17:32:14.962Z"
   },
   {
    "duration": 810,
    "start_time": "2022-06-02T17:32:16.500Z"
   },
   {
    "duration": 794,
    "start_time": "2022-06-02T17:32:17.663Z"
   },
   {
    "duration": 15,
    "start_time": "2022-06-02T17:32:19.394Z"
   },
   {
    "duration": 325,
    "start_time": "2022-06-02T17:32:20.553Z"
   },
   {
    "duration": 424,
    "start_time": "2022-06-02T17:32:22.900Z"
   },
   {
    "duration": 384,
    "start_time": "2022-06-02T17:32:27.769Z"
   },
   {
    "duration": 25,
    "start_time": "2022-06-02T17:32:29.181Z"
   },
   {
    "duration": 23,
    "start_time": "2022-06-02T17:32:29.977Z"
   },
   {
    "duration": 311,
    "start_time": "2022-06-02T17:32:30.693Z"
   },
   {
    "duration": 38,
    "start_time": "2022-06-02T17:32:33.464Z"
   },
   {
    "duration": 16,
    "start_time": "2022-06-02T17:32:34.737Z"
   },
   {
    "duration": 13,
    "start_time": "2022-06-02T17:32:35.320Z"
   },
   {
    "duration": 33,
    "start_time": "2022-06-02T17:32:36.810Z"
   },
   {
    "duration": 41,
    "start_time": "2022-06-02T17:32:38.055Z"
   },
   {
    "duration": 28,
    "start_time": "2022-06-02T17:32:40.108Z"
   },
   {
    "duration": 15,
    "start_time": "2022-06-02T17:32:41.112Z"
   },
   {
    "duration": 15,
    "start_time": "2022-06-02T17:32:41.479Z"
   },
   {
    "duration": 30,
    "start_time": "2022-06-02T17:32:42.963Z"
   },
   {
    "duration": 23,
    "start_time": "2022-06-02T17:32:43.965Z"
   },
   {
    "duration": 16,
    "start_time": "2022-06-02T17:32:44.368Z"
   },
   {
    "duration": 149,
    "start_time": "2022-06-02T17:32:44.960Z"
   },
   {
    "duration": 15,
    "start_time": "2022-06-02T17:32:46.073Z"
   },
   {
    "duration": 11,
    "start_time": "2022-06-02T17:32:46.499Z"
   },
   {
    "duration": 7,
    "start_time": "2022-06-02T17:32:47.508Z"
   },
   {
    "duration": 13,
    "start_time": "2022-06-02T17:32:48.007Z"
   },
   {
    "duration": 12,
    "start_time": "2022-06-02T17:32:48.461Z"
   },
   {
    "duration": 12,
    "start_time": "2022-06-02T17:32:49.608Z"
   },
   {
    "duration": 930,
    "start_time": "2022-06-02T17:32:55.894Z"
   },
   {
    "duration": 1211,
    "start_time": "2022-06-02T17:32:58.058Z"
   },
   {
    "duration": 7,
    "start_time": "2022-06-02T17:33:02.215Z"
   },
   {
    "duration": 18,
    "start_time": "2022-06-02T17:33:37.774Z"
   },
   {
    "duration": 138,
    "start_time": "2022-06-02T17:33:39.160Z"
   },
   {
    "duration": 1191,
    "start_time": "2022-06-02T17:33:47.587Z"
   },
   {
    "duration": 16,
    "start_time": "2022-06-02T17:35:03.683Z"
   },
   {
    "duration": 418,
    "start_time": "2022-06-02T17:35:11.743Z"
   },
   {
    "duration": 202769,
    "start_time": "2022-06-02T17:35:15.067Z"
   },
   {
    "duration": 13946,
    "start_time": "2022-06-02T17:40:09.413Z"
   },
   {
    "duration": 172646,
    "start_time": "2022-06-02T17:40:33.784Z"
   },
   {
    "duration": 6537,
    "start_time": "2022-06-02T17:44:08.663Z"
   },
   {
    "duration": 58807,
    "start_time": "2022-06-02T17:44:27.504Z"
   },
   {
    "duration": 9,
    "start_time": "2022-06-02T17:45:59.058Z"
   },
   {
    "duration": 191880,
    "start_time": "2022-06-02T17:49:25.388Z"
   },
   {
    "duration": 1230707,
    "start_time": "2022-06-02T17:52:44.548Z"
   },
   {
    "duration": 217577,
    "start_time": "2022-06-02T18:13:44.910Z"
   },
   {
    "duration": 152956,
    "start_time": "2022-06-02T18:18:23.773Z"
   },
   {
    "duration": 46595,
    "start_time": "2022-06-02T18:21:04.551Z"
   },
   {
    "duration": 35476,
    "start_time": "2022-06-02T18:22:03.284Z"
   },
   {
    "duration": 127,
    "start_time": "2022-06-02T18:22:44.998Z"
   },
   {
    "duration": 457,
    "start_time": "2022-06-02T18:22:48.768Z"
   },
   {
    "duration": 6,
    "start_time": "2022-06-02T18:22:53.577Z"
   },
   {
    "duration": 8521,
    "start_time": "2022-06-02T18:22:55.286Z"
   },
   {
    "duration": 540,
    "start_time": "2022-06-02T18:25:30.565Z"
   },
   {
    "duration": 719,
    "start_time": "2022-06-02T18:25:36.266Z"
   },
   {
    "duration": 109,
    "start_time": "2022-06-02T18:25:47.794Z"
   },
   {
    "duration": 420,
    "start_time": "2022-06-02T18:25:50.680Z"
   },
   {
    "duration": 36,
    "start_time": "2022-06-02T18:32:47.527Z"
   },
   {
    "duration": 57,
    "start_time": "2022-06-03T06:40:44.777Z"
   },
   {
    "duration": 1594,
    "start_time": "2022-06-03T06:40:55.607Z"
   },
   {
    "duration": 322,
    "start_time": "2022-06-03T06:40:58.959Z"
   },
   {
    "duration": 260,
    "start_time": "2022-06-03T06:40:59.687Z"
   },
   {
    "duration": 157,
    "start_time": "2022-06-03T06:41:01.223Z"
   },
   {
    "duration": 102,
    "start_time": "2022-06-03T06:41:02.011Z"
   },
   {
    "duration": 94,
    "start_time": "2022-06-03T06:41:02.659Z"
   },
   {
    "duration": 152,
    "start_time": "2022-06-03T06:41:04.181Z"
   },
   {
    "duration": 23,
    "start_time": "2022-06-03T06:41:07.650Z"
   },
   {
    "duration": 6,
    "start_time": "2022-06-03T06:41:09.111Z"
   },
   {
    "duration": 22,
    "start_time": "2022-06-03T06:41:09.703Z"
   },
   {
    "duration": 19,
    "start_time": "2022-06-03T06:41:10.108Z"
   },
   {
    "duration": 22,
    "start_time": "2022-06-03T06:41:10.507Z"
   },
   {
    "duration": 14,
    "start_time": "2022-06-03T06:41:11.603Z"
   },
   {
    "duration": 14,
    "start_time": "2022-06-03T06:41:12.130Z"
   },
   {
    "duration": 559,
    "start_time": "2022-06-03T06:41:14.061Z"
   },
   {
    "duration": 483,
    "start_time": "2022-06-03T06:41:15.706Z"
   },
   {
    "duration": 11,
    "start_time": "2022-06-03T06:41:17.081Z"
   },
   {
    "duration": 209,
    "start_time": "2022-06-03T06:41:18.018Z"
   },
   {
    "duration": 251,
    "start_time": "2022-06-03T06:41:21.618Z"
   },
   {
    "duration": 317,
    "start_time": "2022-06-03T06:41:26.119Z"
   },
   {
    "duration": 14,
    "start_time": "2022-06-03T06:41:27.515Z"
   },
   {
    "duration": 21,
    "start_time": "2022-06-03T06:41:29.264Z"
   },
   {
    "duration": 195,
    "start_time": "2022-06-03T06:41:29.756Z"
   },
   {
    "duration": 22,
    "start_time": "2022-06-03T06:41:30.916Z"
   },
   {
    "duration": 17,
    "start_time": "2022-06-03T06:41:31.860Z"
   },
   {
    "duration": 12,
    "start_time": "2022-06-03T06:41:32.358Z"
   },
   {
    "duration": 20,
    "start_time": "2022-06-03T06:41:33.911Z"
   },
   {
    "duration": 25,
    "start_time": "2022-06-03T06:41:34.749Z"
   },
   {
    "duration": 20,
    "start_time": "2022-06-03T06:41:35.934Z"
   },
   {
    "duration": 28,
    "start_time": "2022-06-03T06:41:36.757Z"
   },
   {
    "duration": 13,
    "start_time": "2022-06-03T06:41:37.502Z"
   },
   {
    "duration": 11,
    "start_time": "2022-06-03T06:41:37.819Z"
   },
   {
    "duration": 20,
    "start_time": "2022-06-03T06:41:39.106Z"
   },
   {
    "duration": 11,
    "start_time": "2022-06-03T06:41:40.115Z"
   },
   {
    "duration": 9,
    "start_time": "2022-06-03T06:41:40.622Z"
   },
   {
    "duration": 20,
    "start_time": "2022-06-03T06:41:41.178Z"
   },
   {
    "duration": 11,
    "start_time": "2022-06-03T06:41:42.707Z"
   },
   {
    "duration": 11,
    "start_time": "2022-06-03T06:41:43.227Z"
   },
   {
    "duration": 6,
    "start_time": "2022-06-03T06:41:44.281Z"
   },
   {
    "duration": 11,
    "start_time": "2022-06-03T06:41:44.758Z"
   },
   {
    "duration": 5,
    "start_time": "2022-06-03T06:41:45.180Z"
   },
   {
    "duration": 10,
    "start_time": "2022-06-03T06:41:45.599Z"
   },
   {
    "duration": 884,
    "start_time": "2022-06-03T06:41:49.910Z"
   },
   {
    "duration": 980,
    "start_time": "2022-06-03T06:41:51.845Z"
   },
   {
    "duration": 5,
    "start_time": "2022-06-03T06:41:53.425Z"
   },
   {
    "duration": 15,
    "start_time": "2022-06-03T06:41:55.811Z"
   },
   {
    "duration": 1001,
    "start_time": "2022-06-03T06:41:57.558Z"
   },
   {
    "duration": 5,
    "start_time": "2022-06-03T06:44:21.456Z"
   },
   {
    "duration": 11,
    "start_time": "2022-06-03T06:45:01.421Z"
   },
   {
    "duration": 11,
    "start_time": "2022-06-03T06:47:24.185Z"
   },
   {
    "duration": 402,
    "start_time": "2022-06-03T06:48:05.761Z"
   },
   {
    "duration": 141,
    "start_time": "2022-06-03T06:48:11.939Z"
   },
   {
    "duration": 252320,
    "start_time": "2022-06-03T06:48:58.753Z"
   },
   {
    "duration": 7294,
    "start_time": "2022-06-03T06:53:38.389Z"
   },
   {
    "duration": 38509,
    "start_time": "2022-06-03T06:53:56.780Z"
   },
   {
    "duration": 28,
    "start_time": "2022-06-03T06:56:03.427Z"
   },
   {
    "duration": 30,
    "start_time": "2022-06-03T06:56:24.624Z"
   },
   {
    "duration": 140,
    "start_time": "2022-06-03T06:57:24.132Z"
   },
   {
    "duration": 641,
    "start_time": "2022-06-03T06:58:35.303Z"
   },
   {
    "duration": 597,
    "start_time": "2022-06-03T06:59:28.356Z"
   },
   {
    "duration": 514,
    "start_time": "2022-06-03T06:59:32.123Z"
   },
   {
    "duration": 457,
    "start_time": "2022-06-03T06:59:35.015Z"
   },
   {
    "duration": 400,
    "start_time": "2022-06-03T06:59:37.858Z"
   },
   {
    "duration": 335,
    "start_time": "2022-06-03T06:59:40.656Z"
   },
   {
    "duration": 348,
    "start_time": "2022-06-03T06:59:50.607Z"
   },
   {
    "duration": 690,
    "start_time": "2022-06-03T06:59:55.611Z"
   },
   {
    "duration": 3407,
    "start_time": "2022-06-03T06:59:59.107Z"
   },
   {
    "duration": 33347,
    "start_time": "2022-06-03T07:00:22.381Z"
   },
   {
    "duration": 4,
    "start_time": "2022-06-03T07:01:19.937Z"
   },
   {
    "duration": 6600,
    "start_time": "2022-06-03T07:02:50.813Z"
   },
   {
    "duration": 64473,
    "start_time": "2022-06-03T07:03:01.081Z"
   },
   {
    "duration": 3,
    "start_time": "2022-06-03T07:05:13.418Z"
   },
   {
    "duration": 1663,
    "start_time": "2022-06-03T10:10:27.392Z"
   },
   {
    "duration": 332,
    "start_time": "2022-06-03T10:10:29.057Z"
   },
   {
    "duration": 304,
    "start_time": "2022-06-03T10:10:29.392Z"
   },
   {
    "duration": 151,
    "start_time": "2022-06-03T10:10:29.702Z"
   },
   {
    "duration": 117,
    "start_time": "2022-06-03T10:10:29.855Z"
   },
   {
    "duration": 111,
    "start_time": "2022-06-03T10:10:29.974Z"
   },
   {
    "duration": 182,
    "start_time": "2022-06-03T10:10:30.892Z"
   },
   {
    "duration": 23,
    "start_time": "2022-06-03T10:10:33.579Z"
   },
   {
    "duration": 7,
    "start_time": "2022-06-03T10:10:34.318Z"
   },
   {
    "duration": 20,
    "start_time": "2022-06-03T10:10:34.745Z"
   },
   {
    "duration": 19,
    "start_time": "2022-06-03T10:10:35.032Z"
   },
   {
    "duration": 23,
    "start_time": "2022-06-03T10:10:35.247Z"
   },
   {
    "duration": 17,
    "start_time": "2022-06-03T10:10:36.017Z"
   },
   {
    "duration": 14,
    "start_time": "2022-06-03T10:10:36.258Z"
   },
   {
    "duration": 546,
    "start_time": "2022-06-03T10:10:37.352Z"
   },
   {
    "duration": 501,
    "start_time": "2022-06-03T10:10:40.783Z"
   },
   {
    "duration": 22,
    "start_time": "2022-06-03T10:10:41.286Z"
   },
   {
    "duration": 214,
    "start_time": "2022-06-03T10:10:42.143Z"
   },
   {
    "duration": 298,
    "start_time": "2022-06-03T10:10:43.893Z"
   },
   {
    "duration": 245,
    "start_time": "2022-06-03T10:10:46.456Z"
   },
   {
    "duration": 14,
    "start_time": "2022-06-03T10:10:47.463Z"
   },
   {
    "duration": 14,
    "start_time": "2022-06-03T10:10:47.956Z"
   },
   {
    "duration": 292,
    "start_time": "2022-06-03T10:10:48.451Z"
   },
   {
    "duration": 23,
    "start_time": "2022-06-03T10:10:49.832Z"
   },
   {
    "duration": 11,
    "start_time": "2022-06-03T10:10:50.853Z"
   },
   {
    "duration": 10,
    "start_time": "2022-06-03T10:10:51.482Z"
   },
   {
    "duration": 22,
    "start_time": "2022-06-03T10:10:52.816Z"
   },
   {
    "duration": 20,
    "start_time": "2022-06-03T10:10:54.156Z"
   },
   {
    "duration": 20,
    "start_time": "2022-06-03T10:10:55.941Z"
   },
   {
    "duration": 29,
    "start_time": "2022-06-03T10:10:57.594Z"
   },
   {
    "duration": 12,
    "start_time": "2022-06-03T10:10:59.247Z"
   },
   {
    "duration": 11,
    "start_time": "2022-06-03T10:11:04.939Z"
   },
   {
    "duration": 22,
    "start_time": "2022-06-03T10:11:05.934Z"
   },
   {
    "duration": 11,
    "start_time": "2022-06-03T10:11:06.753Z"
   },
   {
    "duration": 10,
    "start_time": "2022-06-03T10:11:07.036Z"
   },
   {
    "duration": 23,
    "start_time": "2022-06-03T10:11:07.512Z"
   },
   {
    "duration": 18,
    "start_time": "2022-06-03T10:11:08.408Z"
   },
   {
    "duration": 13,
    "start_time": "2022-06-03T10:11:08.854Z"
   },
   {
    "duration": 5,
    "start_time": "2022-06-03T10:11:09.719Z"
   },
   {
    "duration": 9,
    "start_time": "2022-06-03T10:11:10.148Z"
   },
   {
    "duration": 5,
    "start_time": "2022-06-03T10:11:10.538Z"
   },
   {
    "duration": 8,
    "start_time": "2022-06-03T10:11:10.931Z"
   },
   {
    "duration": 813,
    "start_time": "2022-06-03T10:11:13.780Z"
   },
   {
    "duration": 1054,
    "start_time": "2022-06-03T10:11:14.596Z"
   },
   {
    "duration": 4,
    "start_time": "2022-06-03T10:11:15.652Z"
   },
   {
    "duration": 16,
    "start_time": "2022-06-03T10:11:17.063Z"
   },
   {
    "duration": 1006,
    "start_time": "2022-06-03T10:11:17.575Z"
   },
   {
    "duration": 3,
    "start_time": "2022-06-03T10:11:21.078Z"
   },
   {
    "duration": 12,
    "start_time": "2022-06-03T10:11:23.139Z"
   },
   {
    "duration": 525,
    "start_time": "2022-06-03T10:11:25.945Z"
   },
   {
    "duration": 707462,
    "start_time": "2022-06-03T10:11:35.554Z"
   },
   {
    "duration": 118,
    "start_time": "2022-06-03T10:25:57.880Z"
   },
   {
    "duration": 24159,
    "start_time": "2022-06-03T10:26:07.320Z"
   },
   {
    "duration": 30,
    "start_time": "2022-06-03T10:27:55.819Z"
   },
   {
    "duration": 769,
    "start_time": "2022-06-03T10:28:20.359Z"
   },
   {
    "duration": 132,
    "start_time": "2022-06-03T10:28:36.366Z"
   },
   {
    "duration": 731,
    "start_time": "2022-06-03T10:29:02.539Z"
   },
   {
    "duration": 732,
    "start_time": "2022-06-03T10:29:07.910Z"
   },
   {
    "duration": 32,
    "start_time": "2022-06-03T10:29:41.281Z"
   },
   {
    "duration": 72921,
    "start_time": "2022-06-03T10:30:04.062Z"
   },
   {
    "duration": 2,
    "start_time": "2022-06-03T10:31:55.064Z"
   },
   {
    "duration": 7942,
    "start_time": "2022-06-03T10:32:06.246Z"
   },
   {
    "duration": 4,
    "start_time": "2022-06-03T10:35:44.451Z"
   },
   {
    "duration": 95038,
    "start_time": "2022-06-03T10:39:09.218Z"
   },
   {
    "duration": 431005,
    "start_time": "2022-06-03T10:41:05.691Z"
   },
   {
    "duration": 5,
    "start_time": "2022-06-03T11:02:06.537Z"
   },
   {
    "duration": 202,
    "start_time": "2022-06-03T11:02:06.907Z"
   },
   {
    "duration": 130,
    "start_time": "2022-06-03T11:02:07.111Z"
   },
   {
    "duration": 140,
    "start_time": "2022-06-03T11:02:07.708Z"
   },
   {
    "duration": 105,
    "start_time": "2022-06-03T11:02:08.020Z"
   },
   {
    "duration": 96,
    "start_time": "2022-06-03T11:02:08.248Z"
   },
   {
    "duration": 153,
    "start_time": "2022-06-03T11:02:09.012Z"
   },
   {
    "duration": 21,
    "start_time": "2022-06-03T11:02:10.526Z"
   },
   {
    "duration": 7,
    "start_time": "2022-06-03T11:02:11.618Z"
   },
   {
    "duration": 30,
    "start_time": "2022-06-03T11:02:11.999Z"
   },
   {
    "duration": 34,
    "start_time": "2022-06-03T11:02:12.407Z"
   },
   {
    "duration": 25,
    "start_time": "2022-06-03T11:02:12.812Z"
   },
   {
    "duration": 19,
    "start_time": "2022-06-03T11:02:13.740Z"
   },
   {
    "duration": 19,
    "start_time": "2022-06-03T11:02:14.169Z"
   },
   {
    "duration": 462,
    "start_time": "2022-06-03T11:02:16.120Z"
   },
   {
    "duration": 501,
    "start_time": "2022-06-03T11:02:17.354Z"
   },
   {
    "duration": 10,
    "start_time": "2022-06-03T11:02:17.856Z"
   },
   {
    "duration": 215,
    "start_time": "2022-06-03T11:02:18.122Z"
   },
   {
    "duration": 280,
    "start_time": "2022-06-03T11:02:18.721Z"
   },
   {
    "duration": 270,
    "start_time": "2022-06-03T11:02:20.512Z"
   },
   {
    "duration": 16,
    "start_time": "2022-06-03T11:02:21.512Z"
   },
   {
    "duration": 16,
    "start_time": "2022-06-03T11:02:22.029Z"
   },
   {
    "duration": 213,
    "start_time": "2022-06-03T11:02:22.466Z"
   },
   {
    "duration": 31,
    "start_time": "2022-06-03T11:02:23.492Z"
   },
   {
    "duration": 15,
    "start_time": "2022-06-03T11:02:24.344Z"
   },
   {
    "duration": 15,
    "start_time": "2022-06-03T11:02:24.783Z"
   },
   {
    "duration": 21,
    "start_time": "2022-06-03T11:02:26.139Z"
   },
   {
    "duration": 36,
    "start_time": "2022-06-03T11:02:26.987Z"
   },
   {
    "duration": 22,
    "start_time": "2022-06-03T11:02:28.019Z"
   },
   {
    "duration": 25,
    "start_time": "2022-06-03T11:02:28.920Z"
   },
   {
    "duration": 14,
    "start_time": "2022-06-03T11:02:29.847Z"
   },
   {
    "duration": 11,
    "start_time": "2022-06-03T11:02:30.318Z"
   },
   {
    "duration": 20,
    "start_time": "2022-06-03T11:02:31.739Z"
   },
   {
    "duration": 12,
    "start_time": "2022-06-03T11:02:32.666Z"
   },
   {
    "duration": 15,
    "start_time": "2022-06-03T11:02:33.015Z"
   },
   {
    "duration": 21,
    "start_time": "2022-06-03T11:02:33.439Z"
   },
   {
    "duration": 13,
    "start_time": "2022-06-03T11:02:34.265Z"
   },
   {
    "duration": 9,
    "start_time": "2022-06-03T11:02:34.518Z"
   },
   {
    "duration": 7,
    "start_time": "2022-06-03T11:02:35.235Z"
   },
   {
    "duration": 10,
    "start_time": "2022-06-03T11:02:35.528Z"
   },
   {
    "duration": 6,
    "start_time": "2022-06-03T11:02:35.869Z"
   },
   {
    "duration": 9,
    "start_time": "2022-06-03T11:02:36.241Z"
   },
   {
    "duration": 825,
    "start_time": "2022-06-03T11:02:37.869Z"
   },
   {
    "duration": 1062,
    "start_time": "2022-06-03T11:02:38.697Z"
   },
   {
    "duration": 4,
    "start_time": "2022-06-03T11:02:39.761Z"
   },
   {
    "duration": 22,
    "start_time": "2022-06-03T11:02:41.683Z"
   },
   {
    "duration": 1034,
    "start_time": "2022-06-03T11:02:42.314Z"
   },
   {
    "duration": 3,
    "start_time": "2022-06-03T11:02:44.240Z"
   },
   {
    "duration": 17,
    "start_time": "2022-06-03T11:02:44.912Z"
   },
   {
    "duration": 474,
    "start_time": "2022-06-03T11:02:45.603Z"
   },
   {
    "duration": 423510,
    "start_time": "2022-06-03T11:02:49.285Z"
   },
   {
    "duration": 20478,
    "start_time": "2022-06-03T11:14:44.819Z"
   },
   {
    "duration": 106355,
    "start_time": "2022-06-03T11:18:01.663Z"
   },
   {
    "duration": 171998,
    "start_time": "2022-06-03T11:21:00.564Z"
   },
   {
    "duration": 347,
    "start_time": "2022-06-03T11:26:02.320Z"
   },
   {
    "duration": 4,
    "start_time": "2022-06-03T11:29:26.282Z"
   },
   {
    "duration": 35817,
    "start_time": "2022-06-03T11:30:52.220Z"
   },
   {
    "duration": 4,
    "start_time": "2022-06-03T11:31:57.857Z"
   },
   {
    "duration": 360,
    "start_time": "2022-06-03T11:32:42.064Z"
   },
   {
    "duration": 72533,
    "start_time": "2022-06-03T11:32:49.573Z"
   },
   {
    "duration": 4,
    "start_time": "2022-06-03T11:34:45.257Z"
   },
   {
    "duration": 574,
    "start_time": "2022-06-03T11:34:47.085Z"
   },
   {
    "duration": 144012,
    "start_time": "2022-06-03T11:34:59.450Z"
   },
   {
    "duration": 8,
    "start_time": "2022-06-03T11:40:20.492Z"
   },
   {
    "duration": 1256,
    "start_time": "2022-06-03T11:40:22.677Z"
   },
   {
    "duration": 31,
    "start_time": "2022-06-03T11:40:38.195Z"
   },
   {
    "duration": 10,
    "start_time": "2022-06-03T11:41:16.931Z"
   },
   {
    "duration": 10,
    "start_time": "2022-06-03T11:41:47.777Z"
   },
   {
    "duration": 5,
    "start_time": "2022-06-03T11:46:40.444Z"
   },
   {
    "duration": 425,
    "start_time": "2022-06-03T11:48:52.630Z"
   },
   {
    "duration": 36,
    "start_time": "2022-06-03T11:49:55.613Z"
   },
   {
    "duration": 18465,
    "start_time": "2022-06-03T11:50:43.308Z"
   },
   {
    "duration": 16123,
    "start_time": "2022-06-03T11:51:05.219Z"
   },
   {
    "duration": 34039,
    "start_time": "2022-06-03T11:51:31.875Z"
   },
   {
    "duration": 5,
    "start_time": "2022-06-03T11:54:02.074Z"
   },
   {
    "duration": 316,
    "start_time": "2022-06-03T11:54:07.369Z"
   },
   {
    "duration": 7,
    "start_time": "2022-06-03T11:56:34.691Z"
   },
   {
    "duration": 4,
    "start_time": "2022-06-03T11:56:48.339Z"
   },
   {
    "duration": 9,
    "start_time": "2022-06-03T11:58:26.711Z"
   },
   {
    "duration": 36,
    "start_time": "2022-06-03T11:59:38.294Z"
   },
   {
    "duration": 19060,
    "start_time": "2022-06-03T11:59:49.611Z"
   },
   {
    "duration": 41,
    "start_time": "2022-06-03T12:00:13.626Z"
   },
   {
    "duration": 164981,
    "start_time": "2022-06-03T12:01:05.461Z"
   },
   {
    "duration": 367,
    "start_time": "2022-06-03T12:04:22.371Z"
   },
   {
    "duration": 333,
    "start_time": "2022-06-03T12:04:45.382Z"
   },
   {
    "duration": 15,
    "start_time": "2022-06-03T12:07:28.320Z"
   },
   {
    "duration": 379830,
    "start_time": "2022-06-03T12:07:33.299Z"
   },
   {
    "duration": 52,
    "start_time": "2022-06-03T12:14:23.146Z"
   },
   {
    "duration": 350,
    "start_time": "2022-06-03T12:16:54.693Z"
   },
   {
    "duration": 4,
    "start_time": "2022-06-03T12:18:27.341Z"
   },
   {
    "duration": 311,
    "start_time": "2022-06-03T12:18:29.009Z"
   },
   {
    "duration": 2,
    "start_time": "2022-06-03T12:18:32.232Z"
   },
   {
    "duration": 5365,
    "start_time": "2022-06-03T12:18:33.281Z"
   },
   {
    "duration": 12,
    "start_time": "2022-06-03T12:23:23.617Z"
   },
   {
    "duration": 12,
    "start_time": "2022-06-03T12:23:37.227Z"
   },
   {
    "duration": 18,
    "start_time": "2022-06-03T12:23:47.309Z"
   },
   {
    "duration": 10,
    "start_time": "2022-06-03T12:25:01.524Z"
   },
   {
    "duration": 66,
    "start_time": "2022-06-03T12:30:32.341Z"
   },
   {
    "duration": 661,
    "start_time": "2022-06-03T12:30:48.993Z"
   },
   {
    "duration": 358,
    "start_time": "2022-06-03T12:31:08.821Z"
   },
   {
    "duration": 987,
    "start_time": "2022-06-03T12:32:12.941Z"
   },
   {
    "duration": 985,
    "start_time": "2022-06-03T12:32:22.538Z"
   },
   {
    "duration": 3654,
    "start_time": "2022-06-03T12:32:48.935Z"
   },
   {
    "duration": 3822,
    "start_time": "2022-06-03T12:33:02.370Z"
   },
   {
    "duration": 3834,
    "start_time": "2022-06-03T12:33:12.551Z"
   },
   {
    "duration": 1407,
    "start_time": "2022-06-03T12:42:31.953Z"
   },
   {
    "duration": 226,
    "start_time": "2022-06-03T12:42:33.362Z"
   },
   {
    "duration": 137,
    "start_time": "2022-06-03T12:42:33.589Z"
   },
   {
    "duration": 141,
    "start_time": "2022-06-03T12:42:33.728Z"
   },
   {
    "duration": 115,
    "start_time": "2022-06-03T12:42:33.870Z"
   },
   {
    "duration": 138,
    "start_time": "2022-06-03T12:42:33.987Z"
   },
   {
    "duration": 174,
    "start_time": "2022-06-03T12:42:34.127Z"
   },
   {
    "duration": 2710,
    "start_time": "2022-06-03T12:42:34.303Z"
   },
   {
    "duration": 25,
    "start_time": "2022-06-03T12:42:37.015Z"
   },
   {
    "duration": 5,
    "start_time": "2022-06-03T12:42:37.043Z"
   },
   {
    "duration": 23,
    "start_time": "2022-06-03T12:42:37.050Z"
   },
   {
    "duration": 27,
    "start_time": "2022-06-03T12:42:37.075Z"
   },
   {
    "duration": 40,
    "start_time": "2022-06-03T12:42:37.104Z"
   },
   {
    "duration": 13,
    "start_time": "2022-06-03T12:42:37.146Z"
   },
   {
    "duration": 14,
    "start_time": "2022-06-03T12:42:37.161Z"
   },
   {
    "duration": 673,
    "start_time": "2022-06-03T12:42:37.177Z"
   },
   {
    "duration": 524,
    "start_time": "2022-06-03T12:42:37.852Z"
   },
   {
    "duration": 17,
    "start_time": "2022-06-03T12:42:38.378Z"
   },
   {
    "duration": 20,
    "start_time": "2022-06-03T12:42:38.397Z"
   },
   {
    "duration": 232,
    "start_time": "2022-06-03T12:42:38.419Z"
   },
   {
    "duration": 287,
    "start_time": "2022-06-03T12:42:38.653Z"
   },
   {
    "duration": 295,
    "start_time": "2022-06-03T12:42:38.942Z"
   },
   {
    "duration": 15,
    "start_time": "2022-06-03T12:42:39.239Z"
   },
   {
    "duration": 13,
    "start_time": "2022-06-03T12:42:39.256Z"
   },
   {
    "duration": 221,
    "start_time": "2022-06-03T12:42:39.271Z"
   },
   {
    "duration": 30,
    "start_time": "2022-06-03T12:42:39.494Z"
   },
   {
    "duration": 13,
    "start_time": "2022-06-03T12:42:39.526Z"
   },
   {
    "duration": 9,
    "start_time": "2022-06-03T12:42:39.543Z"
   },
   {
    "duration": 63,
    "start_time": "2022-06-03T12:42:39.554Z"
   },
   {
    "duration": 21,
    "start_time": "2022-06-03T12:42:39.619Z"
   },
   {
    "duration": 19,
    "start_time": "2022-06-03T12:42:39.642Z"
   },
   {
    "duration": 12,
    "start_time": "2022-06-03T12:42:39.663Z"
   },
   {
    "duration": 33,
    "start_time": "2022-06-03T12:42:39.677Z"
   },
   {
    "duration": 32,
    "start_time": "2022-06-03T12:42:39.712Z"
   },
   {
    "duration": 10,
    "start_time": "2022-06-03T12:42:39.746Z"
   },
   {
    "duration": 12,
    "start_time": "2022-06-03T12:42:39.758Z"
   },
   {
    "duration": 44,
    "start_time": "2022-06-03T12:42:39.772Z"
   },
   {
    "duration": 14,
    "start_time": "2022-06-03T12:42:39.818Z"
   },
   {
    "duration": 12,
    "start_time": "2022-06-03T12:42:39.834Z"
   },
   {
    "duration": 5,
    "start_time": "2022-06-03T12:42:39.848Z"
   },
   {
    "duration": 12,
    "start_time": "2022-06-03T12:42:39.854Z"
   },
   {
    "duration": 31,
    "start_time": "2022-06-03T12:42:39.868Z"
   },
   {
    "duration": 32,
    "start_time": "2022-06-03T12:42:39.901Z"
   },
   {
    "duration": 804,
    "start_time": "2022-06-03T12:42:39.935Z"
   },
   {
    "duration": 1001,
    "start_time": "2022-06-03T12:42:40.741Z"
   },
   {
    "duration": 5,
    "start_time": "2022-06-03T12:42:41.744Z"
   },
   {
    "duration": 20,
    "start_time": "2022-06-03T12:42:41.750Z"
   },
   {
    "duration": 1044,
    "start_time": "2022-06-03T12:42:41.771Z"
   },
   {
    "duration": 5,
    "start_time": "2022-06-03T12:42:42.817Z"
   },
   {
    "duration": 21,
    "start_time": "2022-06-03T12:42:42.823Z"
   },
   {
    "duration": 469,
    "start_time": "2022-06-03T12:42:42.846Z"
   },
   {
    "duration": 399478,
    "start_time": "2022-06-03T12:42:43.321Z"
   },
   {
    "duration": 20291,
    "start_time": "2022-06-03T12:49:22.801Z"
   },
   {
    "duration": 167454,
    "start_time": "2022-06-03T12:49:43.095Z"
   },
   {
    "duration": 374,
    "start_time": "2022-06-03T12:52:30.551Z"
   },
   {
    "duration": 4,
    "start_time": "2022-06-03T12:52:30.927Z"
   },
   {
    "duration": 289,
    "start_time": "2022-06-03T12:52:30.933Z"
   },
   {
    "duration": 3,
    "start_time": "2022-06-03T12:52:31.224Z"
   },
   {
    "duration": 4908,
    "start_time": "2022-06-03T12:52:31.228Z"
   }
  ],
  "kernelspec": {
   "display_name": "Python 3 (ipykernel)",
   "language": "python",
   "name": "python3"
  },
  "language_info": {
   "codemirror_mode": {
    "name": "ipython",
    "version": 3
   },
   "file_extension": ".py",
   "mimetype": "text/x-python",
   "name": "python",
   "nbconvert_exporter": "python",
   "pygments_lexer": "ipython3",
   "version": "3.9.7"
  },
  "toc": {
   "base_numbering": 1,
   "nav_menu": {},
   "number_sections": true,
   "sideBar": true,
   "skip_h1_title": true,
   "title_cell": "Table of Contents",
   "title_sidebar": "Contents",
   "toc_cell": false,
   "toc_position": {},
   "toc_section_display": true,
   "toc_window_display": true
  }
 },
 "nbformat": 4,
 "nbformat_minor": 2
}
