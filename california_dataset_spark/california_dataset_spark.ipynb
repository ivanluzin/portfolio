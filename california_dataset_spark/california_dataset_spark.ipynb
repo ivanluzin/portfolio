{
 "cells": [
  {
   "cell_type": "markdown",
   "id": "GEqQaHzsZ_bA",
   "metadata": {
    "id": "GEqQaHzsZ_bA"
   },
   "source": [
    "## Предсказание стоимости жилья\n",
    "\n",
    "Цель проекта- обучить модель линейной регрессии силами PySpark на данных о жилье в Калифорнии в 1990 году. На основе данных нужно предсказать медианную стоимость дома в жилом массиве. Для оценки качества модели используются метрики RMSE, MAE и R2."
   ]
  },
  {
   "cell_type": "markdown",
   "id": "53871372",
   "metadata": {
    "id": "53871372"
   },
   "source": [
    "# Подготовка данных"
   ]
  },
  {
   "cell_type": "markdown",
   "id": "925ebe91",
   "metadata": {},
   "source": [
    "Импортируем необходимые для работы над проектом библиотеки и инициализируем Spark-сессию."
   ]
  },
  {
   "cell_type": "code",
   "execution_count": 31,
   "id": "df92e3ec",
   "metadata": {
    "id": "df92e3ec"
   },
   "outputs": [],
   "source": [
    "import pandas as pd \n",
    "import numpy as np\n",
    "import matplotlib.pyplot as plt\n",
    "import seaborn as sns\n",
    "import pyspark\n",
    "from pyspark.sql import SparkSession\n",
    "from pyspark.sql.types import *\n",
    "import pyspark.sql.functions as F\n",
    "\n",
    "from pyspark.ml.feature import StringIndexer, VectorAssembler, StandardScaler\n",
    "from pyspark.ml.regression import LinearRegression\n",
    "from pyspark.ml.evaluation import RegressionEvaluator\n",
    "from pyspark.mllib.stat import Statistics"
   ]
  },
  {
   "cell_type": "code",
   "execution_count": 32,
   "id": "ba43de1f",
   "metadata": {},
   "outputs": [],
   "source": [
    "pyspark_version = pyspark.__version__\n",
    "if int(pyspark_version[:1]) == 3:\n",
    "    from pyspark.ml.feature import OneHotEncoder    \n",
    "elif int(pyspark_version[:1]) == 2:\n",
    "    from pyspark.ml.feature import OneHotEncodeEstimator\n",
    "        \n",
    "RANDOM_SEED = 2022\n",
    "\n",
    "spark = SparkSession.builder \\\n",
    "                    .master(\"local\") \\\n",
    "                    .appName(\"EDA California Housing\") \\\n",
    "                    .getOrCreate()"
   ]
  },
  {
   "cell_type": "markdown",
   "id": "fc297622",
   "metadata": {},
   "source": [
    "Данные, которые будем использовать в проекте, были собраны в рамках переписи населения в США. Каждая строка содержит агрегированную статистику о жилом массиве. Жилой массив — минимальная географическая единица с населением от 600 до 3000 человек в зависимости от штата. Одна строка в данных содержит статистику в среднем о 1425.5 обитателях жилого массива.\n",
    "\n",
    "В колонках датасета содержатся следующие данные:\n",
    "\n",
    "- `longitude` — широта;\n",
    "- `latitude` — долгота;\n",
    "- `housing_median_age` — медианный возраст жителей жилого массива;\n",
    "- `total_rooms` — общее количество комнат в домах жилого массива;\n",
    "- `total_bedrooms` — общее количество спален в домах жилого массива;\n",
    "- `population` — количество человек, которые проживают в жилом массиве;\n",
    "- `households` — количество домовладений в жилом массиве;\n",
    "- `median_income` — медианный доход жителей жилого массива;\n",
    "- `median_house_value` — медианная стоимость дома в жилом массиве;\n",
    "- `ocean_proximity` — близость к океану.\n",
    "\n",
    "Прочитаем содержимое файла с данными и выведем на экран типы данных, содержащихся в колонках датасета."
   ]
  },
  {
   "cell_type": "code",
   "execution_count": 33,
   "id": "5da55b63",
   "metadata": {
    "scrolled": false
   },
   "outputs": [
    {
     "name": "stdout",
     "output_type": "stream",
     "text": [
      "root\n",
      " |-- longitude: double (nullable = true)\n",
      " |-- latitude: double (nullable = true)\n",
      " |-- housing_median_age: double (nullable = true)\n",
      " |-- total_rooms: double (nullable = true)\n",
      " |-- total_bedrooms: double (nullable = true)\n",
      " |-- population: double (nullable = true)\n",
      " |-- households: double (nullable = true)\n",
      " |-- median_income: double (nullable = true)\n",
      " |-- median_house_value: double (nullable = true)\n",
      " |-- ocean_proximity: string (nullable = true)\n",
      "\n"
     ]
    }
   ],
   "source": [
    "df = spark.read.load('/datasets/housing.csv', format='csv', inferSchema=True, header='true')\n",
    "df.printSchema()"
   ]
  },
  {
   "cell_type": "code",
   "execution_count": 34,
   "id": "f26a36a7",
   "metadata": {},
   "outputs": [
    {
     "name": "stdout",
     "output_type": "stream",
     "text": [
      "+---------+--------+------------------+-----------+--------------+----------+----------+-------------+------------------+---------------+\n",
      "|longitude|latitude|housing_median_age|total_rooms|total_bedrooms|population|households|median_income|median_house_value|ocean_proximity|\n",
      "+---------+--------+------------------+-----------+--------------+----------+----------+-------------+------------------+---------------+\n",
      "|  -122.23|   37.88|              41.0|      880.0|         129.0|     322.0|     126.0|       8.3252|          452600.0|       NEAR BAY|\n",
      "|  -122.22|   37.86|              21.0|     7099.0|        1106.0|    2401.0|    1138.0|       8.3014|          358500.0|       NEAR BAY|\n",
      "|  -122.24|   37.85|              52.0|     1467.0|         190.0|     496.0|     177.0|       7.2574|          352100.0|       NEAR BAY|\n",
      "|  -122.25|   37.85|              52.0|     1274.0|         235.0|     558.0|     219.0|       5.6431|          341300.0|       NEAR BAY|\n",
      "|  -122.25|   37.85|              52.0|     1627.0|         280.0|     565.0|     259.0|       3.8462|          342200.0|       NEAR BAY|\n",
      "|  -122.25|   37.85|              52.0|      919.0|         213.0|     413.0|     193.0|       4.0368|          269700.0|       NEAR BAY|\n",
      "|  -122.25|   37.84|              52.0|     2535.0|         489.0|    1094.0|     514.0|       3.6591|          299200.0|       NEAR BAY|\n",
      "|  -122.25|   37.84|              52.0|     3104.0|         687.0|    1157.0|     647.0|         3.12|          241400.0|       NEAR BAY|\n",
      "|  -122.26|   37.84|              42.0|     2555.0|         665.0|    1206.0|     595.0|       2.0804|          226700.0|       NEAR BAY|\n",
      "|  -122.25|   37.84|              52.0|     3549.0|         707.0|    1551.0|     714.0|       3.6912|          261100.0|       NEAR BAY|\n",
      "+---------+--------+------------------+-----------+--------------+----------+----------+-------------+------------------+---------------+\n",
      "only showing top 10 rows\n",
      "\n"
     ]
    }
   ],
   "source": [
    "df.show(10)"
   ]
  },
  {
   "cell_type": "markdown",
   "id": "fc5b9963",
   "metadata": {},
   "source": [
    "Почти все колонки содержат численные значения, кроме 'ocean_proximity'- она содержит категориальные.\n",
    "\n",
    "Изучим значения в колонках методом describe."
   ]
  },
  {
   "cell_type": "code",
   "execution_count": 35,
   "id": "b835f315",
   "metadata": {
    "scrolled": true
   },
   "outputs": [
    {
     "name": "stderr",
     "output_type": "stream",
     "text": [
      "                                                                                \r"
     ]
    },
    {
     "data": {
      "text/html": [
       "<div>\n",
       "<style scoped>\n",
       "    .dataframe tbody tr th:only-of-type {\n",
       "        vertical-align: middle;\n",
       "    }\n",
       "\n",
       "    .dataframe tbody tr th {\n",
       "        vertical-align: top;\n",
       "    }\n",
       "\n",
       "    .dataframe thead th {\n",
       "        text-align: right;\n",
       "    }\n",
       "</style>\n",
       "<table border=\"1\" class=\"dataframe\">\n",
       "  <thead>\n",
       "    <tr style=\"text-align: right;\">\n",
       "      <th></th>\n",
       "      <th>0</th>\n",
       "      <th>1</th>\n",
       "      <th>2</th>\n",
       "      <th>3</th>\n",
       "      <th>4</th>\n",
       "    </tr>\n",
       "  </thead>\n",
       "  <tbody>\n",
       "    <tr>\n",
       "      <th>summary</th>\n",
       "      <td>count</td>\n",
       "      <td>mean</td>\n",
       "      <td>stddev</td>\n",
       "      <td>min</td>\n",
       "      <td>max</td>\n",
       "    </tr>\n",
       "    <tr>\n",
       "      <th>longitude</th>\n",
       "      <td>20640</td>\n",
       "      <td>-119.56970445736148</td>\n",
       "      <td>2.003531723502584</td>\n",
       "      <td>-124.35</td>\n",
       "      <td>-114.31</td>\n",
       "    </tr>\n",
       "    <tr>\n",
       "      <th>latitude</th>\n",
       "      <td>20640</td>\n",
       "      <td>35.6318614341087</td>\n",
       "      <td>2.135952397457101</td>\n",
       "      <td>32.54</td>\n",
       "      <td>41.95</td>\n",
       "    </tr>\n",
       "    <tr>\n",
       "      <th>housing_median_age</th>\n",
       "      <td>20640</td>\n",
       "      <td>28.639486434108527</td>\n",
       "      <td>12.58555761211163</td>\n",
       "      <td>1.0</td>\n",
       "      <td>52.0</td>\n",
       "    </tr>\n",
       "    <tr>\n",
       "      <th>total_rooms</th>\n",
       "      <td>20640</td>\n",
       "      <td>2635.7630813953488</td>\n",
       "      <td>2181.6152515827944</td>\n",
       "      <td>2.0</td>\n",
       "      <td>39320.0</td>\n",
       "    </tr>\n",
       "    <tr>\n",
       "      <th>total_bedrooms</th>\n",
       "      <td>20433</td>\n",
       "      <td>537.8705525375618</td>\n",
       "      <td>421.38507007403115</td>\n",
       "      <td>1.0</td>\n",
       "      <td>6445.0</td>\n",
       "    </tr>\n",
       "    <tr>\n",
       "      <th>population</th>\n",
       "      <td>20640</td>\n",
       "      <td>1425.4767441860465</td>\n",
       "      <td>1132.46212176534</td>\n",
       "      <td>3.0</td>\n",
       "      <td>35682.0</td>\n",
       "    </tr>\n",
       "    <tr>\n",
       "      <th>households</th>\n",
       "      <td>20640</td>\n",
       "      <td>499.5396802325581</td>\n",
       "      <td>382.3297528316098</td>\n",
       "      <td>1.0</td>\n",
       "      <td>6082.0</td>\n",
       "    </tr>\n",
       "    <tr>\n",
       "      <th>median_income</th>\n",
       "      <td>20640</td>\n",
       "      <td>3.8706710029070246</td>\n",
       "      <td>1.899821717945263</td>\n",
       "      <td>0.4999</td>\n",
       "      <td>15.0001</td>\n",
       "    </tr>\n",
       "    <tr>\n",
       "      <th>median_house_value</th>\n",
       "      <td>20640</td>\n",
       "      <td>206855.81690891474</td>\n",
       "      <td>115395.61587441359</td>\n",
       "      <td>14999.0</td>\n",
       "      <td>500001.0</td>\n",
       "    </tr>\n",
       "    <tr>\n",
       "      <th>ocean_proximity</th>\n",
       "      <td>20640</td>\n",
       "      <td>None</td>\n",
       "      <td>None</td>\n",
       "      <td>&lt;1H OCEAN</td>\n",
       "      <td>NEAR OCEAN</td>\n",
       "    </tr>\n",
       "  </tbody>\n",
       "</table>\n",
       "</div>"
      ],
      "text/plain": [
       "                        0                    1                   2          3  \\\n",
       "summary             count                 mean              stddev        min   \n",
       "longitude           20640  -119.56970445736148   2.003531723502584    -124.35   \n",
       "latitude            20640     35.6318614341087   2.135952397457101      32.54   \n",
       "housing_median_age  20640   28.639486434108527   12.58555761211163        1.0   \n",
       "total_rooms         20640   2635.7630813953488  2181.6152515827944        2.0   \n",
       "total_bedrooms      20433    537.8705525375618  421.38507007403115        1.0   \n",
       "population          20640   1425.4767441860465    1132.46212176534        3.0   \n",
       "households          20640    499.5396802325581   382.3297528316098        1.0   \n",
       "median_income       20640   3.8706710029070246   1.899821717945263     0.4999   \n",
       "median_house_value  20640   206855.81690891474  115395.61587441359    14999.0   \n",
       "ocean_proximity     20640                 None                None  <1H OCEAN   \n",
       "\n",
       "                             4  \n",
       "summary                    max  \n",
       "longitude              -114.31  \n",
       "latitude                 41.95  \n",
       "housing_median_age        52.0  \n",
       "total_rooms            39320.0  \n",
       "total_bedrooms          6445.0  \n",
       "population             35682.0  \n",
       "households              6082.0  \n",
       "median_income          15.0001  \n",
       "median_house_value    500001.0  \n",
       "ocean_proximity     NEAR OCEAN  "
      ]
     },
     "execution_count": 35,
     "metadata": {},
     "output_type": "execute_result"
    }
   ],
   "source": [
    "df.describe().toPandas().transpose()"
   ]
  },
  {
   "cell_type": "code",
   "execution_count": 36,
   "id": "a12ddec8",
   "metadata": {
    "scrolled": true
   },
   "outputs": [
    {
     "data": {
      "image/png": "[encoded data removed]",
      "text/plain": [
       "<Figure size 432x288 with 1 Axes>"
      ]
     },
     "metadata": {
      "needs_background": "light"
     },
     "output_type": "display_data"
    },
    {
     "data": {
      "image/png": "[encoded data removed]",
      "text/plain": [
       "<Figure size 432x288 with 1 Axes>"
      ]
     },
     "metadata": {
      "needs_background": "light"
     },
     "output_type": "display_data"
    },
    {
     "data": {
      "image/png": "[encoded data removed]",
      "text/plain": [
       "<Figure size 432x288 with 1 Axes>"
      ]
     },
     "metadata": {
      "needs_background": "light"
     },
     "output_type": "display_data"
    },
    {
     "data": {
      "image/png": "[encoded data removed]",
      "text/plain": [
       "<Figure size 432x288 with 1 Axes>"
      ]
     },
     "metadata": {
      "needs_background": "light"
     },
     "output_type": "display_data"
    },
    {
     "data": {
      "image/png": "[encoded data removed]",
      "text/plain": [
       "<Figure size 432x288 with 1 Axes>"
      ]
     },
     "metadata": {
      "needs_background": "light"
     },
     "output_type": "display_data"
    },
    {
     "data": {
      "image/png": "[encoded data removed]",
      "text/plain": [
       "<Figure size 432x288 with 1 Axes>"
      ]
     },
     "metadata": {
      "needs_background": "light"
     },
     "output_type": "display_data"
    },
    {
     "data": {
      "image/png": "[encoded data removed]",
      "text/plain": [
       "<Figure size 432x288 with 1 Axes>"
      ]
     },
     "metadata": {
      "needs_background": "light"
     },
     "output_type": "display_data"
    },
    {
     "data": {
      "image/png": "[encoded data removed]",
      "text/plain": [
       "<Figure size 432x288 with 1 Axes>"
      ]
     },
     "metadata": {
      "needs_background": "light"
     },
     "output_type": "display_data"
    },
    {
     "data": {
      "image/png": "[encoded data removed]",
      "text/plain": [
       "<Figure size 432x288 with 1 Axes>"
      ]
     },
     "metadata": {
      "needs_background": "light"
     },
     "output_type": "display_data"
    }
   ],
   "source": [
    "for column in ['longitude', 'latitude', 'housing_median_age', 'total_rooms', 'total_bedrooms', \n",
    "               'population', 'households', 'median_income', 'median_house_value']:\n",
    "    bins, counts = df.select(column).rdd.flatMap(lambda x: x).histogram(50)\n",
    "    plt.hist(bins[:-1], bins=bins, weights=counts)\n",
    "    plt.grid(True)\n",
    "    plt.title(column)\n",
    "    plt.show()"
   ]
  },
  {
   "cell_type": "markdown",
   "id": "bc2e0d9b",
   "metadata": {},
   "source": [
    "При изучении данных видим следующие особенности:\n",
    "* в столбце с информацией о медианном возрасте жителей жилого массива 'housing_median_age' виден выброс в районе 52 лет. Возможно два варианта: либо при вводе данных допущены ошибки, либо в Калифорнии встречается довольно большое количество районов с пожилым населением. В пользу первой гипотезы говорит неравномерное распределение данных;\n",
    "* в столбце с медианной ценой дома видим большое количество значений в районе 500000. Возможно, при вводе данных есть ограничение цены дома.\n",
    "\n",
    "Выведем на экран количество дубликатов и количество пропусков во всех столбцах."
   ]
  },
  {
   "cell_type": "code",
   "execution_count": 37,
   "id": "da934984",
   "metadata": {},
   "outputs": [
    {
     "name": "stderr",
     "output_type": "stream",
     "text": [
      "[Stage 63:=================================================>    (185 + 1) / 200]\r"
     ]
    },
    {
     "name": "stdout",
     "output_type": "stream",
     "text": [
      "Количество дубликатов: 0\n"
     ]
    },
    {
     "name": "stderr",
     "output_type": "stream",
     "text": [
      "                                                                                \r"
     ]
    }
   ],
   "source": [
    "print('Количество дубликатов:', df.count() - df.distinct().count())"
   ]
  },
  {
   "cell_type": "code",
   "execution_count": 38,
   "id": "aa59d332",
   "metadata": {},
   "outputs": [
    {
     "name": "stdout",
     "output_type": "stream",
     "text": [
      "+---------+--------+------------------+-----------+--------------+----------+----------+-------------+------------------+---------------+\n",
      "|longitude|latitude|housing_median_age|total_rooms|total_bedrooms|population|households|median_income|median_house_value|ocean_proximity|\n",
      "+---------+--------+------------------+-----------+--------------+----------+----------+-------------+------------------+---------------+\n",
      "|        0|       0|                 0|          0|           207|         0|         0|            0|                 0|              0|\n",
      "+---------+--------+------------------+-----------+--------------+----------+----------+-------------+------------------+---------------+\n",
      "\n"
     ]
    }
   ],
   "source": [
    "df.select([F.count(F.when(F.col(c).isNull(), c)).alias(c) for c in df.columns]).show()"
   ]
  },
  {
   "cell_type": "markdown",
   "id": "e9eabf0d",
   "metadata": {},
   "source": [
    "В столбце с количеством спален 207 пропусков. Для их заполнения необходимо выбрать метод. Для начала определим зависимость количества спален от общего количества комнат. Для этого выведем на экран гистограмму значений отношения общего количества комнат к количеству спален."
   ]
  },
  {
   "cell_type": "code",
   "execution_count": 39,
   "id": "6c68f42c",
   "metadata": {
    "scrolled": false
   },
   "outputs": [
    {
     "data": {
      "text/plain": [
       "array([[<AxesSubplot:title={'center':'bedroom_index'}>]], dtype=object)"
      ]
     },
     "execution_count": 39,
     "metadata": {},
     "output_type": "execute_result"
    },
    {
     "data": {
      "image/png": "[encoded data removed]",
      "text/plain": [
       "<Figure size 432x288 with 1 Axes>"
      ]
     },
     "metadata": {
      "needs_background": "light"
     },
     "output_type": "display_data"
    }
   ],
   "source": [
    "(df.withColumn('bedroom_index', F.col('total_bedrooms') / F.col('total_rooms'))\n",
    "   .toPandas()\n",
    "   .hist('bedroom_index', bins=30)\n",
    ")"
   ]
  },
  {
   "cell_type": "markdown",
   "id": "bfce6fd5",
   "metadata": {},
   "source": [
    "Большая часть значений лежит вокруг значения 0.2. Заполним пропуски в столбце 'total_bedrooms', умножив столбец 'total_rooms' на 0.2 и приведем значение к целому."
   ]
  },
  {
   "cell_type": "code",
   "execution_count": 40,
   "id": "5b72ce9e",
   "metadata": {},
   "outputs": [],
   "source": [
    "df_new = (df\n",
    "           .withColumn('total_bedrooms', \n",
    "                       (F.when(F.col('total_bedrooms').isNull(), (F.col('total_rooms')*0.2).cast('int')))\n",
    "                       .otherwise(F.col('total_bedrooms')))\n",
    "         )"
   ]
  },
  {
   "cell_type": "code",
   "execution_count": 41,
   "id": "0e9866e9",
   "metadata": {},
   "outputs": [
    {
     "name": "stdout",
     "output_type": "stream",
     "text": [
      "+---------+--------+------------------+-----------+--------------+----------+----------+-------------+------------------+---------------+\n",
      "|longitude|latitude|housing_median_age|total_rooms|total_bedrooms|population|households|median_income|median_house_value|ocean_proximity|\n",
      "+---------+--------+------------------+-----------+--------------+----------+----------+-------------+------------------+---------------+\n",
      "|        0|       0|                 0|          0|             0|         0|         0|            0|                 0|              0|\n",
      "+---------+--------+------------------+-----------+--------------+----------+----------+-------------+------------------+---------------+\n",
      "\n"
     ]
    }
   ],
   "source": [
    "df_new.select([F.count(F.when(F.col(c).isNull(), c)).alias(c) for c in df.columns]).show()"
   ]
  },
  {
   "cell_type": "markdown",
   "id": "1d8e109e",
   "metadata": {},
   "source": [
    "Избавились от пропусков в данных.\n",
    "\n",
    "Построим матрицу корреляции, чтобы определить, не коррелируют ли признаки друг с другом слишком сильно."
   ]
  },
  {
   "cell_type": "code",
   "execution_count": 47,
   "id": "ab453061",
   "metadata": {},
   "outputs": [
    {
     "name": "stderr",
     "output_type": "stream",
     "text": [
      "                                                                                \r"
     ]
    },
    {
     "data": {
      "image/png": "[encoded data removed]",
      "text/plain": [
       "<Figure size 792x648 with 2 Axes>"
      ]
     },
     "metadata": {
      "needs_background": "light"
     },
     "output_type": "display_data"
    }
   ],
   "source": [
    "f, ax = plt.subplots(figsize=(11, 9))\n",
    "\n",
    "features = df_new.rdd.map(lambda row: row[0:-1])\n",
    "corr_mat=Statistics.corr(features, method=\"pearson\")\n",
    "\n",
    "sns.heatmap(corr_mat, annot=True, linewidths=.1, ax=ax)\n",
    "plt.show()"
   ]
  },
  {
   "cell_type": "markdown",
   "id": "6188e75a",
   "metadata": {},
   "source": [
    "Подготовим данные к машинному обучению: категориальные признаки преобразуем техникой OHE, а числовые признаки стандартизируем."
   ]
  },
  {
   "cell_type": "code",
   "execution_count": 13,
   "id": "77ca9378",
   "metadata": {},
   "outputs": [],
   "source": [
    "# Обработаем категориальные признаки методикой OHE\n",
    "indexer = StringIndexer(inputCols=['ocean_proximity'], \n",
    "                        outputCols=['ocean_proximity_idx']) \n",
    "df_new = indexer.fit(df_new).transform(df_new)\n",
    "encoder = OneHotEncoder(inputCols=['ocean_proximity_idx'],\n",
    "                        outputCols=['ocean_proximity_ohe'])\n",
    "df_new = encoder.fit(df_new).transform(df_new)\n",
    "\n",
    "categorical_assembler = VectorAssembler(inputCols=['ocean_proximity_ohe'],\n",
    "                                        outputCol=\"categorical_features\")\n",
    "df_new = categorical_assembler.transform(df_new)"
   ]
  },
  {
   "cell_type": "code",
   "execution_count": 14,
   "id": "69297605",
   "metadata": {},
   "outputs": [
    {
     "name": "stderr",
     "output_type": "stream",
     "text": [
      "                                                                                \r"
     ]
    }
   ],
   "source": [
    "# Выделим числовые признаки и стандартизируем\n",
    "\n",
    "numerical_cols = ['longitude', 'latitude', 'housing_median_age', 'total_rooms', 'total_bedrooms', 'population', 'households', 'median_income']\n",
    "\n",
    "numerical_assembler = VectorAssembler(inputCols=numerical_cols, outputCol=\"numerical_features\")\n",
    "df_new = numerical_assembler.transform(df_new)\n",
    "\n",
    "standardScaler = StandardScaler(inputCol='numerical_features', outputCol=\"numerical_features_scaled\")\n",
    "df_new = standardScaler.fit(df_new).transform(df_new) \n",
    "all_features = ['categorical_features','numerical_features_scaled']"
   ]
  },
  {
   "cell_type": "code",
   "execution_count": 15,
   "id": "ae6b7e49",
   "metadata": {},
   "outputs": [],
   "source": [
    "# Выделим отфильтрованные числовые признаки\n",
    "\n",
    "filtered_numerical_cols = ['housing_median_age', 'total_rooms', 'total_bedrooms', 'population', 'households', 'median_income']\n",
    "\n",
    "filtered_numerical_assembler = VectorAssembler(inputCols=filtered_numerical_cols, outputCol=\"filtered_numerical_features\")\n",
    "df_new = filtered_numerical_assembler.transform(df_new)\n",
    "\n",
    "standardScaler = StandardScaler(inputCol='filtered_numerical_features', outputCol=\"filtered_features_scaled\")\n",
    "df_new = standardScaler.fit(df_new).transform(df_new) \n",
    "\n",
    "final_assembler = VectorAssembler(inputCols=all_features, \n",
    "                                  outputCol=\"features\") \n",
    "\n",
    "df_all = final_assembler.transform(df_new)\n",
    "\n",
    "final_assembler = VectorAssembler(inputCols=['categorical_features', 'filtered_features_scaled'], \n",
    "                                  outputCol=\"filt_features\") \n",
    "\n",
    "df_all = final_assembler.transform(df_all)"
   ]
  },
  {
   "cell_type": "markdown",
   "id": "b6ee1820",
   "metadata": {},
   "source": [
    "Подготовили категориальные признаки для передачи модели машинного обучения.\n",
    "\n",
    "Среди признаков наблюдается сильная корреляция в следующих столбцах:\n",
    "\n",
    "* широта и долгота;\n",
    "* общее количество комнат, количество спален, количество человек в жилом массиве и количество домовладений в жилом массиве;\n",
    "* медианная заработная плата и целевой признак- медианная цена дома.\n",
    "\n",
    "Целью учебного проекта является определение точности модели линейной регресси на количественных признаках с учетом и без учета категориального. Так как среди признаков наблюдается сильная корреляция дополнительно исключим такие признаки из набора и оценим точность модели также и на них.\n",
    "\n",
    "Таким образом, произведем обучение модели на четырех наборах признаков:\n",
    "\n",
    "* на всех признаках датасета с учетом категориального, обработанного методикой OHE;\n",
    "* на всех количественных признаках без категориального;\n",
    "* исключим из обучающего набора количество комнат, количество спален и количество домовладений, оставив только количество человек в жилом массиве, а также медианную заработную плату людей в жилом массиве;\n",
    "* то же самое, но оставим медианную заработную плату. Так как этот признак сильно коррелирует с целевым, он может как привести к  хорошему результату, так и к переобучению модели."
   ]
  },
  {
   "cell_type": "code",
   "execution_count": 16,
   "id": "0d5a1e03",
   "metadata": {},
   "outputs": [
    {
     "name": "stdout",
     "output_type": "stream",
     "text": [
      "+--------------------+\n",
      "|            features|\n",
      "+--------------------+\n",
      "|[0.0,0.0,0.0,1.0,...|\n",
      "|[0.0,0.0,0.0,1.0,...|\n",
      "|[0.0,0.0,0.0,1.0,...|\n",
      "+--------------------+\n",
      "only showing top 3 rows\n",
      "\n"
     ]
    }
   ],
   "source": [
    "df_all.select(F.col('features')).show(3) "
   ]
  },
  {
   "cell_type": "markdown",
   "id": "e5297521",
   "metadata": {},
   "source": [
    "Выделим целевой признак."
   ]
  },
  {
   "cell_type": "code",
   "execution_count": 17,
   "id": "6991d7c5",
   "metadata": {},
   "outputs": [],
   "source": [
    "target = 'median_house_value'"
   ]
  },
  {
   "cell_type": "markdown",
   "id": "e6964987",
   "metadata": {},
   "source": [
    "Разделим данные на обучающую и тестовую выборки в соотношении 4:1."
   ]
  },
  {
   "cell_type": "code",
   "execution_count": 18,
   "id": "23714a9d",
   "metadata": {},
   "outputs": [
    {
     "name": "stderr",
     "output_type": "stream",
     "text": [
      "                                                                                \r"
     ]
    },
    {
     "name": "stdout",
     "output_type": "stream",
     "text": [
      "16418 4222\n"
     ]
    },
    {
     "name": "stderr",
     "output_type": "stream",
     "text": [
      "                                                                                \r"
     ]
    }
   ],
   "source": [
    "train_data, test_data = df_all.randomSplit([.8,.2], seed=RANDOM_SEED)\n",
    "print(train_data.count(), test_data.count()) "
   ]
  },
  {
   "cell_type": "markdown",
   "id": "9f0a82f3",
   "metadata": {
    "id": "9f0a82f3"
   },
   "source": [
    "# Обучение моделей"
   ]
  },
  {
   "cell_type": "markdown",
   "id": "b52f2345",
   "metadata": {},
   "source": [
    "Обучим модель линейной регрессии на полном наборе признаков."
   ]
  },
  {
   "cell_type": "code",
   "execution_count": 19,
   "id": "f072066e",
   "metadata": {},
   "outputs": [],
   "source": [
    "def linear_regression(feauters_selection, features_name):\n",
    "    lr = LinearRegression(labelCol=target, featuresCol=feauters_selection)\n",
    "    model = lr.fit(train_data) \n",
    "    predictions = model.transform(test_data)\n",
    "    rmse = RegressionEvaluator(labelCol='median_house_value', metricName='rmse').evaluate(predictions)\n",
    "    mae = RegressionEvaluator(labelCol='median_house_value', metricName='mae').evaluate(predictions)\n",
    "    r_2 = RegressionEvaluator(labelCol='median_house_value', metricName='r2').evaluate(predictions)\n",
    "    print(f\"На выборке, включающей {features_name}, RMSE: {rmse: .1f}, MAE: {mae: .1f}, R2: {r_2: .3f}\")"
   ]
  },
  {
   "cell_type": "code",
   "execution_count": 20,
   "id": "add9c657",
   "metadata": {},
   "outputs": [
    {
     "name": "stderr",
     "output_type": "stream",
     "text": [
      "22/08/08 17:56:52 WARN Instrumentation: [a10af574] regParam is zero, which might cause numerical instability and overfitting.\n",
      "22/08/08 17:56:53 WARN LAPACK: Failed to load implementation from: com.github.fommil.netlib.NativeSystemLAPACK\n",
      "22/08/08 17:56:53 WARN LAPACK: Failed to load implementation from: com.github.fommil.netlib.NativeRefLAPACK\n",
      "22/08/08 17:56:53 WARN Instrumentation: [a10af574] Cholesky solver failed due to singular covariance matrix. Retrying with Quasi-Newton solver.\n",
      "                                                                                \r"
     ]
    },
    {
     "name": "stdout",
     "output_type": "stream",
     "text": [
      "На выборке, включающей все признаки исходного датасета, RMSE:  68487.1, MAE:  49813.5, R2:  0.654\n"
     ]
    },
    {
     "name": "stderr",
     "output_type": "stream",
     "text": [
      "                                                                                \r"
     ]
    }
   ],
   "source": [
    "linear_regression('features', 'все признаки исходного датасета')"
   ]
  },
  {
   "cell_type": "markdown",
   "id": "ac72a6ae",
   "metadata": {},
   "source": [
    "Обучим модель линейной регрессии на наборе данных, исключая категориальные признаки."
   ]
  },
  {
   "cell_type": "code",
   "execution_count": 21,
   "id": "2df4ac18",
   "metadata": {
    "scrolled": true
   },
   "outputs": [
    {
     "name": "stderr",
     "output_type": "stream",
     "text": [
      "22/08/08 17:56:59 WARN Instrumentation: [8f2bcc8f] regParam is zero, which might cause numerical instability and overfitting.\n",
      "                                                                                \r"
     ]
    },
    {
     "name": "stdout",
     "output_type": "stream",
     "text": [
      "На выборке, включающей включающей только числовые признаки, RMSE:  69220.1, MAE:  50777.9, R2:  0.646\n"
     ]
    }
   ],
   "source": [
    "linear_regression('numerical_features_scaled', 'включающей только числовые признаки')"
   ]
  },
  {
   "cell_type": "markdown",
   "id": "b02abef5",
   "metadata": {},
   "source": [
    "Обучим модель линейной регрессии на наборе данных, содержащем отфильтрованные числовые признаки."
   ]
  },
  {
   "cell_type": "code",
   "execution_count": 22,
   "id": "b4fcf23c",
   "metadata": {
    "scrolled": true
   },
   "outputs": [
    {
     "name": "stderr",
     "output_type": "stream",
     "text": [
      "22/08/08 17:57:04 WARN Instrumentation: [e7217d6e] regParam is zero, which might cause numerical instability and overfitting.\n",
      "                                                                                \r"
     ]
    },
    {
     "name": "stdout",
     "output_type": "stream",
     "text": [
      "На выборке, включающей только отфильтрованные числовые признаки, RMSE:  75093.4, MAE:  54953.2, R2:  0.583\n"
     ]
    }
   ],
   "source": [
    "linear_regression('filtered_features_scaled', 'только отфильтрованные числовые признаки')"
   ]
  },
  {
   "cell_type": "markdown",
   "id": "cad65a38",
   "metadata": {},
   "source": [
    "Обучим модель линейной регрессии на наборе данных, включающем категориальные признаки и отфильтрованные числовые признаки."
   ]
  },
  {
   "cell_type": "code",
   "execution_count": 23,
   "id": "177b03f8",
   "metadata": {},
   "outputs": [
    {
     "name": "stderr",
     "output_type": "stream",
     "text": [
      "22/08/08 17:57:08 WARN Instrumentation: [ca9ef145] regParam is zero, which might cause numerical instability and overfitting.\n",
      "22/08/08 17:57:09 WARN Instrumentation: [ca9ef145] Cholesky solver failed due to singular covariance matrix. Retrying with Quasi-Newton solver.\n"
     ]
    },
    {
     "name": "stdout",
     "output_type": "stream",
     "text": [
      "На выборке, включающей категориальные признаки и отфильтрованные числовые признаки, RMSE:  69656.1, MAE:  50316.1, R2:  0.642\n"
     ]
    }
   ],
   "source": [
    "linear_regression('filt_features', 'категориальные признаки и отфильтрованные числовые признаки')"
   ]
  },
  {
   "cell_type": "markdown",
   "id": "757fd103",
   "metadata": {
    "id": "757fd103"
   },
   "source": [
    "# Анализ результатов"
   ]
  },
  {
   "cell_type": "markdown",
   "id": "793e8f6a",
   "metadata": {},
   "source": [
    "По итогам проекта можем сделать следующие выводы:\n",
    "\n",
    "1. В некоторых столбцах есть выбросы значений. Особенно много выбросов в столбцах с медианной ценой дома и с медианным возрастом жителей жилого массива. Фильтрация выбросов не привела к улучшению результата обучения модели линейной регрессии (фильтрация не отражена в тексте проекта, так как проводилась в большом количестве итераций и только ухудшала показатель R$^2$, видимо, критически снижая количество данных для обучения). Также в столбце с количеством спален было обнаружено небольшое количество пропусков, которые были заполнены исходя из предположения, что спален в 5 раз меньше, чем комнат в общем. \n",
    "\n",
    "2. Наилучший результат модель линейной регрессии показала на полном наборе данных, включая все числовые и категориальные признаки. R$^2$ на таком наборе данных получился равным 0.654, а модель в среднем ошибается в цене дома на 49813 долларов. Как было сказано выше, было несколько итераций расчетов, включающих в себя фильтрацию выбросов данных в столбцах с медианным возрастом жителей, медианной ценой дома и количеством проживающих в жилом массиве, а также с различным соотношением обучающей и тестовой выборок: 80 на 20, 75 на 25 и 85 на 15. Все эти итерации не отражены в тексте проекта, чтобы не увеличивать его объем. Наилучший результат показало разделение данных в соотношении 80 на 20 и включение всех признаков в обучающую выборку. \n",
    "\n",
    "3. С целью улучшения результата прогнозирования цены дома в жилом массиве можно предложить использование других, более сложных, моделей машинного обучения, например, модели решающего дерева, случайного леса, а при низких результатах на них- моделей градиентного бустинга.\n",
    "\n",
    "По завершении проекта отключим спарк-сессию."
   ]
  },
  {
   "cell_type": "code",
   "execution_count": 24,
   "id": "acb10d9f",
   "metadata": {},
   "outputs": [],
   "source": [
    "spark.stop()"
   ]
  }
 ],
 "metadata": {
  "ExecuteTimeLog": [
   {
    "duration": 16648,
    "start_time": "2022-08-02T18:08:14.217Z"
   },
   {
    "duration": 7944,
    "start_time": "2022-08-02T18:12:07.715Z"
   },
   {
    "duration": 625,
    "start_time": "2022-08-02T18:19:39.525Z"
   },
   {
    "duration": 3698,
    "start_time": "2022-08-02T18:20:42.541Z"
   },
   {
    "duration": 1192,
    "start_time": "2022-08-02T18:20:58.554Z"
   },
   {
    "duration": 4239,
    "start_time": "2022-08-02T18:29:10.749Z"
   },
   {
    "duration": 98,
    "start_time": "2022-08-02T18:31:34.735Z"
   },
   {
    "duration": 5,
    "start_time": "2022-08-02T18:31:40.045Z"
   },
   {
    "duration": 235,
    "start_time": "2022-08-02T18:32:07.518Z"
   },
   {
    "duration": 2996,
    "start_time": "2022-08-02T18:35:49.806Z"
   },
   {
    "duration": 9,
    "start_time": "2022-08-02T18:36:06.907Z"
   },
   {
    "duration": 631,
    "start_time": "2022-08-02T18:36:18.219Z"
   },
   {
    "duration": 232,
    "start_time": "2022-08-02T18:42:44.523Z"
   },
   {
    "duration": 326,
    "start_time": "2022-08-02T18:42:58.851Z"
   },
   {
    "duration": 213,
    "start_time": "2022-08-02T18:43:16.867Z"
   },
   {
    "duration": 184,
    "start_time": "2022-08-02T18:43:23.109Z"
   },
   {
    "duration": 240,
    "start_time": "2022-08-02T18:43:35.928Z"
   },
   {
    "duration": 296,
    "start_time": "2022-08-02T18:43:43.773Z"
   },
   {
    "duration": 151,
    "start_time": "2022-08-02T18:43:51.104Z"
   },
   {
    "duration": 12,
    "start_time": "2022-08-02T18:43:55.746Z"
   },
   {
    "duration": 321,
    "start_time": "2022-08-02T18:43:59.738Z"
   },
   {
    "duration": 147,
    "start_time": "2022-08-02T18:44:05.905Z"
   },
   {
    "duration": 2093,
    "start_time": "2022-08-02T18:44:33.052Z"
   },
   {
    "duration": 24,
    "start_time": "2022-08-02T18:52:28.404Z"
   },
   {
    "duration": 526,
    "start_time": "2022-08-02T18:52:47.920Z"
   },
   {
    "duration": 617,
    "start_time": "2022-08-02T18:53:05.708Z"
   },
   {
    "duration": 455,
    "start_time": "2022-08-02T18:54:04.722Z"
   },
   {
    "duration": 692,
    "start_time": "2022-08-02T18:54:47.907Z"
   },
   {
    "duration": 19354,
    "start_time": "2022-08-03T12:18:44.775Z"
   },
   {
    "duration": 8800,
    "start_time": "2022-08-03T12:19:22.523Z"
   },
   {
    "duration": 706,
    "start_time": "2022-08-03T12:19:32.822Z"
   },
   {
    "duration": 1168,
    "start_time": "2022-08-03T12:19:35.986Z"
   },
   {
    "duration": 4845,
    "start_time": "2022-08-03T12:19:38.692Z"
   },
   {
    "duration": 696,
    "start_time": "2022-08-03T12:19:45.223Z"
   },
   {
    "duration": 1034,
    "start_time": "2022-08-03T12:19:47.822Z"
   },
   {
    "duration": 690,
    "start_time": "2022-08-03T12:24:53.423Z"
   },
   {
    "duration": 585,
    "start_time": "2022-08-03T12:25:27.330Z"
   },
   {
    "duration": 658,
    "start_time": "2022-08-03T12:26:05.795Z"
   },
   {
    "duration": 745,
    "start_time": "2022-08-03T12:26:23.325Z"
   },
   {
    "duration": 620,
    "start_time": "2022-08-03T12:26:58.962Z"
   },
   {
    "duration": 695,
    "start_time": "2022-08-03T12:27:53.521Z"
   },
   {
    "duration": 4345,
    "start_time": "2022-08-03T12:32:19.777Z"
   },
   {
    "duration": 662,
    "start_time": "2022-08-03T13:00:29.654Z"
   },
   {
    "duration": 554,
    "start_time": "2022-08-03T13:01:11.618Z"
   },
   {
    "duration": 538,
    "start_time": "2022-08-03T13:01:14.543Z"
   },
   {
    "duration": 2468,
    "start_time": "2022-08-03T13:01:34.056Z"
   },
   {
    "duration": 118,
    "start_time": "2022-08-03T13:02:04.351Z"
   },
   {
    "duration": 15,
    "start_time": "2022-08-03T13:02:59.326Z"
   },
   {
    "duration": 2794,
    "start_time": "2022-08-03T13:08:27.321Z"
   },
   {
    "duration": 2340,
    "start_time": "2022-08-03T13:08:35.082Z"
   },
   {
    "duration": 2254,
    "start_time": "2022-08-03T13:08:42.663Z"
   },
   {
    "duration": 1820,
    "start_time": "2022-08-03T13:08:55.322Z"
   },
   {
    "duration": 2255,
    "start_time": "2022-08-03T13:09:10.894Z"
   },
   {
    "duration": 1966,
    "start_time": "2022-08-03T13:09:27.646Z"
   },
   {
    "duration": 8,
    "start_time": "2022-08-03T13:15:48.928Z"
   },
   {
    "duration": 246,
    "start_time": "2022-08-03T13:21:51.094Z"
   },
   {
    "duration": 349,
    "start_time": "2022-08-03T13:22:03.225Z"
   },
   {
    "duration": 260,
    "start_time": "2022-08-03T13:22:44.322Z"
   },
   {
    "duration": 322,
    "start_time": "2022-08-03T13:24:10.524Z"
   },
   {
    "duration": 213,
    "start_time": "2022-08-03T13:25:40.463Z"
   },
   {
    "duration": 254,
    "start_time": "2022-08-03T13:25:47.589Z"
   },
   {
    "duration": 329,
    "start_time": "2022-08-03T13:25:54.824Z"
   },
   {
    "duration": 265,
    "start_time": "2022-08-03T13:26:09.386Z"
   },
   {
    "duration": 331,
    "start_time": "2022-08-03T13:26:22.033Z"
   },
   {
    "duration": 235,
    "start_time": "2022-08-03T13:27:17.248Z"
   },
   {
    "duration": 438,
    "start_time": "2022-08-03T13:27:35.325Z"
   },
   {
    "duration": 717,
    "start_time": "2022-08-03T13:32:40.952Z"
   },
   {
    "duration": 1758,
    "start_time": "2022-08-03T13:33:34.374Z"
   },
   {
    "duration": 13,
    "start_time": "2022-08-03T13:33:57.175Z"
   },
   {
    "duration": 16,
    "start_time": "2022-08-03T13:34:03.351Z"
   },
   {
    "duration": 1898,
    "start_time": "2022-08-03T13:34:34.259Z"
   },
   {
    "duration": 1876,
    "start_time": "2022-08-03T13:36:00.176Z"
   },
   {
    "duration": 1764,
    "start_time": "2022-08-03T13:36:06.880Z"
   },
   {
    "duration": 5,
    "start_time": "2022-08-03T13:36:32.748Z"
   },
   {
    "duration": 3,
    "start_time": "2022-08-03T13:36:52.240Z"
   },
   {
    "duration": 2209,
    "start_time": "2022-08-03T13:37:00.626Z"
   },
   {
    "duration": 1617,
    "start_time": "2022-08-03T13:37:10.496Z"
   },
   {
    "duration": 8,
    "start_time": "2022-08-03T13:38:11.025Z"
   },
   {
    "duration": 46,
    "start_time": "2022-08-03T13:38:18.183Z"
   },
   {
    "duration": 1286,
    "start_time": "2022-08-03T13:38:44.324Z"
   },
   {
    "duration": 29,
    "start_time": "2022-08-03T13:38:49.030Z"
   },
   {
    "duration": 1205,
    "start_time": "2022-08-03T13:38:50.591Z"
   },
   {
    "duration": 20,
    "start_time": "2022-08-03T13:39:35.427Z"
   },
   {
    "duration": 1186,
    "start_time": "2022-08-03T13:39:37.228Z"
   },
   {
    "duration": 2507,
    "start_time": "2022-08-03T13:41:13.272Z"
   },
   {
    "duration": 13,
    "start_time": "2022-08-03T13:41:20.522Z"
   },
   {
    "duration": 1417,
    "start_time": "2022-08-03T13:41:50.721Z"
   },
   {
    "duration": 4,
    "start_time": "2022-08-03T13:46:39.386Z"
   },
   {
    "duration": 16,
    "start_time": "2022-08-03T13:46:52.326Z"
   },
   {
    "duration": 2243,
    "start_time": "2022-08-03T13:46:54.221Z"
   },
   {
    "duration": 1616,
    "start_time": "2022-08-03T13:47:11.975Z"
   },
   {
    "duration": 1615,
    "start_time": "2022-08-03T13:47:19.421Z"
   },
   {
    "duration": 15,
    "start_time": "2022-08-03T13:48:16.618Z"
   },
   {
    "duration": 495,
    "start_time": "2022-08-03T13:48:24.185Z"
   },
   {
    "duration": 397,
    "start_time": "2022-08-03T13:48:42.916Z"
   },
   {
    "duration": 12,
    "start_time": "2022-08-03T13:48:49.280Z"
   },
   {
    "duration": 416,
    "start_time": "2022-08-03T13:49:11.640Z"
   },
   {
    "duration": 8,
    "start_time": "2022-08-03T13:50:21.617Z"
   },
   {
    "duration": 19,
    "start_time": "2022-08-03T13:51:20.626Z"
   },
   {
    "duration": 1048,
    "start_time": "2022-08-03T13:51:23.722Z"
   },
   {
    "duration": 11,
    "start_time": "2022-08-03T13:51:32.284Z"
   },
   {
    "duration": 1150,
    "start_time": "2022-08-03T13:51:34.645Z"
   },
   {
    "duration": 9,
    "start_time": "2022-08-03T13:51:54.749Z"
   },
   {
    "duration": 10,
    "start_time": "2022-08-03T13:52:00.020Z"
   },
   {
    "duration": 10,
    "start_time": "2022-08-03T13:52:08.151Z"
   },
   {
    "duration": 19302,
    "start_time": "2022-08-07T11:19:47.431Z"
   },
   {
    "duration": 7964,
    "start_time": "2022-08-07T11:20:22.874Z"
   },
   {
    "duration": 496,
    "start_time": "2022-08-07T11:20:46.747Z"
   },
   {
    "duration": 985,
    "start_time": "2022-08-07T11:20:51.153Z"
   },
   {
    "duration": 4994,
    "start_time": "2022-08-07T11:20:56.620Z"
   },
   {
    "duration": 420,
    "start_time": "2022-08-07T11:21:51.613Z"
   },
   {
    "duration": 312,
    "start_time": "2022-08-07T11:22:11.644Z"
   },
   {
    "duration": 111,
    "start_time": "2022-08-07T11:22:28.816Z"
   },
   {
    "duration": 169,
    "start_time": "2022-08-07T11:22:33.345Z"
   },
   {
    "duration": 103,
    "start_time": "2022-08-07T11:22:39.717Z"
   },
   {
    "duration": 290,
    "start_time": "2022-08-07T11:22:46.448Z"
   },
   {
    "duration": 664,
    "start_time": "2022-08-07T11:34:30.796Z"
   },
   {
    "duration": 29,
    "start_time": "2022-08-07T11:34:46.120Z"
   },
   {
    "duration": 799,
    "start_time": "2022-08-07T11:38:00.517Z"
   },
   {
    "duration": 3,
    "start_time": "2022-08-07T11:43:14.334Z"
   },
   {
    "duration": 13,
    "start_time": "2022-08-07T11:45:12.618Z"
   },
   {
    "duration": 13,
    "start_time": "2022-08-07T11:45:32.452Z"
   },
   {
    "duration": 18,
    "start_time": "2022-08-07T11:49:36.698Z"
   },
   {
    "duration": 331,
    "start_time": "2022-08-07T11:49:47.399Z"
   },
   {
    "duration": 9,
    "start_time": "2022-08-07T11:50:59.463Z"
   },
   {
    "duration": 8,
    "start_time": "2022-08-07T11:51:05.127Z"
   },
   {
    "duration": 8,
    "start_time": "2022-08-07T11:51:25.947Z"
   },
   {
    "duration": 351,
    "start_time": "2022-08-07T11:52:54.770Z"
   },
   {
    "duration": 7,
    "start_time": "2022-08-07T11:53:13.582Z"
   },
   {
    "duration": 13,
    "start_time": "2022-08-07T11:54:18.087Z"
   },
   {
    "duration": 5,
    "start_time": "2022-08-07T11:54:24.832Z"
   },
   {
    "duration": 10,
    "start_time": "2022-08-07T11:54:33.003Z"
   },
   {
    "duration": 6,
    "start_time": "2022-08-07T11:54:49.262Z"
   },
   {
    "duration": 4,
    "start_time": "2022-08-07T11:55:32.963Z"
   },
   {
    "duration": 7,
    "start_time": "2022-08-07T11:55:53.623Z"
   },
   {
    "duration": 8,
    "start_time": "2022-08-07T11:56:35.499Z"
   },
   {
    "duration": 7,
    "start_time": "2022-08-07T11:56:41.698Z"
   },
   {
    "duration": 308,
    "start_time": "2022-08-07T11:57:17.803Z"
   },
   {
    "duration": 721,
    "start_time": "2022-08-07T12:00:46.228Z"
   },
   {
    "duration": 415,
    "start_time": "2022-08-07T12:00:50.568Z"
   },
   {
    "duration": 4,
    "start_time": "2022-08-07T12:00:52.822Z"
   },
   {
    "duration": 9,
    "start_time": "2022-08-07T12:00:53.451Z"
   },
   {
    "duration": 205,
    "start_time": "2022-08-07T12:00:58.045Z"
   },
   {
    "duration": 210,
    "start_time": "2022-08-07T12:05:14.723Z"
   },
   {
    "duration": 1917,
    "start_time": "2022-08-07T12:07:00.960Z"
   },
   {
    "duration": 9,
    "start_time": "2022-08-07T12:07:08.337Z"
   },
   {
    "duration": 317,
    "start_time": "2022-08-07T12:07:12.807Z"
   },
   {
    "duration": 317,
    "start_time": "2022-08-07T12:07:25.501Z"
   },
   {
    "duration": 2093,
    "start_time": "2022-08-07T12:10:19.420Z"
   },
   {
    "duration": 2024,
    "start_time": "2022-08-07T12:12:25.001Z"
   },
   {
    "duration": 94,
    "start_time": "2022-08-07T12:35:04.716Z"
   },
   {
    "duration": 97,
    "start_time": "2022-08-07T12:35:20.699Z"
   },
   {
    "duration": 6,
    "start_time": "2022-08-07T12:35:27.686Z"
   },
   {
    "duration": 639,
    "start_time": "2022-08-07T12:35:27.693Z"
   },
   {
    "duration": 186,
    "start_time": "2022-08-07T12:35:28.333Z"
   },
   {
    "duration": 644,
    "start_time": "2022-08-07T12:35:28.521Z"
   },
   {
    "duration": 559,
    "start_time": "2022-08-07T12:35:29.167Z"
   },
   {
    "duration": 698,
    "start_time": "2022-08-07T12:35:29.730Z"
   },
   {
    "duration": 258,
    "start_time": "2022-08-07T12:35:30.432Z"
   },
   {
    "duration": 23,
    "start_time": "2022-08-07T12:35:30.691Z"
   },
   {
    "duration": 22,
    "start_time": "2022-08-07T12:35:30.716Z"
   },
   {
    "duration": 284,
    "start_time": "2022-08-07T12:35:30.740Z"
   },
   {
    "duration": 454,
    "start_time": "2022-08-07T12:35:36.480Z"
   },
   {
    "duration": 44,
    "start_time": "2022-08-07T12:35:43.639Z"
   },
   {
    "duration": 254,
    "start_time": "2022-08-07T12:35:49.173Z"
   },
   {
    "duration": 11,
    "start_time": "2022-08-07T12:37:32.966Z"
   },
   {
    "duration": 5,
    "start_time": "2022-08-07T12:38:12.872Z"
   },
   {
    "duration": 138,
    "start_time": "2022-08-07T12:39:08.074Z"
   },
   {
    "duration": 88,
    "start_time": "2022-08-07T12:39:22.296Z"
   },
   {
    "duration": 8,
    "start_time": "2022-08-07T12:39:32.457Z"
   },
   {
    "duration": 453,
    "start_time": "2022-08-07T12:39:32.467Z"
   },
   {
    "duration": 140,
    "start_time": "2022-08-07T12:39:32.922Z"
   },
   {
    "duration": 347,
    "start_time": "2022-08-07T12:39:33.065Z"
   },
   {
    "duration": 450,
    "start_time": "2022-08-07T12:39:33.413Z"
   },
   {
    "duration": 781,
    "start_time": "2022-08-07T12:39:33.865Z"
   },
   {
    "duration": 292,
    "start_time": "2022-08-07T12:39:34.648Z"
   },
   {
    "duration": 5,
    "start_time": "2022-08-07T12:39:34.942Z"
   },
   {
    "duration": 37,
    "start_time": "2022-08-07T12:39:34.948Z"
   },
   {
    "duration": 262,
    "start_time": "2022-08-07T12:39:34.988Z"
   },
   {
    "duration": 389,
    "start_time": "2022-08-07T12:39:35.252Z"
   },
   {
    "duration": 17,
    "start_time": "2022-08-07T12:39:35.643Z"
   },
   {
    "duration": 263,
    "start_time": "2022-08-07T12:39:35.662Z"
   },
   {
    "duration": 7,
    "start_time": "2022-08-07T12:39:35.926Z"
   },
   {
    "duration": 100,
    "start_time": "2022-08-07T12:39:40.296Z"
   },
   {
    "duration": 15622,
    "start_time": "2022-08-07T12:41:01.695Z"
   },
   {
    "duration": 8502,
    "start_time": "2022-08-07T12:41:17.321Z"
   },
   {
    "duration": 697,
    "start_time": "2022-08-07T12:41:25.825Z"
   },
   {
    "duration": 1220,
    "start_time": "2022-08-07T12:41:26.525Z"
   },
   {
    "duration": 1792,
    "start_time": "2022-08-07T12:41:27.746Z"
   },
   {
    "duration": 1650,
    "start_time": "2022-08-07T12:41:29.539Z"
   },
   {
    "duration": 463,
    "start_time": "2022-08-07T12:41:31.191Z"
   },
   {
    "duration": 5,
    "start_time": "2022-08-07T12:41:31.656Z"
   },
   {
    "duration": 30,
    "start_time": "2022-08-07T12:41:31.662Z"
   },
   {
    "duration": 334,
    "start_time": "2022-08-07T12:41:31.695Z"
   },
   {
    "duration": 2002,
    "start_time": "2022-08-07T12:41:32.031Z"
   },
   {
    "duration": 93,
    "start_time": "2022-08-07T12:41:34.035Z"
   },
   {
    "duration": 683,
    "start_time": "2022-08-07T12:41:34.130Z"
   },
   {
    "duration": 9,
    "start_time": "2022-08-07T12:41:34.815Z"
   },
   {
    "duration": 263,
    "start_time": "2022-08-07T12:41:39.217Z"
   },
   {
    "duration": 88,
    "start_time": "2022-08-07T12:43:01.767Z"
   },
   {
    "duration": 7,
    "start_time": "2022-08-07T12:43:09.151Z"
   },
   {
    "duration": 569,
    "start_time": "2022-08-07T12:43:09.160Z"
   },
   {
    "duration": 283,
    "start_time": "2022-08-07T12:43:09.731Z"
   },
   {
    "duration": 568,
    "start_time": "2022-08-07T12:43:10.016Z"
   },
   {
    "duration": 638,
    "start_time": "2022-08-07T12:43:10.586Z"
   },
   {
    "duration": 978,
    "start_time": "2022-08-07T12:43:11.226Z"
   },
   {
    "duration": 630,
    "start_time": "2022-08-07T12:43:12.210Z"
   },
   {
    "duration": 4,
    "start_time": "2022-08-07T12:43:12.842Z"
   },
   {
    "duration": 10,
    "start_time": "2022-08-07T12:43:12.847Z"
   },
   {
    "duration": 214,
    "start_time": "2022-08-07T12:43:12.860Z"
   },
   {
    "duration": 636,
    "start_time": "2022-08-07T12:43:13.076Z"
   },
   {
    "duration": 22,
    "start_time": "2022-08-07T12:43:13.714Z"
   },
   {
    "duration": 387,
    "start_time": "2022-08-07T12:43:13.738Z"
   },
   {
    "duration": 5,
    "start_time": "2022-08-07T12:43:14.127Z"
   },
   {
    "duration": 822,
    "start_time": "2022-08-07T12:43:17.433Z"
   },
   {
    "duration": 92,
    "start_time": "2022-08-07T12:44:05.002Z"
   },
   {
    "duration": 9,
    "start_time": "2022-08-07T12:44:11.878Z"
   },
   {
    "duration": 452,
    "start_time": "2022-08-07T12:44:11.889Z"
   },
   {
    "duration": 283,
    "start_time": "2022-08-07T12:44:12.343Z"
   },
   {
    "duration": 588,
    "start_time": "2022-08-07T12:44:12.628Z"
   },
   {
    "duration": 535,
    "start_time": "2022-08-07T12:44:13.219Z"
   },
   {
    "duration": 627,
    "start_time": "2022-08-07T12:44:13.756Z"
   },
   {
    "duration": 576,
    "start_time": "2022-08-07T12:44:14.385Z"
   },
   {
    "duration": 4,
    "start_time": "2022-08-07T12:44:14.963Z"
   },
   {
    "duration": 18,
    "start_time": "2022-08-07T12:44:14.968Z"
   },
   {
    "duration": 202,
    "start_time": "2022-08-07T12:44:14.989Z"
   },
   {
    "duration": 462,
    "start_time": "2022-08-07T12:44:15.192Z"
   },
   {
    "duration": 57,
    "start_time": "2022-08-07T12:44:15.656Z"
   },
   {
    "duration": 231,
    "start_time": "2022-08-07T12:44:15.715Z"
   },
   {
    "duration": 24,
    "start_time": "2022-08-07T12:44:18.578Z"
   },
   {
    "duration": 434,
    "start_time": "2022-08-07T12:44:38.021Z"
   },
   {
    "duration": 76,
    "start_time": "2022-08-07T12:46:58.684Z"
   },
   {
    "duration": 7,
    "start_time": "2022-08-07T12:47:07.254Z"
   },
   {
    "duration": 410,
    "start_time": "2022-08-07T12:47:07.262Z"
   },
   {
    "duration": 238,
    "start_time": "2022-08-07T12:47:07.674Z"
   },
   {
    "duration": 462,
    "start_time": "2022-08-07T12:47:07.914Z"
   },
   {
    "duration": 404,
    "start_time": "2022-08-07T12:47:08.378Z"
   },
   {
    "duration": 529,
    "start_time": "2022-08-07T12:47:08.811Z"
   },
   {
    "duration": 351,
    "start_time": "2022-08-07T12:47:09.341Z"
   },
   {
    "duration": 4,
    "start_time": "2022-08-07T12:47:09.693Z"
   },
   {
    "duration": 19,
    "start_time": "2022-08-07T12:47:09.699Z"
   },
   {
    "duration": 241,
    "start_time": "2022-08-07T12:47:12.382Z"
   },
   {
    "duration": 1459,
    "start_time": "2022-08-07T12:47:37.591Z"
   },
   {
    "duration": 16,
    "start_time": "2022-08-07T12:47:51.626Z"
   },
   {
    "duration": 171,
    "start_time": "2022-08-07T12:47:53.956Z"
   },
   {
    "duration": 22,
    "start_time": "2022-08-07T12:47:59.332Z"
   },
   {
    "duration": 719,
    "start_time": "2022-08-07T12:48:02.298Z"
   },
   {
    "duration": 4256,
    "start_time": "2022-08-07T12:48:09.586Z"
   },
   {
    "duration": 405,
    "start_time": "2022-08-07T12:49:43.807Z"
   },
   {
    "duration": 3,
    "start_time": "2022-08-07T12:53:29.832Z"
   },
   {
    "duration": 267,
    "start_time": "2022-08-07T12:54:10.118Z"
   },
   {
    "duration": 27918,
    "start_time": "2022-08-07T12:54:25.999Z"
   },
   {
    "duration": 37,
    "start_time": "2022-08-07T12:58:10.004Z"
   },
   {
    "duration": 22265,
    "start_time": "2022-08-07T12:58:14.447Z"
   },
   {
    "duration": 16301,
    "start_time": "2022-08-07T12:58:44.830Z"
   },
   {
    "duration": 8244,
    "start_time": "2022-08-07T12:59:06.187Z"
   },
   {
    "duration": 579,
    "start_time": "2022-08-07T12:59:22.762Z"
   },
   {
    "duration": 1160,
    "start_time": "2022-08-07T12:59:26.993Z"
   },
   {
    "duration": 1536,
    "start_time": "2022-08-07T12:59:35.200Z"
   },
   {
    "duration": 1327,
    "start_time": "2022-08-07T12:59:40.433Z"
   },
   {
    "duration": 836,
    "start_time": "2022-08-07T13:00:07.485Z"
   },
   {
    "duration": 859,
    "start_time": "2022-08-07T13:00:20.775Z"
   },
   {
    "duration": 493,
    "start_time": "2022-08-07T13:00:26.490Z"
   },
   {
    "duration": 7,
    "start_time": "2022-08-07T13:00:28.756Z"
   },
   {
    "duration": 11,
    "start_time": "2022-08-07T13:00:30.954Z"
   },
   {
    "duration": 422,
    "start_time": "2022-08-07T13:00:33.432Z"
   },
   {
    "duration": 3349,
    "start_time": "2022-08-07T13:00:40.261Z"
   },
   {
    "duration": 43,
    "start_time": "2022-08-07T13:00:45.894Z"
   },
   {
    "duration": 469,
    "start_time": "2022-08-07T13:00:47.963Z"
   },
   {
    "duration": 34,
    "start_time": "2022-08-07T13:00:56.509Z"
   },
   {
    "duration": 1172,
    "start_time": "2022-08-07T13:00:58.571Z"
   },
   {
    "duration": 4935,
    "start_time": "2022-08-07T13:01:02.355Z"
   },
   {
    "duration": 343,
    "start_time": "2022-08-07T13:01:13.876Z"
   },
   {
    "duration": 2,
    "start_time": "2022-08-07T13:01:16.908Z"
   },
   {
    "duration": 2719,
    "start_time": "2022-08-07T13:01:20.312Z"
   },
   {
    "duration": 379,
    "start_time": "2022-08-07T13:01:53.355Z"
   },
   {
    "duration": 2445,
    "start_time": "2022-08-07T13:02:28.775Z"
   },
   {
    "duration": 3422,
    "start_time": "2022-08-07T13:02:44.197Z"
   },
   {
    "duration": 168,
    "start_time": "2022-08-07T13:05:49.835Z"
   },
   {
    "duration": 29,
    "start_time": "2022-08-07T13:05:54.035Z"
   },
   {
    "duration": 28,
    "start_time": "2022-08-07T13:06:06.905Z"
   },
   {
    "duration": 865,
    "start_time": "2022-08-07T13:06:23.058Z"
   },
   {
    "duration": 1394,
    "start_time": "2022-08-07T13:07:13.434Z"
   },
   {
    "duration": 1935,
    "start_time": "2022-08-07T13:08:53.411Z"
   },
   {
    "duration": 1440,
    "start_time": "2022-08-07T13:21:02.524Z"
   },
   {
    "duration": 1286,
    "start_time": "2022-08-07T13:21:10.097Z"
   },
   {
    "duration": 1171,
    "start_time": "2022-08-07T13:21:16.165Z"
   },
   {
    "duration": 1969,
    "start_time": "2022-08-07T13:21:57.142Z"
   },
   {
    "duration": 1028,
    "start_time": "2022-08-07T13:22:03.326Z"
   },
   {
    "duration": 3353,
    "start_time": "2022-08-07T13:24:28.849Z"
   },
   {
    "duration": 88,
    "start_time": "2022-08-07T13:27:04.558Z"
   },
   {
    "duration": 6,
    "start_time": "2022-08-07T13:27:11.488Z"
   },
   {
    "duration": 556,
    "start_time": "2022-08-07T13:27:11.496Z"
   },
   {
    "duration": 209,
    "start_time": "2022-08-07T13:27:12.054Z"
   },
   {
    "duration": 551,
    "start_time": "2022-08-07T13:27:12.266Z"
   },
   {
    "duration": 601,
    "start_time": "2022-08-07T13:27:12.818Z"
   },
   {
    "duration": 549,
    "start_time": "2022-08-07T13:27:13.421Z"
   },
   {
    "duration": 245,
    "start_time": "2022-08-07T13:27:13.972Z"
   },
   {
    "duration": 5,
    "start_time": "2022-08-07T13:27:14.218Z"
   },
   {
    "duration": 8,
    "start_time": "2022-08-07T13:27:14.225Z"
   },
   {
    "duration": 285,
    "start_time": "2022-08-07T13:27:14.234Z"
   },
   {
    "duration": 1037,
    "start_time": "2022-08-07T13:27:14.520Z"
   },
   {
    "duration": 1129,
    "start_time": "2022-08-07T13:27:18.982Z"
   },
   {
    "duration": 2714,
    "start_time": "2022-08-07T13:33:15.128Z"
   },
   {
    "duration": 4262,
    "start_time": "2022-08-07T13:33:45.455Z"
   },
   {
    "duration": 10,
    "start_time": "2022-08-07T13:35:20.205Z"
   },
   {
    "duration": 10,
    "start_time": "2022-08-07T13:35:29.527Z"
   },
   {
    "duration": 3093,
    "start_time": "2022-08-07T13:36:50.252Z"
   },
   {
    "duration": 87,
    "start_time": "2022-08-07T13:39:13.325Z"
   },
   {
    "duration": 6,
    "start_time": "2022-08-07T13:39:24.664Z"
   },
   {
    "duration": 352,
    "start_time": "2022-08-07T13:39:24.672Z"
   },
   {
    "duration": 134,
    "start_time": "2022-08-07T13:39:25.027Z"
   },
   {
    "duration": 478,
    "start_time": "2022-08-07T13:39:25.163Z"
   },
   {
    "duration": 350,
    "start_time": "2022-08-07T13:39:25.643Z"
   },
   {
    "duration": 510,
    "start_time": "2022-08-07T13:39:26.011Z"
   },
   {
    "duration": 305,
    "start_time": "2022-08-07T13:39:26.523Z"
   },
   {
    "duration": 4,
    "start_time": "2022-08-07T13:39:26.830Z"
   },
   {
    "duration": 10,
    "start_time": "2022-08-07T13:39:26.835Z"
   },
   {
    "duration": 217,
    "start_time": "2022-08-07T13:39:26.846Z"
   },
   {
    "duration": 1004,
    "start_time": "2022-08-07T13:39:27.064Z"
   },
   {
    "duration": 1361,
    "start_time": "2022-08-07T13:39:34.159Z"
   },
   {
    "duration": 93,
    "start_time": "2022-08-07T13:39:40.724Z"
   },
   {
    "duration": 3,
    "start_time": "2022-08-07T13:39:44.393Z"
   },
   {
    "duration": 1009,
    "start_time": "2022-08-07T13:39:47.011Z"
   },
   {
    "duration": 2529,
    "start_time": "2022-08-07T13:40:00.004Z"
   },
   {
    "duration": 2485,
    "start_time": "2022-08-07T13:40:05.084Z"
   },
   {
    "duration": 89,
    "start_time": "2022-08-07T13:40:42.238Z"
   },
   {
    "duration": 129,
    "start_time": "2022-08-07T13:41:30.773Z"
   },
   {
    "duration": 101,
    "start_time": "2022-08-07T13:42:00.327Z"
   },
   {
    "duration": 6,
    "start_time": "2022-08-07T13:42:08.878Z"
   },
   {
    "duration": 256,
    "start_time": "2022-08-07T13:42:08.886Z"
   },
   {
    "duration": 114,
    "start_time": "2022-08-07T13:42:09.143Z"
   },
   {
    "duration": 419,
    "start_time": "2022-08-07T13:42:09.260Z"
   },
   {
    "duration": 348,
    "start_time": "2022-08-07T13:42:09.681Z"
   },
   {
    "duration": 595,
    "start_time": "2022-08-07T13:42:10.030Z"
   },
   {
    "duration": 237,
    "start_time": "2022-08-07T13:42:10.626Z"
   },
   {
    "duration": 5,
    "start_time": "2022-08-07T13:42:10.865Z"
   },
   {
    "duration": 10,
    "start_time": "2022-08-07T13:42:10.873Z"
   },
   {
    "duration": 252,
    "start_time": "2022-08-07T13:42:10.885Z"
   },
   {
    "duration": 1097,
    "start_time": "2022-08-07T13:42:11.138Z"
   },
   {
    "duration": 1298,
    "start_time": "2022-08-07T13:42:12.236Z"
   },
   {
    "duration": 104,
    "start_time": "2022-08-07T13:42:13.536Z"
   },
   {
    "duration": 3,
    "start_time": "2022-08-07T13:42:13.710Z"
   },
   {
    "duration": 797,
    "start_time": "2022-08-07T13:42:13.715Z"
   },
   {
    "duration": 2739,
    "start_time": "2022-08-07T13:42:14.514Z"
   },
   {
    "duration": 2293,
    "start_time": "2022-08-07T13:42:17.255Z"
   },
   {
    "duration": 135,
    "start_time": "2022-08-07T13:42:19.549Z"
   },
   {
    "duration": 81,
    "start_time": "2022-08-07T13:42:44.712Z"
   },
   {
    "duration": 7,
    "start_time": "2022-08-07T13:43:10.612Z"
   },
   {
    "duration": 245,
    "start_time": "2022-08-07T13:43:10.620Z"
   },
   {
    "duration": 86,
    "start_time": "2022-08-07T13:43:10.866Z"
   },
   {
    "duration": 327,
    "start_time": "2022-08-07T13:43:10.953Z"
   },
   {
    "duration": 259,
    "start_time": "2022-08-07T13:43:11.282Z"
   },
   {
    "duration": 515,
    "start_time": "2022-08-07T13:43:11.543Z"
   },
   {
    "duration": 262,
    "start_time": "2022-08-07T13:43:12.059Z"
   },
   {
    "duration": 4,
    "start_time": "2022-08-07T13:43:12.323Z"
   },
   {
    "duration": 9,
    "start_time": "2022-08-07T13:43:12.328Z"
   },
   {
    "duration": 326,
    "start_time": "2022-08-07T13:43:12.338Z"
   },
   {
    "duration": 991,
    "start_time": "2022-08-07T13:43:12.666Z"
   },
   {
    "duration": 570,
    "start_time": "2022-08-07T13:43:18.261Z"
   },
   {
    "duration": 51,
    "start_time": "2022-08-07T13:43:22.193Z"
   },
   {
    "duration": 3,
    "start_time": "2022-08-07T13:43:24.966Z"
   },
   {
    "duration": 871,
    "start_time": "2022-08-07T13:43:26.565Z"
   },
   {
    "duration": 2277,
    "start_time": "2022-08-07T13:43:30.624Z"
   },
   {
    "duration": 2585,
    "start_time": "2022-08-07T13:43:37.961Z"
   },
   {
    "duration": 16175,
    "start_time": "2022-08-07T13:44:56.367Z"
   },
   {
    "duration": 8681,
    "start_time": "2022-08-07T13:45:12.544Z"
   },
   {
    "duration": 711,
    "start_time": "2022-08-07T13:45:21.227Z"
   },
   {
    "duration": 1515,
    "start_time": "2022-08-07T13:45:21.941Z"
   },
   {
    "duration": 1701,
    "start_time": "2022-08-07T13:45:23.512Z"
   },
   {
    "duration": 1297,
    "start_time": "2022-08-07T13:45:25.215Z"
   },
   {
    "duration": 605,
    "start_time": "2022-08-07T13:45:26.514Z"
   },
   {
    "duration": 6,
    "start_time": "2022-08-07T13:45:27.120Z"
   },
   {
    "duration": 7,
    "start_time": "2022-08-07T13:45:27.127Z"
   },
   {
    "duration": 316,
    "start_time": "2022-08-07T13:45:27.137Z"
   },
   {
    "duration": 2237,
    "start_time": "2022-08-07T13:45:27.511Z"
   },
   {
    "duration": 4051,
    "start_time": "2022-08-07T13:49:54.665Z"
   },
   {
    "duration": 326,
    "start_time": "2022-08-07T13:50:06.895Z"
   },
   {
    "duration": 262,
    "start_time": "2022-08-07T13:51:17.468Z"
   },
   {
    "duration": 2,
    "start_time": "2022-08-07T13:51:31.622Z"
   },
   {
    "duration": 2975,
    "start_time": "2022-08-07T13:51:32.947Z"
   },
   {
    "duration": 6,
    "start_time": "2022-08-07T13:53:04.418Z"
   },
   {
    "duration": 621,
    "start_time": "2022-08-07T13:53:04.425Z"
   },
   {
    "duration": 265,
    "start_time": "2022-08-07T13:53:05.049Z"
   },
   {
    "duration": 739,
    "start_time": "2022-08-07T13:53:05.316Z"
   },
   {
    "duration": 602,
    "start_time": "2022-08-07T13:53:06.056Z"
   },
   {
    "duration": 1043,
    "start_time": "2022-08-07T13:53:06.660Z"
   },
   {
    "duration": 496,
    "start_time": "2022-08-07T13:53:07.710Z"
   },
   {
    "duration": 6,
    "start_time": "2022-08-07T13:53:08.207Z"
   },
   {
    "duration": 9,
    "start_time": "2022-08-07T13:53:08.215Z"
   },
   {
    "duration": 210,
    "start_time": "2022-08-07T13:53:08.225Z"
   },
   {
    "duration": 1255,
    "start_time": "2022-08-07T13:53:08.436Z"
   },
   {
    "duration": 1628,
    "start_time": "2022-08-07T13:53:29.183Z"
   },
   {
    "duration": 143,
    "start_time": "2022-08-07T13:53:38.574Z"
   },
   {
    "duration": 2,
    "start_time": "2022-08-07T13:53:40.919Z"
   },
   {
    "duration": 2629,
    "start_time": "2022-08-07T13:53:42.883Z"
   },
   {
    "duration": 6805,
    "start_time": "2022-08-07T13:53:47.922Z"
   },
   {
    "duration": 4765,
    "start_time": "2022-08-07T13:53:57.387Z"
   },
   {
    "duration": 4574,
    "start_time": "2022-08-07T13:54:09.361Z"
   },
   {
    "duration": 87,
    "start_time": "2022-08-07T14:00:40.065Z"
   },
   {
    "duration": 6,
    "start_time": "2022-08-07T14:00:46.781Z"
   },
   {
    "duration": 438,
    "start_time": "2022-08-07T14:00:46.788Z"
   },
   {
    "duration": 134,
    "start_time": "2022-08-07T14:00:47.228Z"
   },
   {
    "duration": 403,
    "start_time": "2022-08-07T14:00:47.363Z"
   },
   {
    "duration": 389,
    "start_time": "2022-08-07T14:00:47.768Z"
   },
   {
    "duration": 557,
    "start_time": "2022-08-07T14:00:48.159Z"
   },
   {
    "duration": 252,
    "start_time": "2022-08-07T14:00:48.718Z"
   },
   {
    "duration": 5,
    "start_time": "2022-08-07T14:00:48.971Z"
   },
   {
    "duration": 10,
    "start_time": "2022-08-07T14:00:48.977Z"
   },
   {
    "duration": 212,
    "start_time": "2022-08-07T14:00:49.011Z"
   },
   {
    "duration": 1095,
    "start_time": "2022-08-07T14:00:49.224Z"
   },
   {
    "duration": 1392,
    "start_time": "2022-08-07T14:00:52.690Z"
   },
   {
    "duration": 113,
    "start_time": "2022-08-07T14:01:24.927Z"
   },
   {
    "duration": 7,
    "start_time": "2022-08-07T14:01:40.060Z"
   },
   {
    "duration": 447,
    "start_time": "2022-08-07T14:01:40.069Z"
   },
   {
    "duration": 130,
    "start_time": "2022-08-07T14:01:40.518Z"
   },
   {
    "duration": 305,
    "start_time": "2022-08-07T14:01:40.650Z"
   },
   {
    "duration": 363,
    "start_time": "2022-08-07T14:01:40.957Z"
   },
   {
    "duration": 551,
    "start_time": "2022-08-07T14:01:41.323Z"
   },
   {
    "duration": 278,
    "start_time": "2022-08-07T14:01:41.875Z"
   },
   {
    "duration": 5,
    "start_time": "2022-08-07T14:01:42.155Z"
   },
   {
    "duration": 12,
    "start_time": "2022-08-07T14:01:42.163Z"
   },
   {
    "duration": 287,
    "start_time": "2022-08-07T14:01:42.176Z"
   },
   {
    "duration": 1110,
    "start_time": "2022-08-07T14:01:42.465Z"
   },
   {
    "duration": 1053,
    "start_time": "2022-08-07T14:01:46.175Z"
   },
   {
    "duration": 94,
    "start_time": "2022-08-07T14:02:01.869Z"
   },
   {
    "duration": 105,
    "start_time": "2022-08-07T14:02:03.522Z"
   },
   {
    "duration": 3,
    "start_time": "2022-08-07T14:02:04.191Z"
   },
   {
    "duration": 1915,
    "start_time": "2022-08-07T14:02:04.728Z"
   },
   {
    "duration": 4953,
    "start_time": "2022-08-07T14:02:11.594Z"
   },
   {
    "duration": 4483,
    "start_time": "2022-08-07T14:02:16.549Z"
   },
   {
    "duration": 4146,
    "start_time": "2022-08-07T14:02:27.884Z"
   },
   {
    "duration": 4618,
    "start_time": "2022-08-07T14:02:51.530Z"
   },
   {
    "duration": 6,
    "start_time": "2022-08-07T14:03:14.793Z"
   },
   {
    "duration": 253,
    "start_time": "2022-08-07T14:03:14.801Z"
   },
   {
    "duration": 107,
    "start_time": "2022-08-07T14:03:15.055Z"
   },
   {
    "duration": 455,
    "start_time": "2022-08-07T14:03:15.164Z"
   },
   {
    "duration": 278,
    "start_time": "2022-08-07T14:03:15.621Z"
   },
   {
    "duration": 470,
    "start_time": "2022-08-07T14:03:15.901Z"
   },
   {
    "duration": 331,
    "start_time": "2022-08-07T14:03:16.372Z"
   },
   {
    "duration": 8,
    "start_time": "2022-08-07T14:03:16.705Z"
   },
   {
    "duration": 13,
    "start_time": "2022-08-07T14:03:16.715Z"
   },
   {
    "duration": 234,
    "start_time": "2022-08-07T14:03:16.729Z"
   },
   {
    "duration": 1018,
    "start_time": "2022-08-07T14:03:16.965Z"
   },
   {
    "duration": 937,
    "start_time": "2022-08-07T14:03:17.984Z"
   },
   {
    "duration": 95,
    "start_time": "2022-08-07T14:03:18.923Z"
   },
   {
    "duration": 3,
    "start_time": "2022-08-07T14:03:19.020Z"
   },
   {
    "duration": 1390,
    "start_time": "2022-08-07T14:03:19.025Z"
   },
   {
    "duration": 3734,
    "start_time": "2022-08-07T14:03:20.417Z"
   },
   {
    "duration": 3796,
    "start_time": "2022-08-07T14:03:24.152Z"
   },
   {
    "duration": 3881,
    "start_time": "2022-08-07T14:03:27.949Z"
   },
   {
    "duration": 3393,
    "start_time": "2022-08-07T14:03:31.832Z"
   },
   {
    "duration": 65,
    "start_time": "2022-08-07T14:06:33.911Z"
   },
   {
    "duration": 121,
    "start_time": "2022-08-07T14:06:46.195Z"
   },
   {
    "duration": 64,
    "start_time": "2022-08-07T14:06:53.063Z"
   },
   {
    "duration": 87,
    "start_time": "2022-08-07T14:07:00.530Z"
   },
   {
    "duration": 52,
    "start_time": "2022-08-07T14:07:05.714Z"
   },
   {
    "duration": 116,
    "start_time": "2022-08-07T14:07:13.200Z"
   },
   {
    "duration": 3,
    "start_time": "2022-08-07T14:07:26.090Z"
   },
   {
    "duration": 918,
    "start_time": "2022-08-07T14:07:27.650Z"
   },
   {
    "duration": 3225,
    "start_time": "2022-08-07T14:07:30.419Z"
   },
   {
    "duration": 2364,
    "start_time": "2022-08-07T14:07:35.560Z"
   },
   {
    "duration": 2484,
    "start_time": "2022-08-07T14:07:42.316Z"
   },
   {
    "duration": 2509,
    "start_time": "2022-08-07T14:07:47.118Z"
   },
   {
    "duration": 11,
    "start_time": "2022-08-07T14:08:10.583Z"
   },
   {
    "duration": 2239,
    "start_time": "2022-08-07T14:08:16.473Z"
   },
   {
    "duration": 5316,
    "start_time": "2022-08-07T14:10:30.421Z"
   },
   {
    "duration": 6,
    "start_time": "2022-08-07T14:12:06.460Z"
   },
   {
    "duration": 356,
    "start_time": "2022-08-07T14:12:06.467Z"
   },
   {
    "duration": 128,
    "start_time": "2022-08-07T14:12:06.825Z"
   },
   {
    "duration": 432,
    "start_time": "2022-08-07T14:12:06.955Z"
   },
   {
    "duration": 285,
    "start_time": "2022-08-07T14:12:07.389Z"
   },
   {
    "duration": 500,
    "start_time": "2022-08-07T14:12:07.712Z"
   },
   {
    "duration": 506,
    "start_time": "2022-08-07T14:12:08.213Z"
   },
   {
    "duration": 4,
    "start_time": "2022-08-07T14:12:08.720Z"
   },
   {
    "duration": 11,
    "start_time": "2022-08-07T14:12:08.726Z"
   },
   {
    "duration": 239,
    "start_time": "2022-08-07T14:12:08.739Z"
   },
   {
    "duration": 1390,
    "start_time": "2022-08-07T14:12:08.979Z"
   },
   {
    "duration": 1037,
    "start_time": "2022-08-07T14:12:14.575Z"
   },
   {
    "duration": 3483,
    "start_time": "2022-08-07T14:12:25.460Z"
   },
   {
    "duration": 5,
    "start_time": "2022-08-07T14:13:19.750Z"
   },
   {
    "duration": 227,
    "start_time": "2022-08-07T14:13:19.757Z"
   },
   {
    "duration": 131,
    "start_time": "2022-08-07T14:13:19.986Z"
   },
   {
    "duration": 482,
    "start_time": "2022-08-07T14:13:20.119Z"
   },
   {
    "duration": 293,
    "start_time": "2022-08-07T14:13:20.604Z"
   },
   {
    "duration": 457,
    "start_time": "2022-08-07T14:13:20.899Z"
   },
   {
    "duration": 260,
    "start_time": "2022-08-07T14:13:21.357Z"
   },
   {
    "duration": 5,
    "start_time": "2022-08-07T14:13:21.619Z"
   },
   {
    "duration": 19,
    "start_time": "2022-08-07T14:13:21.626Z"
   },
   {
    "duration": 198,
    "start_time": "2022-08-07T14:13:21.647Z"
   },
   {
    "duration": 1193,
    "start_time": "2022-08-07T14:13:21.847Z"
   },
   {
    "duration": 1074,
    "start_time": "2022-08-07T14:13:23.042Z"
   },
   {
    "duration": 128,
    "start_time": "2022-08-07T14:13:24.117Z"
   },
   {
    "duration": 65,
    "start_time": "2022-08-07T14:13:24.247Z"
   },
   {
    "duration": 1997,
    "start_time": "2022-08-07T14:13:24.314Z"
   },
   {
    "duration": 4157,
    "start_time": "2022-08-07T14:13:26.313Z"
   },
   {
    "duration": 3415,
    "start_time": "2022-08-07T14:13:30.511Z"
   },
   {
    "duration": 4201,
    "start_time": "2022-08-07T14:13:33.928Z"
   },
   {
    "duration": 3908,
    "start_time": "2022-08-07T14:13:38.132Z"
   },
   {
    "duration": 4038,
    "start_time": "2022-08-07T14:13:42.042Z"
   },
   {
    "duration": 8,
    "start_time": "2022-08-07T14:15:30.573Z"
   },
   {
    "duration": 220,
    "start_time": "2022-08-07T14:15:30.584Z"
   },
   {
    "duration": 64,
    "start_time": "2022-08-07T14:15:30.810Z"
   },
   {
    "duration": 385,
    "start_time": "2022-08-07T14:15:30.876Z"
   },
   {
    "duration": 266,
    "start_time": "2022-08-07T14:15:31.262Z"
   },
   {
    "duration": 609,
    "start_time": "2022-08-07T14:15:31.530Z"
   },
   {
    "duration": 346,
    "start_time": "2022-08-07T14:15:32.140Z"
   },
   {
    "duration": 23,
    "start_time": "2022-08-07T14:15:32.488Z"
   },
   {
    "duration": 9,
    "start_time": "2022-08-07T14:15:32.522Z"
   },
   {
    "duration": 258,
    "start_time": "2022-08-07T14:15:32.533Z"
   },
   {
    "duration": 1392,
    "start_time": "2022-08-07T14:15:32.793Z"
   },
   {
    "duration": 1051,
    "start_time": "2022-08-07T14:15:36.712Z"
   },
   {
    "duration": 2,
    "start_time": "2022-08-07T14:15:53.351Z"
   },
   {
    "duration": 1648,
    "start_time": "2022-08-07T14:15:55.019Z"
   },
   {
    "duration": 3565,
    "start_time": "2022-08-07T14:16:01.199Z"
   },
   {
    "duration": 10,
    "start_time": "2022-08-07T14:16:40.870Z"
   },
   {
    "duration": 223,
    "start_time": "2022-08-07T14:16:40.882Z"
   },
   {
    "duration": 62,
    "start_time": "2022-08-07T14:16:41.107Z"
   },
   {
    "duration": 505,
    "start_time": "2022-08-07T14:16:41.172Z"
   },
   {
    "duration": 348,
    "start_time": "2022-08-07T14:16:41.679Z"
   },
   {
    "duration": 723,
    "start_time": "2022-08-07T14:16:42.029Z"
   },
   {
    "duration": 232,
    "start_time": "2022-08-07T14:16:42.754Z"
   },
   {
    "duration": 25,
    "start_time": "2022-08-07T14:16:42.988Z"
   },
   {
    "duration": 9,
    "start_time": "2022-08-07T14:16:43.015Z"
   },
   {
    "duration": 218,
    "start_time": "2022-08-07T14:16:43.026Z"
   },
   {
    "duration": 983,
    "start_time": "2022-08-07T14:16:43.246Z"
   },
   {
    "duration": 940,
    "start_time": "2022-08-07T14:16:46.999Z"
   },
   {
    "duration": 3,
    "start_time": "2022-08-07T14:16:51.776Z"
   },
   {
    "duration": 1286,
    "start_time": "2022-08-07T14:16:53.776Z"
   },
   {
    "duration": 4302,
    "start_time": "2022-08-07T14:17:00.111Z"
   },
   {
    "duration": 6,
    "start_time": "2022-08-07T14:17:25.329Z"
   },
   {
    "duration": 210,
    "start_time": "2022-08-07T14:17:25.346Z"
   },
   {
    "duration": 101,
    "start_time": "2022-08-07T14:17:25.558Z"
   },
   {
    "duration": 555,
    "start_time": "2022-08-07T14:17:25.661Z"
   },
   {
    "duration": 241,
    "start_time": "2022-08-07T14:17:26.218Z"
   },
   {
    "duration": 466,
    "start_time": "2022-08-07T14:17:26.461Z"
   },
   {
    "duration": 220,
    "start_time": "2022-08-07T14:17:26.929Z"
   },
   {
    "duration": 4,
    "start_time": "2022-08-07T14:17:27.151Z"
   },
   {
    "duration": 10,
    "start_time": "2022-08-07T14:17:27.156Z"
   },
   {
    "duration": 200,
    "start_time": "2022-08-07T14:17:27.168Z"
   },
   {
    "duration": 974,
    "start_time": "2022-08-07T14:17:27.369Z"
   },
   {
    "duration": 963,
    "start_time": "2022-08-07T14:17:31.290Z"
   },
   {
    "duration": 3,
    "start_time": "2022-08-07T14:17:35.789Z"
   },
   {
    "duration": 1383,
    "start_time": "2022-08-07T14:17:38.483Z"
   },
   {
    "duration": 3373,
    "start_time": "2022-08-07T14:17:44.350Z"
   },
   {
    "duration": 6,
    "start_time": "2022-08-07T14:19:07.355Z"
   },
   {
    "duration": 261,
    "start_time": "2022-08-07T14:19:07.364Z"
   },
   {
    "duration": 122,
    "start_time": "2022-08-07T14:19:07.626Z"
   },
   {
    "duration": 473,
    "start_time": "2022-08-07T14:19:07.749Z"
   },
   {
    "duration": 269,
    "start_time": "2022-08-07T14:19:08.224Z"
   },
   {
    "duration": 416,
    "start_time": "2022-08-07T14:19:08.495Z"
   },
   {
    "duration": 218,
    "start_time": "2022-08-07T14:19:08.912Z"
   },
   {
    "duration": 4,
    "start_time": "2022-08-07T14:19:09.132Z"
   },
   {
    "duration": 11,
    "start_time": "2022-08-07T14:19:09.138Z"
   },
   {
    "duration": 200,
    "start_time": "2022-08-07T14:19:09.151Z"
   },
   {
    "duration": 1013,
    "start_time": "2022-08-07T14:19:09.353Z"
   },
   {
    "duration": 1004,
    "start_time": "2022-08-07T14:19:16.317Z"
   },
   {
    "duration": 3442,
    "start_time": "2022-08-07T14:19:22.677Z"
   },
   {
    "duration": 6,
    "start_time": "2022-08-07T14:19:53.295Z"
   },
   {
    "duration": 235,
    "start_time": "2022-08-07T14:19:53.302Z"
   },
   {
    "duration": 107,
    "start_time": "2022-08-07T14:19:53.539Z"
   },
   {
    "duration": 533,
    "start_time": "2022-08-07T14:19:53.648Z"
   },
   {
    "duration": 253,
    "start_time": "2022-08-07T14:19:54.184Z"
   },
   {
    "duration": 426,
    "start_time": "2022-08-07T14:19:54.439Z"
   },
   {
    "duration": 275,
    "start_time": "2022-08-07T14:19:54.868Z"
   },
   {
    "duration": 4,
    "start_time": "2022-08-07T14:19:55.145Z"
   },
   {
    "duration": 12,
    "start_time": "2022-08-07T14:19:55.151Z"
   },
   {
    "duration": 232,
    "start_time": "2022-08-07T14:19:55.165Z"
   },
   {
    "duration": 1118,
    "start_time": "2022-08-07T14:19:55.400Z"
   },
   {
    "duration": 1044,
    "start_time": "2022-08-07T14:19:59.031Z"
   },
   {
    "duration": 3,
    "start_time": "2022-08-07T14:20:06.470Z"
   },
   {
    "duration": 1900,
    "start_time": "2022-08-07T14:20:08.019Z"
   },
   {
    "duration": 3724,
    "start_time": "2022-08-07T14:20:14.992Z"
   },
   {
    "duration": 3347,
    "start_time": "2022-08-07T14:20:29.083Z"
   },
   {
    "duration": 3145,
    "start_time": "2022-08-07T14:23:45.914Z"
   },
   {
    "duration": 3184,
    "start_time": "2022-08-07T14:24:27.664Z"
   },
   {
    "duration": 3369,
    "start_time": "2022-08-07T14:26:21.472Z"
   },
   {
    "duration": 3107,
    "start_time": "2022-08-07T14:31:56.716Z"
   },
   {
    "duration": 7,
    "start_time": "2022-08-07T14:34:42.541Z"
   },
   {
    "duration": 262,
    "start_time": "2022-08-07T14:34:42.551Z"
   },
   {
    "duration": 69,
    "start_time": "2022-08-07T14:34:42.815Z"
   },
   {
    "duration": 258,
    "start_time": "2022-08-07T14:34:42.886Z"
   },
   {
    "duration": 183,
    "start_time": "2022-08-07T14:34:43.146Z"
   },
   {
    "duration": 442,
    "start_time": "2022-08-07T14:34:43.331Z"
   },
   {
    "duration": 250,
    "start_time": "2022-08-07T14:34:43.775Z"
   },
   {
    "duration": 5,
    "start_time": "2022-08-07T14:34:44.026Z"
   },
   {
    "duration": 11,
    "start_time": "2022-08-07T14:34:44.032Z"
   },
   {
    "duration": 226,
    "start_time": "2022-08-07T14:34:44.045Z"
   },
   {
    "duration": 1203,
    "start_time": "2022-08-07T14:34:44.272Z"
   },
   {
    "duration": 814,
    "start_time": "2022-08-07T14:34:48.252Z"
   },
   {
    "duration": 54,
    "start_time": "2022-08-07T14:34:54.273Z"
   },
   {
    "duration": 84,
    "start_time": "2022-08-07T14:35:00.936Z"
   },
   {
    "duration": 3,
    "start_time": "2022-08-07T14:35:05.573Z"
   },
   {
    "duration": 826,
    "start_time": "2022-08-07T14:35:07.267Z"
   },
   {
    "duration": 2989,
    "start_time": "2022-08-07T14:35:10.257Z"
   },
   {
    "duration": 3189,
    "start_time": "2022-08-07T14:35:15.926Z"
   },
   {
    "duration": 3133,
    "start_time": "2022-08-07T14:35:23.133Z"
   },
   {
    "duration": 2631,
    "start_time": "2022-08-07T14:35:39.335Z"
   },
   {
    "duration": 6,
    "start_time": "2022-08-07T14:39:38.285Z"
   },
   {
    "duration": 203,
    "start_time": "2022-08-07T14:39:38.294Z"
   },
   {
    "duration": 72,
    "start_time": "2022-08-07T14:39:38.500Z"
   },
   {
    "duration": 408,
    "start_time": "2022-08-07T14:39:38.574Z"
   },
   {
    "duration": 183,
    "start_time": "2022-08-07T14:39:38.985Z"
   },
   {
    "duration": 408,
    "start_time": "2022-08-07T14:39:39.170Z"
   },
   {
    "duration": 255,
    "start_time": "2022-08-07T14:39:39.579Z"
   },
   {
    "duration": 5,
    "start_time": "2022-08-07T14:39:39.835Z"
   },
   {
    "duration": 11,
    "start_time": "2022-08-07T14:39:39.841Z"
   },
   {
    "duration": 208,
    "start_time": "2022-08-07T14:39:39.853Z"
   },
   {
    "duration": 1293,
    "start_time": "2022-08-07T14:39:40.063Z"
   },
   {
    "duration": 507,
    "start_time": "2022-08-07T14:39:45.173Z"
   },
   {
    "duration": 15864,
    "start_time": "2022-08-07T14:41:09.360Z"
   },
   {
    "duration": 8505,
    "start_time": "2022-08-07T14:41:25.227Z"
   },
   {
    "duration": 712,
    "start_time": "2022-08-07T14:41:33.734Z"
   },
   {
    "duration": 1303,
    "start_time": "2022-08-07T14:41:34.512Z"
   },
   {
    "duration": 1699,
    "start_time": "2022-08-07T14:41:35.816Z"
   },
   {
    "duration": 1262,
    "start_time": "2022-08-07T14:41:37.517Z"
   },
   {
    "duration": 539,
    "start_time": "2022-08-07T14:41:38.780Z"
   },
   {
    "duration": 5,
    "start_time": "2022-08-07T14:41:39.321Z"
   },
   {
    "duration": 10,
    "start_time": "2022-08-07T14:41:39.328Z"
   },
   {
    "duration": 488,
    "start_time": "2022-08-07T14:41:39.340Z"
   },
   {
    "duration": 2355,
    "start_time": "2022-08-07T14:41:39.830Z"
   },
   {
    "duration": 3782,
    "start_time": "2022-08-07T14:41:45.850Z"
   },
   {
    "duration": 90,
    "start_time": "2022-08-07T14:41:56.758Z"
   },
   {
    "duration": 6,
    "start_time": "2022-08-07T14:42:00.747Z"
   },
   {
    "duration": 574,
    "start_time": "2022-08-07T14:42:00.755Z"
   },
   {
    "duration": 284,
    "start_time": "2022-08-07T14:42:01.331Z"
   },
   {
    "duration": 666,
    "start_time": "2022-08-07T14:42:01.618Z"
   },
   {
    "duration": 669,
    "start_time": "2022-08-07T14:42:02.286Z"
   },
   {
    "duration": 759,
    "start_time": "2022-08-07T14:42:02.957Z"
   },
   {
    "duration": 574,
    "start_time": "2022-08-07T14:42:03.718Z"
   },
   {
    "duration": 17,
    "start_time": "2022-08-07T14:42:04.294Z"
   },
   {
    "duration": 8,
    "start_time": "2022-08-07T14:42:04.313Z"
   },
   {
    "duration": 245,
    "start_time": "2022-08-07T14:42:04.323Z"
   },
   {
    "duration": 1225,
    "start_time": "2022-08-07T14:42:04.570Z"
   },
   {
    "duration": 2219,
    "start_time": "2022-08-07T14:42:08.107Z"
   },
   {
    "duration": 296,
    "start_time": "2022-08-07T14:42:15.526Z"
   },
   {
    "duration": 2,
    "start_time": "2022-08-07T14:42:17.952Z"
   },
   {
    "duration": 3724,
    "start_time": "2022-08-07T14:42:20.126Z"
   },
   {
    "duration": 7020,
    "start_time": "2022-08-07T14:42:26.197Z"
   },
   {
    "duration": 5770,
    "start_time": "2022-08-07T14:42:42.178Z"
   },
   {
    "duration": 103,
    "start_time": "2022-08-07T14:42:52.272Z"
   },
   {
    "duration": 4821,
    "start_time": "2022-08-07T14:43:18.394Z"
   },
   {
    "duration": 83,
    "start_time": "2022-08-07T14:43:27.364Z"
   },
   {
    "duration": 4970,
    "start_time": "2022-08-07T14:43:33.789Z"
   },
   {
    "duration": 6,
    "start_time": "2022-08-07T14:44:43.904Z"
   },
   {
    "duration": 400,
    "start_time": "2022-08-07T14:44:43.913Z"
   },
   {
    "duration": 132,
    "start_time": "2022-08-07T14:44:44.315Z"
   },
   {
    "duration": 387,
    "start_time": "2022-08-07T14:44:44.449Z"
   },
   {
    "duration": 385,
    "start_time": "2022-08-07T14:44:44.838Z"
   },
   {
    "duration": 616,
    "start_time": "2022-08-07T14:44:45.224Z"
   },
   {
    "duration": 235,
    "start_time": "2022-08-07T14:44:45.842Z"
   },
   {
    "duration": 5,
    "start_time": "2022-08-07T14:44:46.078Z"
   },
   {
    "duration": 28,
    "start_time": "2022-08-07T14:44:46.084Z"
   },
   {
    "duration": 211,
    "start_time": "2022-08-07T14:44:46.114Z"
   },
   {
    "duration": 1128,
    "start_time": "2022-08-07T14:44:46.327Z"
   },
   {
    "duration": 1235,
    "start_time": "2022-08-07T14:44:50.404Z"
   },
   {
    "duration": 52,
    "start_time": "2022-08-07T14:44:55.783Z"
   },
   {
    "duration": 3,
    "start_time": "2022-08-07T14:44:57.563Z"
   },
   {
    "duration": 1711,
    "start_time": "2022-08-07T14:45:03.720Z"
   },
   {
    "duration": 4391,
    "start_time": "2022-08-07T14:45:07.849Z"
   },
   {
    "duration": 4599,
    "start_time": "2022-08-07T14:45:14.468Z"
   },
   {
    "duration": 3684,
    "start_time": "2022-08-07T14:45:21.286Z"
   },
   {
    "duration": 8,
    "start_time": "2022-08-07T14:52:14.192Z"
   },
   {
    "duration": 323,
    "start_time": "2022-08-07T14:52:14.202Z"
   },
   {
    "duration": 120,
    "start_time": "2022-08-07T14:52:14.526Z"
   },
   {
    "duration": 334,
    "start_time": "2022-08-07T14:52:14.648Z"
   },
   {
    "duration": 317,
    "start_time": "2022-08-07T14:52:14.984Z"
   },
   {
    "duration": 480,
    "start_time": "2022-08-07T14:52:15.302Z"
   },
   {
    "duration": 194,
    "start_time": "2022-08-07T14:52:15.784Z"
   },
   {
    "duration": 32,
    "start_time": "2022-08-07T14:52:15.980Z"
   },
   {
    "duration": 9,
    "start_time": "2022-08-07T14:52:16.014Z"
   },
   {
    "duration": 267,
    "start_time": "2022-08-07T14:52:16.025Z"
   },
   {
    "duration": 1042,
    "start_time": "2022-08-07T14:52:16.294Z"
   },
   {
    "duration": 1120,
    "start_time": "2022-08-07T14:52:19.808Z"
   },
   {
    "duration": 53,
    "start_time": "2022-08-07T14:52:25.372Z"
   },
   {
    "duration": 2,
    "start_time": "2022-08-07T14:52:27.587Z"
   },
   {
    "duration": 1323,
    "start_time": "2022-08-07T14:52:29.496Z"
   },
   {
    "duration": 3660,
    "start_time": "2022-08-07T14:52:31.986Z"
   },
   {
    "duration": 3444,
    "start_time": "2022-08-07T14:52:37.987Z"
   },
   {
    "duration": 3259,
    "start_time": "2022-08-07T14:52:42.916Z"
   },
   {
    "duration": 5,
    "start_time": "2022-08-07T14:54:24.811Z"
   },
   {
    "duration": 247,
    "start_time": "2022-08-07T14:54:24.818Z"
   },
   {
    "duration": 105,
    "start_time": "2022-08-07T14:54:25.066Z"
   },
   {
    "duration": 462,
    "start_time": "2022-08-07T14:54:25.173Z"
   },
   {
    "duration": 297,
    "start_time": "2022-08-07T14:54:25.637Z"
   },
   {
    "duration": 426,
    "start_time": "2022-08-07T14:54:25.935Z"
   },
   {
    "duration": 278,
    "start_time": "2022-08-07T14:54:26.363Z"
   },
   {
    "duration": 4,
    "start_time": "2022-08-07T14:54:26.643Z"
   },
   {
    "duration": 13,
    "start_time": "2022-08-07T14:54:26.648Z"
   },
   {
    "duration": 197,
    "start_time": "2022-08-07T14:54:26.664Z"
   },
   {
    "duration": 1060,
    "start_time": "2022-08-07T14:54:26.863Z"
   },
   {
    "duration": 891,
    "start_time": "2022-08-07T14:54:27.924Z"
   },
   {
    "duration": 102,
    "start_time": "2022-08-07T14:54:28.817Z"
   },
   {
    "duration": 2,
    "start_time": "2022-08-07T14:54:28.921Z"
   },
   {
    "duration": 1316,
    "start_time": "2022-08-07T14:54:28.924Z"
   },
   {
    "duration": 3429,
    "start_time": "2022-08-07T14:54:30.242Z"
   },
   {
    "duration": 3650,
    "start_time": "2022-08-07T14:54:33.673Z"
   },
   {
    "duration": 3344,
    "start_time": "2022-08-07T14:54:37.325Z"
   },
   {
    "duration": 7,
    "start_time": "2022-08-07T14:55:09.429Z"
   },
   {
    "duration": 277,
    "start_time": "2022-08-07T14:55:09.438Z"
   },
   {
    "duration": 102,
    "start_time": "2022-08-07T14:55:09.718Z"
   },
   {
    "duration": 292,
    "start_time": "2022-08-07T14:55:09.823Z"
   },
   {
    "duration": 337,
    "start_time": "2022-08-07T14:55:10.117Z"
   },
   {
    "duration": 506,
    "start_time": "2022-08-07T14:55:10.455Z"
   },
   {
    "duration": 253,
    "start_time": "2022-08-07T14:55:10.963Z"
   },
   {
    "duration": 6,
    "start_time": "2022-08-07T14:55:11.218Z"
   },
   {
    "duration": 13,
    "start_time": "2022-08-07T14:55:11.226Z"
   },
   {
    "duration": 197,
    "start_time": "2022-08-07T14:55:11.241Z"
   },
   {
    "duration": 1123,
    "start_time": "2022-08-07T14:55:11.440Z"
   },
   {
    "duration": 1077,
    "start_time": "2022-08-07T14:55:12.565Z"
   },
   {
    "duration": 98,
    "start_time": "2022-08-07T14:55:13.645Z"
   },
   {
    "duration": 2,
    "start_time": "2022-08-07T14:55:13.744Z"
   },
   {
    "duration": 1167,
    "start_time": "2022-08-07T14:55:13.748Z"
   },
   {
    "duration": 3335,
    "start_time": "2022-08-07T14:55:14.917Z"
   },
   {
    "duration": 3062,
    "start_time": "2022-08-07T14:55:18.254Z"
   },
   {
    "duration": 3257,
    "start_time": "2022-08-07T14:55:21.317Z"
   },
   {
    "duration": 11,
    "start_time": "2022-08-07T14:55:44.798Z"
   },
   {
    "duration": 6,
    "start_time": "2022-08-07T14:55:53.876Z"
   },
   {
    "duration": 6,
    "start_time": "2022-08-07T15:03:09.778Z"
   },
   {
    "duration": 209,
    "start_time": "2022-08-07T15:03:09.786Z"
   },
   {
    "duration": 119,
    "start_time": "2022-08-07T15:03:09.997Z"
   },
   {
    "duration": 260,
    "start_time": "2022-08-07T15:03:10.118Z"
   },
   {
    "duration": 216,
    "start_time": "2022-08-07T15:03:10.379Z"
   },
   {
    "duration": 445,
    "start_time": "2022-08-07T15:03:10.596Z"
   },
   {
    "duration": 213,
    "start_time": "2022-08-07T15:03:11.043Z"
   },
   {
    "duration": 5,
    "start_time": "2022-08-07T15:03:11.257Z"
   },
   {
    "duration": 11,
    "start_time": "2022-08-07T15:03:11.264Z"
   },
   {
    "duration": 277,
    "start_time": "2022-08-07T15:03:11.276Z"
   },
   {
    "duration": 1017,
    "start_time": "2022-08-07T15:03:11.555Z"
   },
   {
    "duration": 867,
    "start_time": "2022-08-07T15:03:12.574Z"
   },
   {
    "duration": 170,
    "start_time": "2022-08-07T15:03:13.450Z"
   },
   {
    "duration": 3,
    "start_time": "2022-08-07T15:03:13.622Z"
   },
   {
    "duration": 1608,
    "start_time": "2022-08-07T15:03:13.627Z"
   },
   {
    "duration": 3589,
    "start_time": "2022-08-07T15:03:15.238Z"
   },
   {
    "duration": 3681,
    "start_time": "2022-08-07T15:03:18.829Z"
   },
   {
    "duration": 3238,
    "start_time": "2022-08-07T15:03:22.512Z"
   },
   {
    "duration": 3685,
    "start_time": "2022-08-07T15:03:25.752Z"
   },
   {
    "duration": 6,
    "start_time": "2022-08-07T15:04:04.721Z"
   },
   {
    "duration": 207,
    "start_time": "2022-08-07T15:04:04.729Z"
   },
   {
    "duration": 107,
    "start_time": "2022-08-07T15:04:04.938Z"
   },
   {
    "duration": 358,
    "start_time": "2022-08-07T15:04:05.047Z"
   },
   {
    "duration": 287,
    "start_time": "2022-08-07T15:04:05.410Z"
   },
   {
    "duration": 456,
    "start_time": "2022-08-07T15:04:05.711Z"
   },
   {
    "duration": 266,
    "start_time": "2022-08-07T15:04:06.168Z"
   },
   {
    "duration": 4,
    "start_time": "2022-08-07T15:04:06.436Z"
   },
   {
    "duration": 9,
    "start_time": "2022-08-07T15:04:06.441Z"
   },
   {
    "duration": 202,
    "start_time": "2022-08-07T15:04:06.451Z"
   },
   {
    "duration": 998,
    "start_time": "2022-08-07T15:04:06.654Z"
   },
   {
    "duration": 1079,
    "start_time": "2022-08-07T15:04:07.653Z"
   },
   {
    "duration": 90,
    "start_time": "2022-08-07T15:04:08.733Z"
   },
   {
    "duration": 3,
    "start_time": "2022-08-07T15:04:08.826Z"
   },
   {
    "duration": 1682,
    "start_time": "2022-08-07T15:04:08.830Z"
   },
   {
    "duration": 3662,
    "start_time": "2022-08-07T15:04:10.514Z"
   },
   {
    "duration": 3465,
    "start_time": "2022-08-07T15:04:14.178Z"
   },
   {
    "duration": 3674,
    "start_time": "2022-08-07T15:04:17.644Z"
   },
   {
    "duration": 3729,
    "start_time": "2022-08-07T15:04:21.319Z"
   },
   {
    "duration": 6,
    "start_time": "2022-08-07T15:05:04.061Z"
   },
   {
    "duration": 193,
    "start_time": "2022-08-07T15:05:04.069Z"
   },
   {
    "duration": 96,
    "start_time": "2022-08-07T15:05:04.264Z"
   },
   {
    "duration": 273,
    "start_time": "2022-08-07T15:05:04.362Z"
   },
   {
    "duration": 282,
    "start_time": "2022-08-07T15:05:04.636Z"
   },
   {
    "duration": 496,
    "start_time": "2022-08-07T15:05:04.920Z"
   },
   {
    "duration": 209,
    "start_time": "2022-08-07T15:05:05.418Z"
   },
   {
    "duration": 5,
    "start_time": "2022-08-07T15:05:05.628Z"
   },
   {
    "duration": 19,
    "start_time": "2022-08-07T15:05:05.635Z"
   },
   {
    "duration": 192,
    "start_time": "2022-08-07T15:05:05.655Z"
   },
   {
    "duration": 1034,
    "start_time": "2022-08-07T15:05:05.849Z"
   },
   {
    "duration": 828,
    "start_time": "2022-08-07T15:05:06.884Z"
   },
   {
    "duration": 118,
    "start_time": "2022-08-07T15:05:07.713Z"
   },
   {
    "duration": 3,
    "start_time": "2022-08-07T15:05:07.832Z"
   },
   {
    "duration": 1552,
    "start_time": "2022-08-07T15:05:07.836Z"
   },
   {
    "duration": 3478,
    "start_time": "2022-08-07T15:05:09.389Z"
   },
   {
    "duration": 3359,
    "start_time": "2022-08-07T15:05:12.869Z"
   },
   {
    "duration": 3611,
    "start_time": "2022-08-07T15:05:16.230Z"
   },
   {
    "duration": 3782,
    "start_time": "2022-08-07T15:05:19.843Z"
   },
   {
    "duration": 16,
    "start_time": "2022-08-07T15:12:20.308Z"
   },
   {
    "duration": 4190,
    "start_time": "2022-08-07T15:13:16.122Z"
   },
   {
    "duration": 3335,
    "start_time": "2022-08-07T15:13:47.079Z"
   },
   {
    "duration": 174,
    "start_time": "2022-08-07T15:15:33.767Z"
   },
   {
    "duration": 291,
    "start_time": "2022-08-07T15:15:46.843Z"
   },
   {
    "duration": 81,
    "start_time": "2022-08-07T15:15:55.067Z"
   },
   {
    "duration": 80,
    "start_time": "2022-08-07T15:15:58.685Z"
   },
   {
    "duration": 219,
    "start_time": "2022-08-07T15:16:44.619Z"
   },
   {
    "duration": 165,
    "start_time": "2022-08-07T15:16:47.965Z"
   },
   {
    "duration": 331,
    "start_time": "2022-08-07T15:17:01.793Z"
   },
   {
    "duration": 4721,
    "start_time": "2022-08-07T15:17:44.513Z"
   },
   {
    "duration": 3769,
    "start_time": "2022-08-07T15:17:57.936Z"
   },
   {
    "duration": 2764,
    "start_time": "2022-08-07T15:18:22.453Z"
   },
   {
    "duration": 2741,
    "start_time": "2022-08-07T15:18:32.796Z"
   },
   {
    "duration": 2994,
    "start_time": "2022-08-07T15:18:42.987Z"
   },
   {
    "duration": 2762,
    "start_time": "2022-08-07T15:19:17.583Z"
   },
   {
    "duration": 2814,
    "start_time": "2022-08-07T15:19:39.363Z"
   },
   {
    "duration": 2769,
    "start_time": "2022-08-07T15:20:41.456Z"
   },
   {
    "duration": 2623,
    "start_time": "2022-08-07T15:20:56.130Z"
   },
   {
    "duration": 2949,
    "start_time": "2022-08-07T15:21:11.464Z"
   },
   {
    "duration": 10,
    "start_time": "2022-08-07T15:21:51.483Z"
   },
   {
    "duration": 3870,
    "start_time": "2022-08-07T15:21:53.230Z"
   },
   {
    "duration": 86,
    "start_time": "2022-08-07T15:22:04.204Z"
   },
   {
    "duration": 5,
    "start_time": "2022-08-07T15:22:12.914Z"
   },
   {
    "duration": 241,
    "start_time": "2022-08-07T15:22:12.921Z"
   },
   {
    "duration": 90,
    "start_time": "2022-08-07T15:22:13.163Z"
   },
   {
    "duration": 273,
    "start_time": "2022-08-07T15:22:13.255Z"
   },
   {
    "duration": 380,
    "start_time": "2022-08-07T15:22:13.530Z"
   },
   {
    "duration": 808,
    "start_time": "2022-08-07T15:22:13.912Z"
   },
   {
    "duration": 467,
    "start_time": "2022-08-07T15:22:14.722Z"
   },
   {
    "duration": 4,
    "start_time": "2022-08-07T15:22:15.191Z"
   },
   {
    "duration": 18,
    "start_time": "2022-08-07T15:22:15.196Z"
   },
   {
    "duration": 203,
    "start_time": "2022-08-07T15:22:15.216Z"
   },
   {
    "duration": 382,
    "start_time": "2022-08-07T15:22:15.421Z"
   },
   {
    "duration": 11,
    "start_time": "2022-08-07T15:22:15.804Z"
   },
   {
    "duration": 1500,
    "start_time": "2022-08-07T15:22:15.817Z"
   },
   {
    "duration": 1342,
    "start_time": "2022-08-07T15:22:20.482Z"
   },
   {
    "duration": 99,
    "start_time": "2022-08-07T15:22:25.116Z"
   },
   {
    "duration": 2,
    "start_time": "2022-08-07T15:22:28.572Z"
   },
   {
    "duration": 1520,
    "start_time": "2022-08-07T15:22:29.922Z"
   },
   {
    "duration": 3779,
    "start_time": "2022-08-07T15:22:33.657Z"
   },
   {
    "duration": 3570,
    "start_time": "2022-08-07T15:22:39.882Z"
   },
   {
    "duration": 4294,
    "start_time": "2022-08-07T15:22:48.834Z"
   },
   {
    "duration": 3546,
    "start_time": "2022-08-07T15:22:55.184Z"
   },
   {
    "duration": 6,
    "start_time": "2022-08-07T15:23:30.333Z"
   },
   {
    "duration": 226,
    "start_time": "2022-08-07T15:23:30.340Z"
   },
   {
    "duration": 79,
    "start_time": "2022-08-07T15:23:30.567Z"
   },
   {
    "duration": 367,
    "start_time": "2022-08-07T15:23:30.648Z"
   },
   {
    "duration": 319,
    "start_time": "2022-08-07T15:23:31.017Z"
   },
   {
    "duration": 787,
    "start_time": "2022-08-07T15:23:31.338Z"
   },
   {
    "duration": 472,
    "start_time": "2022-08-07T15:23:32.126Z"
   },
   {
    "duration": 14,
    "start_time": "2022-08-07T15:23:32.600Z"
   },
   {
    "duration": 17,
    "start_time": "2022-08-07T15:23:32.616Z"
   },
   {
    "duration": 235,
    "start_time": "2022-08-07T15:23:32.635Z"
   },
   {
    "duration": 380,
    "start_time": "2022-08-07T15:23:32.872Z"
   },
   {
    "duration": 16,
    "start_time": "2022-08-07T15:23:33.253Z"
   },
   {
    "duration": 1145,
    "start_time": "2022-08-07T15:23:33.270Z"
   },
   {
    "duration": 1131,
    "start_time": "2022-08-07T15:23:34.417Z"
   },
   {
    "duration": 161,
    "start_time": "2022-08-07T15:23:35.550Z"
   },
   {
    "duration": 2,
    "start_time": "2022-08-07T15:23:35.713Z"
   },
   {
    "duration": 1435,
    "start_time": "2022-08-07T15:23:35.717Z"
   },
   {
    "duration": 3562,
    "start_time": "2022-08-07T15:23:37.153Z"
   },
   {
    "duration": 4033,
    "start_time": "2022-08-07T15:23:40.716Z"
   },
   {
    "duration": 3295,
    "start_time": "2022-08-07T15:23:44.751Z"
   },
   {
    "duration": 4396,
    "start_time": "2022-08-07T15:23:48.047Z"
   },
   {
    "duration": 9,
    "start_time": "2022-08-07T15:24:52.740Z"
   },
   {
    "duration": 895,
    "start_time": "2022-08-07T15:24:58.084Z"
   },
   {
    "duration": 1687,
    "start_time": "2022-08-07T15:25:58.324Z"
   },
   {
    "duration": 1673,
    "start_time": "2022-08-07T15:26:06.550Z"
   },
   {
    "duration": 6,
    "start_time": "2022-08-07T15:27:37.341Z"
   },
   {
    "duration": 231,
    "start_time": "2022-08-07T15:27:37.348Z"
   },
   {
    "duration": 82,
    "start_time": "2022-08-07T15:27:37.581Z"
   },
   {
    "duration": 473,
    "start_time": "2022-08-07T15:27:37.665Z"
   },
   {
    "duration": 1705,
    "start_time": "2022-08-07T15:27:38.139Z"
   },
   {
    "duration": 269,
    "start_time": "2022-08-07T15:27:39.845Z"
   },
   {
    "duration": 387,
    "start_time": "2022-08-07T15:27:40.115Z"
   },
   {
    "duration": 367,
    "start_time": "2022-08-07T15:27:40.504Z"
   },
   {
    "duration": 4,
    "start_time": "2022-08-07T15:27:40.874Z"
   },
   {
    "duration": 11,
    "start_time": "2022-08-07T15:27:40.879Z"
   },
   {
    "duration": 202,
    "start_time": "2022-08-07T15:27:40.891Z"
   },
   {
    "duration": 22,
    "start_time": "2022-08-07T15:27:41.094Z"
   },
   {
    "duration": 1032,
    "start_time": "2022-08-07T15:27:41.117Z"
   },
   {
    "duration": 1193,
    "start_time": "2022-08-07T15:27:42.150Z"
   },
   {
    "duration": 104,
    "start_time": "2022-08-07T15:27:43.345Z"
   },
   {
    "duration": 3,
    "start_time": "2022-08-07T15:27:43.510Z"
   },
   {
    "duration": 1474,
    "start_time": "2022-08-07T15:27:43.515Z"
   },
   {
    "duration": 3259,
    "start_time": "2022-08-07T15:27:45.010Z"
   },
   {
    "duration": 3549,
    "start_time": "2022-08-07T15:27:48.271Z"
   },
   {
    "duration": 4297,
    "start_time": "2022-08-07T15:27:51.822Z"
   },
   {
    "duration": 5024,
    "start_time": "2022-08-07T15:27:56.121Z"
   },
   {
    "duration": 6,
    "start_time": "2022-08-07T15:28:18.330Z"
   },
   {
    "duration": 193,
    "start_time": "2022-08-07T15:28:18.337Z"
   },
   {
    "duration": 58,
    "start_time": "2022-08-07T15:28:18.532Z"
   },
   {
    "duration": 253,
    "start_time": "2022-08-07T15:28:18.611Z"
   },
   {
    "duration": 1690,
    "start_time": "2022-08-07T15:28:18.866Z"
   },
   {
    "duration": 199,
    "start_time": "2022-08-07T15:28:20.558Z"
   },
   {
    "duration": 578,
    "start_time": "2022-08-07T15:28:20.759Z"
   },
   {
    "duration": 203,
    "start_time": "2022-08-07T15:28:21.339Z"
   },
   {
    "duration": 4,
    "start_time": "2022-08-07T15:28:21.544Z"
   },
   {
    "duration": 8,
    "start_time": "2022-08-07T15:28:21.550Z"
   },
   {
    "duration": 199,
    "start_time": "2022-08-07T15:28:21.560Z"
   },
   {
    "duration": 7,
    "start_time": "2022-08-07T15:28:21.760Z"
   },
   {
    "duration": 1234,
    "start_time": "2022-08-07T15:28:21.768Z"
   },
   {
    "duration": 1212,
    "start_time": "2022-08-07T15:28:23.004Z"
   },
   {
    "duration": 114,
    "start_time": "2022-08-07T15:28:24.217Z"
   },
   {
    "duration": 3,
    "start_time": "2022-08-07T15:28:24.332Z"
   },
   {
    "duration": 1645,
    "start_time": "2022-08-07T15:28:24.336Z"
   },
   {
    "duration": 3357,
    "start_time": "2022-08-07T15:28:25.982Z"
   },
   {
    "duration": 3319,
    "start_time": "2022-08-07T15:28:29.341Z"
   },
   {
    "duration": 3590,
    "start_time": "2022-08-07T15:28:32.662Z"
   },
   {
    "duration": 3771,
    "start_time": "2022-08-07T15:28:36.254Z"
   },
   {
    "duration": 9,
    "start_time": "2022-08-07T15:31:56.243Z"
   },
   {
    "duration": 15,
    "start_time": "2022-08-07T15:33:38.002Z"
   },
   {
    "duration": 5,
    "start_time": "2022-08-07T15:33:44.260Z"
   },
   {
    "duration": 194,
    "start_time": "2022-08-07T15:33:44.267Z"
   },
   {
    "duration": 89,
    "start_time": "2022-08-07T15:33:44.463Z"
   },
   {
    "duration": 283,
    "start_time": "2022-08-07T15:33:44.554Z"
   },
   {
    "duration": 1700,
    "start_time": "2022-08-07T15:33:44.839Z"
   },
   {
    "duration": 208,
    "start_time": "2022-08-07T15:33:46.541Z"
   },
   {
    "duration": 392,
    "start_time": "2022-08-07T15:33:46.751Z"
   },
   {
    "duration": 382,
    "start_time": "2022-08-07T15:33:47.145Z"
   },
   {
    "duration": 4,
    "start_time": "2022-08-07T15:33:47.530Z"
   },
   {
    "duration": 15,
    "start_time": "2022-08-07T15:33:47.536Z"
   },
   {
    "duration": 203,
    "start_time": "2022-08-07T15:33:47.553Z"
   },
   {
    "duration": 9,
    "start_time": "2022-08-07T15:33:47.757Z"
   },
   {
    "duration": 1075,
    "start_time": "2022-08-07T15:33:47.768Z"
   },
   {
    "duration": 918,
    "start_time": "2022-08-07T15:33:48.845Z"
   },
   {
    "duration": 101,
    "start_time": "2022-08-07T15:33:49.810Z"
   },
   {
    "duration": 2,
    "start_time": "2022-08-07T15:33:49.913Z"
   },
   {
    "duration": 1235,
    "start_time": "2022-08-07T15:33:49.916Z"
   },
   {
    "duration": 3318,
    "start_time": "2022-08-07T15:33:51.153Z"
   },
   {
    "duration": 3496,
    "start_time": "2022-08-07T15:33:54.473Z"
   },
   {
    "duration": 3391,
    "start_time": "2022-08-07T15:33:57.970Z"
   },
   {
    "duration": 3476,
    "start_time": "2022-08-07T15:34:01.363Z"
   },
   {
    "duration": 6,
    "start_time": "2022-08-07T15:34:59.452Z"
   },
   {
    "duration": 207,
    "start_time": "2022-08-07T15:34:59.460Z"
   },
   {
    "duration": 81,
    "start_time": "2022-08-07T15:34:59.669Z"
   },
   {
    "duration": 415,
    "start_time": "2022-08-07T15:34:59.753Z"
   },
   {
    "duration": 1777,
    "start_time": "2022-08-07T15:35:00.170Z"
   },
   {
    "duration": 229,
    "start_time": "2022-08-07T15:35:01.949Z"
   },
   {
    "duration": 490,
    "start_time": "2022-08-07T15:35:02.179Z"
   },
   {
    "duration": 248,
    "start_time": "2022-08-07T15:35:02.671Z"
   },
   {
    "duration": 5,
    "start_time": "2022-08-07T15:35:02.922Z"
   },
   {
    "duration": 12,
    "start_time": "2022-08-07T15:35:02.928Z"
   },
   {
    "duration": 209,
    "start_time": "2022-08-07T15:35:02.941Z"
   },
   {
    "duration": 11,
    "start_time": "2022-08-07T15:35:03.152Z"
   },
   {
    "duration": 1160,
    "start_time": "2022-08-07T15:35:03.164Z"
   },
   {
    "duration": 748,
    "start_time": "2022-08-07T15:35:04.327Z"
   },
   {
    "duration": 76,
    "start_time": "2022-08-07T15:35:05.076Z"
   },
   {
    "duration": 3,
    "start_time": "2022-08-07T15:35:05.153Z"
   },
   {
    "duration": 1372,
    "start_time": "2022-08-07T15:35:05.158Z"
   },
   {
    "duration": 3497,
    "start_time": "2022-08-07T15:35:06.531Z"
   },
   {
    "duration": 3501,
    "start_time": "2022-08-07T15:35:10.030Z"
   },
   {
    "duration": 3195,
    "start_time": "2022-08-07T15:35:13.533Z"
   },
   {
    "duration": 3985,
    "start_time": "2022-08-07T15:35:16.730Z"
   },
   {
    "duration": 7,
    "start_time": "2022-08-07T15:35:25.419Z"
   },
   {
    "duration": 221,
    "start_time": "2022-08-07T15:35:25.427Z"
   },
   {
    "duration": 62,
    "start_time": "2022-08-07T15:35:25.649Z"
   },
   {
    "duration": 266,
    "start_time": "2022-08-07T15:35:25.713Z"
   },
   {
    "duration": 1704,
    "start_time": "2022-08-07T15:35:25.981Z"
   },
   {
    "duration": 194,
    "start_time": "2022-08-07T15:35:27.687Z"
   },
   {
    "duration": 567,
    "start_time": "2022-08-07T15:35:27.883Z"
   },
   {
    "duration": 202,
    "start_time": "2022-08-07T15:35:28.452Z"
   },
   {
    "duration": 4,
    "start_time": "2022-08-07T15:35:28.656Z"
   },
   {
    "duration": 8,
    "start_time": "2022-08-07T15:35:28.661Z"
   },
   {
    "duration": 212,
    "start_time": "2022-08-07T15:35:28.670Z"
   },
   {
    "duration": 2,
    "start_time": "2022-08-07T15:35:28.884Z"
   },
   {
    "duration": 998,
    "start_time": "2022-08-07T15:35:28.888Z"
   },
   {
    "duration": 872,
    "start_time": "2022-08-07T15:35:29.888Z"
   },
   {
    "duration": 58,
    "start_time": "2022-08-07T15:35:30.811Z"
   },
   {
    "duration": 2,
    "start_time": "2022-08-07T15:35:30.871Z"
   },
   {
    "duration": 1284,
    "start_time": "2022-08-07T15:35:30.875Z"
   },
   {
    "duration": 3415,
    "start_time": "2022-08-07T15:35:32.161Z"
   },
   {
    "duration": 3634,
    "start_time": "2022-08-07T15:35:35.578Z"
   },
   {
    "duration": 3821,
    "start_time": "2022-08-07T15:35:39.213Z"
   },
   {
    "duration": 3491,
    "start_time": "2022-08-07T15:35:43.036Z"
   },
   {
    "duration": 8,
    "start_time": "2022-08-07T15:37:25.750Z"
   },
   {
    "duration": 195,
    "start_time": "2022-08-07T15:37:25.760Z"
   },
   {
    "duration": 80,
    "start_time": "2022-08-07T15:37:25.957Z"
   },
   {
    "duration": 440,
    "start_time": "2022-08-07T15:37:26.040Z"
   },
   {
    "duration": 2137,
    "start_time": "2022-08-07T15:37:26.481Z"
   },
   {
    "duration": 239,
    "start_time": "2022-08-07T15:37:28.620Z"
   },
   {
    "duration": 396,
    "start_time": "2022-08-07T15:37:28.861Z"
   },
   {
    "duration": 545,
    "start_time": "2022-08-07T15:37:29.259Z"
   },
   {
    "duration": 6,
    "start_time": "2022-08-07T15:37:29.811Z"
   },
   {
    "duration": 15,
    "start_time": "2022-08-07T15:37:29.822Z"
   },
   {
    "duration": 378,
    "start_time": "2022-08-07T15:37:29.839Z"
   },
   {
    "duration": 3,
    "start_time": "2022-08-07T15:37:30.219Z"
   },
   {
    "duration": 1156,
    "start_time": "2022-08-07T15:37:30.224Z"
   },
   {
    "duration": 829,
    "start_time": "2022-08-07T15:37:31.383Z"
   },
   {
    "duration": 50,
    "start_time": "2022-08-07T15:37:32.214Z"
   },
   {
    "duration": 3,
    "start_time": "2022-08-07T15:37:32.267Z"
   },
   {
    "duration": 1539,
    "start_time": "2022-08-07T15:37:32.272Z"
   },
   {
    "duration": 3919,
    "start_time": "2022-08-07T15:37:33.813Z"
   },
   {
    "duration": 3788,
    "start_time": "2022-08-07T15:37:37.733Z"
   },
   {
    "duration": 3392,
    "start_time": "2022-08-07T15:37:41.522Z"
   },
   {
    "duration": 3763,
    "start_time": "2022-08-07T15:37:44.916Z"
   },
   {
    "duration": 229,
    "start_time": "2022-08-07T15:42:49.749Z"
   },
   {
    "duration": 5,
    "start_time": "2022-08-07T15:44:50.048Z"
   },
   {
    "duration": 205,
    "start_time": "2022-08-07T15:44:50.055Z"
   },
   {
    "duration": 87,
    "start_time": "2022-08-07T15:44:50.262Z"
   },
   {
    "duration": 444,
    "start_time": "2022-08-07T15:44:50.352Z"
   },
   {
    "duration": 1518,
    "start_time": "2022-08-07T15:44:50.798Z"
   },
   {
    "duration": 476,
    "start_time": "2022-08-07T15:44:52.318Z"
   },
   {
    "duration": 210,
    "start_time": "2022-08-07T15:44:52.797Z"
   },
   {
    "duration": 380,
    "start_time": "2022-08-07T15:44:53.008Z"
   },
   {
    "duration": 414,
    "start_time": "2022-08-07T15:44:53.391Z"
   },
   {
    "duration": 5,
    "start_time": "2022-08-07T15:44:53.807Z"
   },
   {
    "duration": 13,
    "start_time": "2022-08-07T15:44:53.813Z"
   },
   {
    "duration": 211,
    "start_time": "2022-08-07T15:44:53.827Z"
   },
   {
    "duration": 6,
    "start_time": "2022-08-07T15:44:54.040Z"
   },
   {
    "duration": 1094,
    "start_time": "2022-08-07T15:44:54.048Z"
   },
   {
    "duration": 1080,
    "start_time": "2022-08-07T15:44:55.143Z"
   },
   {
    "duration": 86,
    "start_time": "2022-08-07T15:44:56.225Z"
   },
   {
    "duration": 3,
    "start_time": "2022-08-07T15:44:56.314Z"
   },
   {
    "duration": 1293,
    "start_time": "2022-08-07T15:44:56.319Z"
   },
   {
    "duration": 3522,
    "start_time": "2022-08-07T15:44:57.614Z"
   },
   {
    "duration": 3494,
    "start_time": "2022-08-07T15:45:01.138Z"
   },
   {
    "duration": 3192,
    "start_time": "2022-08-07T15:45:04.633Z"
   },
   {
    "duration": 3587,
    "start_time": "2022-08-07T15:45:07.827Z"
   },
   {
    "duration": 5,
    "start_time": "2022-08-07T15:45:38.828Z"
   },
   {
    "duration": 190,
    "start_time": "2022-08-07T15:45:38.835Z"
   },
   {
    "duration": 56,
    "start_time": "2022-08-07T15:45:39.027Z"
   },
   {
    "duration": 254,
    "start_time": "2022-08-07T15:45:39.085Z"
   },
   {
    "duration": 1719,
    "start_time": "2022-08-07T15:45:39.341Z"
   },
   {
    "duration": 449,
    "start_time": "2022-08-07T15:45:41.062Z"
   },
   {
    "duration": 198,
    "start_time": "2022-08-07T15:45:41.513Z"
   },
   {
    "duration": 406,
    "start_time": "2022-08-07T15:45:41.712Z"
   },
   {
    "duration": 211,
    "start_time": "2022-08-07T15:45:42.121Z"
   },
   {
    "duration": 4,
    "start_time": "2022-08-07T15:45:42.333Z"
   },
   {
    "duration": 10,
    "start_time": "2022-08-07T15:45:42.339Z"
   },
   {
    "duration": 223,
    "start_time": "2022-08-07T15:45:42.351Z"
   },
   {
    "duration": 1166,
    "start_time": "2022-08-07T15:45:42.576Z"
   },
   {
    "duration": 905,
    "start_time": "2022-08-07T15:45:43.744Z"
   },
   {
    "duration": 87,
    "start_time": "2022-08-07T15:45:44.651Z"
   },
   {
    "duration": 3,
    "start_time": "2022-08-07T15:45:44.740Z"
   },
   {
    "duration": 1376,
    "start_time": "2022-08-07T15:45:44.744Z"
   },
   {
    "duration": 2793,
    "start_time": "2022-08-07T15:45:46.122Z"
   },
   {
    "duration": 3194,
    "start_time": "2022-08-07T15:45:48.917Z"
   },
   {
    "duration": 3617,
    "start_time": "2022-08-07T15:45:52.112Z"
   },
   {
    "duration": 3089,
    "start_time": "2022-08-07T15:45:55.731Z"
   },
   {
    "duration": 941,
    "start_time": "2022-08-07T16:00:52.760Z"
   },
   {
    "duration": 15365,
    "start_time": "2022-08-07T16:01:02.385Z"
   },
   {
    "duration": 7677,
    "start_time": "2022-08-07T16:01:17.753Z"
   },
   {
    "duration": 679,
    "start_time": "2022-08-07T16:01:25.432Z"
   },
   {
    "duration": 1205,
    "start_time": "2022-08-07T16:01:26.124Z"
   },
   {
    "duration": 2172,
    "start_time": "2022-08-07T16:01:27.330Z"
   },
   {
    "duration": 840,
    "start_time": "2022-08-07T16:01:29.504Z"
   },
   {
    "duration": 1587,
    "start_time": "2022-08-07T16:01:30.346Z"
   },
   {
    "duration": 1168,
    "start_time": "2022-08-07T16:01:31.935Z"
   },
   {
    "duration": 410,
    "start_time": "2022-08-07T16:01:33.105Z"
   },
   {
    "duration": 5,
    "start_time": "2022-08-07T16:01:33.518Z"
   },
   {
    "duration": 7,
    "start_time": "2022-08-07T16:01:33.524Z"
   },
   {
    "duration": 245,
    "start_time": "2022-08-07T16:01:33.532Z"
   },
   {
    "duration": 2383,
    "start_time": "2022-08-07T16:01:33.811Z"
   },
   {
    "duration": 3950,
    "start_time": "2022-08-07T16:01:36.195Z"
   },
   {
    "duration": 384,
    "start_time": "2022-08-07T16:01:40.146Z"
   },
   {
    "duration": 3,
    "start_time": "2022-08-07T16:01:40.532Z"
   },
   {
    "duration": 3202,
    "start_time": "2022-08-07T16:01:40.536Z"
   },
   {
    "duration": 7276,
    "start_time": "2022-08-07T16:01:43.740Z"
   },
   {
    "duration": 5417,
    "start_time": "2022-08-07T16:01:51.018Z"
   },
   {
    "duration": 4799,
    "start_time": "2022-08-07T16:01:56.437Z"
   },
   {
    "duration": 4956,
    "start_time": "2022-08-07T16:02:01.310Z"
   },
   {
    "duration": 959,
    "start_time": "2022-08-07T16:02:06.310Z"
   },
   {
    "duration": 19168,
    "start_time": "2022-08-07T18:40:33.958Z"
   },
   {
    "duration": 9092,
    "start_time": "2022-08-07T18:40:53.130Z"
   },
   {
    "duration": 687,
    "start_time": "2022-08-07T18:41:02.223Z"
   },
   {
    "duration": 1415,
    "start_time": "2022-08-07T18:41:02.912Z"
   },
   {
    "duration": 3139,
    "start_time": "2022-08-07T18:41:04.330Z"
   },
   {
    "duration": 655,
    "start_time": "2022-08-07T18:41:07.471Z"
   },
   {
    "duration": 1675,
    "start_time": "2022-08-07T18:41:08.129Z"
   },
   {
    "duration": 1124,
    "start_time": "2022-08-07T18:41:09.806Z"
   },
   {
    "duration": 407,
    "start_time": "2022-08-07T18:41:10.931Z"
   },
   {
    "duration": 6,
    "start_time": "2022-08-07T18:41:11.339Z"
   },
   {
    "duration": 24,
    "start_time": "2022-08-07T18:41:11.347Z"
   },
   {
    "duration": 272,
    "start_time": "2022-08-07T18:41:11.372Z"
   },
   {
    "duration": 2958,
    "start_time": "2022-08-07T18:41:11.646Z"
   },
   {
    "duration": 4220,
    "start_time": "2022-08-07T18:41:14.607Z"
   },
   {
    "duration": 463,
    "start_time": "2022-08-07T18:41:18.829Z"
   },
   {
    "duration": 3,
    "start_time": "2022-08-07T18:41:19.294Z"
   },
   {
    "duration": 4012,
    "start_time": "2022-08-07T18:41:19.299Z"
   },
   {
    "duration": 9296,
    "start_time": "2022-08-07T18:41:23.313Z"
   },
   {
    "duration": 5912,
    "start_time": "2022-08-07T18:41:32.610Z"
   },
   {
    "duration": 5095,
    "start_time": "2022-08-07T18:41:38.524Z"
   },
   {
    "duration": 5677,
    "start_time": "2022-08-07T18:41:43.621Z"
   },
   {
    "duration": 1001,
    "start_time": "2022-08-07T18:41:49.300Z"
   },
   {
    "duration": 12,
    "start_time": "2022-08-07T19:31:40.315Z"
   },
   {
    "duration": 115,
    "start_time": "2022-08-07T19:31:50.356Z"
   },
   {
    "duration": 4,
    "start_time": "2022-08-07T19:31:57.834Z"
   },
   {
    "duration": 10,
    "start_time": "2022-08-07T19:32:00.030Z"
   },
   {
    "duration": 4,
    "start_time": "2022-08-07T19:32:01.564Z"
   },
   {
    "duration": 4,
    "start_time": "2022-08-07T19:32:17.042Z"
   },
   {
    "duration": 1643,
    "start_time": "2022-08-08T06:59:24.760Z"
   },
   {
    "duration": 21601,
    "start_time": "2022-08-08T06:59:29.314Z"
   },
   {
    "duration": 9814,
    "start_time": "2022-08-08T07:00:02.864Z"
   },
   {
    "duration": 671,
    "start_time": "2022-08-08T07:00:15.429Z"
   },
   {
    "duration": 4695,
    "start_time": "2022-08-08T07:00:37.574Z"
   },
   {
    "duration": 1429,
    "start_time": "2022-08-08T07:00:57.476Z"
   },
   {
    "duration": 113,
    "start_time": "2022-08-08T07:03:24.180Z"
   },
   {
    "duration": 12,
    "start_time": "2022-08-08T07:03:36.820Z"
   },
   {
    "duration": 140,
    "start_time": "2022-08-08T07:04:59.451Z"
   },
   {
    "duration": 2552,
    "start_time": "2022-08-08T07:05:07.585Z"
   },
   {
    "duration": 1208,
    "start_time": "2022-08-08T07:05:18.701Z"
   },
   {
    "duration": 833,
    "start_time": "2022-08-08T07:05:53.691Z"
   },
   {
    "duration": 702,
    "start_time": "2022-08-08T07:06:20.538Z"
   },
   {
    "duration": 4,
    "start_time": "2022-08-08T07:10:36.789Z"
   },
   {
    "duration": 1077,
    "start_time": "2022-08-08T07:11:36.574Z"
   },
   {
    "duration": 46412,
    "start_time": "2022-08-08T07:12:40.745Z"
   },
   {
    "duration": 979,
    "start_time": "2022-08-08T07:14:08.258Z"
   },
   {
    "duration": 911,
    "start_time": "2022-08-08T07:14:23.869Z"
   },
   {
    "duration": 850,
    "start_time": "2022-08-08T07:14:29.034Z"
   },
   {
    "duration": 753,
    "start_time": "2022-08-08T07:14:41.279Z"
   },
   {
    "duration": 990,
    "start_time": "2022-08-08T07:14:51.587Z"
   },
   {
    "duration": 160,
    "start_time": "2022-08-08T07:15:53.413Z"
   },
   {
    "duration": 887,
    "start_time": "2022-08-08T07:16:03.762Z"
   },
   {
    "duration": 91,
    "start_time": "2022-08-08T07:17:31.350Z"
   },
   {
    "duration": 853,
    "start_time": "2022-08-08T07:17:41.640Z"
   },
   {
    "duration": 871,
    "start_time": "2022-08-08T07:20:07.391Z"
   },
   {
    "duration": 1063,
    "start_time": "2022-08-08T07:23:49.317Z"
   },
   {
    "duration": 516,
    "start_time": "2022-08-08T07:24:09.785Z"
   },
   {
    "duration": 484,
    "start_time": "2022-08-08T07:26:48.260Z"
   },
   {
    "duration": 940,
    "start_time": "2022-08-08T07:27:05.315Z"
   },
   {
    "duration": 462,
    "start_time": "2022-08-08T07:27:15.041Z"
   },
   {
    "duration": 4762,
    "start_time": "2022-08-08T07:31:41.486Z"
   },
   {
    "duration": 6615,
    "start_time": "2022-08-08T07:32:51.138Z"
   },
   {
    "duration": 5418,
    "start_time": "2022-08-08T07:33:12.565Z"
   },
   {
    "duration": 448,
    "start_time": "2022-08-08T07:33:57.893Z"
   },
   {
    "duration": 676,
    "start_time": "2022-08-08T07:33:59.813Z"
   },
   {
    "duration": 12,
    "start_time": "2022-08-08T07:34:41.984Z"
   },
   {
    "duration": 10,
    "start_time": "2022-08-08T07:35:24.521Z"
   },
   {
    "duration": 4756,
    "start_time": "2022-08-08T07:36:31.029Z"
   },
   {
    "duration": 3888,
    "start_time": "2022-08-08T07:37:18.101Z"
   },
   {
    "duration": 429,
    "start_time": "2022-08-08T07:37:25.839Z"
   },
   {
    "duration": 810,
    "start_time": "2022-08-08T07:37:36.350Z"
   },
   {
    "duration": 254,
    "start_time": "2022-08-08T07:37:49.213Z"
   },
   {
    "duration": 6,
    "start_time": "2022-08-08T07:37:50.521Z"
   },
   {
    "duration": 9,
    "start_time": "2022-08-08T07:37:51.914Z"
   },
   {
    "duration": 243,
    "start_time": "2022-08-08T07:37:55.193Z"
   },
   {
    "duration": 155,
    "start_time": "2022-08-08T07:38:29.146Z"
   },
   {
    "duration": 559,
    "start_time": "2022-08-08T07:40:16.135Z"
   },
   {
    "duration": 3,
    "start_time": "2022-08-08T07:41:04.429Z"
   },
   {
    "duration": 238,
    "start_time": "2022-08-08T07:41:10.866Z"
   },
   {
    "duration": 1867,
    "start_time": "2022-08-08T07:41:29.630Z"
   },
   {
    "duration": 132,
    "start_time": "2022-08-08T07:42:57.626Z"
   },
   {
    "duration": 458,
    "start_time": "2022-08-08T07:43:10.523Z"
   },
   {
    "duration": 2850,
    "start_time": "2022-08-08T07:44:03.059Z"
   },
   {
    "duration": 395,
    "start_time": "2022-08-08T07:45:35.738Z"
   },
   {
    "duration": 3,
    "start_time": "2022-08-08T07:45:49.114Z"
   },
   {
    "duration": 389,
    "start_time": "2022-08-08T07:45:51.120Z"
   },
   {
    "duration": 34,
    "start_time": "2022-08-08T07:45:54.427Z"
   },
   {
    "duration": 154,
    "start_time": "2022-08-08T07:46:12.083Z"
   },
   {
    "duration": 347,
    "start_time": "2022-08-08T07:46:27.526Z"
   },
   {
    "duration": 372,
    "start_time": "2022-08-08T07:47:44.461Z"
   },
   {
    "duration": 10,
    "start_time": "2022-08-08T07:52:19.416Z"
   },
   {
    "duration": 11,
    "start_time": "2022-08-08T07:52:31.042Z"
   },
   {
    "duration": 28,
    "start_time": "2022-08-08T07:52:41.379Z"
   },
   {
    "duration": 3941,
    "start_time": "2022-08-08T07:53:14.650Z"
   },
   {
    "duration": 787,
    "start_time": "2022-08-08T07:53:45.247Z"
   },
   {
    "duration": 1378,
    "start_time": "2022-08-08T07:54:15.380Z"
   },
   {
    "duration": 2255,
    "start_time": "2022-08-08T07:54:27.020Z"
   },
   {
    "duration": 832,
    "start_time": "2022-08-08T07:54:32.750Z"
   },
   {
    "duration": 4,
    "start_time": "2022-08-08T07:55:40.254Z"
   },
   {
    "duration": 3471,
    "start_time": "2022-08-08T07:55:46.786Z"
   },
   {
    "duration": 2373,
    "start_time": "2022-08-08T07:57:29.691Z"
   },
   {
    "duration": 2591,
    "start_time": "2022-08-08T07:57:39.586Z"
   },
   {
    "duration": 1413,
    "start_time": "2022-08-08T17:22:57.451Z"
   },
   {
    "duration": 17748,
    "start_time": "2022-08-08T17:23:01.886Z"
   },
   {
    "duration": 7924,
    "start_time": "2022-08-08T17:23:28.255Z"
   },
   {
    "duration": 551,
    "start_time": "2022-08-08T17:23:37.034Z"
   },
   {
    "duration": 3838,
    "start_time": "2022-08-08T17:23:44.750Z"
   },
   {
    "duration": 8986,
    "start_time": "2022-08-08T17:23:55.134Z"
   },
   {
    "duration": 5775,
    "start_time": "2022-08-08T17:24:11.014Z"
   },
   {
    "duration": 598,
    "start_time": "2022-08-08T17:24:19.695Z"
   },
   {
    "duration": 868,
    "start_time": "2022-08-08T17:24:22.992Z"
   },
   {
    "duration": 337,
    "start_time": "2022-08-08T17:25:11.040Z"
   },
   {
    "duration": 9,
    "start_time": "2022-08-08T17:25:17.859Z"
   },
   {
    "duration": 257,
    "start_time": "2022-08-08T17:25:43.110Z"
   },
   {
    "duration": 10,
    "start_time": "2022-08-08T17:25:46.084Z"
   },
   {
    "duration": 6,
    "start_time": "2022-08-08T17:26:52.642Z"
   },
   {
    "duration": 9,
    "start_time": "2022-08-08T17:27:01.079Z"
   },
   {
    "duration": 4,
    "start_time": "2022-08-08T17:27:10.765Z"
   },
   {
    "duration": 3,
    "start_time": "2022-08-08T17:27:12.562Z"
   },
   {
    "duration": 4,
    "start_time": "2022-08-08T17:27:24.526Z"
   },
   {
    "duration": 6,
    "start_time": "2022-08-08T17:27:26.118Z"
   },
   {
    "duration": 5,
    "start_time": "2022-08-08T17:28:17.469Z"
   },
   {
    "duration": 106,
    "start_time": "2022-08-08T17:29:27.214Z"
   },
   {
    "duration": 9,
    "start_time": "2022-08-08T17:29:33.655Z"
   },
   {
    "duration": 9,
    "start_time": "2022-08-08T17:30:26.160Z"
   },
   {
    "duration": 245,
    "start_time": "2022-08-08T17:32:33.627Z"
   },
   {
    "duration": 6,
    "start_time": "2022-08-08T17:32:40.934Z"
   },
   {
    "duration": 196,
    "start_time": "2022-08-08T17:38:30.003Z"
   },
   {
    "duration": 26,
    "start_time": "2022-08-08T17:38:51.601Z"
   },
   {
    "duration": 441,
    "start_time": "2022-08-08T17:38:54.361Z"
   },
   {
    "duration": 589,
    "start_time": "2022-08-08T17:39:03.668Z"
   },
   {
    "duration": 24,
    "start_time": "2022-08-08T17:39:38.559Z"
   },
   {
    "duration": 454,
    "start_time": "2022-08-08T17:39:40.330Z"
   },
   {
    "duration": 19,
    "start_time": "2022-08-08T17:40:18.040Z"
   },
   {
    "duration": 429,
    "start_time": "2022-08-08T17:40:19.896Z"
   },
   {
    "duration": 6096,
    "start_time": "2022-08-08T17:40:28.199Z"
   },
   {
    "duration": 1550,
    "start_time": "2022-08-08T17:40:55.635Z"
   },
   {
    "duration": 1174,
    "start_time": "2022-08-08T17:41:05.391Z"
   },
   {
    "duration": 909,
    "start_time": "2022-08-08T17:41:17.570Z"
   },
   {
    "duration": 455,
    "start_time": "2022-08-08T17:41:23.271Z"
   },
   {
    "duration": 2,
    "start_time": "2022-08-08T17:41:26.180Z"
   },
   {
    "duration": 3201,
    "start_time": "2022-08-08T17:41:28.892Z"
   },
   {
    "duration": 5,
    "start_time": "2022-08-08T17:47:05.987Z"
   },
   {
    "duration": 6049,
    "start_time": "2022-08-08T17:48:24.607Z"
   },
   {
    "duration": 4,
    "start_time": "2022-08-08T17:48:54.709Z"
   },
   {
    "duration": 3988,
    "start_time": "2022-08-08T17:48:56.704Z"
   },
   {
    "duration": 4,
    "start_time": "2022-08-08T17:50:52.615Z"
   },
   {
    "duration": 3518,
    "start_time": "2022-08-08T17:50:55.989Z"
   },
   {
    "duration": 3,
    "start_time": "2022-08-08T17:51:36.133Z"
   },
   {
    "duration": 4054,
    "start_time": "2022-08-08T17:51:38.152Z"
   },
   {
    "duration": 4,
    "start_time": "2022-08-08T17:52:54.387Z"
   },
   {
    "duration": 3204,
    "start_time": "2022-08-08T17:52:56.704Z"
   },
   {
    "duration": 4130,
    "start_time": "2022-08-08T17:53:55.456Z"
   },
   {
    "duration": 4154,
    "start_time": "2022-08-08T17:54:34.073Z"
   },
   {
    "duration": 3235,
    "start_time": "2022-08-08T17:54:47.935Z"
   },
   {
    "duration": 3563,
    "start_time": "2022-08-08T17:55:35.465Z"
   },
   {
    "duration": 1140,
    "start_time": "2022-08-08T17:55:58.224Z"
   },
   {
    "duration": 13998,
    "start_time": "2022-08-08T17:55:59.366Z"
   },
   {
    "duration": 7201,
    "start_time": "2022-08-08T17:56:13.366Z"
   },
   {
    "duration": 621,
    "start_time": "2022-08-08T17:56:20.569Z"
   },
   {
    "duration": 3739,
    "start_time": "2022-08-08T17:56:21.255Z"
   },
   {
    "duration": 7203,
    "start_time": "2022-08-08T17:56:25.054Z"
   },
   {
    "duration": 5308,
    "start_time": "2022-08-08T17:56:32.259Z"
   },
   {
    "duration": 886,
    "start_time": "2022-08-08T17:56:37.569Z"
   },
   {
    "duration": 781,
    "start_time": "2022-08-08T17:56:38.458Z"
   },
   {
    "duration": 317,
    "start_time": "2022-08-08T17:56:39.243Z"
   },
   {
    "duration": 806,
    "start_time": "2022-08-08T17:56:39.562Z"
   },
   {
    "duration": 4536,
    "start_time": "2022-08-08T17:56:40.370Z"
   },
   {
    "duration": 1454,
    "start_time": "2022-08-08T17:56:44.907Z"
   },
   {
    "duration": 1111,
    "start_time": "2022-08-08T17:56:46.363Z"
   },
   {
    "duration": 917,
    "start_time": "2022-08-08T17:56:47.476Z"
   },
   {
    "duration": 459,
    "start_time": "2022-08-08T17:56:48.396Z"
   },
   {
    "duration": 2,
    "start_time": "2022-08-08T17:56:48.857Z"
   },
   {
    "duration": 2997,
    "start_time": "2022-08-08T17:56:48.861Z"
   },
   {
    "duration": 4,
    "start_time": "2022-08-08T17:56:51.859Z"
   },
   {
    "duration": 7092,
    "start_time": "2022-08-08T17:56:51.865Z"
   },
   {
    "duration": 4965,
    "start_time": "2022-08-08T17:56:58.958Z"
   },
   {
    "duration": 4451,
    "start_time": "2022-08-08T17:57:03.956Z"
   },
   {
    "duration": 4204,
    "start_time": "2022-08-08T17:57:08.409Z"
   },
   {
    "duration": 980,
    "start_time": "2022-08-08T17:57:12.615Z"
   },
   {
    "duration": 1504,
    "start_time": "2022-08-09T06:33:05.286Z"
   },
   {
    "duration": 15036,
    "start_time": "2022-08-09T06:33:06.793Z"
   },
   {
    "duration": 8371,
    "start_time": "2022-08-09T06:33:21.832Z"
   },
   {
    "duration": 794,
    "start_time": "2022-08-09T06:33:30.205Z"
   },
   {
    "duration": 4202,
    "start_time": "2022-08-09T06:33:31.003Z"
   },
   {
    "duration": 8651,
    "start_time": "2022-08-09T06:33:35.207Z"
   },
   {
    "duration": 6141,
    "start_time": "2022-08-09T06:33:43.859Z"
   },
   {
    "duration": 807,
    "start_time": "2022-08-09T06:33:50.002Z"
   },
   {
    "duration": 739,
    "start_time": "2022-08-09T06:33:50.810Z"
   },
   {
    "duration": 381,
    "start_time": "2022-08-09T06:33:51.551Z"
   },
   {
    "duration": 599,
    "start_time": "2022-08-09T06:33:51.933Z"
   },
   {
    "duration": 5066,
    "start_time": "2022-08-09T06:34:07.564Z"
   },
   {
    "duration": 6,
    "start_time": "2022-08-09T06:34:29.256Z"
   },
   {
    "duration": 4,
    "start_time": "2022-08-09T06:34:43.864Z"
   },
   {
    "duration": 44,
    "start_time": "2022-08-09T06:34:58.116Z"
   },
   {
    "duration": 6,
    "start_time": "2022-08-09T06:39:12.125Z"
   },
   {
    "duration": 119,
    "start_time": "2022-08-09T06:39:21.085Z"
   },
   {
    "duration": 4,
    "start_time": "2022-08-09T06:39:32.856Z"
   },
   {
    "duration": 14,
    "start_time": "2022-08-09T06:39:47.424Z"
   },
   {
    "duration": 5,
    "start_time": "2022-08-09T06:39:57.096Z"
   },
   {
    "duration": 3,
    "start_time": "2022-08-09T06:40:01.125Z"
   },
   {
    "duration": 4,
    "start_time": "2022-08-09T06:40:06.365Z"
   },
   {
    "duration": 11,
    "start_time": "2022-08-09T06:40:40.544Z"
   },
   {
    "duration": 8,
    "start_time": "2022-08-09T06:40:46.785Z"
   },
   {
    "duration": 13,
    "start_time": "2022-08-09T06:42:52.838Z"
   },
   {
    "duration": 12,
    "start_time": "2022-08-09T06:43:03.948Z"
   },
   {
    "duration": 8,
    "start_time": "2022-08-09T06:44:13.277Z"
   },
   {
    "duration": 18,
    "start_time": "2022-08-09T06:44:21.864Z"
   },
   {
    "duration": 17,
    "start_time": "2022-08-09T06:44:55.543Z"
   },
   {
    "duration": 107,
    "start_time": "2022-08-09T06:46:54.465Z"
   },
   {
    "duration": 4,
    "start_time": "2022-08-09T06:46:59.152Z"
   },
   {
    "duration": 5,
    "start_time": "2022-08-09T06:46:59.167Z"
   },
   {
    "duration": 472,
    "start_time": "2022-08-09T06:46:59.173Z"
   },
   {
    "duration": 202,
    "start_time": "2022-08-09T06:46:59.647Z"
   },
   {
    "duration": 1175,
    "start_time": "2022-08-09T06:46:59.851Z"
   },
   {
    "duration": 4999,
    "start_time": "2022-08-09T06:47:01.028Z"
   },
   {
    "duration": 3605,
    "start_time": "2022-08-09T06:47:06.028Z"
   },
   {
    "duration": 524,
    "start_time": "2022-08-09T06:47:09.636Z"
   },
   {
    "duration": 843,
    "start_time": "2022-08-09T06:47:10.162Z"
   },
   {
    "duration": 19,
    "start_time": "2022-08-09T06:47:11.007Z"
   },
   {
    "duration": 425,
    "start_time": "2022-08-09T06:47:11.027Z"
   },
   {
    "duration": 2821,
    "start_time": "2022-08-09T06:47:11.455Z"
   },
   {
    "duration": 2685,
    "start_time": "2022-08-09T07:03:55.589Z"
   },
   {
    "duration": 2216,
    "start_time": "2022-08-09T07:04:19.183Z"
   },
   {
    "duration": 2209,
    "start_time": "2022-08-09T07:04:50.909Z"
   },
   {
    "duration": 2411,
    "start_time": "2022-08-09T07:05:18.790Z"
   },
   {
    "duration": 2185,
    "start_time": "2022-08-09T07:05:28.107Z"
   },
   {
    "duration": 87,
    "start_time": "2022-08-09T07:16:46.778Z"
   }
  ],
  "colab": {
   "name": "PySparkSprint.ipynb",
   "provenance": []
  },
  "kernelspec": {
   "display_name": "Python 3 (ipykernel)",
   "language": "python",
   "name": "python3"
  },
  "language_info": {
   "codemirror_mode": {
    "name": "ipython",
    "version": 3
   },
   "file_extension": ".py",
   "mimetype": "text/x-python",
   "name": "python",
   "nbconvert_exporter": "python",
   "pygments_lexer": "ipython3",
   "version": "3.9.7"
  },
  "toc": {
   "base_numbering": 1,
   "nav_menu": {},
   "number_sections": true,
   "sideBar": true,
   "skip_h1_title": true,
   "title_cell": "Table of Contents",
   "title_sidebar": "Contents",
   "toc_cell": false,
   "toc_position": {},
   "toc_section_display": true,
   "toc_window_display": false
  }
 },
 "nbformat": 4,
 "nbformat_minor": 5
}
